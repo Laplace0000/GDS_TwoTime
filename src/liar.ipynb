{
 "cells": [
  {
   "cell_type": "markdown",
   "metadata": {},
   "source": [
    "# Liar Dataset"
   ]
  },
  {
   "cell_type": "code",
   "execution_count": null,
   "metadata": {},
   "outputs": [
    {
     "name": "stdout",
     "output_type": "stream",
     "text": [
      "<bound method NDFrame.head of               id         type  \\\n",
      "0     11972.json         true   \n",
      "1     11685.json        false   \n",
      "2     11096.json        false   \n",
      "3      5209.json    half-true   \n",
      "4      9524.json   pants-fire   \n",
      "...          ...          ...   \n",
      "1262   7334.json    half-true   \n",
      "1263   9788.json  barely-true   \n",
      "1264  10710.json  barely-true   \n",
      "1265   3186.json  barely-true   \n",
      "1266   6743.json        false   \n",
      "\n",
      "                                                   text  \\\n",
      "0     Building a wall on the U.S.-Mexico border will...   \n",
      "1     Wisconsin is on pace to double the number of l...   \n",
      "2     Says John McCain has done nothing to help the ...   \n",
      "3     Suzanne Bonamici supports a plan that will cut...   \n",
      "4     When asked by a reporter whether hes at the ce...   \n",
      "...                                                 ...   \n",
      "1262  Says his budget provides the highest state fun...   \n",
      "1263                    Ive been here almost every day.   \n",
      "1264  In the early 1980s, Sen. Edward Kennedy secret...   \n",
      "1265  Says an EPA permit languished under Strickland...   \n",
      "1266  Says the governor is going around the state ta...   \n",
      "\n",
      "                                               category  \\\n",
      "0                                           immigration   \n",
      "1                                                  jobs   \n",
      "2                       military,veterans,voting-record   \n",
      "3     medicare,message-machine-2012,campaign-adverti...   \n",
      "4     campaign-finance,legal-issues,campaign-adverti...   \n",
      "...                                                 ...   \n",
      "1262                                          education   \n",
      "1263                civil-rights,crime,criminal-justice   \n",
      "1264     bipartisanship,congress,foreign-policy,history   \n",
      "1265                  environment,government-efficiency   \n",
      "1266                  state-budget,state-finances,taxes   \n",
      "\n",
      "                                person  \\\n",
      "0                           rick-perry   \n",
      "1                    katrina-shankland   \n",
      "2                         donald-trump   \n",
      "3                        rob-cornilles   \n",
      "4     state-democratic-party-wisconsin   \n",
      "...                                ...   \n",
      "1262                        rick-scott   \n",
      "1263                         jay-nixon   \n",
      "1264             mackubin-thomas-owens   \n",
      "1265                       john-kasich   \n",
      "1266                  john-burzichelli   \n",
      "\n",
      "                                                 title         state  \\\n",
      "0                                             Governor         Texas   \n",
      "1                                 State representative     Wisconsin   \n",
      "2                                      President-Elect      New York   \n",
      "3                                           consultant        Oregon   \n",
      "4                                                  NaN     Wisconsin   \n",
      "...                                                ...           ...   \n",
      "1262                                          Governor       Florida   \n",
      "1263                                          Governor      Missouri   \n",
      "1264  senior fellow, Foreign Policy Research Institute  Rhode Island   \n",
      "1265              Governor of Ohio as of Jan. 10, 2011          Ohio   \n",
      "1266                                               NaN           NaN   \n",
      "\n",
      "           party  count1  count2  count3  count4  count5  \\\n",
      "0     republican      30      30      42      23      18   \n",
      "1       democrat       2       1       0       0       0   \n",
      "2     republican      63     114      51      37      61   \n",
      "3     republican       1       1       3       1       1   \n",
      "4       democrat       5       7       2       2       7   \n",
      "...          ...     ...     ...     ...     ...     ...   \n",
      "1262  republican      28      23      38      34       7   \n",
      "1263    democrat       2       0       0       1       0   \n",
      "1264   columnist       1       0       0       0       0   \n",
      "1265  republican       9       8      10      18       3   \n",
      "1266    democrat       1       1       0       0       0   \n",
      "\n",
      "                                      source  \n",
      "0                            Radio interview  \n",
      "1                          a news conference  \n",
      "2               comments on ABC's This Week.  \n",
      "3                               a radio show  \n",
      "4                                a web video  \n",
      "...                                      ...  \n",
      "1262                       a news conference  \n",
      "1263                    on ABC's \"This Week\"  \n",
      "1264  a commentary in The Providence Journal  \n",
      "1265                       a news conference  \n",
      "1266               an interview with NJToday  \n",
      "\n",
      "[1267 rows x 14 columns]>\n",
      "Index(['id', 'type', 'text', 'category', 'person', 'title', 'state', 'party',\n",
      "       'count1', 'count2', 'count3', 'count4', 'count5', 'source'],\n",
      "      dtype='object')\n"
     ]
    }
   ],
   "source": [
    "import joblib\n",
    "import pandas as pd\n",
    "\n",
    "#Loading stuff\n",
    "(linReg, weighted, undersampled) = joblib.load(\"../data/linReg.pkl\")\n",
    "vocab = joblib.load(\"../data/vectorizer.pkl\")\n",
    "\n",
    "column_names = [\"id\", \"type\", \"text\", \"category\", \"person\", \"title\", \"state\", \n",
    "                \"party\", \"count1\", \"count2\", \"count3\", \"count4\", \"count5\", \"source\"]\n",
    "\n",
    "testDf = pd.read_csv(\"../data/liar/test.tsv\", sep=\"\\t\", names=column_names)\n",
    "print(testDf.head)\n",
    "print(testDf.columns)\n",
    "testDf.to_csv(\"../data/liar/ltest.csv\", index=False)"
   ]
  },
  {
   "cell_type": "code",
   "execution_count": null,
   "metadata": {},
   "outputs": [],
   "source": [
    "#To be run in the project.ipynb file\n",
    "testDf = pd.read_csv(\"../data/liar/ltest.csv\")\n",
    "liar_processed = processData(testDf, 'text')\n",
    "liar_processed.to_json(dataPath + \"/liar/cleanLiar.json\", orient=\"records\", lines=True)\n"
   ]
  },
  {
   "cell_type": "code",
   "execution_count": 51,
   "metadata": {},
   "outputs": [
    {
     "name": "stdout",
     "output_type": "stream",
     "text": [
      "<class 'pandas.core.frame.DataFrame'>\n",
      "RangeIndex: 1267 entries, 0 to 1266\n",
      "Data columns (total 14 columns):\n",
      " #   Column    Non-Null Count  Dtype \n",
      "---  ------    --------------  ----- \n",
      " 0   id        1267 non-null   object\n",
      " 1   type      1267 non-null   object\n",
      " 2   text      1267 non-null   object\n",
      " 3   category  1267 non-null   object\n",
      " 4   person    1267 non-null   object\n",
      " 5   title     942 non-null    object\n",
      " 6   state     1005 non-null   object\n",
      " 7   party     1267 non-null   object\n",
      " 8   count1    1267 non-null   int64 \n",
      " 9   count2    1267 non-null   int64 \n",
      " 10  count3    1267 non-null   int64 \n",
      " 11  count4    1267 non-null   int64 \n",
      " 12  count5    1267 non-null   int64 \n",
      " 13  source    1250 non-null   object\n",
      "dtypes: int64(5), object(9)\n",
      "memory usage: 138.7+ KB\n",
      "['true' 'false' 'half-true' 'pants-fire' 'barely-true' 'mostly-true']\n",
      "['true' 'false' 'pants-fire']\n"
     ]
    }
   ],
   "source": [
    "\n",
    "json_reader = pd.read_json('../data/liar/cleanLiar.json', orient='record', lines=True, chunksize=1500)\n",
    "cleanLiar = pd.concat(json_reader, ignore_index=True)\n",
    "cleanDf = cleanLiar.reset_index(drop=True) \n",
    "cleanDf.info()\n",
    "print(cleanDf['type'].unique())\n",
    "\n",
    "#Remove any where the type isn't true, false, or pants-fire\n",
    "remove = ['half-true', 'mostly-true', 'barely-true']\n",
    "cleanDf = cleanDf.loc[~testDf['type'].isin(remove)]\n",
    "print(cleanDf['type'].unique())"
   ]
  },
  {
   "cell_type": "code",
   "execution_count": 52,
   "metadata": {},
   "outputs": [
    {
     "name": "stdout",
     "output_type": "stream",
     "text": [
      "['1' '0']\n"
     ]
    }
   ],
   "source": [
    "#Replacing types with 1 and 0\n",
    "cleanDf['type'] = cleanDf['type'].replace(r'^(true)$', '1', regex=True)\n",
    "cleanDf['type'] = cleanDf['type'].replace(r'^(?!1$).+', '0', regex=True)\n",
    "print(cleanDf['type'].unique())"
   ]
  },
  {
   "cell_type": "code",
   "execution_count": null,
   "metadata": {},
   "outputs": [
    {
     "name": "stdout",
     "output_type": "stream",
     "text": [
      "F1 score: 0.3916\n",
      "Accuracy: 0.5246\n"
     ]
    }
   ],
   "source": [
    "from sklearn.metrics import f1_score, accuracy_score\n",
    "from sklearn.preprocessing import Normalizer\n",
    "from sklearn.feature_extraction.text import CountVectorizer\n",
    "\n",
    "liar_test = cleanDf['text']\n",
    "liar_val = cleanDf['type'].astype(int)\n",
    "\n",
    "vectorizer = CountVectorizer(analyzer=lambda x: x, vocabulary=vocab)\n",
    "liar_Freq = vectorizer.fit_transform(liar_test)\n",
    "\n",
    "scaler = Normalizer()\n",
    "L_test = scaler.fit_transform(liar_Freq)\n",
    "\n",
    "liar_pred = linReg.predict(L_test)\n",
    "print(f\"F1 score: {f1_score(liar_val, liar_pred):.4f}\")\n",
    "print(f\"Accuracy: {accuracy_score(liar_val, liar_pred):.4f}\")"
   ]
  }
 ],
 "metadata": {
  "kernelspec": {
   "display_name": "ex1",
   "language": "python",
   "name": "python3"
  },
  "language_info": {
   "codemirror_mode": {
    "name": "ipython",
    "version": 3
   },
   "file_extension": ".py",
   "mimetype": "text/x-python",
   "name": "python",
   "nbconvert_exporter": "python",
   "pygments_lexer": "ipython3",
   "version": "3.13.2"
  }
 },
 "nbformat": 4,
 "nbformat_minor": 2
}
