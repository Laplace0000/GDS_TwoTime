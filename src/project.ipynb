{
  "cells": [
    {
      "cell_type": "code",
      "execution_count": null,
      "metadata": {
        "colab": {
          "base_uri": "https://localhost:8080/"
        },
        "id": "afP0fI0WAjLQ",
        "outputId": "63969ef1-021e-4875-bd33-e77080113061"
      },
      "outputs": [
        {
          "ename": "",
          "evalue": "",
          "output_type": "error",
          "traceback": [
            "\u001b[1;31mRunning cells with 'Python 3.13.2' requires the ipykernel package.\n",
            "\u001b[1;31mRun the following command to install 'ipykernel' into the Python environment. \n",
            "\u001b[1;31mCommand: '/opt/homebrew/bin/python3 -m pip install ipykernel -U --user --force-reinstall'"
          ]
        }
      ],
      "source": [
        "# prompt: please install all the below using pip\n",
        "\n",
        "#!pip install numpy pandas matplotlib seaborn scikit-learn tensorflow keras clean_text pandarallel\n"
      ]
    },
    {
      "cell_type": "code",
<<<<<<< HEAD
      "execution_count": null,
=======
      "execution_count": 2,
>>>>>>> main
      "metadata": {
        "colab": {
          "base_uri": "https://localhost:8080/"
        },
        "id": "l7I5ZeAs7doa",
        "outputId": "f04e908c-53cf-4e5e-b1ac-6c4eeba64133"
      },
      "outputs": [
        {
          "name": "stderr",
          "output_type": "stream",
          "text": [
            "Since the GPL-licensed package `unidecode` is not installed, using Python's `unicodedata` package which yields worse results.\n"
          ]
        },
        {
          "name": "stdout",
          "output_type": "stream",
          "text": [
            "INFO: Pandarallel will run on 8 workers.\n",
            "INFO: Pandarallel will use standard multiprocessing data transfer (pipe) to transfer data between the main process and workers.\n"
          ]
        },
        {
          "name": "stderr",
          "output_type": "stream",
          "text": [
            "[nltk_data] Downloading package punkt to /Users/suneg/nltk_data...\n",
            "[nltk_data]   Package punkt is already up-to-date!\n",
            "[nltk_data] Downloading package stopwords to /Users/suneg/nltk_data...\n",
            "[nltk_data]   Package stopwords is already up-to-date!\n",
            "[nltk_data] Downloading package punkt_tab to /Users/suneg/nltk_data...\n",
            "[nltk_data]   Package punkt_tab is already up-to-date!\n"
          ]
        }
      ],
      "source": [
        "import nltk\n",
        "import re\n",
        "import pandas as pd\n",
        "import numpy as np\n",
        "import matplotlib.pyplot as plt\n",
        "\n",
        "from nltk.corpus import stopwords\n",
        "from nltk.tokenize import word_tokenize\n",
        "from nltk.lm import Vocabulary\n",
        "from sklearn.model_selection import train_test_split\n",
        "from sklearn.feature_extraction.text import CountVectorizer\n",
        "from sklearn.linear_model import LogisticRegression\n",
        "from sklearn.metrics import f1_score, accuracy_score, confusion_matrix, ConfusionMatrixDisplay\n",
        "from sklearn.preprocessing import StandardScaler, Normalizer\n",
        "import joblib\n",
        "from cleantext import clean\n",
        "from nltk.probability import FreqDist\n",
        "from nltk.stem import PorterStemmer\n",
        "from pandarallel import pandarallel\n",
        "import ast\n",
        "import math\n",
        "from imblearn.under_sampling import RandomUnderSampler\n",
        "pandarallel.initialize(progress_bar=True)\n",
        "\n",
        "nltk.download('punkt')\n",
        "nltk.download('stopwords')\n",
        "nltk.download('punkt_tab')\n",
        "\n",
        "import os\n",
        "IN_COLAB = False\n",
        "if os.getenv(\"COLAB_RELEASE_TAG\"):\n",
        "   IN_COLAB = True\n",
        "\n",
        "fakeNewsCorpus = None"
      ]
    },
    {
      "cell_type": "code",
      "execution_count": 2,
      "metadata": {
        "colab": {
          "base_uri": "https://localhost:8080/"
        },
        "id": "1DWSzbnj75b9",
        "outputId": "79c1884d-37d0-4041-ee74-66a39de326ab"
      },
      "outputs": [],
      "source": [
        "if IN_COLAB:\n",
        "  from google.colab import drive\n",
        "  drive.mount('/content/drive')"
      ]
    },
    {
      "cell_type": "markdown",
      "metadata": {
        "id": "wWp-AaTm7doc"
      },
      "source": [
        "# Part 1"
      ]
    },
    {
      "cell_type": "markdown",
      "metadata": {
        "id": "FAkg7frj7dod"
      },
      "source": [
        "### Task 1"
      ]
    },
    {
      "cell_type": "code",
      "execution_count": 3,
      "metadata": {
        "colab": {
          "base_uri": "https://localhost:8080/"
        },
        "id": "r0lGjcG17dod",
        "outputId": "9d148c02-9df3-4945-ad46-60fa24a7a724"
      },
      "outputs": [
        {
          "name": "stdout",
          "output_type": "stream",
          "text": [
            "<class 'pandas.core.frame.DataFrame'>\n",
            "RangeIndex: 250 entries, 0 to 249\n",
            "Data columns (total 16 columns):\n",
            " #   Column            Non-Null Count  Dtype  \n",
            "---  ------            --------------  -----  \n",
            " 0   Unnamed: 0        250 non-null    int64  \n",
            " 1   id                250 non-null    int64  \n",
            " 2   domain            250 non-null    object \n",
            " 3   type              238 non-null    object \n",
            " 4   url               250 non-null    object \n",
            " 5   content           250 non-null    object \n",
            " 6   scraped_at        250 non-null    object \n",
            " 7   inserted_at       250 non-null    object \n",
            " 8   updated_at        250 non-null    object \n",
            " 9   title             250 non-null    object \n",
            " 10  authors           170 non-null    object \n",
            " 11  keywords          0 non-null      float64\n",
            " 12  meta_keywords     250 non-null    object \n",
            " 13  meta_description  54 non-null     object \n",
            " 14  tags              27 non-null     object \n",
            " 15  summary           0 non-null      float64\n",
            "dtypes: float64(2), int64(2), object(12)\n",
            "memory usage: 31.4+ KB\n",
            "None\n"
          ]
        }
      ],
      "source": [
        "#load data\n",
        "dataPath = \"../data/\"\n",
        "if IN_COLAB:\n",
        "  dataPath = \"/content/drive/MyDrive/\"\n",
        "nsdf = pd.read_csv(dataPath + \"news_sample.csv\")\n",
        "nsdf = nsdf.reset_index(drop=True)  # Reset index??\n",
        "nsdf_raw = nsdf\n",
        "print(nsdf.info())   # Check column types and missing values\n",
        "\n"
      ]
    },
    {
      "cell_type": "code",
      "execution_count": 4,
      "metadata": {
        "colab": {
          "base_uri": "https://localhost:8080/"
        },
        "id": "Yw3NaRAQ7doe",
        "outputId": "40b81a48-d87e-44ce-cc4d-775c58a7663b"
      },
      "outputs": [
        {
          "name": "stdout",
          "output_type": "stream",
          "text": [
            "['unreliable' 'fake' 'clickbait' 'conspiracy' 'reliable' 'bias' 'hate'\n",
            " 'junksci' 'political' nan 'unknown']\n"
          ]
        }
      ],
      "source": [
        "# unique lable values\n",
        "unique_values = nsdf['type'].unique()\n",
        "print(unique_values)"
      ]
    },
    {
      "cell_type": "code",
      "execution_count": 4,
      "metadata": {
        "colab": {
          "base_uri": "https://localhost:8080/"
        },
        "id": "8Sr01Nsx7doe",
        "outputId": "f841641a-6f2a-4902-e47e-ddd941ae53dc"
      },
      "outputs": [
        {
          "name": "stdout",
          "output_type": "stream",
          "text": [
            "['unreliable' 'fake' 'clickbait' 'conspiracy' 'reliable' 'bias' 'hate'\n",
            " 'junksci' 'political']\n"
          ]
        }
      ],
      "source": [
        "#nan and unknown removed as they seem useless when training a classifier\n",
        "nsdf = nsdf.dropna(subset=['type'])\n",
        "nsdf = nsdf.loc[nsdf['type']!='unknown']\n",
        "newunique_values = nsdf['type'].unique()\n",
        "print(newunique_values)\n"
      ]
    },
    {
      "cell_type": "markdown",
      "metadata": {
        "id": "2bdqH5Za7doe"
      },
      "source": [
        "Cleaning and Preprocessing"
      ]
    },
    {
      "cell_type": "code",
      "execution_count": 3,
      "metadata": {
        "id": "0aqMgikT7doe"
      },
      "outputs": [],
      "source": [
        "def cleanText(data, column):\n",
        "    def clean_text_help(text):\n",
        "        if isinstance(text, str):\n",
        "            # Remove excess whitespace\n",
        "            text = re.sub(r\"\\s+\", \" \", text).strip()\n",
        "            #replace dates\n",
        "            text = re.sub(r\"(0[1-9]|[1-2][0-9]|3[0-1])[-/.]?(0[1-9]|1[0-2])[-/.]?([0-9]{2}|[0-9]{4})\", \"<DATE>\", text)  # Replace date type 1\n",
        "            text = re.sub(r\"(0[1-9]|[1-2][0-9]|3[0-1])\\s([A-Za-z]{3})\\s([0-9]{2}|[0-9]{4})\", \"<DATE>\", text)  # Replace date type 2\n",
        "            return clean(text, lower=True, no_line_breaks=True, no_punct=True, replace_with_url=\"<URL>\", replace_with_email=\"<EMAIL>\", replace_with_number=\"<NUM>\", replace_with_digit=\"<NUM>\")\n",
        "        return text  # Return unchanged if not a string\n",
        "    data[column] = data[column].parallel_apply(clean_text_help)  # Apply function\n",
        "    return data"
      ]
    },
    {
      "cell_type": "code",
      "execution_count": 7,
      "metadata": {
        "id": "pCu5do7_7doe"
      },
      "outputs": [],
      "source": [
        "#Tokenize the text function\n",
        "def tokenizeText(data, column):\n",
        "    def tokenize_text_help(text):\n",
        "        if isinstance(text, str):\n",
        "            return word_tokenize(text)\n",
        "        return text  # Return unchanged if not a string\n",
        "    data[column] = data[column].parallel_apply(tokenize_text_help)  # Apply function\n",
        "    return data"
      ]
    },
    {
      "cell_type": "code",
      "execution_count": 8,
      "metadata": {
        "id": "NieKcD1f7dof"
      },
      "outputs": [],
      "source": [
        "#function for removeing stopwords\n",
        "def remove_stopwords(data, column):\n",
        "    def remove_stopwords_help(text):\n",
        "        stop_words = set(stopwords.words('english'))  # Load stopwords\n",
        "        if isinstance(text, str):\n",
        "            return [word for word in text.at[0, 'content'] if not word.lower() in stop_words]\n",
        "        return text  # Return unchanged if not a string\n",
        "    data[column] = data[column].parallel_apply(remove_stopwords_help)  # Apply function\n",
        "    return data"
      ]
    },
    {
      "cell_type": "code",
      "execution_count": 9,
      "metadata": {
        "id": "ZUkGLkbP7dof"
      },
      "outputs": [],
      "source": [
        "#funtion for populating vocabulary\n",
        "def populate_vocabulary(data):\n",
        "    N = data.shape[0]  # Get the number of rows\n",
        "    allWords = []\n",
        "    for i in range(N):\n",
        "        if isinstance(data.at[i, 'content'], str):  # Ensure it's a string\n",
        "            allWords.append(data.at[i, 'content'])\n",
        "    return Vocabulary(allWords, unk_cutoff=2)\n",
        "\n",
        "#langsom kørertid men kunne ikke finde ud af det med apply. Nogne med en god ide??\n",
        "# Can just use value_vounts()\n"
      ]
    },
    {
      "cell_type": "code",
      "execution_count": 6,
      "metadata": {
        "id": "2HPQfCwE7dof"
      },
      "outputs": [],
      "source": [
        "#making frequency dictionary\n",
        "def getFrequency(data, column, preTokenized):\n",
        "    N = data.shape[0]  # Get the number of rows\n",
        "    allWords = []\n",
        "    if preTokenized != 1 and preTokenized != 0:\n",
        "        return \"Wrong preTokenize input\"\n",
        "    if preTokenized == 1:\n",
        "        for text in data[column]:\n",
        "            if isinstance(text, list):  # Ensure text is already tokenized (list of words)\n",
        "                allWords.extend(text)\n",
        "            elif isinstance(text, str):  # If still a string, split it as a fallback\n",
        "                allWords.extend(text.split())\n",
        "    elif preTokenized == 0:\n",
        "        for text in data[column]:\n",
        "            if isinstance(text, str):\n",
        "                allWords.extend(word_tokenize(text))\n",
        "\n",
        "    return FreqDist(allWords)\n",
        "\n",
        "#Alternative? Returns a pandas series, with word and frequency, very fast.\n",
        "def getFreq(data, column):\n",
        "    return data[column].str.split().explode().value_counts()"
      ]
    },
    {
      "cell_type": "code",
      "execution_count": 7,
      "metadata": {
        "id": "IjoX2dVY7dof"
      },
      "outputs": [],
      "source": [
        "#function for removeing stopwords\n",
        "def dataStemming(data, column):\n",
        "    ps = PorterStemmer()\n",
        "    def dataStemming_help(text):\n",
        "        if isinstance(text, str):\n",
        "            return ps.stem(text)\n",
        "        return text  # Return unchanged if not a string\n",
        "    data[column] = data[column].parallel_apply(dataStemming_help)  # Apply function\n",
        "    return data"
      ]
    },
    {
      "cell_type": "code",
      "execution_count": null,
      "metadata": {
        "id": "MGqT6iu77dof"
      },
      "outputs": [],
      "source": [
        "# One big function to process data:\n",
        "def processData(data, column):\n",
        "    def apply_sequential_helper(functions):\n",
        "        # assume type siganture of functions to be List[f : String -> string ]\n",
        "        def inner(text):\n",
        "            for f in functions:\n",
        "                text = f(text)\n",
        "            return text\n",
        "        return inner\n",
        "\n",
        "    def clean_text_help(text):\n",
        "        if isinstance(text, str):\n",
        "            # Remove excess whitespace\n",
        "            text = re.sub(r\"\\s+\", \" \", text).strip()\n",
        "            #replace dates\n",
        "            text = re.sub(r\"(0[1-9]|[1-2][0-9]|3[0-1])[-/.]?(0[1-9]|1[0-2])[-/.]?([0-9]{2}|[0-9]{4})\", \"<DATE>\", text)  # Replace date type 1\n",
        "            text = re.sub(r\"(0[1-9]|[1-2][0-9]|3[0-1])\\s([A-Za-z]{3})\\s([0-9]{2}|[0-9]{4})\", \"<DATE>\", text)  # Replace date type 2\n",
        "            return clean(text, lower=True, no_line_breaks=True, no_numbers=True, no_emails=True, no_urls=True, no_punct=True, replace_with_url=r\"__URL__\", replace_with_email=r\"__EMAIL__\", replace_with_number=r\"__NUM__\", replace_with_digit=r\"__NUM__\")\n",
        "        raise TypeError(\"Clean_text passed non-string\")\n",
        "\n",
        "    def tokenize_text_help(text):\n",
        "        if isinstance(text, str):\n",
        "            return pd.Series(word_tokenize(text))\n",
        "        return text  # Return unchanged if not a string\n",
        "\n",
        "    def remove_stopwords_help(text):\n",
        "      # text is a Series[str]\n",
        "        stop_words = set(stopwords.words('english'))  # Load stopwords\n",
        "        #if isinstance(text, str):\n",
        "        #    return [word for word in text.at[0, 'content'] if not word.lower() in stop_words]\n",
        "        #return text  # Return unchanged if not a string\n",
        "        return text[~text.isin(stop_words)]\n",
        "\n",
        "    ps = PorterStemmer()\n",
        "    def dataStemming_help(text):\n",
        "        #if isinstance(text, str):\n",
        "        #    return ps.stem(text)\n",
        "        #return text  # Return unchanged if not a string\n",
        "        if(isinstance(text, str)):\n",
        "            return pd.Series(ps.stem(text))\n",
        "        return text.apply(ps.stem)\n",
        "\n",
        "    def type_cleaner(text):\n",
        "        if isinstance(text, str):\n",
        "            return pd.Series(text).to_list()\n",
        "        return text.to_list()\n",
        "\n",
        "    data[column] = data[column].parallel_apply(apply_sequential_helper(\n",
        "        [clean_text_help, # str -> str\n",
        "        tokenize_text_help, # str -> list[str]\n",
        "        remove_stopwords_help, #series[str] -> series[str]\n",
        "        dataStemming_help, #series[str] -> series[str]\n",
        "        type_cleaner # series[str] -> series[str]\n",
        "    ]))\n",
        "    return data"
      ]
    },
    {
      "cell_type": "code",
      "execution_count": 5,
      "metadata": {
        "colab": {
          "base_uri": "https://localhost:8080/",
          "height": 86,
          "referenced_widgets": [
            "bf68c788a3d9437383fdf54f8f75f050",
            "13df6b96a88944e98d65e813eeb54bd4",
            "dc1dd2e88478465e8ebc8082b1aa84aa",
            "2814e4c7aa32487e93e3ccd90b6e5f0c",
            "3cc027a216d2481ab36faca98212f3c5",
            "4ae5f28587fe4d01ad03446e234a631d",
            "e28976f80c1548f2af7836d8e8491c87",
            "23088918d37a416a8506b3fd4c7231f9",
            "24f8c63d4dc3428fbcd67efc20c076f2",
            "6cfbf875045943ad8b40671a67e0e29e"
          ]
        },
        "id": "jy3LEMwF7dof",
        "outputId": "ca281a39-240a-4c1a-945c-8be4a96474db"
      },
      "outputs": [
        {
          "data": {
            "application/vnd.jupyter.widget-view+json": {
              "model_id": "3e5686f72ea34d2cbc9f922deadb74ff",
              "version_major": 2,
              "version_minor": 0
            },
            "text/plain": [
              "VBox(children=(HBox(children=(IntProgress(value=0, description='0.00%', max=32), Label(value='0 / 32'))), HBox…"
            ]
          },
          "metadata": {},
          "output_type": "display_data"
        },
        {
          "name": "stdout",
          "output_type": "stream",
          "text": [
            "['sometim', 'power', 'christma', 'make', 'wild', 'wonder', 'thing', 'need', 'believ', 'holi', 'triniti', 'believ', 'posit', 'power', 'good', 'other', 'simpl', 'act', 'give', 'without', 'receiv', 'lost', 'mani', 'us', 'day', 'worri', 'money', 'success', 'hold', 'us', 'back', 'give', 'other', 'need', 'one', 'congreg', 'ohio', 'move', 'action', 'power', 'sermon', 'given', 'church', 'christma', 'eve', 'pastor', 'grand', 'lake', 'unit', 'methodist', 'church', 'celina', 'ohio', 'gave', 'emot', 'sermon', 'import', 'understand', 'messag', 'jesu', 'mani', 'religi', 'peopl', 'messag', 'jesu', 'help', 'other', 'make', 'sure', 'peopl', 'suffer', 'get', 'help', 'need', 'enjoy', 'life', 'littl', 'bit', 'sermon', 'realli', 'generos', 'look', 'like', 'live', 'jesu', 'live', 'long', 'time', 'ago', 'act', 'gener', 'fashion', 'time', 'would', 'gener', 'act', 'look', 'like', 'time', 'focu', 'sermon', 'potenc', 'sermon', 'lost', 'congreg', 'move', 'take', 'action', 'sermon', 'end', 'congreg', 'decid', 'take', 'offer', 'bowl', 'pass', 'around', 'room', 'everyon', 'pitch', 'could', 'christma', 'eve', 'word', 'sermon', 'still', 'ring', 'ear', 'offer', 'member', 'congreg', 'drove', 'local', 'waffl', 'hous', 'visit', 'ladi', 'work', 'night', 'shift', 'great', 'choic', 'holi', 'day', 'everyon', 'famili', 'ladi', 'work', 'waffl', 'hous', 'clearli', 'famili', 'choic', 'work', 'holi', 'day', 'paid', 'bill', 'congreg', 'understood', 'sacrific', 'made', 'ladi', 'want', 'help', 'donat', 'entir', 'offer', 'split', 'amongst', 'ladi', 'waffl', 'hous', 'total', 'amount', '$', 'num', 'split', 'amongst', 'staff', 'beauti', 'moment', 'perfect', 'exampl', 'preacher', 'talk', 'sermon', 'good', 'deed', 'like', 'christma', 'realli', 'help', 'eas', 'burden', 'felt', 'ladi', 'work', 'waffl', 'hous', 'sure', 'could', 'see', 'famili', 'least', 'got', 'littl', 'gift', 'good', 'peopl', 'commun', 'perhap', 'best', 'part', 'whole', 'event', 'congreg', 'ask', 'anyth', 'return', 'simpl', 'act', 'generos', 'peopl', 'understood', 'pain', 'felt', 'anoth', 'group', 'sought', 'allevi', 'pain', 'speak', 'volum', 'merit', 'church', 'daili', 'live', 'simpl', 'act', 'brought', 'entir', 'commun', 'togeth', 'show', 'empathi', 'compass', 'special', 'day', 'year']\n"
          ]
        }
      ],
      "source": [
        "\"\"\"\n",
        "nsdf_cleaned = cleanText(nsdf, 'content')\n",
        "nsdf_tokenized = tokenizeText(nsdf_cleaned, 'content')                  #tokenizing\n",
        "nsdf_cleaned_tokenized_nostopwords = remove_stopwords(nsdf_tokenized, 'content')           #removing stopwords\n",
        "nsdf_preprocessed = dataStemming(nsdf_cleaned_tokenized_nostopwords, 'content')\n",
        "\"\"\"\n",
        "nsdf_processed = processData(nsdf, 'content')\n",
        "nsdf_processed.dropna(subset=['content'], inplace=True)  # Drop rows with no content\n",
        "nsdf_processed.reset_index(drop=True, inplace=True)  # Reset index\n",
        "print(nsdf_processed.at[0, 'content'])"
      ]
    },
    {
      "cell_type": "code",
      "execution_count": 10,
      "metadata": {
        "colab": {
          "base_uri": "https://localhost:8080/"
        },
        "id": "Y4U9DbWw7dof",
        "outputId": "fe4d12d1-ee80-4786-a87c-c8619f573c2a"
      },
      "outputs": [
        {
          "name": "stdout",
          "output_type": "stream",
          "text": [
            "word frequency pre preprocessing\n",
            "170462\n"
          ]
        }
      ],
      "source": [
        "#word frequency pre preprocessing\n",
        "print(\"word frequency pre preprocessing\")\n",
        "word_frequency_pre = getFreq(nsdf_raw, 'content').sum()\n",
        "print(word_frequency_pre)"
      ]
    },
    {
      "cell_type": "code",
      "execution_count": 11,
      "metadata": {
        "colab": {
          "base_uri": "https://localhost:8080/"
        },
        "id": "FoqJWce17dog",
        "outputId": "73b36b5b-a812-46a6-823b-f7fc8159703f"
      },
      "outputs": [
        {
          "name": "stdout",
          "output_type": "stream",
          "text": [
            "word frequency post preprocessing\n",
            "86067\n"
          ]
        }
      ],
      "source": [
        "#word frequency post preprocessing\n",
        "print(\"word frequency post preprocessing\")\n",
        "# getfreq assumes different type signature, so we have to do it this way\n",
        "word_frequency_post = nsdf_processed[\"content\"].explode().value_counts().sum()\n",
        "print(word_frequency_post)"
      ]
    },
    {
      "cell_type": "code",
      "execution_count": 19,
      "metadata": {
        "id": "T5uKU6le7dog"
      },
      "outputs": [],
      "source": [
        "#word frequency post stemming\n",
        "#print(\"word frequency post stemming\")\n",
        "#word_frequency_postStem = getFrequency(nsdf_.processed, 'content', 1)\n",
        "#print(sum(word_frequency_postStem.values()))"
      ]
    },
    {
      "cell_type": "code",
      "execution_count": 20,
      "metadata": {
        "id": "n1OIqoGT7dog"
      },
      "outputs": [],
      "source": [
        "#pre = word_frequency_pre\n",
        "#post = word_frequency_post\n",
        "#print(\"Reduction rate of the vocabulary size after removing stopwords:\")\n",
        "#print(abs(pre -post))\n",
        "#print(\"Further  reduction rate of the vocabulary size after stemming\")\n",
        "#postStem = sum(word_frequency_post.values())\n",
        "#print(abs(post -postStem))"
      ]
    },
    {
      "cell_type": "markdown",
      "metadata": {
        "id": "J1czxzP-7dog"
      },
      "source": [
        "### Task 2"
      ]
    },
    {
      "cell_type": "code",
      "execution_count": null,
      "metadata": {},
      "outputs": [
        {
          "name": "stdout",
          "output_type": "stream",
          "text": [
            "  Unnamed: 0         id               domain        type  \\\n",
            "0        732  7444726.0   nationalreview.com   political   \n",
            "1       1348  6213642.0    beforeitsnews.com        fake   \n",
            "2       7119  3867639.0     dailycurrant.com      satire   \n",
            "3       1518  9560791.0          nytimes.com    reliable   \n",
            "4       9345  2059625.0  infiniteunknown.net  conspiracy   \n",
            "\n",
            "                                                 url  \\\n",
            "0  http://www.nationalreview.com/node/152734/%E2%...   \n",
            "1  http://beforeitsnews.com/economy/2012/06/the-c...   \n",
            "2  http://dailycurrant.com/2016/01/18/man-awoken-...   \n",
            "3  https://query.nytimes.com/gst/fullpage.html?re...   \n",
            "4  http://www.infiniteunknown.net/2011/09/14/100-...   \n",
            "\n",
            "                                             content  \\\n",
            "0  Plus one article on Google Plus\\n\\n(Thanks to ...   \n",
            "1  The Cost Of The Best Senate Banking Committee ...   \n",
            "2  Man Awoken From 27-Year Coma Commits Suicide A...   \n",
            "3  WHEN Julia Geist was asked to draw a picture o...   \n",
            "4  – 100 Compiled Studies on Vaccine Dangers (Act...   \n",
            "\n",
            "                   scraped_at                 inserted_at  \\\n",
            "0  2017-11-27T01:14:42.983556  2018-02-08 19:18:34.468038   \n",
            "1    2017-11-27T01:14:08.7454  2018-02-08 19:18:34.468038   \n",
            "2  2017-11-27T01:14:21.395055  2018-02-07 23:39:33.852671   \n",
            "3  2018-02-11 00:46:42.632962  2018-02-11 00:14:20.346838   \n",
            "4  2017-11-10T11:18:44.524042  2018-02-07 23:39:33.852671   \n",
            "\n",
            "                   updated_at  \\\n",
            "0  2018-02-08 19:18:34.468066   \n",
            "1  2018-02-08 19:18:34.468066   \n",
            "2  2018-02-07 23:39:33.852696   \n",
            "3  2018-02-11 00:14:20.346871   \n",
            "4  2018-02-07 23:39:33.852696   \n",
            "\n",
            "                                               title authors  keywords  \\\n",
            "0                                 Iran News Round Up     NaN       NaN   \n",
            "1  The Cost Of The Best Senate Banking Committee ...     NaN       NaN   \n",
            "2  Man Awoken From 27-Year Coma Commits Suicide A...     NaN       NaN   \n",
            "3  Opening a Gateway for Girls to Enter the Compu...     NaN       NaN   \n",
            "4  100 Compiled Studies on Vaccine Dangers – Infi...     NaN       NaN   \n",
            "\n",
            "                                       meta_keywords  \\\n",
            "0  ['National Review', 'National Review Online', ...   \n",
            "1                                               ['']   \n",
            "2                                               ['']   \n",
            "3  ['Computers and the Internet', 'Women and Girl...   \n",
            "4                                               ['']   \n",
            "\n",
            "                                    meta_description  \\\n",
            "0                                                NaN   \n",
            "1                                                NaN   \n",
            "2                                                NaN   \n",
            "3  WHEN Julia Geist was asked to draw a picture o...   \n",
            "4                                                NaN   \n",
            "\n",
            "                                                tags  summary   source  \n",
            "0                                                NaN      NaN      NaN  \n",
            "1                                                NaN      NaN      NaN  \n",
            "2                                                NaN      NaN      NaN  \n",
            "3                                                NaN      NaN  nytimes  \n",
            "4  Lymphoma, Hepatitis B, Immune System, Health, ...      NaN      NaN  \n"
          ]
        }
      ],
      "source": [
        "#load data\n",
        "fakeNewsCorpus = pd.read_csv(dataPath + \"995,000_rows.csv\")\n",
        "#Hva saten er den der unnamed???\n",
        "print(fakeNewsCorpus.head())\n",
        "#fakeNewsCorpus['content'].duplicated()\n",
        "news_noDup = fakeNewsCorpus.drop_duplicates(subset=['content']).dropna(subset=['content']).reset_index(drop=True)"
      ]
    },
    {
      "cell_type": "code",
      "execution_count": 1,
      "metadata": {
        "colab": {
          "base_uri": "https://localhost:8080/",
          "height": 1000,
          "referenced_widgets": [
            "9fd9741bc796445dacef77f07614167e",
            "1fdcaf3f9a5245eea4a903b928eee5b8",
            "e347b4d8b9fb4c72929f6a646167747c",
            "b58df1204e824dbd9f72cdb606b2605f",
            "b1c6087d3824401aa91057fe441302fe",
            "830cda2af3cb49ecbfe45ca7f2e04a24",
            "6e08915023cb458abda3abdce421467e",
            "7258d6e2da3a41ad9b4830b0192cb037",
            "d9249597abf942b5af7a16e2ebefa329",
            "a24a494c9ffb43e1bfe493d1162c4e3d"
          ]
        },
        "id": "u-6EvFOO7dog",
        "outputId": "dcfc62f5-5370-44df-c102-5d896416d2e3"
      },
      "outputs": [
        {
          "ename": "NameError",
          "evalue": "name 'processData' is not defined",
          "output_type": "error",
          "traceback": [
            "\u001b[0;31m---------------------------------------------------------------------------\u001b[0m",
            "\u001b[0;31mNameError\u001b[0m                                 Traceback (most recent call last)",
            "Cell \u001b[0;32mIn[1], line 2\u001b[0m\n\u001b[1;32m      1\u001b[0m \u001b[38;5;66;03m#Cleaning\u001b[39;00m\n\u001b[0;32m----> 2\u001b[0m news_processed \u001b[38;5;241m=\u001b[39m processData(news_noDup, \u001b[38;5;124m'\u001b[39m\u001b[38;5;124mcontent\u001b[39m\u001b[38;5;124m'\u001b[39m)\n\u001b[1;32m      3\u001b[0m news_processed\u001b[38;5;241m.\u001b[39mto_json(dataPath \u001b[38;5;241m+\u001b[39m \u001b[38;5;124m\"\u001b[39m\u001b[38;5;124mnews_processed.json\u001b[39m\u001b[38;5;124m\"\u001b[39m, orient\u001b[38;5;241m=\u001b[39m\u001b[38;5;124m'\u001b[39m\u001b[38;5;124mrecords\u001b[39m\u001b[38;5;124m'\u001b[39m, lines\u001b[38;5;241m=\u001b[39m\u001b[38;5;28;01mTrue\u001b[39;00m)\n",
            "\u001b[0;31mNameError\u001b[0m: name 'processData' is not defined"
          ]
        }
      ],
      "source": [
        "#Cleaning\n",
        "news_processed = processData(news_noDup, 'content')\n",
        "news_processed.to_json(dataPath + \"news_processed.json\", orient='records', lines=True)"
      ]
    },
    {
      "cell_type": "markdown",
      "metadata": {
        "id": "TCHjcIp97dog"
      },
      "source": [
        "### Task 3"
      ]
    },
    {
      "cell_type": "code",
      "execution_count": 10,
      "metadata": {
        "id": "LsAEJIoO7dog",
        "outputId": "f7b8a93f-b748-4f47-c421-13a928bff4dc"
      },
      "outputs": [
        {
          "name": "stdout",
          "output_type": "stream",
          "text": [
            "<class 'pandas.core.frame.DataFrame'>\n",
            "RangeIndex: 812912 entries, 0 to 812911\n",
            "Data columns (total 17 columns):\n",
            " #   Column            Non-Null Count   Dtype         \n",
            "---  ------            --------------   -----         \n",
            " 0   Unnamed: 0        812911 non-null  float64       \n",
            " 1   id                812912 non-null  object        \n",
            " 2   domain            812912 non-null  object        \n",
            " 3   type              770599 non-null  object        \n",
            " 4   url               812912 non-null  object        \n",
            " 5   content           812912 non-null  object        \n",
            " 6   scraped_at        812911 non-null  object        \n",
            " 7   inserted_at       812911 non-null  datetime64[ns]\n",
            " 8   updated_at        812911 non-null  datetime64[ns]\n",
            " 9   title             812735 non-null  object        \n",
            " 10  authors           502785 non-null  object        \n",
            " 11  keywords          0 non-null       float64       \n",
            " 12  meta_keywords     775004 non-null  object        \n",
            " 13  meta_description  421991 non-null  object        \n",
            " 14  tags              184646 non-null  object        \n",
            " 15  summary           0 non-null       float64       \n",
            " 16  source            208460 non-null  object        \n",
            "dtypes: datetime64[ns](2), float64(3), object(12)\n",
            "memory usage: 105.4+ MB\n",
            "None\n"
          ]
        }
      ],
      "source": [
        "if fakeNewsCorpus is None:\n",
        "    json_reader = pd.read_json(dataPath + \"news_processed.json\", orient='records', lines=True, chunksize=1500)\n",
        "    fakeNewsCorpus = pd.concat(json_reader, ignore_index=True)\n",
        "# timed: 12 min på M1 macbook chunk=1000\n",
        "print(fakeNewsCorpus.info())   # Check column types and missing values\n",
        "#fndf = fakeNewsCorpus.reset_index(drop=True)  # Reset index\n",
        "fndf = fakeNewsCorpus\n"
      ]
    },
    {
      "cell_type": "code",
      "execution_count": null,
      "metadata": {
        "id": "lRVr6AxZ7dog",
        "outputId": "9013e78e-a2bf-4f2d-d54d-499d3dde514b"
      },
      "outputs": [
        {
          "ename": "",
          "evalue": "",
          "output_type": "error",
          "traceback": [
            "\u001b[1;31mThe Kernel crashed while executing code in the current cell or a previous cell. \n",
            "\u001b[1;31mPlease review the code in the cell(s) to identify a possible cause of the failure. \n",
            "\u001b[1;31mClick <a href='https://aka.ms/vscodeJupyterKernelCrash'>here</a> for more info. \n",
            "\u001b[1;31mView Jupyter <a href='command:jupyter.viewOutput'>log</a> for further details."
          ]
        }
      ],
      "source": []
    },
    {
      "cell_type": "markdown",
      "metadata": {
        "id": "yqKMjLFX7doh"
      },
      "source": [
        "### Cleaning and Preprocessing"
      ]
    },
    {
      "cell_type": "code",
      "execution_count": 5,
      "metadata": {
        "id": "NOn3autl7doh",
        "outputId": "b049f942-d2ac-4c2c-d85b-0d7c8392e567"
      },
      "outputs": [
        {
          "name": "stdout",
          "output_type": "stream",
          "text": [
            "Pandas DataFrame:\n"
          ]
        },
        {
          "data": {
            "text/plain": [
              "Unnamed: 0                                                      732.0\n",
              "id                                                            7444726\n",
              "domain                                             nationalreview.com\n",
              "type                                                        political\n",
              "url                 http://www.nationalreview.com/node/152734/%E2%...\n",
              "content             [plu, one, articl, googl, plu, thank, ali, alf...\n",
              "scraped_at                                 2017-11-27T01:14:42.983556\n",
              "inserted_at                                2018-02-08 19:18:34.468038\n",
              "updated_at                                 2018-02-08 19:18:34.468066\n",
              "title                                              Iran News Round Up\n",
              "authors                                                          None\n",
              "keywords                                                          NaN\n",
              "meta_keywords       ['National Review', 'National Review Online', ...\n",
              "meta_description                                                 None\n",
              "tags                                                             None\n",
              "summary                                                           NaN\n",
              "source                                                           None\n",
              "Name: 0, dtype: object"
            ]
          },
          "metadata": {},
          "output_type": "display_data"
        }
      ],
      "source": [
        "print(\"Pandas DataFrame:\")\n",
        "display(fndf.iloc[0])\n",
        "\n"
      ]
    },
    {
      "cell_type": "markdown",
      "metadata": {},
      "source": [
        "## Observations about dataset"
      ]
    },
    {
      "cell_type": "code",
      "execution_count": 11,
      "metadata": {},
      "outputs": [
        {
          "name": "stdout",
          "output_type": "stream",
          "text": [
            "['political' 'fake' 'satire' 'reliable' 'conspiracy' 'unreliable' 'bias'\n",
            " 'rumor' 'unknown' None 'clickbait' 'hate' 'junksci'\n",
            " '2018-02-10 13:43:39.521661']\n",
            "['political' 'fake' 'satire' 'reliable' 'conspiracy' 'bias' 'rumor'\n",
            " 'clickbait' 'hate' 'junksci']\n"
          ]
        }
      ],
      "source": [
        "unique_values = fndf['type'].unique()\n",
        "print(unique_values)\n",
        "#hard to know how to classify nan and unknown, so removed for now\n",
        "# we also remove the a weird type \n",
        "fndf = fndf.dropna(subset=['type'])\n",
        "fndf = fndf.loc[(fndf['type']!='unknown') & (fndf['type']!='unreliable') & (fndf['type'] != '2018-02-10 13:43:39.521661')]\n",
        "# Need to reset index\n",
        "\n",
        "newunique_values = fndf['type'].unique()\n",
        "print(newunique_values)\n"
      ]
    },
    {
      "cell_type": "code",
      "execution_count": 12,
      "metadata": {},
      "outputs": [
        {
          "name": "stdout",
          "output_type": "stream",
          "text": [
            "adding binary labels\n",
            "['1' '0']\n",
            "real vs fake:\n",
            "type\n",
            "1    378763\n",
            "0    344969\n",
            "Name: count, dtype: int64\n"
          ]
        }
      ],
      "source": [
        "\n",
        "# groups (reliable) as truenews 1 and (all others) in fakenews 0\n",
        "    #note this is naive and should be reconsidered later\n",
        "\n",
        "# reliable, clickbait and political are all, by their contents, factually correct (albeit possibly politcally motivated)\n",
        "# we deem those to be \"real\" news\n",
        "print(\"adding binary labels\")\n",
        "fndf['type'] = fndf['type'].replace(r'^(reliable|clickbait|political)$', '1', regex=True) \n",
        "fndf['type'] = fndf['type'].replace(r'^(?!1$).+', '0', regex=True)   # Replace everything except '1' with '0'\n",
        "#fndf['type'] = fndf['type'].fillna('0')\n",
        "\n",
        "newunique_values = fndf['type'].unique()\n",
        "print(newunique_values)\n",
        "fndf.shape[0]\n",
        "fndf['type'] = fndf['type'].astype(int)  # Convert to integer\n",
        "\n",
        "print((\"real vs fake:\"))\n",
        "print(fndf['type'].value_counts())"
      ]
    },
    {
      "cell_type": "code",
      "execution_count": null,
      "metadata": {},
      "outputs": [
        {
          "name": "stdout",
          "output_type": "stream",
          "text": [
            "378763  :  344969\n",
            "distribution for real news\n",
            "[('num', 3158753), ('said', 901336), ('new', 583966), ('one', 512685), ('mr', 509038), ('would', 463907), ('year', 447673), ('time', 447646), ('$', 446510), ('like', 408097), ('state', 407964), ('peopl', 389604), ('us', 306603), ('also', 301689), ('continu', 299197), ('stori', 294520), ('say', 294174), ('york', 281663), ('make', 279645), ('read', 279093), ('work', 273287), ('get', 271541), ('go', 265306), ('presid', 252996), ('even', 247347), ('first', 246291), ('two', 240050), ('use', 237233), ('numnum', 231782), ('last', 231383), ('pleas', 230664), ('trump', 230602), ('main', 230035), ('american', 227921), ('could', 227031), ('mani', 221007), ('day', 217440), ('right', 208384), ('newslett', 206860), ('nation', 201406), ('sign', 200449), ('take', 199373), ('want', 199080), ('call', 197499), ('report', 197208), ('govern', 196088), ('way', 193655), ('tri', 192781), ('may', 181509), ('know', 180245), ('includ', 180125), ('need', 177375), ('think', 177255), ('republican', 176744), ('hous', 175075), ('come', 173339), ('back', 172399), ('compani', 171164), ('show', 169261), ('democrat', 169174), ('world', 168905), ('well', 165238), ('much', 165219), ('dont', 165052), ('servic', 162588), ('percent', 161301), ('polit', 161241), ('countri', 160864), ('support', 157407), ('obama', 156691), ('unit', 156491), ('see', 156270), ('advertis', 155738), ('week', 154540), ('look', 153587), ('made', 152510), ('group', 151841), ('million', 150591), ('citi', 149445), ('thing', 147348), ('live', 147155), ('offer', 146561), ('help', 146072), ('public', 144923), ('subscrib', 143369), ('still', 142173), ('vote', 141551), ('good', 141068), ('offic', 140712), ('news', 140486), ('point', 137734), ('receiv', 137485), ('play', 136983), ('must', 135981), ('law', 135590), ('plan', 133877), ('sinc', 133273), ('chang', 132790), ('famili', 132193), ('later', 132118), ('school', 131956), ('elect', 130737), ('part', 130568), ('product', 130167), ('parti', 127957), ('view', 127742), ('gener', 126601), ('email', 125001), ('end', 124662), ('anoth', 123993), ('home', 123582), ('senat', 123227), ('offici', 122845), ('three', 121484), ('campaign', 120302), ('issu', 119804), ('start', 117499), ('ask', 117164), ('run', 116748), ('month', 114878), ('your', 114160), ('war', 113892), ('case', 113610), ('street', 113555), ('special', 112625), ('place', 112031), ('power', 110555), ('white', 110065), ('agre', 110014), ('ms', 109417), ('life', 109041), ('game', 108882), ('long', 108773), ('member', 107666), ('recent', 107146), ('busi', 106398), ('photo', 106304), ('told', 105356), ('im', 105069), ('person', 104293), ('open', 103911), ('around', 103874), ('women', 103560), ('forc', 103545), ('put', 103407), ('everi', 103249), ('today', 103147), ('address', 102965), ('never', 102870), ('thank', 102312), ('bill', 101885), ('give', 101756), ('that', 101510), ('next', 100446), ('seem', 99888), ('tax', 99683), ('court', 99062), ('health', 98128), ('rec', 97415), ('secur', 97120), ('accord', 96951), ('realli', 96926), ('polici', 96869), ('believ', 96627), ('feder', 96442), ('job', 96419), ('question', 96387), ('care', 96240), ('america', 96187), ('program', 95896), ('talk', 95685), ('money', 95570), ('number', 95263), ('updat', 95188), ('might', 94962), ('ad', 94871), ('move', 94603), ('commun', 94558), ('clinton', 94360), ('children', 94293), ('former', 94272), ('found', 93446), ('find', 93339), ('man', 93311), ('turn', 93144), ('market', 92988), ('follow', 92738), ('major', 91846), ('univers', 91829), ('littl', 91656), ('name', 91540), ('provid', 91384), ('polic', 90722), ('team', 90666), ('becom', 90287), ('differ', 90001), ('system', 89371), ('center', 89340), ('administr', 89306), ('without', 88711)]\n",
            "distribution for fake news\n",
            "[('num', 2284671), ('us', 418769), ('one', 404877), ('said', 363839), ('peopl', 352784), ('would', 339876), ('state', 320119), ('time', 310086), ('year', 307656), ('like', 285702), ('new', 268939), ('$', 267864), ('also', 264683), ('use', 251007), ('govern', 228421), ('make', 220086), ('report', 215687), ('say', 214676), ('get', 211686), ('go', 205132), ('even', 204610), ('world', 198611), ('could', 187617), ('news', 187377), ('two', 185227), ('mani', 184910), ('american', 183394), ('nation', 176109), ('first', 174849), ('take', 173677), ('may', 172911), ('think', 172246), ('work', 169410), ('right', 166504), ('day', 164932), ('presid', 164516), ('countri', 163182), ('come', 160700), ('know', 159093), ('see', 156509), ('way', 156056), ('want', 152587), ('url', 149606), ('well', 146973), ('need', 145612), ('unit', 143755), ('call', 141560), ('last', 141321), ('war', 134726), ('obama', 134684), ('back', 134463), ('includ', 134135), ('look', 133898), ('numnum', 131369), ('dont', 129794), ('thing', 128832), ('trump', 128122), ('show', 126961), ('much', 125913), ('live', 123819), ('fact', 123706), ('support', 120891), ('power', 119580), ('sourc', 117571), ('law', 117212), ('market', 117107), ('follow', 116566), ('forc', 116382), ('group', 115754), ('help', 114864), ('polit', 112498), ('good', 110704), ('made', 110487), ('read', 110078), ('sinc', 108820), ('believ', 107903), ('part', 106440), ('accord', 104827), ('public', 104186), ('continu', 103994), ('attack', 103412), ('system', 102511), ('chang', 101924), ('point', 100611), ('america', 100194), ('stori', 99583), ('still', 98888), ('end', 98374), ('life', 98044), ('anoth', 97790), ('hous', 97540), ('million', 96817), ('talk', 96152), ('week', 96146), ('secur', 95335), ('gener', 95145), ('start', 94354), ('place', 94308), ('person', 93873), ('polic', 93016), ('today', 92173), ('human', 91628), ('everi', 91564), ('russia', 91176), ('media', 91132), ('tri', 91085), ('plan', 90779), ('compani', 90680), ('inform', 90670), ('mean', 89824), ('offic', 89591), ('recent', 88952), ('post', 88774), ('around', 88672), ('issu', 88602), ('de', 88064), ('number', 87835), ('case', 87822), ('claim', 87743), ('next', 87668), ('told', 87174), ('money', 87162), ('found', 86928), ('articl', 86772), ('citi', 85983), ('find', 85892), ('becom', 85856), ('militari', 85782), ('control', 83856), ('order', 83218), ('offici', 83107), ('bank', 82889), ('never', 82360), ('howev', 82324), ('give', 82009), ('happen', 81943), ('put', 81759), ('white', 81027), ('month', 80921), ('interest', 80741), ('provid', 80550), ('feder', 80496), ('health', 80022), ('realli', 79520), ('man', 79421), ('without', 79368), ('ask', 79204), ('home', 79130), ('research', 79023), ('author', 78979), ('parti', 77975), ('play', 77921), ('famili', 77865), ('differ', 77208), ('kill', 77153), ('keep', 77081), ('result', 76601), ('three', 76520), ('long', 76494), ('russian', 76485), ('move', 76049), ('great', 76018), ('share', 75872), ('question', 75254), ('food', 74840), ('video', 74603), ('creat', 74310), ('major', 74275), ('intern', 74111), ('free', 73956), ('children', 73765), ('polici', 73460), ('member', 73444), ('reason', 73150), ('caus', 73123), ('organ', 72957), ('increas', 71891), ('problem', 71683), ('must', 71596), ('global', 71532), ('product', 71202), ('busi', 70598), ('oper', 70557), ('someth', 70484), ('econom', 70082), ('import', 69293), ('possibl', 69132), ('elect', 69086), ('actual', 69081), ('commun', 68934), ('appear', 68897), ('percent', 68860), ('school', 68702), ('studi', 68460), ('seem', 68362), ('natur', 68132), ('current', 67932), ('that', 67702), ('high', 67583), ('allow', 67533)]\n",
            "distribution for all news\n",
            "[('num', 5443424), ('said', 1265175), ('one', 917562), ('new', 852905), ('would', 803783), ('time', 757732), ('year', 755329), ('peopl', 742388), ('state', 728083), ('us', 725372), ('$', 714374), ('like', 693799), ('mr', 574040), ('also', 566372), ('say', 508850), ('make', 499731), ('use', 488240), ('get', 483227), ('go', 470438), ('even', 451957), ('work', 442697), ('two', 425277), ('govern', 424509), ('first', 421140), ('presid', 417512), ('could', 414648), ('report', 412895), ('american', 411315), ('mani', 405917), ('continu', 403191), ('stori', 394103), ('read', 389171), ('day', 382372), ('nation', 377515), ('right', 374888), ('take', 373050), ('last', 372704), ('world', 367516), ('numnum', 363151), ('trump', 358724), ('may', 354420), ('want', 351667), ('way', 349711), ('think', 349501), ('know', 339338), ('call', 339059), ('come', 334039), ('news', 327863), ('countri', 324046), ('york', 323807), ('need', 322987), ('includ', 314260), ('see', 312779), ('well', 312211), ('back', 306862), ('unit', 300246), ('show', 296222), ('dont', 294846), ('obama', 291375), ('much', 291132), ('look', 287485), ('tri', 283866), ('support', 278298), ('thing', 276180), ('polit', 273739), ('hous', 272615), ('live', 270974), ('group', 267595), ('pleas', 265654), ('made', 262997), ('compani', 261844), ('help', 260936), ('main', 256913), ('sign', 256660), ('law', 252802), ('good', 251772), ('week', 250686), ('public', 249109), ('war', 248618), ('million', 247408), ('sinc', 242093), ('still', 241061), ('point', 238345), ('part', 237008), ('citi', 235428), ('chang', 234714), ('republican', 230313), ('offic', 230303), ('percent', 230161), ('democrat', 230152), ('power', 230135), ('servic', 229108), ('plan', 224656), ('end', 223036), ('anoth', 221783), ('gener', 221746), ('forc', 219927), ('play', 214904), ('start', 211853), ('newslett', 210345), ('market', 210095), ('famili', 210058), ('follow', 209304), ('url', 209053), ('issu', 208406), ('vote', 208289), ('must', 207577), ('life', 207085), ('place', 206339), ('offici', 205952), ('parti', 205932), ('believ', 204530), ('fact', 203100), ('home', 202712), ('accord', 201778), ('case', 201432), ('product', 201369), ('school', 200658), ('elect', 199823), ('person', 198166), ('three', 198004), ('offer', 196957), ('america', 196381), ('ask', 196368), ('recent', 196098), ('month', 195799), ('today', 195320), ('everi', 194813), ('around', 192546), ('told', 192530), ('secur', 192455), ('system', 191882), ('talk', 191837), ('white', 191092), ('view', 190389), ('attack', 188512), ('next', 188114), ('receiv', 188106), ('advertis', 187208), ('long', 185267), ('never', 185230), ('put', 185166), ('give', 183765), ('polic', 183738), ('number', 183098), ('money', 182732), ('member', 181110), ('run', 180653), ('found', 180374), ('find', 179231), ('health', 178150), ('later', 177805), ('busi', 176996), ('feder', 176938), ('realli', 176446), ('mean', 176385), ('campaign', 176178), ('becom', 176143), ('email', 173244), ('man', 172732), ('provid', 171934), ('question', 171641), ('move', 170652), ('polici', 170329), ('that', 169212), ('post', 169192), ('seem', 168250), ('inform', 168147), ('without', 168079), ('children', 168058), ('im', 167918), ('media', 167526), ('differ', 167209), ('senat', 166813), ('major', 166121), ('open', 164500), ('interest', 163993), ('commun', 163492), ('human', 162969), ('happen', 162511), ('keep', 162096), ('game', 161813), ('ad', 160579), ('women', 160480), ('turn', 159987), ('bill', 159836), ('court', 158210), ('name', 158128), ('great', 158116), ('might', 158084), ('sourc', 158033), ('bank', 157975), ('tax', 155982), ('former', 155947), ('someth', 155718), ('job', 155710), ('claim', 155667), ('share', 155566), ('problem', 155558), ('author', 155439)]\n"
          ]
        }
      ],
      "source": [
        "relib_news = fndf.loc[fndf['type'] == 1]\n",
        "fake_news = fndf.loc[fndf['type'] == 0]\n",
        "\n",
        "print(relib_news.shape[0], \" : \", fake_news.shape[0])\n",
        "\n",
        "print(\"distribution for real news\")\n",
        "#print(relib_news[\"content\"].explode().value_counts())\n",
        "real_dist = FreqDist(relib_news[\"content\"].explode())\n",
        "print(real_dist.most_common(200))\n",
        "\n",
        "print(\"distribution for fake news\")\n",
        "#print(fake_news[\"content\"].explode().value_counts())\n",
        "fake_dist = FreqDist(fake_news[\"content\"].explode())\n",
        "print(fake_dist.most_common(200))\n",
        "\n",
        "print(\"distribution for all news\")\n",
        "#print(fndf[\"content\"].explode().value_counts())\n",
        "all_dist = FreqDist(fndf[\"content\"].explode())\n",
        "print(all_dist.most_common(200))"
      ]
    },
    {
      "cell_type": "code",
<<<<<<< HEAD
      "execution_count": null,
      "metadata": {},
      "outputs": [],
      "source": [
        "\n",
=======
      "execution_count": 15,
      "metadata": {},
      "outputs": [
        {
          "data": {
            "text/plain": [
              "['../data/dists.pkl']"
            ]
          },
          "execution_count": 15,
          "metadata": {},
          "output_type": "execute_result"
        }
      ],
      "source": [
>>>>>>> main
        "joblib.dump((real_dist, fake_dist, all_dist), dataPath + \"dists.pkl\")"
      ]
    },
    {
      "cell_type": "code",
<<<<<<< HEAD
      "execution_count": null,
      "metadata": {},
      "outputs": [],
      "source": [
        "\n",
        "(real_dist, fake_dist, all_dist) = joblib.load(dataPath + \"dists.pkl\")"
=======
      "execution_count": 4,
      "metadata": {},
      "outputs": [],
      "source": [
        "(real_dist, fake_dist, all_dist) = joblib.load(dataPath + \"dists.pkl\")\n"
>>>>>>> main
      ]
    },
    {
      "cell_type": "code",
<<<<<<< HEAD
      "execution_count": null,
      "metadata": {},
      "outputs": [],
      "source": [
        "\n",
=======
      "execution_count": 41,
      "metadata": {},
      "outputs": [
        {
          "name": "stdout",
          "output_type": "stream",
          "text": [
            "real total: 71330064, fake total: 54738102\n",
            "16591962\n"
          ]
        }
      ],
      "source": [
>>>>>>> main
        "fake_total = int(pd.Series([b for (a, b) in fake_dist.most_common(1000)]).sum())\n",
        "real_total = int(pd.Series([b for (a, b) in real_dist.most_common(1000)]).sum())\n",
        "\n",
        "print(f\"real total: {real_total}, fake total: {fake_total}\")\n",
        "print(real_total-fake_total)"
      ]
    },
    {
      "cell_type": "code",
<<<<<<< HEAD
      "execution_count": null,
      "metadata": {},
      "outputs": [],
      "source": [
=======
      "execution_count": 40,
      "metadata": {},
      "outputs": [
        {
          "name": "stdout",
          "output_type": "stream",
          "text": [
            "Amount of words only present in one set than another: 3120\n",
            "[('serum', 17.104905565198166), ('whitehead', 17.10253855065425), ('eighti', 17.10253855065425), ('ama', 17.10253855065425), ('regrett', 17.10017541328577), ('gamer', 17.10017541328577), ('usb', 17.10017541328577), ('eduardo', 17.10017541328577), ('angloamerican', 17.10017541328577), ('defenseless', 17.10017541328577), ('babylonian', 17.10017541328577), ('selfdestruct', 17.097816140411844), ('defraud', 17.097816140411844), ('cypriot', 17.095460719413715), ('scourg', 17.095460719413715), ('thirst', 17.095460719413715), ('duct', 17.095460719413715), ('dissip', 17.093109137734317), ('twoday', 17.093109137734317), ('odor', 17.093109137734317), ('fletcher', 17.090761382877893), ('tracker', 17.090761382877893), ('exception', 17.090761382877893), ('malic', 17.090761382877893), ('whichev', 17.090761382877893), ('submerg', 17.090761382877893), ('viii', 17.090761382877893), ('cockpit', 17.090761382877893), ('mauricio', 17.088417442409597), ('devour', 17.088417442409597), ('multilater', 17.08607730395508), ('scifi', 17.08607730395508), ('hubri', 17.08607730395508), ('proverb', 17.08607730395508), ('forag', 17.08607730395508), ('jedi', 17.08607730395508), ('incub', 17.08607730395508), ('tbsp', 17.08607730395508), ('mata', 17.08374095520012), ('mond', 17.08374095520012), ('endocrin', 17.08374095520012), ('contagi', 17.08140838389023), ('cucumb', 17.08140838389023), ('valor', 17.08140838389023), ('dispel', 17.08140838389023), ('concur', 17.07907957783026), ('gemma', 17.07907957783026), ('invert', 17.07907957783026), ('debit', 17.07907957783026), ('counteract', 17.076754524884016), ('baxter', 17.076754524884016), ('numth', 17.076754524884016), ('yearoveryear', 17.076754524884016), ('ici', 17.074433212973894), ('cnum', 17.074433212973894), ('refocu', 17.074433212973894), ('kudashkina', 17.074433212973894), ('dye', 17.072115630080496), ('simplest', 17.072115630080496), ('insinu', 17.072115630080496), ('mammoth', 17.072115630080496), ('tre', 17.072115630080496), ('forex', 17.072115630080496), ('recharg', 17.072115630080496), ('altabari', 17.072115630080496), ('pais', 17.072115630080496), ('nokia', 17.072115630080496), ('rejoin', 17.072115630080496), ('ea', 17.067491603555048), ('lorrain', 17.067491603555048), ('zerohedg', 17.065185136171877), ('unaccompani', 17.065185136171877), ('dissolut', 17.065185136171877), ('pike', 17.06288235030246), ('delud', 17.06288235030246), ('woodrow', 17.06288235030246), ('theo', 17.06288235030246), ('parachut', 17.06288235030246), ('cf', 17.06288235030246), ('habitu', 17.06288235030246), ('detoxifi', 17.06058323421287), ('humid', 17.06058323421287), ('emf', 17.06058323421287), ('q1', 17.06058323421287), ('hut', 17.06058323421287), ('usaid', 17.058287776225207), ('lowlevel', 17.058287776225207), ('tsipra', 17.058287776225207), ('gbp', 17.058287776225207), ('buckl', 17.058287776225207), ('selfgovern', 17.058287776225207), ('nongovernment', 17.05599596471722), ('prefac', 17.05599596471722), ('backdoor', 17.05599596471722), ('jcpoa', 17.053707788121947), ('unprepar', 17.053707788121947), ('apprehens', 17.053707788121947), ('euroscept', 17.053707788121947), ('farah', 17.053707788121947), ('whatsapp', 17.053707788121947), ('freezer', 17.051423234927395), ('falkland', 17.051423234927395), ('hussain', 17.051423234927395), ('meteorit', 17.051423234927395), ('typhoon', 17.051423234927395), ('signatori', 17.051423234927395), ('ppm', 17.051423234927395), ('giroud', 17.051423234927395), ('regimen', 17.049142293676155), ('afloat', 17.049142293676155), ('sinclair', 17.049142293676155), ('oneway', 17.049142293676155), ('zu', 17.049142293676155), ('lancast', 17.049142293676155), ('mi6', 17.049142293676155), ('ascertain', 17.04459120144497), ('coopt', 17.04459120144497), ('in', 17.04459120144497), ('nevil', 17.04459120144497), ('sorcha', 17.04459120144497), ('jb', 17.04232102782014), ('implos', 17.04232102782014), ('collectiv', 17.04232102782014), ('vagina', 17.04232102782014), ('ulcer', 17.04232102782014), ('depui', 17.04232102782014), ('covertli', 17.040054420848197), ('bilingu', 17.040054420848197), ('safest', 17.040054420848197), ('medio', 17.040054420848197), ('basel', 17.037791369339626), ('snub', 17.037791369339626), ('impot', 17.037791369339626), ('lng', 17.037791369339626), ('header', 17.037791369339626), ('tunisian', 17.037791369339626), ('leaflet', 17.037791369339626), ('scapegoat', 17.0355318621575), ('plugin', 17.0355318621575), ('shadowi', 17.0355318621575), ('apathi', 17.033275888217133), ('tranquil', 17.033275888217133), ('doorstep', 17.033275888217133), ('solvent', 17.033275888217133), ('moroccan', 17.031023436485757), ('kirbi', 17.031023436485757), ('satanist', 17.028774495982194), ('lightweight', 17.028774495982194), ('vigilant', 17.028774495982194), ('virul', 17.02652905577655), ('neurosci', 17.02652905577655), ('banish', 17.02652905577655), ('unintent', 17.02652905577655), ('torah', 17.02652905577655), ('ret', 17.02652905577655), ('olivi', 17.02652905577655), ('prenum', 17.02652905577655), ('bali', 17.02652905577655), ('nonprolifer', 17.02428710498988), ('benitez', 17.02428710498988), ('pellegrini', 17.02428710498988), ('chilean', 17.02428710498988), ('suffoc', 17.02428710498988), ('cyclic', 17.02428710498988), ('ultimatum', 17.02204863279388), ('guerr', 17.02204863279388), ('cheapest', 17.02204863279388), ('cocreat', 17.02204863279388), ('hegemon', 17.02204863279388), ('nutritionist', 17.02204863279388), ('proton', 17.02204863279388), ('drawer', 17.01981362841057), ('isotop', 17.01981362841057), ('pued', 17.01981362841057), ('euphrat', 17.01981362841057), ('sar', 17.01981362841057), ('rohingya', 17.01981362841057), ('salah', 17.01758208111199), ('gnum', 17.01535398021987), ('misinterpret', 17.01535398021987), ('peroxid', 17.01535398021987), ('dernier', 17.01535398021987), ('gatekeep', 17.01312931510536), ('anoint', 17.01312931510536), ('walid', 17.01312931510536), ('mouthpiec', 17.01312931510536), ('shalt', 17.01312931510536), ('masquerad', 17.01090807518868), ('sunris', 17.01090807518868), ('finit', 17.01090807518868), ('equilibrium', 17.008690249938862), ('antiaircraft', 17.008690249938862), ('piraci', 17.008690249938862), ('sceptic', 17.008690249938862), ('thc', 17.008690249938862), ('egalitarian', 17.008690249938862), ('inund', 17.00647582887342), ('practis', 17.004264801558065), ('neutron', 17.004264801558065), ('bra', 17.004264801558065), ('jul', 17.002057157606416), ('abundantli', 17.002057157606416), ('sabbath', 17.002057157606416), ('bulgarian', 17.002057157606416), ('biochem', 16.999852886679683), ('ghana', 16.999852886679683), ('coil', 16.999852886679683), ('antibacteri', 16.999852886679683), ('anglican', 16.997651978486413), ('lugar', 16.997651978486413), ('avatar', 16.997651978486413), ('versa', 16.995454422782167), ('catholic', 16.995454422782167), ('rosneft', 16.995454422782167), ('trouser', 16.995454422782167), ('leukemia', 16.993260209369254), ('neural', 16.993260209369254), ('coupon', 16.993260209369254), ('brazen', 16.993260209369254), ('lens', 16.993260209369254), ('unfund', 16.993260209369254), ('maidan', 16.993260209369254), ('hydraul', 16.991069328096444), ('bladder', 16.991069328096444), ('alinski', 16.991069328096444), ('bnp', 16.991069328096444), ('h1b', 16.991069328096444), ('farleft', 16.988881768858683), ('vilifi', 16.988881768858683), ('wilsher', 16.988881768858683), ('tidal', 16.988881768858683), ('impetu', 16.986697521596806), ('passov', 16.986697521596806), ('crescent', 16.986697521596806), ('cannib', 16.986697521596806), ('burgeon', 16.986697521596806), ('vill', 16.986697521596806), ('utopian', 16.986697521596806), ('hawkinss', 16.986697521596806), ('curious', 16.984516576297278), ('firebal', 16.984516576297278), ('firstteam', 16.984516576297278), ('vortex', 16.982338922991907), ('islamabad', 16.982338922991907), ('geologist', 16.982338922991907), ('hive', 16.982338922991907), ('armament', 16.98016455175757), ('schlafli', 16.98016455175757), ('diy', 16.98016455175757), ('arson', 16.98016455175757), ('abyss', 16.98016455175757), ('cartalucci', 16.977993452715946), ('monstrou', 16.975825616033234), ('orb', 16.975825616033234), ('witchcraft', 16.975825616033234), ('unbias', 16.975825616033234), ('rins', 16.975825616033234), ('tasti', 16.975825616033234), ('bloodstream', 16.975825616033234), ('encircl', 16.975825616033234), ('sheffield', 16.97366103191991), ('romelu', 16.97366103191991), ('anatoli', 16.971499690630445), ('kale', 16.971499690630445), ('buyback', 16.971499690630445), ('cbd', 16.971499690630445), ('photoshop', 16.971499690630445), ('mcmaster', 16.969341582463034), ('politiqu', 16.969341582463034), ('biker', 16.969341582463034), ('blizzard', 16.969341582463034), ('burma', 16.969341582463034), ('quantifi', 16.969341582463034), ('calf', 16.969341582463034), ('insecticid', 16.969341582463034), ('barbarian', 16.969341582463034), ('hb', 16.967186697759363), ('petrodollar', 16.967186697759363), ('cuttingedg', 16.965035026904314), ('slavo', 16.965035026904314), ('forgeri', 16.965035026904314), ('bleach', 16.965035026904314), ('serotonin', 16.962886560325735), ('insurrect', 16.962886560325735), ('tra', 16.962886560325735), ('smallpox', 16.96074128849418), ('islamophob', 16.96074128849418), ('camouflag', 16.96074128849418), ('bosnian', 16.96074128849418), ('decapit', 16.96074128849418), ('honolulu', 16.96074128849418), ('noam', 16.958599201922638), ('further', 16.958599201922638), ('overpopul', 16.958599201922638), ('magnitski', 16.958599201922638), ('pastur', 16.956460291166305), ('xvi', 16.956460291166305), ('playstat', 16.956460291166305), ('buddha', 16.954324546822313), ('jarrett', 16.954324546822313), ('homogen', 16.954324546822313), ('incurs', 16.954324546822313), ('authorit', 16.9521919595295), ('unfound', 16.9521919595295), ('lad', 16.9521919595295), ('shockingli', 16.950062519968153), ('overload', 16.950062519968153), ('greenland', 16.950062519968153), ('oslo', 16.950062519968153), ('torpedo', 16.947936218859766), ('num5m', 16.947936218859766), ('strangl', 16.945813046966794), ('moni', 16.945813046966794), ('infograph', 16.945813046966794), ('glitch', 16.945813046966794), ('devolv', 16.943692995092427), ('curcumin', 16.943692995092427), ('linear', 16.941576054080326), ('thru', 16.941576054080326), ('thinktank', 16.941576054080326), ('russi', 16.941576054080326), ('misconcept', 16.941576054080326), ('shoebat', 16.941576054080326), ('brighton', 16.941576054080326), ('shenanigan', 16.941576054080326), ('beforehand', 16.939462214814405), ('caucasian', 16.939462214814405), ('undergon', 16.939462214814405), ('vera', 16.939462214814405), ('debtor', 16.937351468218598), ('intraday', 16.937351468218598), ('lockdown', 16.935243805256608), ('gong', 16.933139216931686), ('gastrointestin', 16.933139216931686), ('savil', 16.933139216931686), ('taper', 16.931037694286395), ('millennia', 16.931037694286395), ('evolutionist', 16.931037694286395), ('bloodlin', 16.9289392284024), ('walnut', 16.9289392284024), ('heavier', 16.9289392284024), ('intercours', 16.926843810400204), ('bibi', 16.926843810400204), ('strife', 16.924751431438967), ('vardi', 16.924751431438967), ('cagr', 16.924751431438967), ('lg', 16.924751431438967), ('lava', 16.92266208271624), ('knum', 16.92266208271624), ('kraus', 16.92266208271624), ('vector', 16.92266208271624), ('ancestr', 16.92266208271624), ('autist', 16.920575755467773), ('widget', 16.920575755467773), ('nordic', 16.918492440967285), ('alla', 16.918492440967285), ('awhil', 16.918492440967285), ('poss', 16.918492440967285), ('fridg', 16.918492440967285), ('asi', 16.918492440967285), ('ole', 16.918492440967285), ('shackl', 16.916412130526236), ('thimeros', 16.916412130526236), ('keyword', 16.916412130526236), ('duli', 16.91433481549363), ('usbas', 16.91433481549363), ('yellowston', 16.91433481549363), ('corinthian', 16.912260487255768), ('coastlin', 16.912260487255768), ('dupont', 16.912260487255768), ('javascript', 16.910189137236074), ('depos', 16.910189137236074), ('cleavag', 16.908120756894846), ('hypothes', 16.908120756894846), ('gal', 16.908120756894846), ('inland', 16.908120756894846), ('abdel', 16.90605533772906), ('datethi', 16.90605533772906), ('reunif', 16.90605533772906), ('synthesi', 16.90605533772906), ('alsham', 16.90605533772906), ('diver', 16.90605533772906), ('tb', 16.903992871272166), ('vicki', 16.899876762799938), ('photon', 16.899876762799938), ('prophesi', 16.899876762799938), ('cessat', 16.89782310403196), ('fuell', 16.89782310403196), ('exclaim', 16.89782310403196), ('elk', 16.8957723644672), ('shinzo', 16.89372453581834), ('obfusc', 16.89372453581834), ('vii', 16.89372453581834), ('codex', 16.89372453581834), ('reactiv', 16.891679609833318), ('alt', 16.891679609833318), ('monasteri', 16.891679609833318), ('astana', 16.891679609833318), ('eh', 16.889637578295098), ('adulteri', 16.889637578295098), ('norwich', 16.889637578295098), ('deform', 16.8875984330215), ('fx', 16.8875984330215), ('tsp', 16.8875984330215), ('tempor', 16.885562165864982), ('undesir', 16.885562165864982), ('depreci', 16.885562165864982), ('claw', 16.885562165864982), ('pantri', 16.883528768712452), ('groundwat', 16.883528768712452), ('multipolar', 16.883528768712452), ('gran', 16.883528768712452), ('militaryindustri', 16.881498233485082), ('redund', 16.881498233485082), ('uruguay', 16.881498233485082), ('saa', 16.881498233485082), ('whitewash', 16.8794705521381), ('maim', 16.8794705521381), ('fullblown', 16.8794705521381), ('airmen', 16.8794705521381), ('hen', 16.8794705521381), ('spec', 16.8794705521381), ('pineal', 16.8794705521381), ('latitud', 16.87744571666061), ('temp', 16.87744571666061), ('lionel', 16.87744571666061), ('epicent', 16.87744571666061), ('revisionist', 16.87744571666061), ('shroud', 16.875423719075396), ('faber', 16.875423719075396), ('een', 16.875423719075396), ('jun', 16.873404551438746), ('tess', 16.873404551438746), ('ivanov', 16.873404551438746), ('utd', 16.873404551438746), ('homestead', 16.873404551438746), ('comex', 16.873404551438746), ('coma', 16.87138820584024), ('debas', 16.87138820584024), ('gardasil', 16.869374674402593), ('gerrard', 16.869374674402593), ('hypertens', 16.869374674402593), ('morata', 16.869374674402593), ('exceedingli', 16.867363949281444), ('hotspot', 16.867363949281444), ('devoid', 16.867363949281444), ('khalid', 16.867363949281444), ('humankind', 16.8653560226652), ('sociopath', 16.8653560226652), ('propuls', 16.86335088677482), ('retent', 16.86335088677482), ('21wire', 16.86335088677482), ('upstream', 16.861348533863673), ('proisrael', 16.861348533863673), ('proverbi', 16.859348956217325), ('albania', 16.859348956217325), ('blueberri', 16.859348956217325), ('mer', 16.859348956217325), ('pigment', 16.857352146153378), ('seventi', 16.85535809602129), ('quil', 16.85535809602129), ('omega', 16.85535809602129), ('harbour', 16.85535809602129), ('enumer', 16.8533667982022), ('x22report', 16.8533667982022), ('amal', 16.8533667982022), ('terminolog', 16.851378245108744), ('macro', 16.851378245108744), ('storabl', 16.851378245108744), ('hurley', 16.849392429184903), ('selfdetermin', 16.849392429184903), ('pharaoh', 16.847409342905802), ('abstain', 16.847409342905802), ('appendix', 16.847409342905802), ('anton', 16.847409342905802), ('seced', 16.847409342905802), ('nationst', 16.84542897877756), ('28th', 16.84542897877756), ('orion', 16.84542897877756), ('cern', 16.84542897877756), ('solyndra', 16.843451329337118), ('nexu', 16.84147638715206), ('therein', 16.84147638715206), ('selloff', 16.84147638715206), ('epidemiolog', 16.839504144820456), ('daech', 16.839504144820456), ('bpa', 16.839504144820456), ('baptism', 16.837534594970684), ('idomeni', 16.837534594970684), ('coli', 16.835567730261285), ('mindless', 16.83360354338077), ('cataclysm', 16.83360354338077), ('fourteen', 16.83360354338077), ('inflationari', 16.83360354338077), ('caviti', 16.83360354338077), ('sanaa', 16.831642027047483), ('brimelow', 16.831642027047483), ('ashton', 16.831642027047483), ('fdic', 16.831642027047483), ('nutriti', 16.82968317400943), ('gowdi', 16.82968317400943), ('ypg', 16.82968317400943), ('verita', 16.8277269770441), ('gunscom', 16.825773428958346), ('msg', 16.825773428958346), ('infertil', 16.825773428958346), ('unsuspect', 16.825773428958346), ('pow', 16.823822522588184), ('neverend', 16.823822522588184), ('healer', 16.823822522588184), ('fomc', 16.823822522588184), ('utopia', 16.82187425079866), ('kilogram', 16.819928606483693), ('milki', 16.819928606483693), ('moldova', 16.819928606483693), ('hydrat', 16.8179855825659), ('fortifi', 16.8179855825659), ('encroach', 16.8179855825659), ('tremor', 16.8179855825659), ('babe', 16.8179855825659), ('offlin', 16.8179855825659), ('hm', 16.8179855825659), ('hersh', 16.816045171996464), ('wartorn', 16.81410736775497), ('scarciti', 16.812172162849258), ('lisbon', 16.812172162849258), ('downfal', 16.812172162849258), ('issuanc', 16.81023955031526), ('malfunct', 16.81023955031526), ('burglari', 16.81023955031526), ('grammar', 16.80830952321686), ('goodwil', 16.80830952321686), ('painkil', 16.806382074645747), ('repar', 16.806382074645747), ('lao', 16.804457197721252), ('fullscal', 16.804457197721252), ('freemasonri', 16.804457197721252), ('lennon', 16.804457197721252), ('nuland', 16.804457197721252), ('disprov', 16.802534885590227), ('anthropolog', 16.802534885590227), ('martian', 16.802534885590227), ('sturridg', 16.802534885590227), ('acn', 16.802534885590227), ('regener', 16.80061513142686), ('to', 16.80061513142686), ('kyrgyzstan', 16.80061513142686), ('vip', 16.798697928432567), ('irrevers', 16.798697928432567), ('crucifi', 16.79678326983583), ('diffus', 16.79678326983583), ('mongolia', 16.79678326983583), ('hydrocarbon', 16.794871148892057), ('unsecur', 16.794871148892057), ('coerciv', 16.794871148892057), ('khazar', 16.794871148892057), ('lineag', 16.792961558883423), ('ell', 16.791054493118764), ('trustworthi', 16.791054493118764), ('uzbekistan', 16.791054493118764), ('facet', 16.791054493118764), ('lanza', 16.789149944933406), ('buddhism', 16.789149944933406), ('coloss', 16.78724790768903), ('nacion', 16.785348374773548), ('redress', 16.785348374773548), ('cardiac', 16.785348374773548), ('placebo', 16.785348374773548), ('siria', 16.785348374773548), ('abolit', 16.78345133960095), ('alright', 16.78345133960095), ('ludwig', 16.78345133960095), ('gobierno', 16.78345133960095), ('plethora', 16.78345133960095), ('nazism', 16.781556795611174), ('nuremberg', 16.781556795611174), ('cpi', 16.781556795611174), ('detat', 16.781556795611174), ('don', 16.779664736269964), ('cobra', 16.779664736269964), ('numoz', 16.779664736269964), ('chromosom', 16.77777515506875), ('gass', 16.77777515506875), ('doha', 16.77777515506875), ('senseless', 16.775888045524482), ('forehead', 16.775888045524482), ('kg', 16.775888045524482), ('~num', 16.775888045524482), ('cs', 16.774003401179538), ('luxembourg', 16.774003401179538), ('sucker', 16.774003401179538), ('syrien', 16.774003401179538), ('buckingham', 16.774003401179538), ('ni', 16.77212121560156), ('slain', 16.77212121560156), ('cowardli', 16.77212121560156), ('dialect', 16.77212121560156), ('incompat', 16.77212121560156), ('clot', 16.77212121560156), ('zion', 16.77024148238334), ('careless', 16.76836419514267), ('repatri', 16.76836419514267), ('brightest', 16.76648934752223), ('nap', 16.76648934752223), ('packet', 16.764616933189462), ('ml', 16.764616933189462), ('tal', 16.762746945836415), ('ekaterina', 16.762746945836415), ('burnley', 16.762746945836415), ('deux', 16.76087937917965), ('chlorin', 16.76087937917965), ('compost', 16.76087937917965), ('radiu', 16.759014226960087), ('montenegro', 16.759014226960087), ('aura', 16.759014226960087), ('editorinchief', 16.7571514829429), ('disposit', 16.7571514829429), ('airfield', 16.7571514829429), ('chimney', 16.7571514829429), ('petro', 16.755291140917368), ('predomin', 16.755291140917368), ('reincarn', 16.755291140917368), ('serpent', 16.755291140917368), ('carrington', 16.753433194696786), ('saintgermain', 16.753433194696786), ('alot', 16.753433194696786), ('infest', 16.751577638118306), ('etatsuni', 16.751577638118306), ('ipo', 16.751577638118306), ('ossetia', 16.746025244962517), ('unpublish', 16.744179185797144), ('libel', 16.744179185797144), ('hadi', 16.740494138989288), ('biodivers', 16.740494138989288), ('yr', 16.740494138989288), ('herein', 16.73865513932551), ('psyop', 16.73865513932551), ('membran', 16.73865513932551), ('nel', 16.73865513932551), ('veneer', 16.73681848084589), ('gibraltar', 16.73498415759701), ('toothpast', 16.73498415759701), ('contrail', 16.73498415759701), ('selfreli', 16.73315216364812), ('readership', 16.73315216364812), ('likemind', 16.73315216364812), ('kimoon', 16.73315216364812), ('monet', 16.73132249309104), ('colloid', 16.73132249309104), ('rioter', 16.729495140040033), ('causal', 16.729495140040033), ('intercontinent', 16.725847363024887), ('testosteron', 16.725847363024887), ('wembley', 16.725847363024887), ('invers', 16.725847363024887), ('securit', 16.725847363024887), ('interconnect', 16.72402692740052), ('pursuant', 16.72402692740052), ('majesti', 16.722208785961538), ('ape', 16.722208785961538), ('smoothi', 16.722208785961538), ('homo', 16.72039293293278), ('macedonian', 16.72039293293278), ('abomin', 16.72039293293278), ('trespass', 16.72039293293278), ('piu', 16.71857936256085), ('spiegel', 16.71857936256085), ('newswithviewscom', 16.716768069114025), ('cpm', 16.716768069114025), ('bayer', 16.71495904688215), ('empath', 16.71315229017652), ('yeast', 16.71315229017652), ('muammar', 16.71315229017652), ('nullif', 16.71134779332977), ('orban', 16.71134779332977), ('progovern', 16.709545550695786), ('lastli', 16.707745556649577), ('barter', 16.707745556649577), ('isa', 16.705947805587183), ('peni', 16.705947805587183), ('twentieth', 16.704152291925567), ('nongmo', 16.704152291925567), ('nitrogen', 16.704152291925567), ('insignific', 16.70056795457653), ('compliant', 16.698779119826717), ('valv', 16.698779119826717), ('comm', 16.698779119826717), ('broccoli', 16.69520809067452), ('stefan', 16.691645878887222), ('partit', 16.691645878887222), ('calam', 16.68986806591932), ('brighter', 16.68986806591932), ('coconspir', 16.68986806591932), ('veggi', 16.688092441029468), ('ttip', 16.688092441029468), ('arous', 16.68631899883825), ('no', 16.684547733986058), ('guam', 16.684547733986058), ('blindli', 16.684547733986058), ('unnatur', 16.684547733986058), ('ano', 16.684547733986058), ('oneself', 16.682778641133), ('reus', 16.682778641133), ('swoop', 16.682778641133), ('alarmist', 16.681011714958814), ('turbevil', 16.681011714958814), ('unsurprisingli', 16.67924695016275), ('nofli', 16.67924695016275), ('neanderth', 16.67924695016275), ('levant', 16.67924695016275), ('estrogen', 16.67924695016275), ('qatari', 16.677484341463487), ('barca', 16.67572388359905), ('eeuu', 16.672209399422815), ('bien', 16.670455362682873), ('encyclopedia', 16.670455362682873), ('coptic', 16.670455362682873), ('lithium', 16.670455362682873), ('otro', 16.670455362682873), ('sono', 16.66870345592128), ('sleeper', 16.666953673971317), ('longev', 16.666953673971317), ('cockburn', 16.666953673971317), ('albanian', 16.66520601168505), ('borussia', 16.66520601168505), ('heresi', 16.663460463933223), ('purportedli', 16.66171702560517), ('slovakia', 16.66171702560517), ('filthi', 16.66171702560517), ('antigun', 16.66171702560517), ('clegg', 16.66171702560517), ('contriv', 16.659975691608746), ('finn', 16.659975691608746), ('clarkson', 16.659975691608746), ('aggressor', 16.659975691608746), ('infin', 16.659975691608746), ('primer', 16.65823645687021), ('obliter', 16.65823645687021), ('shtf', 16.65823645687021), ('fallujah', 16.656499316334152), ('slovenia', 16.654764264963404), ('gorbachev', 16.654764264963404), ('diarrhea', 16.651300409659832), ('iu', 16.649571595743083), ('arnum', 16.649571595743083), ('pochettino', 16.649571595743083), ('dominion', 16.644397549405145), ('vor', 16.644397549405145), ('bb', 16.644397549405145), ('spinach', 16.644397549405145), ('ion', 16.644397549405145), ('esa', 16.644397549405145), ('transpir', 16.640958465438374), ('pedophilia', 16.640958465438374), ('roswel', 16.639241992849353), ('prefectur', 16.6375275600381), ('yuri', 16.6375275600381), ('mh17', 16.6375275600381), ('biotechnolog', 16.635815162162416), ('rainfal', 16.635815162162416), ('fin', 16.63239645193495), ('edibl', 16.63239645193495), ('occident', 16.63239645193495), ('hodg', 16.630690129984547), ('shaman', 16.630690129984547), ('ba', 16.628985823772297), ('hyperinfl', 16.627283528541298), ('unesco', 16.625583239551457), ('fishi', 16.625583239551457), ('0px', 16.625583239551457), ('desist', 16.623884952079433), ('annot', 16.623884952079433), ('transnat', 16.622188661418534), ('carb', 16.62049436287866), ('indiscrimin', 16.615423373331236), ('belliger', 16.615423373331236), ('imposit', 16.615423373331236), ('allerg', 16.61037014560495), ('ra', 16.61037014560495), ('chechnya', 16.608689661966032), ('ander', 16.608689661966032), ('civilis', 16.608689661966032), ('selon', 16.607011133515037), ('nd', 16.605334555707653), ('liran', 16.6036599240154), ('pe', 16.60198723392554), ('cylind', 16.60031648094103), ('falsifi', 16.60031648094103), ('reciproc', 16.59864766058041), ('semiautomat', 16.59864766058041), ('cider', 16.59864766058041), ('unaccount', 16.595315799882663), ('ezzor', 16.595315799882663), ('fructos', 16.593652750660016), ('fm', 16.591991616290098), ('antirussian', 16.591991616290098), ('bergdahl', 16.591991616290098), ('kneel', 16.591991616290098), ('secretarygener', 16.590332392368406), ('quid', 16.590332392368406), ('allout', 16.58867507450563), ('trilater', 16.58867507450563), ('sulfur', 16.58867507450563), ('jabhat', 16.58867507450563), ('peerreview', 16.583714513603898), ('esoter', 16.582064776384804), ('liga', 16.582064776384804), ('statin', 16.580416923503325), ('epoch', 16.580416923503325), ('valencia', 16.580416923503325), ('midland', 16.580416923503325), ('siberia', 16.578770950659763), ('darpa', 16.577126853569137), ('romanian', 16.577126853569137), ('debilit', 16.577126853569137), ('foment', 16.577126853569137), ('extinguish', 16.575484627961092), ('wwiii', 16.575484627961092), ('plume', 16.575484627961092), ('wto', 16.573844269579837), ('talmud', 16.573844269579837), ('hord', 16.572205774184084), ('astronomi', 16.570569137546975), ('neighbourhood', 16.570569137546975), ('bnum', 16.570569137546975), ('sergio', 16.56893435545603), ('miliband', 16.56893435545603), ('paralysi', 16.567301423713065), ('saud', 16.567301423713065), ('gullibl', 16.567301423713065), ('onward', 16.567301423713065), ('cologn', 16.567301423713065), ('cyberattack', 16.565670338134137), ('eastend', 16.565670338134137), ('decentr', 16.564041094549477), ('cornwal', 16.56241368880343), ('golan', 16.56078811675439), ('downstream', 16.56078811675439), ('expuls', 16.559164374274726), ('cato', 16.559164374274726), ('frenchman', 16.559164374274726), ('brethren', 16.557542457250737), ('finnish', 16.555922361582574), ('usback', 16.555922361582574), ('president', 16.554304083184192), ('grossli', 16.554304083184192), ('andrei', 16.554304083184192), ('ammolandcom', 16.554304083184192), ('earthli', 16.552687617983274), ('utmost', 16.55107296192118), ('karma', 16.55107296192118), ('crimean', 16.55107296192118), ('airbas', 16.54946011095288), ('reestablish', 16.54946011095288), ('macroeconom', 16.54946011095288), ('adsens', 16.547849061046893), ('microchip', 16.547849061046893), ('medina', 16.547849061046893), ('wherein', 16.547849061046893), ('entangl', 16.546239808185234), ('minion', 16.546239808185234), ('bi', 16.546239808185234), ('expressli', 16.546239808185234), ('commando', 16.54463234836335), ('mateen', 16.54302667759005), ('magistr', 16.54142279188746), ('outward', 16.53982068729096), ('opium', 16.538220359849117), ('gb', 16.53662180562364), ('armour', 16.53502502068931), ('eurasia', 16.53183674305826), ('atlanti', 16.530245242575972), ('jinp', 16.530245242575972), ('deiti', 16.52865549581358), ('ps4', 16.52865549581358), ('unmask', 16.52706749891039), ('akbar', 16.52706749891039), ('squadron', 16.52706749891039), ('malta', 16.52706749891039), ('zlatan', 16.52706749891039), ('saucer', 16.52706749891039), ('antenna', 16.525481248018437), ('mmr', 16.523896739302447), ('rejoic', 16.523896739302447), ('pep', 16.523896739302447), ('blasphemi', 16.522313968939756), ('ozil', 16.520732933120275), ('armageddon', 16.520732933120275), ('fsa', 16.520732933120275), ('fig', 16.520732933120275), ('uno', 16.520732933120275), ('untold', 16.51915362804643), ('aborigin', 16.51915362804643), ('pertin', 16.51757604993309), ('rappoport', 16.516000195007553), ('pawn', 16.50971393216012), ('mayan', 16.50971393216012), ('chechen', 16.508146637013162), ('plo', 16.508146637013162), ('greenpeac', 16.508146637013162), ('mecca', 16.508146637013162), ('nullifi', 16.50658104267516), ('gaia', 16.50658104267516), ('lockhe', 16.505017145458723), ('dprk', 16.505017145458723), ('outag', 16.505017145458723), ('tambien', 16.50345494168844), ('accomplic', 16.50345494168844), ('heret', 16.50345494168844), ('aerosol', 16.501894427700822), ('ratif', 16.50033559984426), ('preston', 16.492566625545702), ('innat', 16.491017838450215), ('microb', 16.491017838450215), ('blacklist', 16.48947071225274), ('oswald', 16.48947071225274), ('fraser', 16.487925243394834), ('deprav', 16.487925243394834), ('admin', 16.486381428329498), ('unido', 16.486381428329498), ('storylin', 16.484839263521092), ('hygien', 16.484839263521092), ('hadith', 16.484839263521092), ('veloc', 16.48329874544531), ('ein', 16.48175987058912), ('ponzi', 16.48175987058912), ('doomsday', 16.480222635450723), ('mega', 16.480222635450723), ('duma', 16.480222635450723), ('avocado', 16.480222635450723), ('lorri', 16.478687036539498), ('cristiano', 16.478687036539498), ('intermedi', 16.47715307037596), ('infrar', 16.475620733491713), ('welsh', 16.475620733491713), ('hoard', 16.475620733491713), ('repost', 16.4740900224294), ('firstli', 16.472560933742656), ('precursor', 16.47103346399606), ('cardiff', 16.47103346399606), ('eur', 16.469507609765103), ('breakout', 16.467983367636112), ('yanukovych', 16.466460734206237), ('estonia', 16.463420279886186), ('fue', 16.461902452243933), ('vicin', 16.458871579194554), ('forfeitur', 16.458871579194554), ('desd', 16.458871579194554), ('mundo', 16.457358527098986), ('proactiveinvestor', 16.455847060181387), ('mag', 16.455847060181387), ('peskov', 16.454337175123747), ('onboard', 16.454337175123747), ('hodgson', 16.454337175123747), ('shariah', 16.451322137368315), ('nausea', 16.449816978086368), ('spaniard', 16.449816978086368), ('adhd', 16.44831338749598), ('sarin', 16.446811362330745), ('derang', 16.446811362330745), ('gulen', 16.446811362330745), ('med', 16.445310899334455), ('collud', 16.445310899334455), ('absorpt', 16.445310899334455), ('alexei', 16.443811995261036), ('germ', 16.442314646874536), ('declassifi', 16.440818850949054), ('pinpoint', 16.440818850949054), ('bournemouth', 16.440818850949054), ('het', 16.440818850949054), ('chi', 16.439324604268723), ('malwar', 16.439324604268723), ('syrienn', 16.439324604268723), ('jeanclaud', 16.437831903627657), ('synchron', 16.436340745829902), ('calib', 16.434851127689416), ('allig', 16.433363046030006), ('willoughbi', 16.433363046030006), ('font', 16.433363046030006), ('raf', 16.433363046030006), ('amidst', 16.430391479498716), ('h1n1', 16.428907988323385), ('ether', 16.427426021022153), ('wikispook', 16.42446664554161), ('ibid', 16.42298923113611), ('heinou', 16.420038933500802), ('marxism', 16.420038933500802), ('interfax', 16.417094656885258), ('dawkin', 16.415624768789804), ('caucasu', 16.414156376763916), ('superfood', 16.412689477765255), ('middleton', 16.409760146726587), ('migrain', 16.409760146726587), ('liam', 16.409760146726587), ('bd', 16.4082977086481), ('disk', 16.4082977086481), ('purifi', 16.4082977086481), ('quarantin', 16.405377272345387), ('horrend', 16.402462735918007), ('cctv', 16.401007672717622), ('dupe', 16.398101941542212), ('byproduct', 16.396651267673487), ('nourish', 16.396651267673487), ('antibodi', 16.396651267673487), ('ramadan', 16.396651267673487), ('cloak', 16.395202051036417), ('oligarchi', 16.392307977767235), ('forwardlook', 16.392307977767235), ('reconnaiss', 16.392307977767235), ('autoimmun', 16.39086311531208), ('diamet', 16.39086311531208), ('antarct', 16.39086311531208), ('fb', 16.38941969844241), ('petrol', 16.387977724268502), ('compulsori', 16.387977724268502), ('gt', 16.386537189909287), ('lib', 16.386537189909287), ('celesti', 16.385098092492317), ('watford', 16.385098092492317), ('sunum', 16.383660429153725), ('heavenli', 16.382224197038205), ('unseen', 16.382224197038205), ('tusk', 16.382224197038205), ('fait', 16.38078939329897), ('abbey', 16.38078939329897), ('benevol', 16.379356015097713), ('pest', 16.379356015097713), ('hiroshima', 16.37649352399814), ('brom', 16.37649352399814), ('sinner', 16.37649352399814), ('icbm', 16.37506440546534), ('selfsuffici', 16.373636701201484), ('ep', 16.373636701201484), ('realtim', 16.373636701201484), ('antiisrael', 16.372210408410186), ('saver', 16.370785524303358), ('sultan', 16.365100019246995), ('constel', 16.3636821370288), ('pkk', 16.3636821370288), ('ibn', 16.362265646938685), ('tsarnaev', 16.362265646938685), ('warmong', 16.36085054624564), ('metaphys', 16.36085054624564), ('vapor', 16.359436832226695), ('aussi', 16.358024502166874), ('nord', 16.358024502166874), ('cinnamon', 16.356613553359168), ('nefari', 16.35379578871169), ('moistur', 16.35379578871169), ('infowarscom', 16.346775361033917), ('disarma', 16.345375365736388), ('launcher', 16.345375365736388), ('orwellian', 16.341183512789563), ('ultra', 16.341183512789563), ('micro', 16.33978893071781), ('sperm', 16.33978893071781), ('snum', 16.33700380429127), ('huma', 16.33700380429127), ('plunder', 16.335613254746615), ('constru', 16.334224044200287), ('daisi', 16.33144962980508), ('iss', 16.33144962980508), ('subjug', 16.330064420825988), ('mutil', 16.330064420825988), ('yugoslavia', 16.32868054058473), ('pokemon', 16.32868054058473), ('freemason', 16.324536846857555), ('neuron', 16.324536846857555), ('rockwel', 16.321780981567045), ('goddess', 16.317657029142318), ('depositor', 16.317657029142318), ('neymar', 16.317657029142318), ('mideast', 16.316284993812193), ('phosphoru', 16.316284993812193), ('lithuania', 16.312176699509948), ('rouhani', 16.310809863746044), ('munit', 16.309444321721813), ('depopul', 16.30808007099047), ('pluto', 16.30808007099047), ('tutori', 16.30671710911216), ('whore', 16.30671710911216), ('reptilian', 16.305355433653936), ('ancestri', 16.303995042189733), ('te', 16.302635932300344), ('hasan', 16.302635932300344), ('clooney', 16.30127810157339), ('unelect', 16.299921547603308), ('imperialist', 16.299921547603308), ('lukaku', 16.298566267991298), ('susanna', 16.29585952228007), ('gea', 16.293157845384005), ('insolv', 16.289114792646725), ('bt', 16.286425705119083), ('rss', 16.286425705119083), ('militarili', 16.285083038627675), ('wag', 16.28374162054787), ('esto', 16.28374162054787), ('auschwitz', 16.28240144856029), ('servicemen', 16.28106252035199), ('tribul', 16.28106252035199), ('kilometr', 16.278388386053667), ('licenc', 16.278388386053667), ('igor', 16.278388386053667), ('adolf', 16.277053175369847), ('diagnost', 16.277053175369847), ('detox', 16.27571919927768), ('bodili', 16.271724655772655), ('probiot', 16.271724655772655), ('dune', 16.270395595300137), ('righteous', 16.267741141854156), ('masonri', 16.26641574438759), ('receptor', 16.26509156344021), ('plutonium', 16.26376859678089), ('implod', 16.25717190014397), ('keynesian', 16.255856172701304), ('platinum', 16.255856172701304), ('bolshevik', 16.251916174692475), ('larme', 16.250605229540128), ('th', 16.24929547453334), ('apologis', 16.24929547453334), ('bacteri', 16.24667952632633), ('wtc', 16.24667952632633), ('pamphlet', 16.245373328825703), ('dehydr', 16.242764476322943), ('scot', 16.24146181705531), ('gluten', 16.240160332942786), ('mb', 16.237560881715403), ('almighti', 16.237560881715403), ('jeremiah', 16.237560881715403), ('interfac', 16.23626291038099), ('aston', 16.233670465764465), ('idlib', 16.229790512621182), ('evidenc', 16.228499510261308), ('beckham', 16.227209662128104), ('dei', 16.22592096615953), ('propagandist', 16.22592096615953), ('vdarecom', 16.22592096615953), ('armenia', 16.22592096615953), ('mm', 16.22463342029907), ('moy', 16.22463342029907), ('usg', 16.22463342029907), ('donbass', 16.222061770703895), ('gamma', 16.222061770703895), ('kgb', 16.22077766288357), ('dogma', 16.22077766288357), ('antiinflammatori', 16.22077766288357), ('lucif', 16.214374212331496), ('supernatur', 16.214374212331496), ('babylon', 16.210545740272615), ('dane', 16.210545740272615), ('truce', 16.209271837283982), ('num30pm', 16.20672740092622), ('catalonia', 16.205456863599814), ('cach', 16.205456863599814), ('guerra', 16.205456863599814), ('longrang', 16.20418744421225), ('selfproclaim', 16.20418744421225), ('amino', 16.20418744421225), ('secess', 16.20418744421225), ('hom', 16.202919140797913), ('militair', 16.201651951396386), ('glean', 16.201651951396386), ('ipcc', 16.200385874052394), ('fatwa', 16.199120906815814), ('psalm', 16.197857047741653), ('flaunt', 16.195332646326108), ('ci', 16.195332646326108), ('nibiru', 16.195332646326108), ('uncontrol', 16.19407210012019), ('ozon', 16.19281265434759), ('ou', 16.191554307088673), ('suarez', 16.190297056428808), ('clamp', 16.189040900458384), ('caffein', 16.186531864972267), ('unexplain', 16.185278981662183), ('atletico', 16.185278981662183), ('uae', 16.185278981662183), ('biometr', 16.179030833997007), ('croatia', 16.17778444511526), ('rusia', 16.17529489308956), ('unman', 16.17529489308956), ('efficaci', 16.17156860163128), ('microscop', 16.17156860163128), ('lb', 16.170328640196214), ('dimension', 16.170328640196214), ('glasgow', 16.169089743562854), ('subconsci', 16.169089743562854), ('adl', 16.16537942422448), ('tass', 16.16414476857284), ('chomski', 16.161678622603283), ('haarp', 16.161678622603283), ('cereal', 16.15921668507599), ('paddock', 16.157987289994445), ('redstat', 16.156758941652136), ('americain', 16.156758941652136), ('ferment', 16.154305378066052), ('cesium', 16.154305378066052), ('psg', 16.153080159274037), ('brzezinski', 16.153080159274037), ('latvia', 16.151855980124733), ('willingli', 16.151855980124733), ('bowel', 16.150632838855294), ('hath', 16.150632838855294), ('ru', 16.150632838855294), ('ramadi', 16.148189662926963), ('orwel', 16.144532639318875), ('soybean', 16.140884862303732), ('seismic', 16.137246285240384), ('thermal', 16.136035462642337), ('atf', 16.13361686183969), ('instig', 16.132409080236386), ('sep', 16.129996546160996), ('fsb', 16.120386551987174), ('jong', 16.119189791204413), ('tripoli', 16.117994022349475), ('propag', 16.115605453855373), ('carbohydr', 16.11441265094254), ('gareth', 16.113220833410168), ('hepat', 16.109651276848815), ('onset', 16.10609053039077), ('ser', 16.10609053039077), ('physiolog', 16.09899529457711), ('guardiola', 16.093109137734317), ('azerbaijan', 16.090761382877893), ('dortmund', 16.090761382877893), ('pravda', 16.087246898701657), ('politica', 16.084908656632457), ('cryptocurr', 16.08374095520012), ('sobr', 16.08374095520012), ('gentil', 16.08140838389023), ('deir', 16.07907957783026), ('expresscouk', 16.076754524884016), ('jd', 16.066337908938678), ('glucos', 16.066337908938678), ('num4', 16.065185136171877), ('mep', 16.065185136171877), ('monaco', 16.058287776225207), ('monger', 16.058287776225207), ('omeganum', 16.054851422776277), ('potassium', 16.054851422776277), ('hebdo', 16.053707788121947), ('recep', 16.052565059316944), ('nintendo', 16.051423234927395), ('ndaa', 16.04459120144497), ('gazprom', 16.04459120144497), ('nou', 16.04232102782014), ('tayyip', 16.04232102782014), ('pero', 16.04232102782014), ('lenin', 16.040054420848197), ('anarchi', 16.037791369339626), ('zinc', 16.037791369339626), ('mai', 16.03666117340177), ('chernobyl', 16.029898528014815), ('wherebi', 16.025407644883796), ('mod', 16.023167434742845), ('idf', 16.02204863279388), ('nusra', 16.01535398021987), ('warplan', 16.014241218852796), ('palmyra', 16.01312931510536), ('iodin', 16.01090807518868), ('saturn', 16.009798736386703), ('swansea', 16.008690249938862), ('ibrahimov', 16.008690249938862), ('nyse', 16.00758261453636), ('hpv', 16.00647582887342), ('infowar', 15.999852886679685), ('herbal', 15.998752012882742), ('sochi', 15.997651978486413), ('catalan', 15.995454422782167), ('eurasian', 15.995454422782167), ('fc', 15.993260209369256), ('roma', 15.98888176885868), ('tyrann', 15.986697521596804), ('splc', 15.986697521596804), ('sont', 15.983427338766573), ('asiapacif', 15.982338922991909), ('mmi', 15.982338922991909), ('leed', 15.981251327734304), ('num221171', 15.981251327734304), ('lawabid', 15.981251327734304), ('annihil', 15.980164551757571), ('vnf', 15.980164551757571), ('contr', 15.980164551757571), ('cfr', 15.977993452715944), ('cett', 15.974742918015524), ('mossad', 15.974742918015524), ('rubl', 15.971499690630445), ('zionism', 15.968263737780186), ('polio', 15.967186697759361), ('mikhail', 15.965035026904314), ('permalink', 15.965035026904314), ('dyke', 15.965035026904314), ('turmer', 15.959669847642193), ('osc', 15.957529350156229), ('molecular', 15.956460291166303), ('yorkshir', 15.944752631600503), ('secondli', 15.944752631600503), ('bearish', 15.944752631600503), ('advert', 15.943692995092425), ('rothbard', 15.943692995092425), ('ammo', 15.942634136299286), ('populac', 15.939462214814407), ('syri', 15.936297251846597), ('thee', 15.936297251846597), ('islamophobia', 15.929988079805112), ('biz', 15.927891138969533), ('~eowyn', 15.924751431438965), ('raptur', 15.924751431438965), ('winger', 15.921618541954002), ('rife', 15.917451910780894), ('isaiah', 15.914334815493627), ('bankster', 15.911224440503243), ('taser', 15.908120756894844), ('leur', 15.906055337729061), ('antidepress', 15.906055337729061), ('plasma', 15.901933349093873), ('wiki', 15.898849567996209), ('antarctica', 15.898849567996209), ('anti', 15.890658232770557), ('bikini', 15.888617645385253), ('astrolog', 15.8875984330215), ('ac', 15.88556216586498), ('tepco', 15.88556216586498), ('wwwnewstargetcomnum', 15.875423719075398), ('und', 15.87441378200868), ('volcan', 15.852372179037753), ('viktor', 15.843451329337118), ('ingest', 15.843451329337118), ('bulgaria', 15.84147638715206), ('stealth', 15.84048992896601), ('bale', 15.838519033794887), ('variant', 15.837534594970684), ('takfiri', 15.82284805781565), ('exponenti', 15.820901100649866), ('swn', 15.820901100649866), ('coutinho', 15.819928606483694), ('mc', 15.819928606483694), ('despot', 15.816045171996466), ('ete', 15.814107367754973), ('weaponri', 15.81023955031526), ('bayern', 15.80734547704608), ('naturalnewscom', 15.802534885590225), ('sunderland', 15.802534885590225), ('edinburgh', 15.801574689188133), ('g20', 15.801574689188133), ('pogba', 15.794871148892055), ('phaser', 15.793916037939669), ('someit', 15.79200771088776), ('poroshenko', 15.779664736269966), ('scanner', 15.77024148238334), ('aux', 15.77024148238334), ('paramet', 15.76555283658971), ('warship', 15.762746945836417), ('minsk', 15.756221012068405), ('anfield', 15.75529114091737), ('ronaldo', 15.748798770406712), ('gland', 15.746025244962517), ('biotech', 15.746025244962517), ('todo', 15.742335485813456), ('goalkeep', 15.737736517810301), ('jesuit', 15.73498415759701), ('kazakhstan', 15.733152163648121), ('pathogen', 15.733152163648121), ('avec', 15.733152163648121), ('rugbi', 15.733152163648121), ('juventu', 15.726758442967316), ('carcinogen', 15.726758442967316), ('macedonia', 15.725847363024887), ('belaru', 15.711347793329772), ('influenza', 15.702359010102517), ('psychopath', 15.699673259948854), ('intestin', 15.696100019630835), ('div', 15.696100019630835), ('airspac', 15.671332114481894), ('thyroid', 15.668703455921278), ('bric', 15.66520601168505), ('rubbish', 15.664332973812183), ('sergey', 15.653897521145872), ('num3', 15.651300409659832), ('transclus', 15.641817468167467), ('usurp', 15.640958465438374), ('aipac', 15.636671107035276), ('alqaida', 15.631543038694513), ('arthriti', 15.628985823772299), ('mg', 15.628134425080791), ('ig', 15.627283528541298), ('jongun', 15.627283528541298), ('repent', 15.625583239551458), ('juncker', 15.625583239551458), ('modul', 15.623884952079433), ('sweeten', 15.623884952079433), ('sodium', 15.621341263425954), ('lunar', 15.617956640076759), ('paranorm', 15.616267301428357), ('geoengin', 15.612894547020497), ('altnew', 15.612894547020497), ('ascens', 15.612894547020497), ('chakra', 15.606172601064292), ('mercenari', 15.602823336551603), ('namespac', 15.601987233925541), ('hegemoni', 15.595315799882663), ('blm', 15.592821944394103), ('microwav', 15.586192662007482), ('emp', 15.579593702344958), ('galact', 15.574664215632536), ('della', 15.56811765855288), ('qe', 15.558353187837337), ('snp', 15.545435854394084), ('measl', 15.54463234836335), ('jupit', 15.54302667759005), ('cardiovascular', 15.54302667759005), ('jurgen', 15.542224511853014), ('hemp', 15.53343000113393), ('antifa', 15.531040773360338), ('sturgeon', 15.52468877612766), ('phenomena', 15.508930071754591), ('indepth', 15.495669196721844), ('offenc', 15.492566625545702), ('riyadh', 15.489470712252738), ('eyewit', 15.486381428329498), ('ussr', 15.481759870589121), ('ne', 15.480222635450723), ('mise', 15.45811485479174), ('herbicid', 15.45509192012704), ('apostl', 15.439324604268723), ('pandem', 15.435595744501242), ('wenn', 15.434851127689415), ('thi', 15.429649543230942), ('westminst', 15.422989231136112), ('xbox', 15.414890385958527), ('duchess', 15.412689477765257), ('alnusra', 15.40610682737529), ('entr', 15.403919268137525), ('tonn', 15.398827825854827), ('afpgetti', 15.39014122635987), ('oxid', 15.388698531198756), ('insulin', 15.381506616799145), ('criticis', 15.377924059604581), ('®️', 15.377208614491535), ('donetsk', 15.376493523998139), ('europa', 15.371497790445147), ('nwo', 15.3615579230879), ('aspartam', 15.355203983104497), ('psychic', 15.352388967497443), ('nonmuslim', 15.348877904579563), ('occult', 15.341183512789563), ('soundcloud', 15.339788930717809), ('fatti', 15.333529940246127), ('estado', 15.33075685906385), ('swine', 15.323158256173688), ('thou', 15.31217669950995), ('messiah', 15.302635932300342), ('bullion', 15.298566267991296), ('atheism', 15.293832790444686), ('planetari', 15.291134902718987), ('num2', 15.27972483361648), ('magnesium', 15.276386033142519), ('metr', 15.275052673490409), ('bullish', 15.234966105762537), ('holist', 15.23237598829683), ('enzym', 15.229144867033817), ('mum', 15.207999058162269), ('num1', 15.207363089432159), ('brainwash', 15.202285406967874), ('calcium', 15.199120906815816), ('comet', 15.19407210012019), ('cair', 15.180902438636865), ('quantit', 15.167233391120297), ('ont', 15.151855980124735), ('tumblr', 15.14941073370734), ('rumour', 15.14941073370734), ('gunner', 15.143924035622488), ('recognis', 15.133012844648164), ('electromagnet', 15.132409080236386), ('extraterrestri', 15.12398280239331), ('cont', 15.121584306344795), ('medvedev', 15.101947403323344), ('bilderberg', 15.097816140411846), ('nigel', 15.08958893662004), ('tlb', 15.088417442409595), ('fa', 15.088417442409595), ('skype', 15.085492861961715), ('prepared', 15.061732334266363), ('br', 15.060583234212869), ('novosti', 15.05714141538548), ('gaal', 15.050852661441258), ('newcastl', 15.047433951213794), ('antichrist', 15.04118727920314), ('geller', 15.036096407279514), ('asteroid', 15.03214922276285), ('esta', 15.027651339023256), ('etf', 15.004264801558065), ('neighbour', 14.987243273462926), ('calai', 14.983427338766573), ('wnd', 14.980164551757571), ('quantum', 14.96181352566051), ('chemtrail', 14.95913442546463), ('prepper', 14.955392023778812), ('sur', 14.930512791591543), ('whilst', 14.920575755467773), ('klopp', 14.906055337729061), ('honour', 14.904508211531581), ('rothschild', 14.903992871272168), ('cabal', 14.88657994018648), ('trafford', 14.884036849380106), ('antioxid', 14.869877793863973), ('metabol', 14.851875126477836), ('dmitri', 14.850384995471655), ('ukip', 14.841969869298444), ('team1', 14.83901150522513), ('team2', 14.83901150522513), ('inflamm', 14.832132156164102), ('ph', 14.82919387604276), ('une', 14.820901100649866), ('farag', 14.807827419606395), ('glyphos', 14.805900614590922), ('leicest', 14.795826892577814), ('sider', 14.795348941590872), ('usd', 14.79200771088776), ('quran', 14.780610455766887), ('behaviour', 14.771651052638012), ('everton', 14.724026927400518), ('qui', 14.712700954323976), ('sysop', 14.700120537906518), ('tottenham', 14.669141233209082), ('investwatchblog', 14.666953673971319), ('ria', 14.662588481409916), ('iwb', 14.647413487575674), ('illuminati', 14.6375275600381), ('mediawiki', 14.634532196278942), ('at', 14.626008123972403), ('toxin', 14.615845275671102), ('lavrov', 14.609949841147241), ('naturalnew', 14.573844269579837), ('matrix', 14.534227290483257), ('telegram', 14.530245242575974), ('xx', 14.528258332689012), ('colour', 14.520732933120275), ('realis', 14.493729307978723), ('propheci', 14.462281759473905), ('ce', 14.459628700723812), ('unto', 14.441940552475735), ('nutrient', 14.438578060893262), ('favourit', 14.436340745829902), ('au', 14.435595744501242), ('wenger', 14.414523334680403), ('itv', 14.180902438636865), ('globalist', 14.105794197835369), ('fluorid', 14.01090807518868), ('mourinho', 13.702135006524568), ('conservapedia', 13.696992500352701), ('republish', 13.669141233209082), ('pravdaru', 13.521720877444912), ('google+', 13.513050098469625), ('daesh', 13.463799986439474), ('sheepl', 13.102982070166135), ('ufo', 13.001092374643665), ('sputnik', 12.713716658622824), ('slideshow', 12.460196802735835), ('blockchain', 11.791292738522806), ('newslett', 5.54276382696937), ('invalid', 5.3225003679391545)]\n",
            "Unique tokens:\n",
            "TOKEN: url - Real: -10.844476006077741, Fake: -9.16439547250187\n",
            "TOKEN: email - Real: -9.772212280818163, Fake: -10.79717197926588\n",
            "TOKEN: num - Real: -5.11286869297373, Fake: -5.231648986283472\n",
            "TOKEN: date - Real: -10.855976498642312, Fake: -10.571489517189605\n"
          ]
        },
        {
          "data": {
            "image/png": "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",
            "text/plain": [
              "<Figure size 640x480 with 1 Axes>"
            ]
          },
          "metadata": {},
          "output_type": "display_data"
        }
      ],
      "source": [
        "#plotting the most common words\n",
        "import math\n",
>>>>>>> main
        "\n",
        "real_pd = pd.Series(dict(real_dist.most_common(1000))).apply(lambda x: math.log2(x/real_total))\n",
        "fake_pd = pd.Series(dict(fake_dist.most_common(1000))).apply(lambda x: math.log2(x/fake_total))\n",
        "real_set = set(real_pd.index)\n",
        "fake_set = set(fake_pd.index)\n",
        "unique_words = real_set.union(fake_set) - real_set.intersection(fake_set)\n",
        "print(f\"Amount of words only present in one set than another: {len(unique_words)}\")\n",
        "\n",
        "large_diff = [(word, float(real_pd.get(word, 0) - fake_pd.get(word, 0))) for word in fake_pd.index if abs(real_pd.get(word, 0) - fake_pd.get(word, 0)) > 5]\n",
        "large_diff.sort(key=lambda x: x[1], reverse=True)\n",
        "print(large_diff)\n",
        "\n",
        "print(\"Unique tokens:\")\n",
        "for token in [\"url\", \"email\", \"num\", \"date\"]:\n",
        "    print(f\"TOKEN: {token} - Real: {real_pd[token]}, Fake: {fake_pd[token]}\")\n",
        "\n",
        "plt.bar(real_pd.keys(), real_pd.values)\n",
        "plt.show()"
      ]
    },
    {
      "cell_type": "markdown",
      "metadata": {
        "id": "BEK4r7cy7doh"
      },
      "source": [
        "## Task 4"
      ]
    },
    {
      "cell_type": "code",
      "execution_count": 14,
      "metadata": {
        "id": "dxlKCVeK7doh",
        "outputId": "689ae9da-ca85-41ac-877b-dd07c1b5d147"
      },
      "outputs": [
        {
          "name": "stdout",
          "output_type": "stream",
          "text": [
            "train size: (578985,)\n",
            "val size: (72374,)\n",
            "test size: (72373,)\n"
          ]
        }
      ],
      "source": [
        "# Splitting into test, train and validation\n",
        "X_train_full, X_valtest_full, y_train, y_valtest = train_test_split(fndf, fndf['type'], test_size=0.2, random_state=42) # Replace with fakenews dataset for real linreg.\n",
        "X_test_full, X_val_full, y_test, y_val = train_test_split(X_valtest_full, y_valtest, test_size=0.5, random_state=42)\n",
        "# x_train = testing_ x, y_train = training_y\n",
        "# (x_test\n",
        "X_train = X_train_full['content']\n",
        "X_test = X_test_full['content']\n",
        "print(\"train size:\", y_train.shape)\n",
        "print(\"val size:\", y_val.shape)\n",
        "print(\"test size:\", y_test.shape)\n"
      ]
    },
    {
      "cell_type": "markdown",
      "metadata": {
        "id": "o1MTfwNy7doh"
      },
      "source": [
        "# Part 2"
      ]
    },
    {
      "cell_type": "markdown",
      "metadata": {},
      "source": [
        "## Task 0, splitting labels into reliable and unreliable."
      ]
    },
    {
      "cell_type": "code",
      "execution_count": null,
      "metadata": {},
      "outputs": [
        {
          "name": "stdout",
          "output_type": "stream",
          "text": [
            "['political' 'fake' 'satire' 'reliable' 'conspiracy' 'unreliable' 'bias'\n",
            " 'rumor' 'unknown' None 'clickbait' 'hate' 'junksci']\n",
            "['political' 'fake' 'satire' 'reliable' 'conspiracy' 'unreliable' 'bias'\n",
            " 'rumor' 'clickbait' 'hate' 'junksci']\n",
            "['1' '0']\n"
          ]
        },
        {
          "data": {
            "text/plain": [
              "90827"
            ]
          },
          "execution_count": 23,
          "metadata": {},
          "output_type": "execute_result"
        }
      ],
      "source": [
        "\n",
        "unique_values = fndf['type'].unique()\n",
        "print(unique_values)\n",
        "#hard to know how to classify nan and unknown, so removed for now\n",
        "# we also remove the a weird type \n",
        "fndf = fndf.dropna(subset=['type'])\n",
        "fndf = fndf.loc[fndf['type']!='unknown']\n",
        "# Need to reset index\n",
        "\n",
        "newunique_values = fndf['type'].unique()\n",
        "print(newunique_values)\n",
        "\n",
        "\n",
        "# groups (reliable) as truenews 1 and (all others) in fakenews 0\n",
        "    #note this is naive and should be reconsidered later\n",
        "\n",
        "# reliable, clickbait and political are all, by their contents, factually correct (albeit possibly politcally motivated)\n",
        "# we deem those to be \"real\" news\n",
        "fndf['type'] = fndf['type'].replace(r'^(reliable|clickbait|political)$', '1', regex=True) \n",
        "fndf['type'] = fndf['type'].replace(r'^(?!1$).+', '0', regex=True)   # Replace everything except '1' with '0'\n",
        "#fndf['type'] = fndf['type'].fillna('0')\n",
        "\n",
        "newunique_values = fndf['type'].unique()\n",
        "print(newunique_values)\n",
        "fndf.shape[0]"
      ]
    },
    {
      "cell_type": "markdown",
      "metadata": {},
      "source": [
        "## Task 1 - Simple linear regression model."
      ]
    },
    {
      "cell_type": "markdown",
      "metadata": {},
      "source": [
        "Get the top 10000 words, and how often they occur in each article"
      ]
    },
    {
      "cell_type": "code",
      "execution_count": 15,
      "metadata": {},
      "outputs": [
        {
          "name": "stdout",
          "output_type": "stream",
          "text": [
            "Finding vocabulary:\n",
            "vectorizing X_train\n",
            "vectorizing X_test\n",
            "<Compressed Sparse Row sparse matrix of dtype 'int64'\n",
            "\twith 93372492 stored elements and shape (578985, 10000)>\n",
            "  Coords\tValues\n",
            "  (0, 0)\t2\n",
            "  (0, 1)\t1\n",
            "  (0, 2)\t1\n",
            "  (0, 4)\t1\n",
            "  (0, 5)\t2\n",
            "  (0, 7)\t1\n",
            "  (0, 11)\t2\n",
            "  (0, 12)\t1\n",
            "  (0, 14)\t1\n",
            "  (0, 19)\t1\n",
            "  (0, 25)\t1\n",
            "  (0, 28)\t2\n",
            "  (0, 31)\t1\n",
            "  (0, 32)\t1\n",
            "  (0, 33)\t1\n",
            "  (0, 34)\t1\n",
            "  (0, 35)\t1\n",
            "  (0, 40)\t1\n",
            "  (0, 41)\t1\n",
            "  (0, 53)\t1\n",
            "  (0, 59)\t1\n",
            "  (0, 63)\t1\n",
            "  (0, 64)\t3\n",
            "  (0, 65)\t1\n",
            "  (0, 69)\t3\n",
            "  :\t:\n",
            "  (578984, 2317)\t1\n",
            "  (578984, 2478)\t1\n",
            "  (578984, 2506)\t1\n",
            "  (578984, 2550)\t2\n",
            "  (578984, 2657)\t1\n",
            "  (578984, 2739)\t1\n",
            "  (578984, 2955)\t1\n",
            "  (578984, 2998)\t1\n",
            "  (578984, 3374)\t1\n",
            "  (578984, 3378)\t1\n",
            "  (578984, 3462)\t1\n",
            "  (578984, 3618)\t3\n",
            "  (578984, 3814)\t1\n",
            "  (578984, 3935)\t1\n",
            "  (578984, 4692)\t1\n",
            "  (578984, 4905)\t1\n",
            "  (578984, 5304)\t1\n",
            "  (578984, 5881)\t1\n",
            "  (578984, 5898)\t1\n",
            "  (578984, 6073)\t1\n",
            "  (578984, 6745)\t1\n",
            "  (578984, 6901)\t1\n",
            "  (578984, 7049)\t1\n",
            "  (578984, 7155)\t1\n",
            "  (578984, 8636)\t1\n"
          ]
        }
      ],
      "source": [
        "#Standarize fndf?\n",
        "\n",
        "# get top 10000 words for vocab in training data to avoid leaking data from test set\n",
        "print(\"Finding vocabulary:\")\n",
        "vocab = X_train.explode().value_counts()[:10000].keys()\n",
        "#training_split_freq = FreqDist(X_train.explode())\n",
        "#vocab = [x for (x, y) in training_split_freq.most_common(10000)]\n",
        "#print(pd.Series(nsdf[\"content\"][0]).value_counts())\n",
        "#print(pd.Series(fndf[\"content\"][0]).value_counts()[top.keys()[0]])\n",
        "\n",
        "def CountFreq(words, vocab):\n",
        "    # words: Series[str]\n",
        "    # vocab: list[str] of words to count\n",
        "    words = pd.Series(words)\n",
        "    new_row = pd.Series(np.zeros(len(vocab)))\n",
        "    n = len(vocab)\n",
        "    words_in_article = pd.Series(words).value_counts()\n",
        "    return vocab.apply(lambda x: words_in_article.get(x, 0))\n",
        "\n",
        "#rowsFreq = X_train.parallel_apply(lambda row: CountFreq(row, pd.Series(top.keys())))\n",
        "# her bruger vi forskellige vocabularies - vi skal finde vocab for træning og apply den til test_rowsFreq\n",
        "vectorizer = CountVectorizer(analyzer=lambda x: x, vocabulary=vocab)\n",
        "print(\"vectorizing X_train\")\n",
        "rowsFreq = vectorizer.fit_transform(X_train)\n",
        "print(\"vectorizing X_test\")\n",
        "test_rowsFreq = vectorizer.fit_transform(X_test)\n",
        "print(rowsFreq)\n"
      ]
    },
    {
      "cell_type": "code",
      "execution_count": null,
      "metadata": {},
      "outputs": [],
      "source": [
        "#store data\n",
        "\n",
        "joblib.dump((rowsFreq, test_rowsFreq), dataPath + \"rowsFreq.pkl\")\n",
        "joblib.dump((y_train, y_test, y_val), dataPath + \"y.pkl\")\n",
        "#joblib.dump((x_undersampled, y_undersampled), dataPath + \"undersampled.pkl\")\n",
        "joblib.dump((X_train_full, X_test_full, X_val_full), dataPath + \"X_full.pkl\")"
      ]
    },
    {
      "cell_type": "markdown",
      "metadata": {},
      "source": [
        "Creating the linear regression"
      ]
    },
    {
      "cell_type": "code",
      "execution_count": 17,
      "metadata": {},
      "outputs": [
        {
          "name": "stdout",
          "output_type": "stream",
          "text": [
            "Starting model training:\n",
            "fitting standard model\n",
            "fitting weighted model\n",
            "fitting undersampled model\n",
            "Standard : Weighted : Undersampled\n",
            "F1 Score: 0.8550 : 0.8527 : 0.8526\n",
            "Hyperparameters: max_iter=1000, solver='liblinear', binary bag-of-words\n"
          ]
        }
      ],
      "source": [
        "#scaler = StandardScaler(with_mean=False)\n",
        "scaler = Normalizer()\n",
        "undersampler = RandomUnderSampler(random_state=42)\n",
        "#y_train = y_train.replace(r'^(reliable|clickbait|political)$', '1', regex=True) \n",
        "#y_test = y_test.replace(r'^(reliable|clickbait|political)$', '1', regex=True) \n",
        "#y_train = y_train.replace(r'^(?!1$).+', '0', regex=True)   # Replace everything except '1' with '0'\n",
        "#y_test = y_test.replace(r'^(?!1$).+', '0', regex=True)   # Replace everything except '1' with '0'\n",
        "\n",
        "#y_train = y_train.astype(int)\n",
        "#y_test = y_test.astype(int)\n",
        "\n",
        "X_train_scale = scaler.fit_transform(rowsFreq)\n",
        "X_test_scale = scaler.transform(test_rowsFreq)\n",
        "x_undersampled, y_undersampled = undersampler.fit_resample(X_train_scale, y_train)\n",
        "print(\"Starting model training:\")\n",
        "linReg = LogisticRegression(max_iter=1000, penalty=\"l1\", solver='liblinear', random_state=42)#, class_weight=\"balanced\")\n",
        "linReg_weighed = LogisticRegression(max_iter=1000, penalty=\"l1\", solver='liblinear', random_state=42, class_weight=\"balanced\")\n",
        "linReg_undersampled = LogisticRegression(max_iter=1000, penalty=\"l1\", solver='liblinear', random_state=42)\n",
        "print(\"fitting standard model\")\n",
        "linReg.fit(X_train_scale, y_train)\n",
        "print(\"fitting weighted model\")\n",
        "linReg_weighed.fit(X_train_scale, y_train)\n",
        "print(\"fitting undersampled model\")\n",
        "linReg_undersampled.fit(x_undersampled, y_undersampled)\n",
        "\n",
        "y_pred = linReg.predict(X_test_scale)\n",
        "y_pred_weighted = linReg_weighed.predict(X_test_scale)\n",
        "y_pred_undersampled = linReg_undersampled.predict(X_test_scale)\n",
        "f1 = f1_score(y_test, y_pred)\n",
        "f1_weighted = f1_score(y_test, y_pred_weighted)\n",
        "f1_undersampled = f1_score(y_test, y_pred_undersampled)\n",
        "# Print results\n",
        "print(\"Standard : Weighted : Undersampled\")\n",
        "print(f\"F1 Score: {f1:.4f} : {f1_weighted:.4f} : {f1_undersampled:.4f}\")\n",
        "print(f\"Hyperparameters: max_iter=1000, solver='liblinear', binary bag-of-words\")\n"
      ]
    },
    {
      "cell_type": "code",
      "execution_count": null,
      "metadata": {},
      "outputs": [
        {
          "data": {
            "text/plain": [
              "['../data/linReg.pkl']"
            ]
          },
          "execution_count": 18,
          "metadata": {},
          "output_type": "execute_result"
        }
      ],
      "source": [
        "# Save model\n",
        "joblib.dump((linReg, linReg_weighed, linReg_undersampled), dataPath + \"linReg.pkl\")"
      ]
    },
    {
      "cell_type": "code",
      "execution_count": 5,
      "metadata": {},
      "outputs": [],
      "source": [
        "# Reload data \n",
        "(linReg, linReg_weighed, linReg_undersampled) = joblib.load(dataPath + \"linReg.pkl\")\n",
        "(rowsFreq, test_rowsFreq) = joblib.load(dataPath + \"rowsFreq.pkl\")\n",
        "(y_train, y_test, y_val) = joblib.load(dataPath + \"y.pkl\")\n",
        "#(x_undersampled, y_undersampled) = joblib.load(dataPath + \"undersampled.pkl\")\n",
        "\n",
        "scaler = Normalizer()\n",
        "X_train_scale = scaler.fit_transform(rowsFreq)\n",
        "X_test_scale = scaler.transform(test_rowsFreq)\n",
        "\n",
        "y_pred = linReg.predict(X_test_scale)\n",
        "y_train_pred = linReg.predict(X_train_scale)"
      ]
    },
    {
      "cell_type": "code",
      "execution_count": null,
      "metadata": {},
      "outputs": [
        {
          "name": "stdout",
          "output_type": "stream",
          "text": [
            "F1 Score: Train: 0.8632, Test: 0.8550\n",
            "Accuracy: 0.8484\n"
          ]
        },
        {
          "data": {
            "image/png": "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",
            "text/plain": [
              "<Figure size 640x480 with 2 Axes>"
            ]
          },
          "metadata": {},
          "output_type": "display_data"
        }
      ],
      "source": [
        "#Visualize\n",
        "print(f\"F1 Score: Train: {f1_score(y_train, y_train_pred):.4f}, Test: {f1_score(y_test, y_pred):.4f}\")\n",
        "print(f\"Accuracy (test): {accuracy_score(y_test, y_pred):.4f}\")\n",
        "\n",
        "cm = confusion_matrix(y_test, y_pred, normalize='true')\n",
        "disp = ConfusionMatrixDisplay(confusion_matrix=cm, display_labels=linReg.classes_)\n",
        "disp.plot()\n",
        "plt.show()"
      ]
    },
    {
      "cell_type": "markdown",
      "metadata": {},
      "source": []
    }
  ],
  "metadata": {
    "colab": {
      "provenance": []
    },
    "kernelspec": {
      "display_name": "base",
      "language": "python",
      "name": "python3"
    },
    "language_info": {
      "codemirror_mode": {
        "name": "ipython",
        "version": 3
      },
      "file_extension": ".py",
      "mimetype": "text/x-python",
      "name": "python",
      "nbconvert_exporter": "python",
      "pygments_lexer": "ipython3",
      "version": "3.12.8"
    },
    "widgets": {
      "application/vnd.jupyter.widget-state+json": {
        "13df6b96a88944e98d65e813eeb54bd4": {
          "model_module": "@jupyter-widgets/controls",
          "model_module_version": "1.5.0",
          "model_name": "HBoxModel",
          "state": {
            "_dom_classes": [],
            "_model_module": "@jupyter-widgets/controls",
            "_model_module_version": "1.5.0",
            "_model_name": "HBoxModel",
            "_view_count": null,
            "_view_module": "@jupyter-widgets/controls",
            "_view_module_version": "1.5.0",
            "_view_name": "HBoxView",
            "box_style": "",
            "children": [
              "IPY_MODEL_2814e4c7aa32487e93e3ccd90b6e5f0c",
              "IPY_MODEL_3cc027a216d2481ab36faca98212f3c5"
            ],
            "layout": "IPY_MODEL_4ae5f28587fe4d01ad03446e234a631d"
          }
        },
        "1fdcaf3f9a5245eea4a903b928eee5b8": {
          "model_module": "@jupyter-widgets/controls",
          "model_module_version": "1.5.0",
          "model_name": "HBoxModel",
          "state": {
            "_dom_classes": [],
            "_model_module": "@jupyter-widgets/controls",
            "_model_module_version": "1.5.0",
            "_model_name": "HBoxModel",
            "_view_count": null,
            "_view_module": "@jupyter-widgets/controls",
            "_view_module_version": "1.5.0",
            "_view_name": "HBoxView",
            "box_style": "",
            "children": [
              "IPY_MODEL_b58df1204e824dbd9f72cdb606b2605f",
              "IPY_MODEL_b1c6087d3824401aa91057fe441302fe"
            ],
            "layout": "IPY_MODEL_830cda2af3cb49ecbfe45ca7f2e04a24"
          }
        },
        "23088918d37a416a8506b3fd4c7231f9": {
          "model_module": "@jupyter-widgets/controls",
          "model_module_version": "1.5.0",
          "model_name": "ProgressStyleModel",
          "state": {
            "_model_module": "@jupyter-widgets/controls",
            "_model_module_version": "1.5.0",
            "_model_name": "ProgressStyleModel",
            "_view_count": null,
            "_view_module": "@jupyter-widgets/base",
            "_view_module_version": "1.2.0",
            "_view_name": "StyleView",
            "bar_color": null,
            "description_width": ""
          }
        },
        "24f8c63d4dc3428fbcd67efc20c076f2": {
          "model_module": "@jupyter-widgets/base",
          "model_module_version": "1.2.0",
          "model_name": "LayoutModel",
          "state": {
            "_model_module": "@jupyter-widgets/base",
            "_model_module_version": "1.2.0",
            "_model_name": "LayoutModel",
            "_view_count": null,
            "_view_module": "@jupyter-widgets/base",
            "_view_module_version": "1.2.0",
            "_view_name": "LayoutView",
            "align_content": null,
            "align_items": null,
            "align_self": null,
            "border": null,
            "bottom": null,
            "display": null,
            "flex": null,
            "flex_flow": null,
            "grid_area": null,
            "grid_auto_columns": null,
            "grid_auto_flow": null,
            "grid_auto_rows": null,
            "grid_column": null,
            "grid_gap": null,
            "grid_row": null,
            "grid_template_areas": null,
            "grid_template_columns": null,
            "grid_template_rows": null,
            "height": null,
            "justify_content": null,
            "justify_items": null,
            "left": null,
            "margin": null,
            "max_height": null,
            "max_width": null,
            "min_height": null,
            "min_width": null,
            "object_fit": null,
            "object_position": null,
            "order": null,
            "overflow": null,
            "overflow_x": null,
            "overflow_y": null,
            "padding": null,
            "right": null,
            "top": null,
            "visibility": null,
            "width": null
          }
        },
        "2814e4c7aa32487e93e3ccd90b6e5f0c": {
          "model_module": "@jupyter-widgets/controls",
          "model_module_version": "1.5.0",
          "model_name": "IntProgressModel",
          "state": {
            "_dom_classes": [],
            "_model_module": "@jupyter-widgets/controls",
            "_model_module_version": "1.5.0",
            "_model_name": "IntProgressModel",
            "_view_count": null,
            "_view_module": "@jupyter-widgets/controls",
            "_view_module_version": "1.5.0",
            "_view_name": "ProgressView",
            "bar_style": "success",
            "description": "100.00%",
            "description_tooltip": null,
            "layout": "IPY_MODEL_e28976f80c1548f2af7836d8e8491c87",
            "max": 232,
            "min": 0,
            "orientation": "horizontal",
            "style": "IPY_MODEL_23088918d37a416a8506b3fd4c7231f9",
            "value": 232
          }
        },
        "3cc027a216d2481ab36faca98212f3c5": {
          "model_module": "@jupyter-widgets/controls",
          "model_module_version": "1.5.0",
          "model_name": "LabelModel",
          "state": {
            "_dom_classes": [],
            "_model_module": "@jupyter-widgets/controls",
            "_model_module_version": "1.5.0",
            "_model_name": "LabelModel",
            "_view_count": null,
            "_view_module": "@jupyter-widgets/controls",
            "_view_module_version": "1.5.0",
            "_view_name": "LabelView",
            "description": "",
            "description_tooltip": null,
            "layout": "IPY_MODEL_24f8c63d4dc3428fbcd67efc20c076f2",
            "placeholder": "​",
            "style": "IPY_MODEL_6cfbf875045943ad8b40671a67e0e29e",
            "value": "232 / 232"
          }
        },
        "4ae5f28587fe4d01ad03446e234a631d": {
          "model_module": "@jupyter-widgets/base",
          "model_module_version": "1.2.0",
          "model_name": "LayoutModel",
          "state": {
            "_model_module": "@jupyter-widgets/base",
            "_model_module_version": "1.2.0",
            "_model_name": "LayoutModel",
            "_view_count": null,
            "_view_module": "@jupyter-widgets/base",
            "_view_module_version": "1.2.0",
            "_view_name": "LayoutView",
            "align_content": null,
            "align_items": null,
            "align_self": null,
            "border": null,
            "bottom": null,
            "display": null,
            "flex": null,
            "flex_flow": null,
            "grid_area": null,
            "grid_auto_columns": null,
            "grid_auto_flow": null,
            "grid_auto_rows": null,
            "grid_column": null,
            "grid_gap": null,
            "grid_row": null,
            "grid_template_areas": null,
            "grid_template_columns": null,
            "grid_template_rows": null,
            "height": null,
            "justify_content": null,
            "justify_items": null,
            "left": null,
            "margin": null,
            "max_height": null,
            "max_width": null,
            "min_height": null,
            "min_width": null,
            "object_fit": null,
            "object_position": null,
            "order": null,
            "overflow": null,
            "overflow_x": null,
            "overflow_y": null,
            "padding": null,
            "right": null,
            "top": null,
            "visibility": null,
            "width": null
          }
        },
        "6cfbf875045943ad8b40671a67e0e29e": {
          "model_module": "@jupyter-widgets/controls",
          "model_module_version": "1.5.0",
          "model_name": "DescriptionStyleModel",
          "state": {
            "_model_module": "@jupyter-widgets/controls",
            "_model_module_version": "1.5.0",
            "_model_name": "DescriptionStyleModel",
            "_view_count": null,
            "_view_module": "@jupyter-widgets/base",
            "_view_module_version": "1.2.0",
            "_view_name": "StyleView",
            "description_width": ""
          }
        },
        "6e08915023cb458abda3abdce421467e": {
          "model_module": "@jupyter-widgets/base",
          "model_module_version": "1.2.0",
          "model_name": "LayoutModel",
          "state": {
            "_model_module": "@jupyter-widgets/base",
            "_model_module_version": "1.2.0",
            "_model_name": "LayoutModel",
            "_view_count": null,
            "_view_module": "@jupyter-widgets/base",
            "_view_module_version": "1.2.0",
            "_view_name": "LayoutView",
            "align_content": null,
            "align_items": null,
            "align_self": null,
            "border": null,
            "bottom": null,
            "display": null,
            "flex": null,
            "flex_flow": null,
            "grid_area": null,
            "grid_auto_columns": null,
            "grid_auto_flow": null,
            "grid_auto_rows": null,
            "grid_column": null,
            "grid_gap": null,
            "grid_row": null,
            "grid_template_areas": null,
            "grid_template_columns": null,
            "grid_template_rows": null,
            "height": null,
            "justify_content": null,
            "justify_items": null,
            "left": null,
            "margin": null,
            "max_height": null,
            "max_width": null,
            "min_height": null,
            "min_width": null,
            "object_fit": null,
            "object_position": null,
            "order": null,
            "overflow": null,
            "overflow_x": null,
            "overflow_y": null,
            "padding": null,
            "right": null,
            "top": null,
            "visibility": null,
            "width": null
          }
        },
        "7258d6e2da3a41ad9b4830b0192cb037": {
          "model_module": "@jupyter-widgets/controls",
          "model_module_version": "1.5.0",
          "model_name": "ProgressStyleModel",
          "state": {
            "_model_module": "@jupyter-widgets/controls",
            "_model_module_version": "1.5.0",
            "_model_name": "ProgressStyleModel",
            "_view_count": null,
            "_view_module": "@jupyter-widgets/base",
            "_view_module_version": "1.2.0",
            "_view_name": "StyleView",
            "bar_color": null,
            "description_width": ""
          }
        },
        "830cda2af3cb49ecbfe45ca7f2e04a24": {
          "model_module": "@jupyter-widgets/base",
          "model_module_version": "1.2.0",
          "model_name": "LayoutModel",
          "state": {
            "_model_module": "@jupyter-widgets/base",
            "_model_module_version": "1.2.0",
            "_model_name": "LayoutModel",
            "_view_count": null,
            "_view_module": "@jupyter-widgets/base",
            "_view_module_version": "1.2.0",
            "_view_name": "LayoutView",
            "align_content": null,
            "align_items": null,
            "align_self": null,
            "border": null,
            "bottom": null,
            "display": null,
            "flex": null,
            "flex_flow": null,
            "grid_area": null,
            "grid_auto_columns": null,
            "grid_auto_flow": null,
            "grid_auto_rows": null,
            "grid_column": null,
            "grid_gap": null,
            "grid_row": null,
            "grid_template_areas": null,
            "grid_template_columns": null,
            "grid_template_rows": null,
            "height": null,
            "justify_content": null,
            "justify_items": null,
            "left": null,
            "margin": null,
            "max_height": null,
            "max_width": null,
            "min_height": null,
            "min_width": null,
            "object_fit": null,
            "object_position": null,
            "order": null,
            "overflow": null,
            "overflow_x": null,
            "overflow_y": null,
            "padding": null,
            "right": null,
            "top": null,
            "visibility": null,
            "width": null
          }
        },
        "9fd9741bc796445dacef77f07614167e": {
          "model_module": "@jupyter-widgets/controls",
          "model_module_version": "1.5.0",
          "model_name": "VBoxModel",
          "state": {
            "_dom_classes": [],
            "_model_module": "@jupyter-widgets/controls",
            "_model_module_version": "1.5.0",
            "_model_name": "VBoxModel",
            "_view_count": null,
            "_view_module": "@jupyter-widgets/controls",
            "_view_module_version": "1.5.0",
            "_view_name": "VBoxView",
            "box_style": "",
            "children": [
              "IPY_MODEL_1fdcaf3f9a5245eea4a903b928eee5b8"
            ],
            "layout": "IPY_MODEL_e347b4d8b9fb4c72929f6a646167747c"
          }
        },
        "a24a494c9ffb43e1bfe493d1162c4e3d": {
          "model_module": "@jupyter-widgets/controls",
          "model_module_version": "1.5.0",
          "model_name": "DescriptionStyleModel",
          "state": {
            "_model_module": "@jupyter-widgets/controls",
            "_model_module_version": "1.5.0",
            "_model_name": "DescriptionStyleModel",
            "_view_count": null,
            "_view_module": "@jupyter-widgets/base",
            "_view_module_version": "1.2.0",
            "_view_name": "StyleView",
            "description_width": ""
          }
        },
        "b1c6087d3824401aa91057fe441302fe": {
          "model_module": "@jupyter-widgets/controls",
          "model_module_version": "1.5.0",
          "model_name": "LabelModel",
          "state": {
            "_dom_classes": [],
            "_model_module": "@jupyter-widgets/controls",
            "_model_module_version": "1.5.0",
            "_model_name": "LabelModel",
            "_view_count": null,
            "_view_module": "@jupyter-widgets/controls",
            "_view_module_version": "1.5.0",
            "_view_name": "LabelView",
            "description": "",
            "description_tooltip": null,
            "layout": "IPY_MODEL_d9249597abf942b5af7a16e2ebefa329",
            "placeholder": "​",
            "style": "IPY_MODEL_a24a494c9ffb43e1bfe493d1162c4e3d",
            "value": "0 / 812913"
          }
        },
        "b58df1204e824dbd9f72cdb606b2605f": {
          "model_module": "@jupyter-widgets/controls",
          "model_module_version": "1.5.0",
          "model_name": "IntProgressModel",
          "state": {
            "_dom_classes": [],
            "_model_module": "@jupyter-widgets/controls",
            "_model_module_version": "1.5.0",
            "_model_name": "IntProgressModel",
            "_view_count": null,
            "_view_module": "@jupyter-widgets/controls",
            "_view_module_version": "1.5.0",
            "_view_name": "ProgressView",
            "bar_style": "",
            "description": "0.00%",
            "description_tooltip": null,
            "layout": "IPY_MODEL_6e08915023cb458abda3abdce421467e",
            "max": 812913,
            "min": 0,
            "orientation": "horizontal",
            "style": "IPY_MODEL_7258d6e2da3a41ad9b4830b0192cb037",
            "value": 0
          }
        },
        "bf68c788a3d9437383fdf54f8f75f050": {
          "model_module": "@jupyter-widgets/controls",
          "model_module_version": "1.5.0",
          "model_name": "VBoxModel",
          "state": {
            "_dom_classes": [],
            "_model_module": "@jupyter-widgets/controls",
            "_model_module_version": "1.5.0",
            "_model_name": "VBoxModel",
            "_view_count": null,
            "_view_module": "@jupyter-widgets/controls",
            "_view_module_version": "1.5.0",
            "_view_name": "VBoxView",
            "box_style": "",
            "children": [
              "IPY_MODEL_13df6b96a88944e98d65e813eeb54bd4"
            ],
            "layout": "IPY_MODEL_dc1dd2e88478465e8ebc8082b1aa84aa"
          }
        },
        "d9249597abf942b5af7a16e2ebefa329": {
          "model_module": "@jupyter-widgets/base",
          "model_module_version": "1.2.0",
          "model_name": "LayoutModel",
          "state": {
            "_model_module": "@jupyter-widgets/base",
            "_model_module_version": "1.2.0",
            "_model_name": "LayoutModel",
            "_view_count": null,
            "_view_module": "@jupyter-widgets/base",
            "_view_module_version": "1.2.0",
            "_view_name": "LayoutView",
            "align_content": null,
            "align_items": null,
            "align_self": null,
            "border": null,
            "bottom": null,
            "display": null,
            "flex": null,
            "flex_flow": null,
            "grid_area": null,
            "grid_auto_columns": null,
            "grid_auto_flow": null,
            "grid_auto_rows": null,
            "grid_column": null,
            "grid_gap": null,
            "grid_row": null,
            "grid_template_areas": null,
            "grid_template_columns": null,
            "grid_template_rows": null,
            "height": null,
            "justify_content": null,
            "justify_items": null,
            "left": null,
            "margin": null,
            "max_height": null,
            "max_width": null,
            "min_height": null,
            "min_width": null,
            "object_fit": null,
            "object_position": null,
            "order": null,
            "overflow": null,
            "overflow_x": null,
            "overflow_y": null,
            "padding": null,
            "right": null,
            "top": null,
            "visibility": null,
            "width": null
          }
        },
        "dc1dd2e88478465e8ebc8082b1aa84aa": {
          "model_module": "@jupyter-widgets/base",
          "model_module_version": "1.2.0",
          "model_name": "LayoutModel",
          "state": {
            "_model_module": "@jupyter-widgets/base",
            "_model_module_version": "1.2.0",
            "_model_name": "LayoutModel",
            "_view_count": null,
            "_view_module": "@jupyter-widgets/base",
            "_view_module_version": "1.2.0",
            "_view_name": "LayoutView",
            "align_content": null,
            "align_items": null,
            "align_self": null,
            "border": null,
            "bottom": null,
            "display": null,
            "flex": null,
            "flex_flow": null,
            "grid_area": null,
            "grid_auto_columns": null,
            "grid_auto_flow": null,
            "grid_auto_rows": null,
            "grid_column": null,
            "grid_gap": null,
            "grid_row": null,
            "grid_template_areas": null,
            "grid_template_columns": null,
            "grid_template_rows": null,
            "height": null,
            "justify_content": null,
            "justify_items": null,
            "left": null,
            "margin": null,
            "max_height": null,
            "max_width": null,
            "min_height": null,
            "min_width": null,
            "object_fit": null,
            "object_position": null,
            "order": null,
            "overflow": null,
            "overflow_x": null,
            "overflow_y": null,
            "padding": null,
            "right": null,
            "top": null,
            "visibility": null,
            "width": null
          }
        },
        "e28976f80c1548f2af7836d8e8491c87": {
          "model_module": "@jupyter-widgets/base",
          "model_module_version": "1.2.0",
          "model_name": "LayoutModel",
          "state": {
            "_model_module": "@jupyter-widgets/base",
            "_model_module_version": "1.2.0",
            "_model_name": "LayoutModel",
            "_view_count": null,
            "_view_module": "@jupyter-widgets/base",
            "_view_module_version": "1.2.0",
            "_view_name": "LayoutView",
            "align_content": null,
            "align_items": null,
            "align_self": null,
            "border": null,
            "bottom": null,
            "display": null,
            "flex": null,
            "flex_flow": null,
            "grid_area": null,
            "grid_auto_columns": null,
            "grid_auto_flow": null,
            "grid_auto_rows": null,
            "grid_column": null,
            "grid_gap": null,
            "grid_row": null,
            "grid_template_areas": null,
            "grid_template_columns": null,
            "grid_template_rows": null,
            "height": null,
            "justify_content": null,
            "justify_items": null,
            "left": null,
            "margin": null,
            "max_height": null,
            "max_width": null,
            "min_height": null,
            "min_width": null,
            "object_fit": null,
            "object_position": null,
            "order": null,
            "overflow": null,
            "overflow_x": null,
            "overflow_y": null,
            "padding": null,
            "right": null,
            "top": null,
            "visibility": null,
            "width": null
          }
        },
        "e347b4d8b9fb4c72929f6a646167747c": {
          "model_module": "@jupyter-widgets/base",
          "model_module_version": "1.2.0",
          "model_name": "LayoutModel",
          "state": {
            "_model_module": "@jupyter-widgets/base",
            "_model_module_version": "1.2.0",
            "_model_name": "LayoutModel",
            "_view_count": null,
            "_view_module": "@jupyter-widgets/base",
            "_view_module_version": "1.2.0",
            "_view_name": "LayoutView",
            "align_content": null,
            "align_items": null,
            "align_self": null,
            "border": null,
            "bottom": null,
            "display": null,
            "flex": null,
            "flex_flow": null,
            "grid_area": null,
            "grid_auto_columns": null,
            "grid_auto_flow": null,
            "grid_auto_rows": null,
            "grid_column": null,
            "grid_gap": null,
            "grid_row": null,
            "grid_template_areas": null,
            "grid_template_columns": null,
            "grid_template_rows": null,
            "height": null,
            "justify_content": null,
            "justify_items": null,
            "left": null,
            "margin": null,
            "max_height": null,
            "max_width": null,
            "min_height": null,
            "min_width": null,
            "object_fit": null,
            "object_position": null,
            "order": null,
            "overflow": null,
            "overflow_x": null,
            "overflow_y": null,
            "padding": null,
            "right": null,
            "top": null,
            "visibility": null,
            "width": null
          }
        }
      }
    }
  },
  "nbformat": 4,
  "nbformat_minor": 0
}
