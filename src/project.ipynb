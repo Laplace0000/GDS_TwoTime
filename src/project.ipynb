{
  "cells": [
    {
      "cell_type": "code",
      "execution_count": 93,
      "metadata": {
        "colab": {
          "base_uri": "https://localhost:8080/"
        },
        "id": "afP0fI0WAjLQ",
        "outputId": "63969ef1-021e-4875-bd33-e77080113061"
      },
      "outputs": [],
      "source": [
        "# prompt: please install all the below using pip\n",
        "\n",
        "#!pip install numpy pandas matplotlib seaborn scikit-learn tensorflow keras clean_text pandarallel\n"
      ]
    },
    {
      "cell_type": "code",
      "execution_count": 2,
      "metadata": {
        "colab": {
          "base_uri": "https://localhost:8080/"
        },
        "id": "l7I5ZeAs7doa",
        "outputId": "f04e908c-53cf-4e5e-b1ac-6c4eeba64133"
      },
      "outputs": [
        {
          "name": "stderr",
          "output_type": "stream",
          "text": [
            "Since the GPL-licensed package `unidecode` is not installed, using Python's `unicodedata` package which yields worse results.\n"
          ]
        },
        {
          "name": "stdout",
          "output_type": "stream",
          "text": [
            "INFO: Pandarallel will run on 8 workers.\n",
            "INFO: Pandarallel will use standard multiprocessing data transfer (pipe) to transfer data between the main process and workers.\n"
          ]
        },
        {
          "name": "stderr",
          "output_type": "stream",
          "text": [
            "[nltk_data] Downloading package punkt to /Users/suneg/nltk_data...\n",
            "[nltk_data]   Package punkt is already up-to-date!\n",
            "[nltk_data] Downloading package stopwords to /Users/suneg/nltk_data...\n",
            "[nltk_data]   Package stopwords is already up-to-date!\n",
            "[nltk_data] Downloading package punkt_tab to /Users/suneg/nltk_data...\n",
            "[nltk_data]   Package punkt_tab is already up-to-date!\n"
          ]
        }
      ],
      "source": [
        "import nltk\n",
        "import re\n",
        "import pandas as pd\n",
        "import numpy as np\n",
        "import matplotlib.pyplot as plt\n",
        "\n",
        "from nltk.corpus import stopwords\n",
        "from nltk.tokenize import word_tokenize\n",
        "from nltk.lm import Vocabulary\n",
        "from sklearn.model_selection import train_test_split\n",
        "from sklearn.feature_extraction.text import CountVectorizer\n",
        "from sklearn.linear_model import LogisticRegression\n",
        "from sklearn.metrics import f1_score, accuracy_score, confusion_matrix, ConfusionMatrixDisplay\n",
        "from sklearn.preprocessing import StandardScaler, Normalizer\n",
        "import joblib\n",
        "from cleantext import clean\n",
        "from nltk.probability import FreqDist\n",
        "from nltk.stem import PorterStemmer\n",
        "from pandarallel import pandarallel\n",
        "import ast\n",
        "import math\n",
        "from imblearn.under_sampling import RandomUnderSampler\n",
        "pandarallel.initialize(progress_bar=True)\n",
        "\n",
        "nltk.download('punkt')\n",
        "nltk.download('stopwords')\n",
        "nltk.download('punkt_tab')\n",
        "\n",
        "import os\n",
        "IN_COLAB = False\n",
        "if os.getenv(\"COLAB_RELEASE_TAG\"):\n",
        "   IN_COLAB = True\n",
        "\n",
        "news_processed = None\n",
        "bbc_proccessed = None"
      ]
    },
    {
      "cell_type": "code",
      "execution_count": 95,
      "metadata": {
        "colab": {
          "base_uri": "https://localhost:8080/"
        },
        "id": "1DWSzbnj75b9",
        "outputId": "79c1884d-37d0-4041-ee74-66a39de326ab"
      },
      "outputs": [],
      "source": [
        "if IN_COLAB:\n",
        "  from google.colab import drive\n",
        "  drive.mount('/content/drive')"
      ]
    },
    {
      "cell_type": "markdown",
      "metadata": {
        "id": "wWp-AaTm7doc"
      },
      "source": [
        "# Part 1"
      ]
    },
    {
      "cell_type": "markdown",
      "metadata": {
        "id": "FAkg7frj7dod"
      },
      "source": [
        "### Task 1"
      ]
    },
    {
      "cell_type": "code",
      "execution_count": 4,
      "metadata": {
        "colab": {
          "base_uri": "https://localhost:8080/"
        },
        "id": "r0lGjcG17dod",
        "outputId": "9d148c02-9df3-4945-ad46-60fa24a7a724"
      },
      "outputs": [
        {
          "name": "stdout",
          "output_type": "stream",
          "text": [
            "<class 'pandas.core.frame.DataFrame'>\n",
            "RangeIndex: 250 entries, 0 to 249\n",
            "Data columns (total 16 columns):\n",
            " #   Column            Non-Null Count  Dtype  \n",
            "---  ------            --------------  -----  \n",
            " 0   Unnamed: 0        250 non-null    int64  \n",
            " 1   id                250 non-null    int64  \n",
            " 2   domain            250 non-null    object \n",
            " 3   type              238 non-null    object \n",
            " 4   url               250 non-null    object \n",
            " 5   content           250 non-null    object \n",
            " 6   scraped_at        250 non-null    object \n",
            " 7   inserted_at       250 non-null    object \n",
            " 8   updated_at        250 non-null    object \n",
            " 9   title             250 non-null    object \n",
            " 10  authors           170 non-null    object \n",
            " 11  keywords          0 non-null      float64\n",
            " 12  meta_keywords     250 non-null    object \n",
            " 13  meta_description  54 non-null     object \n",
            " 14  tags              27 non-null     object \n",
            " 15  summary           0 non-null      float64\n",
            "dtypes: float64(2), int64(2), object(12)\n",
            "memory usage: 31.4+ KB\n",
            "None\n"
          ]
        }
      ],
      "source": [
        "#load data\n",
        "dataPath = \"../data/\"\n",
        "if IN_COLAB:\n",
        "  dataPath = \"/content/drive/MyDrive/\"\n",
        "nsdf = pd.read_csv(dataPath + \"news_sample.csv\")\n",
        "nsdf = nsdf.reset_index(drop=True)  # Reset index??\n",
        "nsdf_raw = nsdf\n",
        "print(nsdf.info())   # Check column types and missing values\n",
        "\n"
      ]
    },
    {
      "cell_type": "code",
      "execution_count": 97,
      "metadata": {
        "colab": {
          "base_uri": "https://localhost:8080/"
        },
        "id": "Yw3NaRAQ7doe",
        "outputId": "40b81a48-d87e-44ce-cc4d-775c58a7663b"
      },
      "outputs": [
        {
          "name": "stdout",
          "output_type": "stream",
          "text": [
            "['unreliable' 'fake' 'clickbait' 'conspiracy' 'reliable' 'bias' 'hate'\n",
            " 'junksci' 'political' nan 'unknown']\n"
          ]
        }
      ],
      "source": [
        "# unique lable values\n",
        "unique_values = nsdf['type'].unique()\n",
        "print(unique_values)"
      ]
    },
    {
      "cell_type": "code",
      "execution_count": 98,
      "metadata": {
        "colab": {
          "base_uri": "https://localhost:8080/"
        },
        "id": "8Sr01Nsx7doe",
        "outputId": "f841641a-6f2a-4902-e47e-ddd941ae53dc"
      },
      "outputs": [
        {
          "name": "stdout",
          "output_type": "stream",
          "text": [
            "['unreliable' 'fake' 'clickbait' 'conspiracy' 'reliable' 'bias' 'hate'\n",
            " 'junksci' 'political']\n"
          ]
        }
      ],
      "source": [
        "#nan and unknown removed as they seem useless when training a classifier\n",
        "nsdf = nsdf.dropna(subset=['type'])\n",
        "nsdf = nsdf.loc[nsdf['type']!='unknown']\n",
        "newunique_values = nsdf['type'].unique()\n",
        "print(newunique_values)\n"
      ]
    },
    {
      "cell_type": "markdown",
      "metadata": {
        "id": "2bdqH5Za7doe"
      },
      "source": [
        "Cleaning and Preprocessing"
      ]
    },
    {
      "cell_type": "code",
      "execution_count": 99,
      "metadata": {
        "id": "0aqMgikT7doe"
      },
      "outputs": [],
      "source": [
        "def cleanText(data, column):\n",
        "    data[column] = data[column].parallel_apply(clean_text_help)\n",
        "    return data\n",
        "\n",
        "def clean_text_help(text):\n",
        "    if isinstance(text, str):\n",
        "        # Remove excess whitespace\n",
        "        text = re.sub(r\"\\s+\", \" \", text).strip()\n",
        "        #replace dates\n",
        "        text = re.sub(r\"(0[1-9]|[1-2][0-9]|3[0-1])[-/.]?(0[1-9]|1[0-2])[-/.]?([0-9]{2}|[0-9]{4})\", \"<DATE>\", text)  # Replace date type 1\n",
        "        text = re.sub(r\"(0[1-9]|[1-2][0-9]|3[0-1])\\s([A-Za-z]{3})\\s([0-9]{2}|[0-9]{4})\", \"<DATE>\", text)  # Replace date type 2\n",
        "        return clean(text, lower=True, no_line_breaks=True, no_numbers=True, no_emails=True, no_urls=True, no_punct=True, replace_with_url=r\"__URL__\", replace_with_email=r\"__EMAIL__\", replace_with_number=r\"__NUM__\", replace_with_digit=r\"__NUM__\")\n",
        "    raise TypeError(\"Clean_text passed non-string\")"
      ]
    },
    {
      "cell_type": "code",
      "execution_count": 108,
      "metadata": {
        "id": "pCu5do7_7doe"
      },
      "outputs": [],
      "source": [
        "#Tokenize the text function\n",
        "def tokenizeText(data, column):\n",
        "    def tokenize_text_help(text):\n",
        "        if isinstance(text, str):\n",
        "            return (word_tokenize(text))\n",
        "        return text  # Return unchanged if not a string\n",
        "    data[column] = data[column].parallel_apply(tokenize_text_help)  # Apply function\n",
        "    return data\n",
        "\n"
      ]
    },
    {
      "cell_type": "code",
      "execution_count": 111,
      "metadata": {
        "id": "NieKcD1f7dof"
      },
      "outputs": [],
      "source": [
        "#function for removeing stopwords\n",
        "def remove_stopwords_help(text):\n",
        "    text = pd.Series(text)\n",
        "    stop_words = set(stopwords.words('english'))  # Load stopwords\n",
        "    return text[~text.isin(stop_words)].to_list()  # Remove stopwords\n",
        "\n",
        "def remove_stopwords(data, column):\n",
        "    data['content'] = data['content'].parallel_apply(remove_stopwords_help)  # Apply function\n",
        "    return data"
      ]
    },
    {
      "cell_type": "code",
      "execution_count": 124,
      "metadata": {
        "id": "2HPQfCwE7dof"
      },
      "outputs": [],
      "source": [
        "#Returns a pandas series, with word and frequency, very fast.\n",
        "def getFreq(data, column):\n",
        "    return len(data[column].str.split().explode().value_counts())\n",
        "\n",
        "\n",
        "def getFreq_tokinized(data, column):\n",
        "    return len(data[column].explode().value_counts())\n",
        "\n",
        "def Vocab_size_tokinized(data, column):\n",
        "    return len(data[column].explode())\n",
        "\n",
        "def Vocab_size(data, column):\n",
        "    return len(data[column].str.split().explode())"
      ]
    },
    {
      "cell_type": "code",
      "execution_count": 114,
      "metadata": {
        "id": "IjoX2dVY7dof"
      },
      "outputs": [],
      "source": [
        "\n",
        "#function for removeing stopwords\n",
        "def dataStemming(data, column):\n",
        "    ps = PorterStemmer()\n",
        "    def dataStemming_help(text):\n",
        "        text = pd.Series(text)\n",
        "        if(isinstance(text, str)):\n",
        "            return pd.Series(ps.stem(text))\n",
        "        return text.apply(ps.stem).to_list()\n",
        "    data[column] = data[column].parallel_apply(dataStemming_help)  # Apply function\n",
        "    return data\n"
      ]
    },
    {
      "cell_type": "code",
      "execution_count": 125,
      "metadata": {},
      "outputs": [
        {
          "name": "stdout",
          "output_type": "stream",
          "text": [
            "Freq for all\n",
            "27721\n",
            "Vocab size for all\n",
            "151344\n"
          ]
        },
        {
          "data": {
            "application/vnd.jupyter.widget-view+json": {
              "model_id": "92164a3d05764075b29e858f95d40edf",
              "version_major": 2,
              "version_minor": 0
            },
            "text/plain": [
              "VBox(children=(HBox(children=(IntProgress(value=0, description='0.00%', max=29), Label(value='0 / 29'))), HBox…"
            ]
          },
          "metadata": {},
          "output_type": "display_data"
        },
        {
          "name": "stdout",
          "output_type": "stream",
          "text": [
            "Freq after cleaning:  15649\n",
            "Vocab size after cleaning:  150431\n"
          ]
        },
        {
          "data": {
            "application/vnd.jupyter.widget-view+json": {
              "model_id": "2aa9f162212c4835b450df0714bd0f09",
              "version_major": 2,
              "version_minor": 0
            },
            "text/plain": [
              "VBox(children=(HBox(children=(IntProgress(value=0, description='0.00%', max=29), Label(value='0 / 29'))), HBox…"
            ]
          },
          "metadata": {},
          "output_type": "display_data"
        },
        {
          "name": "stdout",
          "output_type": "stream",
          "text": [
            "Freq after tokenizing:  15641\n",
            "Vocab size after tokenizing:  150679\n"
          ]
        },
        {
          "data": {
            "application/vnd.jupyter.widget-view+json": {
              "model_id": "a2c4a69beaa7413e85664a0936d6eac7",
              "version_major": 2,
              "version_minor": 0
            },
            "text/plain": [
              "VBox(children=(HBox(children=(IntProgress(value=0, description='0.00%', max=29), Label(value='0 / 29'))), HBox…"
            ]
          },
          "metadata": {},
          "output_type": "display_data"
        },
        {
          "name": "stdout",
          "output_type": "stream",
          "text": [
            "Freq after removing stopwords:  15509\n",
            "Vocab size after removing stopwords:  86067\n"
          ]
        },
        {
          "data": {
            "application/vnd.jupyter.widget-view+json": {
              "model_id": "26d17116e13b4fa282cc27e14ae93c1f",
              "version_major": 2,
              "version_minor": 0
            },
            "text/plain": [
              "VBox(children=(HBox(children=(IntProgress(value=0, description='0.00%', max=29), Label(value='0 / 29'))), HBox…"
            ]
          },
          "metadata": {},
          "output_type": "display_data"
        },
        {
          "name": "stdout",
          "output_type": "stream",
          "text": [
            "Freq after stemming:  10486\n",
            "Vocab size after stemming:  86067\n"
          ]
        }
      ],
      "source": [
        "printing_copy = nsdf.copy()\n",
        "\n",
        "\n",
        "print(\"Freq for all\")\n",
        "print(getFreq(printing_copy, 'content'))\n",
        "print(\"Vocab size for all\")\n",
        "print(Vocab_size(printing_copy, 'content'))\n",
        "\n",
        "#Cleaning the text\n",
        "printing_copy = cleanText(printing_copy, 'content')\n",
        "print(\"Freq after cleaning: \", getFreq(printing_copy, 'content'))\n",
        "print(\"Vocab size after cleaning: \", Vocab_size(printing_copy, 'content'))\n",
        "\n",
        "#Tokenizing the text\n",
        "printing_copy = tokenizeText(printing_copy, 'content')\n",
        "print(\"Freq after tokenizing: \", getFreq_tokinized(printing_copy, 'content'))\n",
        "print(\"Vocab size after tokenizing: \", Vocab_size_tokinized(printing_copy, 'content'))\n",
        "\n",
        "#Removing stopwords\n",
        "printing_copy = remove_stopwords(printing_copy, 'content')\n",
        "print(\"Freq after removing stopwords: \", getFreq_tokinized(printing_copy, 'content'))\n",
        "print(\"Vocab size after removing stopwords: \", Vocab_size_tokinized(printing_copy, 'content'))\n",
        "\n",
        "# Stemming\n",
        "printing_copy = dataStemming(printing_copy, 'content')\n",
        "print(\"Freq after stemming: \", getFreq_tokinized(printing_copy, 'content'))\n",
        "print(\"Vocab size after stemming: \", Vocab_size_tokinized(printing_copy, 'content'))\n",
        "\n"
      ]
    },
    {
      "cell_type": "code",
      "execution_count": null,
      "metadata": {
        "id": "MGqT6iu77dof"
      },
      "outputs": [],
      "source": [
        "# One big function to process data:\n",
        "def processData(data, column):\n",
        "    def apply_sequential_helper(functions):\n",
        "        # assume type siganture of functions to be List[f : String -> string ]\n",
        "        def inner(text):\n",
        "            for f in functions:\n",
        "                text = f(text)\n",
        "            return text\n",
        "        return inner\n",
        "\n",
        "    def clean_text_help(text):\n",
        "        if isinstance(text, str):\n",
        "            # Remove excess whitespace\n",
        "            text = re.sub(r\"\\s+\", \" \", text).strip()\n",
        "            #replace dates\n",
        "            text = re.sub(r\"(0[1-9]|[1-2][0-9]|3[0-1])[-/.]?(0[1-9]|1[0-2])[-/.]?([0-9]{2}|[0-9]{4})\", \"<DATE>\", text)  # Replace date type 1\n",
        "            text = re.sub(r\"(0[1-9]|[1-2][0-9]|3[0-1])\\s([A-Za-z]{3})\\s([0-9]{2}|[0-9]{4})\", \"<DATE>\", text)  # Replace date type 2\n",
        "            return clean(text, lower=True, no_line_breaks=True, no_numbers=True, no_emails=True, no_urls=True, no_punct=True, replace_with_url=r\"__URL__\", replace_with_email=r\"__EMAIL__\", replace_with_number=r\"__NUM__\", replace_with_digit=r\"__NUM__\")\n",
        "        raise TypeError(\"Clean_text passed non-string\")\n",
        "\n",
        "    def tokenize_text_help(text):\n",
        "        if isinstance(text, str):\n",
        "            return pd.Series(word_tokenize(text))\n",
        "        return text  # Return unchanged if not a string\n",
        "\n",
        "    def remove_stopwords_help(text):\n",
        "      # text is a Series[str]\n",
        "        stop_words = set(stopwords.words('english'))  # Load stopwords\n",
        "        #if isinstance(text, str):\n",
        "        #    return [word for word in text.at[0, 'content'] if not word.lower() in stop_words]\n",
        "        #return text  # Return unchanged if not a string\n",
        "        return text[~text.isin(stop_words)]\n",
        "\n",
        "    ps = PorterStemmer()\n",
        "    def dataStemming_help(text):\n",
        "        #if isinstance(text, str):\n",
        "        #    return ps.stem(text)\n",
        "        #return text  # Return unchanged if not a string\n",
        "        if(isinstance(text, str)):\n",
        "            return pd.Series(ps.stem(text))\n",
        "        return text.apply(ps.stem)\n",
        "\n",
        "    def type_cleaner(text):\n",
        "        if isinstance(text, str):\n",
        "            return pd.Series(text).to_list()\n",
        "        return text.to_list()\n",
        "\n",
        "    data[column] = data[column].parallel_apply(apply_sequential_helper(\n",
        "        [clean_text_help, # str -> str\n",
        "        tokenize_text_help, # str -> list[str]\n",
        "        remove_stopwords_help, #series[str] -> series[str]\n",
        "        dataStemming_help, #series[str] -> series[str]\n",
        "        type_cleaner # series[str] -> series[str]\n",
        "    ]))\n",
        "    return data"
      ]
    },
    {
      "cell_type": "code",
      "execution_count": null,
      "metadata": {
        "colab": {
          "base_uri": "https://localhost:8080/",
          "height": 86,
          "referenced_widgets": [
            "bf68c788a3d9437383fdf54f8f75f050",
            "13df6b96a88944e98d65e813eeb54bd4",
            "dc1dd2e88478465e8ebc8082b1aa84aa",
            "2814e4c7aa32487e93e3ccd90b6e5f0c",
            "3cc027a216d2481ab36faca98212f3c5",
            "4ae5f28587fe4d01ad03446e234a631d",
            "e28976f80c1548f2af7836d8e8491c87",
            "23088918d37a416a8506b3fd4c7231f9",
            "24f8c63d4dc3428fbcd67efc20c076f2",
            "6cfbf875045943ad8b40671a67e0e29e"
          ]
        },
        "id": "jy3LEMwF7dof",
        "outputId": "ca281a39-240a-4c1a-945c-8be4a96474db"
      },
      "outputs": [],
      "source": [
        "\"\"\"\n",
        "nsdf_cleaned = cleanText(nsdf, 'content')\n",
        "nsdf_tokenized = tokenizeText(nsdf_cleaned, 'content')                  #tokenizing\n",
        "nsdf_cleaned_tokenized_nostopwords = remove_stopwords(nsdf_tokenized, 'content')           #removing stopwords\n",
        "nsdf_preprocessed = dataStemming(nsdf_cleaned_tokenized_nostopwords, 'content')\n",
        "\"\"\"\n",
        "nsdf_processed = processData(nsdf, 'content')\n",
        "nsdf_processed.dropna(subset=['content'], inplace=True)  # Drop rows with no content\n",
        "nsdf_processed.reset_index(drop=True, inplace=True)  # Reset index\n",
        "print(nsdf_processed.at[0, 'content'])"
      ]
    },
    {
      "cell_type": "code",
      "execution_count": null,
      "metadata": {
        "colab": {
          "base_uri": "https://localhost:8080/"
        },
        "id": "Y4U9DbWw7dof",
        "outputId": "fe4d12d1-ee80-4786-a87c-c8619f573c2a"
      },
      "outputs": [],
      "source": [
        "#word frequency pre preprocessing\n",
        "print(\"word frequency pre preprocessing\")\n",
        "word_frequency_pre = getFreq(nsdf_raw, 'content').sum()\n",
        "print(word_frequency_pre)"
      ]
    },
    {
      "cell_type": "code",
      "execution_count": null,
      "metadata": {
        "colab": {
          "base_uri": "https://localhost:8080/"
        },
        "id": "FoqJWce17dog",
        "outputId": "73b36b5b-a812-46a6-823b-f7fc8159703f"
      },
      "outputs": [],
      "source": [
        "#word frequency post preprocessing\n",
        "print(\"word frequency post preprocessing\")\n",
        "# getfreq assumes different type signature, so we have to do it this way\n",
        "word_frequency_post = nsdf_processed[\"content\"].explode().value_counts().sum()\n",
        "print(word_frequency_post)"
      ]
    },
    {
      "cell_type": "code",
      "execution_count": null,
      "metadata": {
        "id": "T5uKU6le7dog"
      },
      "outputs": [],
      "source": [
        "#word frequency post stemming\n",
        "#print(\"word frequency post stemming\")\n",
        "#word_frequency_postStem = getFrequency(nsdf_.processed, 'content', 1)\n",
        "#print(sum(word_frequency_postStem.values()))"
      ]
    },
    {
      "cell_type": "code",
      "execution_count": null,
      "metadata": {
        "id": "n1OIqoGT7dog"
      },
      "outputs": [],
      "source": [
        "#pre = word_frequency_pre\n",
        "#post = word_frequency_post\n",
        "#print(\"Reduction rate of the vocabulary size after removing stopwords:\")\n",
        "#print(abs(pre -post))\n",
        "#print(\"Further  reduction rate of the vocabulary size after stemming\")\n",
        "#postStem = sum(word_frequency_post.values())\n",
        "#print(abs(post -postStem))"
      ]
    },
    {
      "cell_type": "markdown",
      "metadata": {
        "id": "J1czxzP-7dog"
      },
      "source": [
        "### Task 2"
      ]
    },
    {
      "cell_type": "code",
      "execution_count": null,
      "metadata": {},
      "outputs": [],
      "source": [
        "#load data\n",
        "fakeNewsCorpus = pd.read_csv(dataPath + \"995,000_rows.csv\")\n",
        "#Hva saten er den der unnamed???\n",
        "print(fakeNewsCorpus.head())\n",
        "#fakeNewsCorpus['content'].duplicated()\n",
        "news_noDup = fakeNewsCorpus.drop_duplicates(subset=['content']).dropna(subset=['content']).reset_index(drop=True)"
      ]
    },
    {
      "cell_type": "code",
      "execution_count": null,
      "metadata": {
        "colab": {
          "base_uri": "https://localhost:8080/",
          "height": 1000,
          "referenced_widgets": [
            "9fd9741bc796445dacef77f07614167e",
            "1fdcaf3f9a5245eea4a903b928eee5b8",
            "e347b4d8b9fb4c72929f6a646167747c",
            "b58df1204e824dbd9f72cdb606b2605f",
            "b1c6087d3824401aa91057fe441302fe",
            "830cda2af3cb49ecbfe45ca7f2e04a24",
            "6e08915023cb458abda3abdce421467e",
            "7258d6e2da3a41ad9b4830b0192cb037",
            "d9249597abf942b5af7a16e2ebefa329",
            "a24a494c9ffb43e1bfe493d1162c4e3d"
          ]
        },
        "id": "u-6EvFOO7dog",
        "outputId": "dcfc62f5-5370-44df-c102-5d896416d2e3"
      },
      "outputs": [],
      "source": [
        "#Cleaning\n",
        "news_processed = processData(news_noDup, 'content')\n",
        "news_processed.to_json(dataPath + \"news_processed.json\", orient='records', lines=True)"
      ]
    },
    {
      "cell_type": "markdown",
      "metadata": {
        "id": "TCHjcIp97dog"
      },
      "source": [
        "### Task 3"
      ]
    },
    {
      "cell_type": "code",
      "execution_count": 5,
      "metadata": {
        "id": "LsAEJIoO7dog",
        "outputId": "f7b8a93f-b748-4f47-c421-13a928bff4dc"
      },
      "outputs": [
        {
          "name": "stdout",
          "output_type": "stream",
          "text": [
            "<class 'pandas.core.frame.DataFrame'>\n",
            "RangeIndex: 812912 entries, 0 to 812911\n",
            "Data columns (total 17 columns):\n",
            " #   Column            Non-Null Count   Dtype         \n",
            "---  ------            --------------   -----         \n",
            " 0   Unnamed: 0        812911 non-null  float64       \n",
            " 1   id                812912 non-null  object        \n",
            " 2   domain            812912 non-null  object        \n",
            " 3   type              770599 non-null  object        \n",
            " 4   url               812912 non-null  object        \n",
            " 5   content           812912 non-null  object        \n",
            " 6   scraped_at        812911 non-null  object        \n",
            " 7   inserted_at       812911 non-null  datetime64[ns]\n",
            " 8   updated_at        812911 non-null  datetime64[ns]\n",
            " 9   title             812735 non-null  object        \n",
            " 10  authors           502785 non-null  object        \n",
            " 11  keywords          0 non-null       float64       \n",
            " 12  meta_keywords     775004 non-null  object        \n",
            " 13  meta_description  421991 non-null  object        \n",
            " 14  tags              184646 non-null  object        \n",
            " 15  summary           0 non-null       float64       \n",
            " 16  source            208460 non-null  object        \n",
            "dtypes: datetime64[ns](2), float64(3), object(12)\n",
            "memory usage: 105.4+ MB\n",
            "None\n"
          ]
        }
      ],
      "source": [
        "if news_processed is None:\n",
        "    json_reader = pd.read_json(dataPath + \"news_processed.json\", orient='records', lines=True, chunksize=1500)\n",
        "    news_processed = pd.concat(json_reader, ignore_index=True)\n",
        "# timed: 12 min på M1 macbook chunk=1000\n",
        "print(news_processed.info())   # Check column types and missing values\n",
        "#fndf = fakeNewsCorpus.reset_index(drop=True)  # Reset index\n",
        "fndf = news_processed\n"
      ]
    },
    {
      "cell_type": "code",
      "execution_count": null,
      "metadata": {
        "id": "lRVr6AxZ7dog",
        "outputId": "9013e78e-a2bf-4f2d-d54d-499d3dde514b"
      },
      "outputs": [],
      "source": []
    },
    {
      "cell_type": "markdown",
      "metadata": {
        "id": "yqKMjLFX7doh"
      },
      "source": [
        "### Cleaning and Preprocessing"
      ]
    },
    {
      "cell_type": "code",
      "execution_count": null,
      "metadata": {
        "id": "NOn3autl7doh",
        "outputId": "b049f942-d2ac-4c2c-d85b-0d7c8392e567"
      },
      "outputs": [],
      "source": [
        "print(\"Pandas DataFrame:\")\n",
        "display(fndf.iloc[0])\n",
        "\n"
      ]
    },
    {
      "cell_type": "markdown",
      "metadata": {},
      "source": [
        "## Observations about dataset"
      ]
    },
    {
      "cell_type": "code",
      "execution_count": null,
      "metadata": {},
      "outputs": [],
      "source": [
        "unique_values = fndf['type'].unique()\n",
        "print(unique_values)\n",
        "#hard to know how to classify nan and unknown, so removed for now\n",
        "# we also remove the a weird type \n",
        "fndf = fndf.dropna(subset=['type'])\n",
        "fndf = fndf.loc[(fndf['type']!='unknown') & (fndf['type']!='unreliable') & (fndf['type'] != '2018-02-10 13:43:39.521661')]\n",
        "# Need to reset index\n",
        "\n",
        "newunique_values = fndf['type'].unique()\n",
        "print(newunique_values)\n"
      ]
    },
    {
      "cell_type": "code",
      "execution_count": null,
      "metadata": {},
      "outputs": [],
      "source": [
        "\n",
        "# groups (reliable) as truenews 1 and (all others) in fakenews 0\n",
        "    #note this is naive and should be reconsidered later\n",
        "\n",
        "# reliable, clickbait and political are all, by their contents, factually correct (albeit possibly politcally motivated)\n",
        "# we deem those to be \"real\" news\n",
        "print(\"adding binary labels\")\n",
        "fndf['type'] = fndf['type'].replace(r'^(reliable|clickbait|political)$', '1', regex=True) \n",
        "fndf['type'] = fndf['type'].replace(r'^(?!1$).+', '0', regex=True)   # Replace everything except '1' with '0'\n",
        "#fndf['type'] = fndf['type'].fillna('0')\n",
        "\n",
        "newunique_values = fndf['type'].unique()\n",
        "print(newunique_values)\n",
        "fndf.shape[0]\n",
        "fndf['type'] = fndf['type'].astype(int)  # Convert to integer\n",
        "\n",
        "print((\"real vs fake:\"))\n",
        "print(fndf['type'].value_counts())"
      ]
    },
    {
      "cell_type": "code",
      "execution_count": null,
      "metadata": {},
      "outputs": [],
      "source": [
        "relib_news = fndf.loc[fndf['type'] == 1]\n",
        "fake_news = fndf.loc[fndf['type'] == 0]\n",
        "\n",
        "print(relib_news.shape[0], \" : \", fake_news.shape[0])\n",
        "\n",
        "print(\"distribution for real news\")\n",
        "#print(relib_news[\"content\"].explode().value_counts())\n",
        "real_dist = FreqDist(relib_news[\"content\"].explode())\n",
        "print(real_dist.most_common(200))\n",
        "\n",
        "print(\"distribution for fake news\")\n",
        "#print(fake_news[\"content\"].explode().value_counts())\n",
        "fake_dist = FreqDist(fake_news[\"content\"].explode())\n",
        "print(fake_dist.most_common(200))\n",
        "\n",
        "print(\"distribution for all news\")\n",
        "#print(fndf[\"content\"].explode().value_counts())\n",
        "all_dist = FreqDist(fndf[\"content\"].explode())\n",
        "print(all_dist.most_common(200))\n",
        "joblib.dump((real_dist, fake_dist, all_dist), dataPath + \"dists.pkl\")"
      ]
    },
    {
      "cell_type": "code",
      "execution_count": 6,
      "metadata": {},
      "outputs": [],
      "source": [
        "\n",
        "(real_dist, fake_dist, all_dist) = joblib.load(dataPath + \"dists.pkl\")"
      ]
    },
    {
      "cell_type": "code",
      "execution_count": null,
      "metadata": {},
      "outputs": [
        {
          "name": "stdout",
          "output_type": "stream",
          "text": [
            "real total: 71331064, fake total: 54739102\n",
            "16591962\n"
          ]
        }
      ],
      "source": [
        "# add one discounting\n",
        "fake_total = int(pd.Series([b+1 for (a, b) in fake_dist.most_common(1000)]).sum())\n",
        "real_total = int(pd.Series([b+1 for (a, b) in real_dist.most_common(1000)]).sum())\n",
        "\n",
        "print(f\"real total: {real_total}, fake total: {fake_total}\")\n",
        "print(real_total-fake_total)"
      ]
    },
    {
      "cell_type": "code",
      "execution_count": null,
      "metadata": {},
      "outputs": [],
      "source": [
        "from sklearn.feature_extraction.text import TfidfTransformer\n",
        "\n",
        "real_pd_prob = pd.Series(dict(real_dist.most_common(1000))).apply(lambda x: x/real_total)\n",
        "fake_pd_prob = pd.Series(dict(fake_dist.most_common(1000))).apply(lambda x: x/fake_total)\n",
        "\n"
      ]
    },
    {
      "cell_type": "code",
      "execution_count": 30,
      "metadata": {},
      "outputs": [],
      "source": [
        "def entropy_calculation(row):\n",
        "    word = row[\"word\"]\n",
        "    # use one cause of add one discounting\n",
        "    real_prob = real_pd_prob.get(word, 1/real_total)\n",
        "    #row[\"real_prob\"] = real_prob\n",
        "    fake_prob = fake_pd_prob.get(word, 1/fake_total)\n",
        "    #row[\"fake_prob\"] = fake_prob\n",
        "    row[\"fake_entropy\"] = -1*fake_prob*np.log2(fake_prob)\n",
        "    row[\"real_entropy\"] = -1*real_prob*np.log2(real_prob)\n",
        "    row[\"entropy\"] = row[\"fake_entropy\"] + row[\"real_entropy\"]\n",
        "    return row\n",
        "    "
      ]
    },
    {
      "cell_type": "code",
      "execution_count": 31,
      "metadata": {},
      "outputs": [
        {
          "name": "stdout",
          "output_type": "stream",
          "text": [
            "          word  count  fake_entropy  real_entropy   entropy\n",
            "995       abus  45365  4.696107e-07  4.087701e-03  0.004088\n",
            "997      battl  45326  4.696107e-07  4.110002e-03  0.004110\n",
            "979  difficult  46025  4.696107e-07  4.138165e-03  0.004139\n",
            "970     profit  46787  4.696107e-07  4.219396e-03  0.004220\n",
            "981      oppos  45935  4.696107e-07  4.277956e-03  0.004278\n",
            "960     beyond  47200  4.696107e-07  4.286729e-03  0.004287\n",
            "975      equal  46215  4.696107e-07  4.304543e-03  0.004305\n",
            "968        sit  47049  4.696107e-07  4.304543e-03  0.004305\n",
            "985       weve  45655  4.696107e-07  4.369711e-03  0.004370\n",
            "990        boy  45575  4.696107e-07  4.385665e-03  0.004386\n",
            "986  certainli  45615  4.431567e-03  3.657316e-07  0.004432\n",
            "974     attend  46369  4.696107e-07  4.435409e-03  0.004436\n",
            "964      owner  47129  4.696107e-07  4.437624e-03  0.004438\n",
            "980     violat  46025  4.442390e-03  3.657316e-07  0.004443\n",
            "973    commiss  46498  4.696107e-07  4.445928e-03  0.004446\n",
            "950       titl  47834  4.696107e-07  4.472344e-03  0.004473\n",
            "962       poor  47153  4.696107e-07  4.473312e-03  0.004474\n",
            "966  professor  47122  4.696107e-07  4.482849e-03  0.004483\n",
            "972      basic  46618  4.528815e-03  3.657316e-07  0.004529\n",
            "989        fox  45584  4.696107e-07  4.562601e-03  0.004563\n"
          ]
        }
      ],
      "source": [
        "word_entropy = pd.DataFrame(all_dist.most_common(1000), columns=[\"word\", \"count\"]).apply(entropy_calculation, axis=1)\n",
        "word_entropy = word_entropy.sort_values(\"entropy\", ascending=True)\n",
        "print(word_entropy.head(20))"
      ]
    },
    {
      "cell_type": "code",
      "execution_count": null,
      "metadata": {},
      "outputs": [],
      "source": [
        "plt.figure(figsize=(12, 6))\n",
        "\n",
        "# Bar chart with stacking\n",
        "plt.bar(word_entropy[\"word\"], word_entropy[\"fake_entropy\"], label=\"Fake Entropy\", color=\"red\")\n",
        "\n",
        "# Labels and title\n",
        "plt.xlabel(\"Words\")\n",
        "plt.ylabel(\"Entropy\")\n",
        "plt.title(\"Stacked Bar Chart of Real vs. Fake Entropy per Word\")\n",
        "plt.legend()\n",
        "\n",
        "# Rotate x-axis labels for readability\n",
        "plt.xticks(rotation=90)\n",
        "\n",
        "# Show plot\n",
        "plt.show()"
      ]
    },
    {
      "cell_type": "code",
      "execution_count": null,
      "metadata": {},
      "outputs": [
        {
          "name": "stdout",
          "output_type": "stream",
          "text": [
            "Amount of words only present in one set than another: 272\n",
            "[('said', np.float64(0.005989224878196336)), ('mr', np.float64(0.005948864596458583)), ('new', np.float64(0.0032736189032688033)), ('york', np.float64(0.003178806966138607)), ('main', np.float64(0.0027339084417915206)), ('pleas', np.float64(0.002594530014039337)), ('num', np.float64(0.002545392679506993)), ('stori', np.float64(0.002309711351794673)), ('continu', np.float64(0.0022946960553700494)), ('read', np.float64(0.0019017039205412203)), ('sign', np.float64(0.0017832534108624964)), ('advertis', np.float64(0.0016084235979338772)), ('republican', np.float64(0.0014991912922879464)), ('$', np.float64(0.001366216283543495)), ('democrat', np.float64(0.0012577113177079289)), ('offer', np.float64(0.001134012665539164)), ('servic', np.float64(0.0010641342366766002)), ('tri', np.float64(0.0010386466674621067)), ('later', np.float64(0.0010175592504107734)), ('percent', np.float64(0.0010033423376317222)), ('receiv', np.float64(0.001002662706757364)), ('your', np.float64(0.0009652954564408964)), ('agre', np.float64(0.0009637680713980739)), ('photo', np.float64(0.0009565149269762462)), ('address', np.float64(0.000944817023690077)), ('senat', np.float64(0.0009312961211300883)), ('special', np.float64(0.0009193869168560731)), ('trump', np.float64(0.0008922499772206836)), ('email', np.float64(0.0008710885704292763)), ('thank', np.float64(0.0008514249143530413)), ('numnum', np.float64(0.000849473964534002)), ('street', np.float64(0.0008467807150397997)), ('vote', np.float64(0.000765226904160221)), ('compani', np.float64(0.0007429895899547273)), ('occur', np.float64(0.0007381143141588495)), ('work', np.float64(0.0007363826156782959)), ('hous', np.float64(0.0006724951672421472)), ('campaign', np.float64(0.0006657658906065243)), ('last', np.float64(0.0006620690504091603)), ('year', np.float64(0.0006555682708448782)), ('click', np.float64(0.0006517995365227584)), ('view', np.float64(0.00064637162211665)), ('time', np.float64(0.000610796539866564)), ('must', np.float64(0.0005983893328195267)), ('school', np.float64(0.0005948314499100329)), ('elect', np.float64(0.0005707266584742082)), ('game', np.float64(0.0005594667412051821)), ('bush', np.float64(0.0005498589232477012)), ('presid', np.float64(0.0005413238645175628)), ('citi', np.float64(0.0005243122740477041)), ('product', np.float64(0.0005240788354937697)), ('like', np.float64(0.0005018125643976223)), ('play', np.float64(0.0004968864806472251)), ('center', np.float64(0.0004896914062290961)), ('voter', np.float64(0.0004805485328725063)), ('candid', np.float64(0.0004796784946597733)), ('run', np.float64(0.0004692608994838201)), ('sunday', np.float64(0.00046658915654086003)), ('friday', np.float64(0.00043592215760160797)), ('famili', np.float64(0.00043075692358870814)), ('tuesday', np.float64(0.00042582116915123377)), ('director', np.float64(0.0004151630555340423)), ('women', np.float64(0.0004119815608511694)), ('week', np.float64(0.00041007486260977903)), ('execut', np.float64(0.00040478157795874846)), ('win', np.float64(0.00038776663974944363)), ('team', np.float64(0.00038043590899961596)), ('bill', np.float64(0.00036966403281178195)), ('parti', np.float64(0.0003693614551276525)), ('tax', np.float64(0.0003689735336467729)), ('colleg', np.float64(0.0003607173290641538)), ('clinton', np.float64(0.0003592942386385652)), ('open', np.float64(0.00034987408224509487)), ('monday', np.float64(0.00034587817570005854)), ('million', np.float64(0.0003424541404793986)), ('care', np.float64(0.0003422256247709683)), ('offic', np.float64(0.00033596756172420703)), ('he', np.float64(0.00032989051297343175)), ('night', np.float64(0.0003266170429892457)), ('im', np.float64(0.00032482095994466713)), ('student', np.float64(0.00032153663542636255)), ('perform', np.float64(0.00032152443522000685)), ('court', np.float64(0.0003082196866980209)), ('three', np.float64(0.000305195424313871)), ('would', np.float64(0.00029453707403268893)), ('film', np.float64(0.00028896022403362347)), ('program', np.float64(0.00028787622919070597)), ('poll', np.float64(0.0002876371965548534)), ('home', np.float64(0.000286926392491378)), ('counti', np.float64(0.00028346388499182073)), ('room', np.float64(0.00027538776424449894)), ('board', np.float64(0.0002749697480500698)), ('season', np.float64(0.00027266207027594697)), ('job', np.float64(0.0002685541467508225)), ('race', np.float64(0.0002668535325382795)), ('worker', np.float64(0.0002662909077058874)), ('first', np.float64(0.00025855261272047896)), ('administr', np.float64(0.00024989333432673703)), ('mother', np.float64(0.00024856582886001563)), ('whose', np.float64(0.00024562852061057837)), ('though', np.float64(0.0002447494865983797)), ('friend', np.float64(0.00024012548867461086)), ('cut', np.float64(0.0002396360251661234)), ('chief', np.float64(0.00023938821025671394)), ('ago', np.float64(0.0002335623252397043)), ('late', np.float64(0.00022432261680704782)), ('father', np.float64(0.00022001958311343472)), ('donald', np.float64(0.0002190547561626157)), ('plan', np.float64(0.00021844206641439537)), ('four', np.float64(0.00021460318063066185)), ('earli', np.float64(0.00021029264496914954)), ('among', np.float64(0.0002102791441204574)), ('littl', np.float64(0.0002094346898416958)), ('polit', np.float64(0.0002052868350046642)), ('offici', np.float64(0.00020393908479971823)), ('say', np.float64(0.00020224848173767355)), ('busi', np.float64(0.00020188764420447296)), ('john', np.float64(0.0002003841368046162)), ('critic', np.float64(0.00020019178029222282)), ('got', np.float64(0.00019745931972940613)), ('ask', np.float64(0.00019559841415073623)), ('former', np.float64(0.00019490179271105168)), ('committe', np.float64(0.00019199753740896798)), ('build', np.float64(0.00018940391251195336)), ('pass', np.float64(0.00018867706058211284)), ('still', np.float64(0.0001866046797892372)), ('that', np.float64(0.00018626761357016576)), ('there', np.float64(0.00018478507496591382)), ('didnt', np.float64(0.00018321466161804064)), ('call', np.float64(0.00018267168744052174)), ('young', np.float64(0.0001787224084638556)), ('legisl', np.float64(0.0001786446430104983)), ('might', np.float64(0.00017814016479241325)), ('rais', np.float64(0.00017578912714423512)), ('propos', np.float64(0.00017483216889000065)), ('serv', np.float64(0.00017028434052506316)), ('lot', np.float64(0.00016838988759215398)), ('member', np.float64(0.00016767112583876247)), ('novemb', np.float64(0.00016433954295391577)), ('line', np.float64(0.00015959360177146488)), ('progress', np.float64(0.000159356183685668)), ('presidenti', np.float64(0.00015797972243737407)), ('seri', np.float64(0.00015790264129005927)), ('less', np.float64(0.0001577180876558813)), ('seem', np.float64(0.00015147083884944576)), ('hour', np.float64(0.00015098182348858397)), ('whether', np.float64(0.00015039218931219174)), ('woman', np.float64(0.0001470043318524336)), ('effort', np.float64(0.000144470963050682)), ('began', np.float64(0.000144272269363895)), ('justic', np.float64(0.00014361224456629906)), ('often', np.float64(0.00014276708427100686)), ('son', np.float64(0.00014251616067263538)), ('guy', np.float64(0.0001393406024867093)), ('challeng', np.float64(0.00013801666410636043)), ('budget', np.float64(0.00013498205634575458)), ('parent', np.float64(0.00013487145383900615)), ('love', np.float64(0.00013413669147275403)), ('univers', np.float64(0.00013370606430762795)), ('month', np.float64(0.00013218266911867757)), ('player', np.float64(0.0001320108230044787)), ('congress', np.float64(0.00013185119269720682)), ('michael', np.float64(0.0001301457230664532)), ('ad', np.float64(0.00012962126202825143)), ('public', np.float64(0.00012836969180598417)), ('long', np.float64(0.00012747065738460787)), ('wrote', np.float64(0.0001265624643981098)), ('kind', np.float64(0.00012601091534458558)), ('debat', np.float64(0.00012584283684526478)), ('hope', np.float64(0.00012559204596854104)), ('five', np.float64(0.00012552367133396932)), ('half', np.float64(0.0001213430756854888)), ('made', np.float64(0.00011962260625880466)), ('depart', np.float64(0.00011851971815247649)), ('lost', np.float64(0.0001166437172766229)), ('morn', np.float64(0.00011521856223708864)), ('theyr', np.float64(0.00011403316725308588)), ('conserv', np.float64(0.00010804213857892213)), ('kid', np.float64(0.00010762570696276483)), ('went', np.float64(0.00010716742315131631)), ('repres', np.float64(0.00010583054949831719)), ('meet', np.float64(0.00010427312814881317)), ('close', np.float64(0.000103489478494751)), ('miss', np.float64(0.00010247014746947106)), ('minut', np.float64(0.00010217248093502681)), ('judg', np.float64(9.688809851691289e-05)), ('associ', np.float64(9.620178675154843e-05)), ('second', np.float64(9.617366330207013e-05)), ('record', np.float64(9.606642910656225e-05)), ('becam', np.float64(9.528582980681876e-05)), ('point', np.float64(9.289569553570863e-05)), ('nearli', np.float64(9.26800777888687e-05)), ('hospit', np.float64(9.010110255391532e-05)), ('aid', np.float64(8.992643727259193e-05)), ('manag', np.float64(8.90166379251086e-05)), ('gave', np.float64(8.88891603651858e-05)), ('led', np.float64(8.861794294948676e-05)), ('resid', np.float64(8.854054583373896e-05)), ('took', np.float64(8.77551220818131e-05)), ('educ', np.float64(8.686193165730418e-05)), ('came', np.float64(8.636257214934644e-05)), ('california', np.float64(8.570466012277977e-05)), ('spend', np.float64(8.54183770021158e-05)), ('turn', np.float64(8.46747723465143e-05)), ('hard', np.float64(8.458877956629284e-05)), ('decis', np.float64(8.349122454579547e-05)), ('hear', np.float64(8.332938345373777e-05)), ('charg', np.float64(8.230644016773525e-05)), ('class', np.float64(8.230604247302172e-05)), ('third', np.float64(8.037074441611769e-05)), ('union', np.float64(8.03233154928535e-05)), ('west', np.float64(7.913184058868207e-05)), ('letter', np.float64(7.737512732917175e-05)), ('ive', np.float64(7.652457478205129e-05)), ('cost', np.float64(7.518554699776042e-05)), ('includ', np.float64(7.47456927015248e-05)), ('wall', np.float64(7.47244615175827e-05)), ('decad', np.float64(7.443525356942173e-05)), ('church', np.float64(7.386979863321594e-05)), ('coupl', np.float64(7.246772676924011e-05)), ('review', np.float64(7.153306089279475e-05)), ('six', np.float64(7.03582552347298e-05)), ('climat', np.float64(6.856779172442068e-05)), ('name', np.float64(6.684630703736923e-05)), ('design', np.float64(6.681377837802001e-05)), ('dr', np.float64(6.679802668586366e-05)), ('commun', np.float64(6.629802851644377e-05)), ('requir', np.float64(6.413087946661089e-05)), ('held', np.float64(6.378136542206376e-05)), ('white', np.float64(6.277112011160066e-05)), ('georg', np.float64(6.250857625412788e-05)), ('walk', np.float64(6.242323972442898e-05)), ('shot', np.float64(6.233651417374164e-05)), ('field', np.float64(6.22518679877768e-05)), ('issu', np.float64(6.091917730565474e-05)), ('cant', np.float64(6.0427744286469746e-05)), ('numnumnum', np.float64(6.034816773152897e-05)), ('interview', np.float64(5.886847483166228e-05)), ('left', np.float64(5.862951215404675e-05)), ('corpor', np.float64(5.854024784698181e-05)), ('iraq', np.float64(5.4926955240010636e-05)), ('loss', np.float64(5.4702212497245446e-05)), ('credit', np.float64(5.40085315578544e-05)), ('better', np.float64(5.3653054949329886e-05)), ('show', np.float64(5.3500091704307504e-05)), ('privat', np.float64(5.3238398732620754e-05)), ('wait', np.float64(5.269443344550111e-05)), ('tradit', np.float64(5.134343235773108e-05)), ('drive', np.float64(5.116507346896929e-05)), ('collect', np.float64(5.0863701323928135e-05)), ('david', np.float64(5.035598467796685e-05)), ('respond', np.float64(4.862193817154679e-05)), ('featur', np.float64(4.6132472187384785e-05)), ('regul', np.float64(4.404000757790203e-05)), ('mayb', np.float64(4.394781837111536e-05)), ('confer', np.float64(4.393870047935116e-05)), ('sound', np.float64(4.3643310168497225e-05)), ('seek', np.float64(4.322656487973581e-05)), ('voic', np.float64(4.2409339508574825e-05)), ('incom', np.float64(4.234278362220262e-05)), ('outsid', np.float64(4.219986093856646e-05)), ('lose', np.float64(4.182070063543555e-05)), ('rule', np.float64(4.128875031939733e-05)), ('role', np.float64(4.060642549739643e-05)), ('pay', np.float64(3.882643113699074e-05)), ('popular', np.float64(3.777113471958328e-05)), ('return', np.float64(3.7441130961645645e-05)), ('gener', np.float64(3.6675765718425634e-05)), ('mark', np.float64(3.643380427809789e-05)), ('least', np.float64(3.6012421760917186e-05)), ('day', np.float64(3.525259548282011e-05)), ('messag', np.float64(3.5124643310235795e-05)), ('choic', np.float64(3.477311327905675e-05)), ('chanc', np.float64(3.452725258711292e-05)), ('hit', np.float64(3.377992733502274e-05)), ('jame', np.float64(3.3619829609915464e-05)), ('paid', np.float64(3.238832935705758e-05)), ('promis', np.float64(3.148914540254303e-05)), ('approach', np.float64(3.0306856124768752e-05)), ('south', np.float64(2.9883964482789937e-05)), ('sale', np.float64(2.9199362750294148e-05)), ('assist', np.float64(2.906275124624566e-05)), ('car', np.float64(2.7936120207088747e-05)), ('watch', np.float64(2.7147940123674048e-05)), ('lead', np.float64(2.6778633393281705e-05)), ('ill', np.float64(2.655354134800165e-05)), ('big', np.float64(2.613141008021868e-05)), ('small', np.float64(2.5902298751737714e-05)), ('final', np.float64(2.566819951851343e-05)), ('stay', np.float64(2.4038572161904216e-05)), ('fund', np.float64(2.2685537046651986e-05)), ('enough', np.float64(2.247538250412179e-05)), ('sens', np.float64(2.2270829455010876e-05)), ('push', np.float64(2.1345098295769507e-05)), ('cultur', np.float64(2.1232432783999545e-05)), ('celebr', np.float64(2.0841385567552508e-05)), ('fan', np.float64(2.0710861322948847e-05)), ('face', np.float64(2.0189657133038406e-05)), ('attent', np.float64(1.9805927101005955e-05)), ('surpris', np.float64(1.897879739685401e-05)), ('local', np.float64(1.843742323528834e-05)), ('file', np.float64(1.8280391844636024e-05)), ('togeth', np.float64(1.7938899247660497e-05)), ('write', np.float64(1.6952818571056732e-05)), ('moment', np.float64(1.6621306067885746e-05)), ('employ', np.float64(1.631757597297381e-05)), ('polici', np.float64(1.6012074383366798e-05)), ('much', np.float64(1.597965635561239e-05)), ('decid', np.float64(1.4559420256829154e-05)), ('group', np.float64(1.402184803846792e-05)), ('religi', np.float64(1.3958809074455223e-05)), ('bit', np.float64(1.3571827472693917e-05)), ('doesnt', np.float64(1.2263216335852323e-05)), ('set', np.float64(1.1305156286638227e-05)), ('suggest', np.float64(-1.0020247481492455e-05)), ('practic', np.float64(-1.0055097773897185e-05)), ('leader', np.float64(-1.101915968663796e-05)), ('singl', np.float64(-1.1023560919530908e-05)), ('option', np.float64(-1.1239512440538969e-05)), ('press', np.float64(-1.1341784183654426e-05)), ('case', np.float64(-1.166690622123566e-05)), ('june', np.float64(-1.1953396757891825e-05)), ('foundat', np.float64(-1.203896883132736e-05)), ('die', np.float64(-1.2218347409223822e-05)), ('isnt', np.float64(-1.2782241466134767e-05)), ('phone', np.float64(-1.3190794750602623e-05)), ('prison', np.float64(-1.3576247198226739e-05)), ('sever', np.float64(-1.3672883806501238e-05)), ('along', np.float64(-1.3964721944649777e-05)), ('patient', np.float64(-1.4875084427896392e-05)), ('store', np.float64(-1.4903720017770804e-05)), ('march', np.float64(-1.4939985398194845e-05)), ('movement', np.float64(-1.4966651712486757e-05)), ('heard', np.float64(-1.5184207461541228e-05)), ('book', np.float64(-1.5725019102023202e-05)), ('wonder', np.float64(-1.5967048656548603e-05)), ('earlier', np.float64(-1.606826500839397e-05)), ('describ', np.float64(-1.6086200496285815e-05)), ('rememb', np.float64(-1.651179373252348e-05)), ('expect', np.float64(-1.7949233144972255e-05)), ('red', np.float64(-1.836652390821154e-05)), ('two', np.float64(-1.8535764507203716e-05)), ('travel', np.float64(-1.8654002173729514e-05)), ('statement', np.float64(-1.9163971036964263e-05)), ('speech', np.float64(-2.0287501341114907e-05)), ('someon', np.float64(-2.0337666259188925e-05)), ('front', np.float64(-2.054320061990549e-05)), ('king', np.float64(-2.131762726428568e-05)), ('compar', np.float64(-2.1330196187815357e-05)), ('past', np.float64(-2.1383749446469004e-05)), ('agenc', np.float64(-2.1576119643169976e-05)), ('fall', np.float64(-2.161105968803592e-05)), ('success', np.float64(-2.1936861982456727e-05)), ('club', np.float64(-2.2118218097231255e-05)), ('idea', np.float64(-2.231110318194683e-05)), ('bad', np.float64(-2.3096074429704164e-05)), ('question', np.float64(-2.351949028746238e-05)), ('limit', np.float64(-2.3819459654982706e-05)), ('host', np.float64(-2.4037399107103025e-05)), ('sent', np.float64(-2.5267717212509692e-05)), ('deal', np.float64(-2.5341094809941487e-05)), ('children', np.float64(-2.5673717441612775e-05)), ('lower', np.float64(-2.603562618332957e-05)), ('secretari', np.float64(-2.6099209844250397e-05)), ('contribut', np.float64(-2.6174344420715537e-05)), ('access', np.float64(-2.6188986363936235e-05)), ('larg', np.float64(-2.686225911254208e-05)), ('child', np.float64(-2.7011332741053206e-05)), ('replac', np.float64(-2.7197721103567067e-05)), ('go', np.float64(-2.810413041088103e-05)), ('deni', np.float64(-2.9308293366587938e-05)), ('join', np.float64(-3.029618415053084e-05)), ('written', np.float64(-3.054385992103619e-05)), ('figur', np.float64(-3.095031052136922e-05)), ('age', np.float64(-3.156767473684401e-05)), ('doctor', np.float64(-3.179222429037945e-05)), ('account', np.float64(-3.181065662543573e-05)), ('numyearold', np.float64(-3.182880663348095e-05)), ('reach', np.float64(-3.184197981792147e-05)), ('estim', np.float64(-3.383775514261331e-05)), ('probabl', np.float64(-3.412886096208561e-05)), ('benefit', np.float64(-3.5802903656245136e-05)), ('behind', np.float64(-3.607609799414254e-05)), ('improv', np.float64(-3.6189787479364705e-05)), ('wont', np.float64(-3.6682576565020945e-05)), ('although', np.float64(-3.684594183999356e-05)), ('commit', np.float64(-3.7504628991532956e-05)), ('old', np.float64(-3.85497956191073e-05)), ('gain', np.float64(-3.9167979917230475e-05)), ('back', np.float64(-3.9559852476447714e-05)), ('impact', np.float64(-4.0184056154933046e-05)), ('goe', np.float64(-4.1488716737451135e-05)), ('saw', np.float64(-4.1850247199113624e-05)), ('clear', np.float64(-4.223408142704408e-05)), ('leagu', np.float64(-4.377851506249652e-05)), ('put', np.float64(-4.394237557570936e-05)), ('consum', np.float64(-4.398425063862336e-05)), ('good', np.float64(-4.475094656818893e-05)), ('institut', np.float64(-4.515385990948339e-05)), ('tell', np.float64(-4.6306898707123125e-05)), ('fight', np.float64(-4.634284040027346e-05)), ('goal', np.float64(-4.68893164604756e-05)), ('defend', np.float64(-4.772350303985923e-05)), ('side', np.float64(-4.802764825565496e-05)), ('anoth', np.float64(-4.8207660831131116e-05)), ('fire', np.float64(-4.866796415439983e-05)), ('done', np.float64(-4.890621409088872e-05)), ('seriou', np.float64(-4.891737427143068e-05)), ('end', np.float64(-4.949771150292593e-05)), ('rather', np.float64(-4.987613766178195e-05)), ('help', np.float64(-5.0596449357778826e-05)), ('space', np.float64(-5.092725004184306e-05)), ('cover', np.float64(-5.152917753935011e-05)), ('initi', np.float64(-5.185427313033589e-05)), ('measur', np.float64(-5.3945129842134236e-05)), ('send', np.float64(-5.396435924776645e-05)), ('determin', np.float64(-5.4478414062365886e-05)), ('els', np.float64(-5.516960257686442e-05)), ('short', np.float64(-5.556344687038321e-05)), ('especi', np.float64(-5.598469888951996e-05)), ('lo', np.float64(-5.614632477452002e-05)), ('respect', np.float64(-5.629858522086063e-05)), ('men', np.float64(-5.677951812411389e-05)), ('dont', np.float64(-5.726282510182387e-05)), ('agreement', np.float64(-5.867819943736527e-05)), ('investig', np.float64(-5.882710265360427e-05)), ('away', np.float64(-5.896688759851425e-05)), ('hold', np.float64(-5.9050368304068936e-05)), ('get', np.float64(-6.0427364686390945e-05)), ('alway', np.float64(-6.0830221157516886e-05)), ('paper', np.float64(-6.13000584876781e-05)), ('save', np.float64(-6.243337370791474e-05)), ('never', np.float64(-6.245031297053396e-05)), ('move', np.float64(-6.305368652208851e-05)), ('signific', np.float64(-6.315614565185714e-05)), ('april', np.float64(-6.317192838226657e-05)), ('protest', np.float64(-6.332008483639221e-05)), ('immedi', np.float64(-6.373008218641871e-05)), ('amend', np.float64(-6.3864863246449e-05)), ('top', np.float64(-6.399241098128375e-05)), ('violenc', np.float64(-6.551529158955934e-05)), ('refer', np.float64(-6.593877044584344e-05)), ('wrong', np.float64(-6.63712684210055e-05)), ('particip', np.float64(-6.649373513633743e-05)), ('thought', np.float64(-6.832740049115291e-05)), ('strike', np.float64(-6.84239459009322e-05)), ('instead', np.float64(-6.851949241004531e-05)), ('major', np.float64(-6.92961212705762e-05)), ('let', np.float64(-6.941648025832604e-05)), ('learn', np.float64(-7.013927987822345e-05)), ('give', np.float64(-7.165549877503723e-05)), ('ground', np.float64(-7.171501537523822e-05)), ('network', np.float64(-7.197705817345399e-05)), ('refus', np.float64(-7.498961177540098e-05)), ('remain', np.float64(-7.628768931777926e-05)), ('start', np.float64(-7.647758451575799e-05)), ('answer', np.float64(-7.720226289964732e-05)), ('reduc', np.float64(-7.856158442904102e-05)), ('pressur', np.float64(-8.034383827377123e-05)), ('other', np.float64(-8.061474476448447e-05)), ('capit', np.float64(-8.132530411934834e-05)), ('soon', np.float64(-8.139699500332389e-05)), ('onlin', np.float64(-8.219214519224259e-05)), ('period', np.float64(-8.219844200061825e-05)), ('fail', np.float64(-8.222489180626804e-05)), ('promot', np.float64(-8.312198936412401e-05)), ('council', np.float64(-8.432391812496708e-05)), ('near', np.float64(-8.469256119333598e-05)), ('arrest', np.float64(-8.569945914391723e-05)), ('everyon', np.float64(-8.611522915876466e-05)), ('health', np.float64(-8.621751695424133e-05)), ('octob', np.float64(-8.648610304125862e-05)), ('opposit', np.float64(-8.676044649986509e-05)), ('insid', np.float64(-8.712719337807169e-05)), ('produc', np.float64(-8.713422525274191e-05)), ('ye', np.float64(-8.766927952163464e-05)), ('begin', np.float64(-8.886793178441218e-05)), ('subject', np.float64(-8.955796246511632e-05)), ('list', np.float64(-9.003223052972441e-05)), ('star', np.float64(-9.033561461219478e-05)), ('ban', np.float64(-9.039990360274164e-05)), ('discuss', np.float64(-9.0695876843583e-05)), ('heart', np.float64(-9.113718805833028e-05)), ('concern', np.float64(-9.164873179250729e-05)), ('opinion', np.float64(-9.180322970534432e-05)), ('defens', np.float64(-9.254924269150419e-05)), ('someth', np.float64(-9.27348987353417e-05)), ('huge', np.float64(-9.305305182455366e-05)), ('rest', np.float64(-9.309673775393642e-05)), ('eye', np.float64(-9.343745858823724e-05)), ('despit', np.float64(-9.359235694340613e-05)), ('realli', np.float64(-9.389781381045252e-05)), ('independ', np.float64(-9.406393167505126e-05)), ('arriv', np.float64(-9.439877877581617e-05)), ('longer', np.float64(-9.552315660345522e-05)), ('shoot', np.float64(-9.875414115389987e-05)), ('hundr', np.float64(-9.92025236150909e-05)), ('toward', np.float64(-0.00010009603505147988)), ('make', np.float64(-0.00010027268725123009)), ('imag', np.float64(-0.00010067571351994923)), ('sure', np.float64(-0.00010178399432989504)), ('internet', np.float64(-0.00010217550330605068)), ('enforc', np.float64(-0.00010229317469118924)), ('connect', np.float64(-0.00010246610295059375)), ('conduct', np.float64(-0.00010286551533122496)), ('accept', np.float64(-0.00010327227089107689)), ('histori', np.float64(-0.00010354341193128237)), ('speak', np.float64(-0.00010498750342008846)), ('train', np.float64(-0.00010568851049209461)), ('advanc', np.float64(-0.00010690899765727045)), ('matter', np.float64(-0.00010728055759918066)), ('similar', np.float64(-0.0001077861357866467)), ('august', np.float64(-0.00010813439329673802)), ('act', np.float64(-0.00010916587796177364)), ('paul', np.float64(-0.00010937259309613204)), ('decemb', np.float64(-0.0001095969684955323)), ('far', np.float64(-0.00010973152807569803)), ('across', np.float64(-0.00011032023063426788)), ('site', np.float64(-0.00011111423437787078)), ('check', np.float64(-0.00011144835742125513)), ('mention', np.float64(-0.00011280553452668659)), ('addit', np.float64(-0.0001137841782946306)), ('part', np.float64(-0.00011405574783268776)), ('best', np.float64(-0.00011497047286395832)), ('told', np.float64(-0.00011554430099052892)), ('anyth', np.float64(-0.00011592187534157868)), ('bring', np.float64(-0.00011613980714708324)), ('industri', np.float64(-0.00011687312873785011)), ('certain', np.float64(-0.00011818993211410009)), ('feder', np.float64(-0.00011851353034833122)), ('note', np.float64(-0.00011942842991330177)), ('centuri', np.float64(-0.00011955387481955187)), ('sinc', np.float64(-0.00011961321748229213)), ('hand', np.float64(-0.00012005449559807275)), ('right', np.float64(-0.00012042506405081756)), ('victim', np.float64(-0.00012057959813602037)), ('head', np.float64(-0.00012080905554916763)), ('yet', np.float64(-0.00012099134160061583)), ('emerg', np.float64(-0.0001210671808198021)), ('latest', np.float64(-0.00012132929968617143)), ('avail', np.float64(-0.00012146249287785645)), ('express', np.float64(-0.00012152016343346773)), ('either', np.float64(-0.00012164060185166931)), ('middl', np.float64(-0.0001222829063684312)), ('medic', np.float64(-0.00012246324852442278)), ('recent', np.float64(-0.0001229316375769326)), ('plant', np.float64(-0.0001230656030737473)), ('declar', np.float64(-0.0001238347729355655)), ('indic', np.float64(-0.00012445527886674424)), ('januari', np.float64(-0.00012606896539117007)), ('allow', np.float64(-0.00012703328990892274)), ('ga', np.float64(-0.00012706322201970602)), ('social', np.float64(-0.00012808992267080224)), ('state', np.float64(-0.0001288096501167865)), ('low', np.float64(-0.0001291200362112497)), ('respons', np.float64(-0.0001312684264004691)), ('fear', np.float64(-0.00013193694342576994)), ('everyth', np.float64(-0.00013263626653193823)), ('trade', np.float64(-0.0001327726478430369)), ('problem', np.float64(-0.00013369147731831206)), ('grow', np.float64(-0.00013384254453606263)), ('rate', np.float64(-0.00013387145710216106)), ('specif', np.float64(-0.0001348354461645965)), ('way', np.float64(-0.00013604330659561367)), ('rise', np.float64(-0.00013641605611491652)), ('term', np.float64(-0.0001374654448500263)), ('anyon', np.float64(-0.0001376242780144973)), ('potenti', np.float64(-0.0001383064357142992)), ('civil', np.float64(-0.00013838474472587035)), ('quit', np.float64(-0.0001386996830861831)), ('liber', np.float64(-0.00013920095545134404)), ('land', np.float64(-0.00013927458189725542)), ('test', np.float64(-0.00014220574249189084)), ('man', np.float64(-0.00014276909443662177)), ('demand', np.float64(-0.0001437676745487483)), ('experi', np.float64(-0.00014789879799094246)), ('differ', np.float64(-0.00014874421324463042)), ('suffer', np.float64(-0.00014884329909193634)), ('buy', np.float64(-0.00015035137300284602)), ('immigr', np.float64(-0.0001509193587414735)), ('condit', np.float64(-0.0001519656037001655)), ('break', np.float64(-0.00015229005535112702)), ('place', np.float64(-0.0001522949382101776)), ('stop', np.float64(-0.00015294350643634816)), ('involv', np.float64(-0.00015299169940344607)), ('whole', np.float64(-0.00015305383762499936)), ('prevent', np.float64(-0.000153683254574405)), ('visit', np.float64(-0.00015377690221796234)), ('american', np.float64(-0.00015508953882014623)), ('twitter', np.float64(-0.00015518060934823765)), ('financi', np.float64(-0.00015614458449125053)), ('higher', np.float64(-0.0001570430153386203)), ('leav', np.float64(-0.00015714640416994734)), ('thousand', np.float64(-0.00015887285658795352)), ('high', np.float64(-0.0001593640581848293)), ('septemb', np.float64(-0.0001602068240689854)), ('taken', np.float64(-0.00016153259724989509)), ('black', np.float64(-0.00016153989807460886)), ('page', np.float64(-0.0001616157152759672)), ('expert', np.float64(-0.00016164735443688583)), ('growth', np.float64(-0.00016311692412706582)), ('around', np.float64(-0.00016368763194108066)), ('drug', np.float64(-0.00016791256074904148)), ('consid', np.float64(-0.00016843092245241525)), ('pictur', np.float64(-0.00016945496975700162)), ('known', np.float64(-0.00016995552677786716)), ('document', np.float64(-0.00017062002023564938)), ('entir', np.float64(-0.0001721870843073768)), ('need', np.float64(-0.00017347861160124265)), ('realiti', np.float64(-0.0001746465239995268)), ('cours', np.float64(-0.00017552149805516665)), ('exampl', np.float64(-0.00017552572482658466)), ('releas', np.float64(-0.00017606042245368642)), ('word', np.float64(-0.00017777771431808152)), ('organ', np.float64(-0.00017791082677773057)), ('base', np.float64(-0.00017950654876450027)), ('north', np.float64(-0.0001797604032280606)), ('crimin', np.float64(-0.0001812219991037383)), ('action', np.float64(-0.00018154585520687404)), ('common', np.float64(-0.0001818244184049625)), ('scienc', np.float64(-0.00018420236799806373)), ('provid', np.float64(-0.00019040983808068872)), ('abl', np.float64(-0.00019094228777483493)), ('amount', np.float64(-0.00019138016997564478)), ('economi', np.float64(-0.00019201147646284126)), ('full', np.float64(-0.0001921319085360113)), ('central', np.float64(-0.00019215985309524707)), ('next', np.float64(-0.00019340402379213937)), ('posit', np.float64(-0.00019455124650398156)), ('societi', np.float64(-0.0001951431208222638)), ('given', np.float64(-0.0001952257083597497)), ('appear', np.float64(-0.0001964633329479971)), ('air', np.float64(-0.00019657238688594906)), ('establish', np.float64(-0.0001965947853759003)), ('simpli', np.float64(-0.00019787631507756597)), ('live', np.float64(-0.0001990107064775413)), ('carri', np.float64(-0.00020109782907143348)), ('true', np.float64(-0.0002022827315648146)), ('crime', np.float64(-0.000203483121156851)), ('date', np.float64(-0.00020378989526104998)), ('armi', np.float64(-0.00020385871965217174)), ('death', np.float64(-0.00020450004124840393)), ('ever', np.float64(-0.0002052337869082548)), ('mass', np.float64(-0.0002054036968458382)), ('without', np.float64(-0.0002062897844431952)), ('key', np.float64(-0.0002063389606381629)), ('prepar', np.float64(-0.0002067696648656869)), ('peac', np.float64(-0.0002071240964049507)), ('protect', np.float64(-0.000207299631914495)), ('remov', np.float64(-0.0002076567460129229)), ('explain', np.float64(-0.0002081394436140502)), ('one', np.float64(-0.0002091187826600699)), ('publish', np.float64(-0.00020962734717374005)), ('daili', np.float64(-0.00021381515787145128)), ('process', np.float64(-0.00021428440301608494)), ('seen', np.float64(-0.00021506643208239978)), ('present', np.float64(-0.0002152720295138668)), ('alreadi', np.float64(-0.0002159128402712872)), ('keep', np.float64(-0.00021632447426142218)), ('develop', np.float64(-0.00021755867580119893)), ('danger', np.float64(-0.00021775290710060626)), ('crisi', np.float64(-0.00021815260509832197)), ('total', np.float64(-0.00022180664443596657)), ('everi', np.float64(-0.00022528311506793907)), ('import', np.float64(-0.00022584832972430066)), ('risk', np.float64(-0.00022642169732052227)), ('technolog', np.float64(-0.00023100231496133198)), ('detail', np.float64(-0.0002321000871773761)), ('attempt', np.float64(-0.00023307671396444359)), ('lie', np.float64(-0.000234024638421248)), ('area', np.float64(-0.00023425842504833777)), ('valu', np.float64(-0.00023705080097253823)), ('great', np.float64(-0.00023779912657132863)), ('today', np.float64(-0.0002378387926028308)), ('noth', np.float64(-0.00023974320881805372)), ('law', np.float64(-0.0002404422761160313)), ('relat', np.float64(-0.00024051124790735274)), ('real', np.float64(-0.00024112501896942436)), ('could', np.float64(-0.00024471593195864866)), ('futur', np.float64(-0.00025031462456051286)), ('complet', np.float64(-0.0002503963105241849)), ('money', np.float64(-0.0002525182789632741)), ('person', np.float64(-0.0002528296131612696)), ('situat', np.float64(-0.0002533760808157263)), ('price', np.float64(-0.0002537429682066464)), ('oil', np.float64(-0.0002548812008493749)), ('intellig', np.float64(-0.0002575564409204702)), ('understand', np.float64(-0.0002594702597225223)), ('light', np.float64(-0.0002601517931320742)), ('data', np.float64(-0.00026022069030127634)), ('find', np.float64(-0.0002605940243410503)), ('individu', np.float64(-0.000261231674582787)), ('life', np.float64(-0.00026246502239849357)), ('obama', np.float64(-0.00026381295989942686)), ('dollar', np.float64(-0.00026657440887982117)), ('creat', np.float64(-0.00026743990870924583)), ('popul', np.float64(-0.00026851182399207236)), ('share', np.float64(-0.0002688343594957573)), ('number', np.float64(-0.0002691171238500226)), ('even', np.float64(-0.0002703410329065346)), ('gun', np.float64(-0.000272325640422509)), ('border', np.float64(-0.0002750597165296258)), ('mind', np.float64(-0.0002760276071395063)), ('found', np.float64(-0.000278020443030374)), ('target', np.float64(-0.00027851366979719685)), ('mani', np.float64(-0.000279714731294112)), ('increas', np.float64(-0.00028318031002712166)), ('illeg', np.float64(-0.00028655302135721894)), ('thing', np.float64(-0.00028788652087796034)), ('energi', np.float64(-0.0002879849406951891)), ('british', np.float64(-0.00028814599901565824)), ('form', np.float64(-0.00029198681278693643)), ('look', np.float64(-0.00029296968813463057)), ('event', np.float64(-0.0002950145255159474)), ('citizen', np.float64(-0.00029611585617750347)), ('threat', np.float64(-0.00029618767886110725)), ('warn', np.float64(-0.0002972408549330944)), ('exist', np.float64(-0.00030047508165327835)), ('facebook', np.float64(-0.0003010309298767361)), ('arm', np.float64(-0.00030158955415368204)), ('freedom', np.float64(-0.0003026114016823964)), ('becom', np.float64(-0.000302723354904829)), ('activ', np.float64(-0.00030559310256465127)), ('interest', np.float64(-0.0003079044059042396)), ('constitut', np.float64(-0.0003103681771061607)), ('current', np.float64(-0.0003149756846740656)), ('iran', np.float64(-0.00031613001999261414)), ('evid', np.float64(-0.0003170431298591493)), ('possibl', np.float64(-0.0003191497800029312)), ('christian', np.float64(-0.00032020942000549296)), ('econom', np.float64(-0.00032451861908741825)), ('debt', np.float64(-0.0003282117945104336)), ('minist', np.float64(-0.0003292144436717688)), ('within', np.float64(-0.00033109217361558573)), ('effect', np.float64(-0.00033820100671235354)), ('reason', np.float64(-0.00033940656402139556)), ('origin', np.float64(-0.0003399371675987272)), ('<', np.float64(-0.00034074926263616737)), ('water', np.float64(-0.0003494486350168075)), ('actual', np.float64(-0.0003499858817945212)), ('due', np.float64(-0.000352648435134106)), ('intern', np.float64(-0.00035362628917074996)), ('region', np.float64(-0.00035449843037495775)), ('nuclear', np.float64(-0.00036550610008386354)), ('happen', np.float64(-0.0003674914086267058)), ('well', np.float64(-0.000368495120590812)), ('oper', np.float64(-0.00037015126870555226)), ('author', np.float64(-0.00037093407954921125)), ('engag', np.float64(-0.0003728481488086671)), ('discov', np.float64(-0.0003741817719584066)), ('brain', np.float64(-0.00037551539510814606)), ('religion', np.float64(-0.00037553366391841644)), ('take', np.float64(-0.0003777954598735973)), ('engin', np.float64(-0.00037779899639194653)), ('demonstr', np.float64(-0.0003778355340124873)), ('safeti', np.float64(-0.00037845667356168104)), ('soldier', np.float64(-0.0003787672433362779)), ('jew', np.float64(-0.0003788951250081707)), ('predict', np.float64(-0.0003789133938184411)), ('headlin', np.float64(-0.0003790595443006044)), ('know', np.float64(-0.0003795249539328368)), ('enemi', np.float64(-0.0003796806838497981)), ('secur', np.float64(-0.00038009929741765177)), ('incid', np.float64(-0.00038015567291682856)), ('enjoy', np.float64(-0.0003808864253276447)), ('el', np.float64(-0.00038103257580980794)), ('normal', np.float64(-0.00038192774751305775)), ('terror', np.float64(-0.0003822263906952251)), ('kill', np.float64(-0.0003834745319035548)), ('fals', np.float64(-0.00038417481117631735)), ('clearli', np.float64(-0.00038601996101362814)), ('suspect', np.float64(-0.00038651321889092904)), ('identifi', np.float64(-0.00038660456294228103)), ('japan', np.float64(-0.00038808433657418375)), ('absolut', np.float64(-0.00038821221824607657)), ('notic', np.float64(-0.0003894179597239232)), ('refuge', np.float64(-0.0003908794645455555)), ('certainli', np.float64(-0.00039153714171529)), ('modern', np.float64(-0.0003921034748336725)), ('influenc', np.float64(-0.00039237750698772856)), ('violat', np.float64(-0.00039263327033151426)), ('treat', np.float64(-0.00039287076486502946)), ('awar', np.float64(-0.0003929073024855703)), ('nation', np.float64(-0.0003937239001857427)), ('weapon', np.float64(-0.00039384024838670233)), ('readi', np.float64(-0.00039444188254828417)), ('solut', np.float64(-0.00039466110827152904)), ('theori', np.float64(-0.0003973466233812784)), ('french', np.float64(-0.00039776680601749767)), ('china', np.float64(-0.0003978410791510517)), ('european', np.float64(-0.0003980469358252328)), ('stock', np.float64(-0.0003982804244525147)), ('studi', np.float64(-0.00039836331396678616)), ('cia', np.float64(-0.00039886293463372186)), ('observ', np.float64(-0.0004010551918661703)), ('basic', np.float64(-0.000401402299261308)), ('korea', np.float64(-0.00040300995456510346)), ('fed', np.float64(-0.00040364936292456763)), ('manufactur', np.float64(-0.0004039051262683533)), ('foreign', np.float64(-0.00040519083977225026)), ('collaps', np.float64(-0.0004058233513467456)), ('abil', np.float64(-0.00040695601758351064)), ('command', np.float64(-0.00040699255520405147)), ('missil', np.float64(-0.00040723004973756673)), ('deliv', np.float64(-0.00040728485616837795)), ('israel', np.float64(-0.00040915772274002847)), ('blog', np.float64(-0.00040942230697001516)), ('februari', np.float64(-0.00041088381179164743)), ('surviv', np.float64(-0.00041214435970030527)), ('politician', np.float64(-0.00041402604715815684)), ('encourag', np.float64(-0.00041479333718951383)), ('prove', np.float64(-0.0004151039069641107)), ('affect', np.float64(-0.00041514044458465147)), ('talk', np.float64(-0.00041514265987042985)), ('turkey', np.float64(-0.0004161817667700645)), ('resourc', np.float64(-0.00041713174490412547)), ('putin', np.float64(-0.0004171865513349367)), ('link', np.float64(-0.0004181234958030261)), ('regim', np.float64(-0.00041813652946899767)), ('result', np.float64(-0.00041931748721063186)), ('variou', np.float64(-0.00041948842142900756)), ('via', np.float64(-0.00042001821692684923)), ('anim', np.float64(-0.00042063935647604296)), ('conflict', np.float64(-0.000421680678661456)), ('avoid', np.float64(-0.0004218999043847008)), ('tv', np.float64(-0.00042215566772848645)), ('appar', np.float64(-0.0004229594953803842)), ('chines', np.float64(-0.00042409216161714923)), ('ukrain', np.float64(-0.00042464022592526136)), ('>', np.float64(-0.0004264228361766674)), ('eat', np.float64(-0.0004269420960193322)), ('polic', np.float64(-0.00042742962609882253)), ('mean', np.float64(-0.00042745003298802335)), ('massiv', np.float64(-0.00043023048186800484)), ('en', np.float64(-0.0004305958580734129)), ('safe', np.float64(-0.0004308881590377394)), ('scientist', np.float64(-0.0004310891159507138)), ('agent', np.float64(-0.0004316006426382851)), ('content', np.float64(-0.000432185244566938)), ('unit', np.float64(-0.0004323332046862103)), ('level', np.float64(-0.00043382457281752375)), ('previou', np.float64(-0.00043678898475507975)), ('free', np.float64(-0.0004372238184271696)), ('dead', np.float64(-0.0004376841564583295)), ('per', np.float64(-0.0004388833112263984)), ('fbi', np.float64(-0.0004391273924696914)), ('cell', np.float64(-0.0004411186927891654)), ('blockchain', np.float64(-0.0004424705847491753)), ('thu', np.float64(-0.0004446993796021645)), ('blood', np.float64(-0.00044499168056649096)), ('chemic', np.float64(-0.00044592338989028155)), ('franc', np.float64(-0.00044652626062920484)), ('german', np.float64(-0.00044879159310273493)), ('locat', np.float64(-0.0004491021628773318)), ('enter', np.float64(-0.0004496136895649031)), ('moscow', np.float64(-0.00045014348506274476)), ('europ', np.float64(-0.00045047922073992064)), ('planet', np.float64(-0.0004512030760584282)), ('truth', np.float64(-0.0004514546206569764)), ('isra', np.float64(-0.0004529020754135757)), ('prime', np.float64(-0.0004538703223579071)), ('alleg', np.float64(-0.00045520394550764657)), ('ignor', np.float64(-0.0004564096869854932)), ('physic', np.float64(-0.00046148841624066544)), ('bank', np.float64(-0.0004616276927870422)), ('admit', np.float64(-0.00046322395321635374)), ('object', np.float64(-0.00046775461816341387)), ('germani', np.float64(-0.0004729612290904789)), ('saudi', np.float64(-0.0004737467879321062)), ('contact', np.float64(-0.00047584770111320265)), ('purpos', np.float64(-0.00047685248567807485)), ('america', np.float64(-0.00048194748525528077)), ('analysi', np.float64(-0.00048562151460786857)), ('isi', np.float64(-0.00048748493325544975)), ('post', np.float64(-0.000494388551701797)), ('extrem', np.float64(-0.0004981539184533654)), ('al', np.float64(-0.0004994144663620233)), ('bodi', np.float64(-0.0005001045107992598)), ('britain', np.float64(-0.0005035797551036753)), ('come', np.float64(-0.0005057004534684511)), ('reserv', np.float64(-0.0005064479583161286)), ('confirm', np.float64(-0.0005187063300075695)), ('le', np.float64(-0.0005232918013854408)), ('damag', np.float64(-0.000524570618104369)), ('video', np.float64(-0.0005253509742859847)), ('regard', np.float64(-0.000528735906846021)), ('terrorist', np.float64(-0.0005345744422055011)), ('london', np.float64(-0.0005351482592509327)), ('order', np.float64(-0.000536585216566994)), ('launch', np.float64(-0.0005386741396331207)), ('murder', np.float64(-0.000544209589145053)), ('suppli', np.float64(-0.0005460912766029045)), ('materi', np.float64(-0.0005535449511932292)), ('accord', np.float64(-0.0005558761119705624)), ('bomb', np.float64(-0.000558696755689483)), ('caus', np.float64(-0.0005615683706341532)), ('contain', np.float64(-0.0005666071505365677)), ('inform', np.float64(-0.000570257077620702)), ('destroy', np.float64(-0.0005727820084079642)), ('western', np.float64(-0.0005827385100053342)), ('cancer', np.float64(-0.0005860086270437363)), ('natur', np.float64(-0.0005887119185453591)), ('upon', np.float64(-0.0005895345074259243)), ('secret', np.float64(-0.0005925305923102705)), ('media', np.float64(-0.0005938802068173304)), ('diseas', np.float64(-0.0005954901395740759)), ('type', np.float64(-0.0005976093215654427)), ('god', np.float64(-0.0006022058020540181)), ('|', np.float64(-0.0006051641371263637)), ('also', np.float64(-0.0006059646175443885)), ('may', np.float64(-0.0006142429359218943)), ('believ', np.float64(-0.000616613236617127)), ('howev', np.float64(-0.0006179956976682333)), ('control', np.float64(-0.0006183794461206802)), ('militari', np.float64(-0.0006186149747409111)), ('system', np.float64(-0.0006198321000121028)), ('research', np.float64(-0.0006199922757938529)), ('vaccin', np.float64(-0.0006278807401835014)), ('muslim', np.float64(-0.0006304864835605911)), ('power', np.float64(-0.0006346768485245859)), ('add', np.float64(-0.0006398583658753627)), ('websit', np.float64(-0.0006446697768220023)), ('properti', np.float64(-0.0006497485060771745)), ('islam', np.float64(-0.0006502727074930979)), ('claim', np.float64(-0.0006507109688053161)), ('syrian', np.float64(-0.0006568550732723615)), ('un', np.float64(-0.0006591021369356212)), ('think', np.float64(-0.0006617324244375437)), ('eu', np.float64(-0.000666153897699997)), ('see', np.float64(-0.0006684318837154053)), ('food', np.float64(-0.0006722152523156898)), ('human', np.float64(-0.0006737812320186077)), ('forc', np.float64(-0.0006745287254593664)), ('search', np.float64(-0.0006746123568551938)), ('attack', np.float64(-0.0006961688740912395)), ('global', np.float64(-0.0007107445074925938)), ('uk', np.float64(-0.0007211430166139118)), ('countri', np.float64(-0.0007259348337036223)), ('reveal', np.float64(-0.000727445756157201)), ('earth', np.float64(-0.0007379137844421423)), ('la', np.float64(-0.000750153209362302)), ('articl', np.float64(-0.0008253452568241269)), ('follow', np.float64(-0.0008293971303813873)), ('market', np.float64(-0.0008357757232077352)), ('gold', np.float64(-0.0008440555721131873)), ('war', np.float64(-0.0008645937309224737)), ('getti', np.float64(-0.0008757702267426079)), ('reader', np.float64(-0.0008845027180518608)), ('russian', np.float64(-0.0009512788578457144)), ('cent', np.float64(-0.0009522617353447878)), ('peopl', np.float64(-0.000982955312038349)), ('syria', np.float64(-0.0009944261494488793)), ('de', np.float64(-0.001136527160492164)), ('fact', np.float64(-0.0011469104302061718)), ('report', np.float64(-0.0011756200377025378)), ('russia', np.float64(-0.001184968097581803)), ('use', np.float64(-0.0012597505683097222)), ('world', np.float64(-0.0012604510471167464)), ('govern', np.float64(-0.00142395672189999)), ('news', np.float64(-0.0014536346888885453)), ('sourc', np.float64(-0.001580631995147816)), ('url', np.float64(-0.0018997162738965158)), ('us', np.float64(-0.0033520415090052885))]\n",
            "Unique tokens:\n",
            "TOKEN: url - Real: 0.0008334073554174857, Fake: 0.0027331236293140016\n",
            "TOKEN: email - Real: 0.0017524307843043573, Fake: 0.000881342213875081\n",
            "TOKEN: num - Real: 0.04428361370880026, Fake: 0.04173822102929327\n",
            "TOKEN: date - Real: 0.0008267902297129581, Fake: 0.001030580124974008\n"
          ]
        },
        {
          "name": "stderr",
          "output_type": "stream",
          "text": [
            "Exception ignored in: <bound method IPythonKernel._clean_thread_parent_frames of <ipykernel.ipkernel.IPythonKernel object at 0x10857f350>>\n",
            "Traceback (most recent call last):\n",
            "  File \"/Users/suneg/miniconda3/lib/python3.12/site-packages/ipykernel/ipkernel.py\", line 775, in _clean_thread_parent_frames\n",
            "    def _clean_thread_parent_frames(\n",
            "\n",
            "KeyboardInterrupt: \n"
          ]
        },
        {
          "data": {
            "image/png": "[encoded data removed]",
            "text/plain": [
              "<Figure size 640x480 with 1 Axes>"
            ]
          },
          "metadata": {},
          "output_type": "display_data"
        }
      ],
      "source": [
        "\n",
        "real_set = set(real_pd.index)\n",
        "fake_set = set(fake_pd.index)\n",
        "unique_words = real_set.union(fake_set) - real_set.intersection(fake_set)\n",
        "print(f\"Amount of words only present in one set than another: {len(unique_words)}\")\n",
        "\n",
        "large_diff = [(word, real_pd.get(word, 0) - fake_pd.get(word, 0)) for word in fake_pd.index if abs(real_pd.get(word, 0) - fake_pd.get(word, 0)) > 0.00001]\n",
        "\n",
        "large_diff.sort(key=lambda x: abs(x[1]), reverse=True)\n",
        "print(large_diff)\n",
        "\n",
        "print(\"Unique tokens:\")\n",
        "for token in [\"url\", \"email\", \"num\", \"date\"]:\n",
        "    print(f\"TOKEN: {token} - Real: {real_pd[token]}, Fake: {fake_pd[token]}\")\n",
        "\n",
        "plt.bar(real_pd.keys(), real_pd.values)\n",
        "plt.show()"
      ]
    },
    {
      "cell_type": "markdown",
      "metadata": {
        "id": "BEK4r7cy7doh"
      },
      "source": [
        "## Task 4"
      ]
    },
    {
      "cell_type": "code",
      "execution_count": null,
      "metadata": {
        "id": "dxlKCVeK7doh",
        "outputId": "689ae9da-ca85-41ac-877b-dd07c1b5d147"
      },
      "outputs": [],
      "source": [
        "# Splitting into test, train and validation\n",
        "X_train_full, X_valtest_full, y_train, y_valtest = train_test_split(fndf, fndf['type'], test_size=0.2, random_state=42) # Replace with fakenews dataset for real linreg.\n",
        "X_test_full, X_val_full, y_test, y_val = train_test_split(X_valtest_full, y_valtest, test_size=0.5, random_state=42)\n",
        "# x_train = testing_ x, y_train = training_y\n",
        "# (x_test\n",
        "X_train = X_train_full['content']\n",
        "X_test = X_test_full['content']\n",
        "print(\"train size:\", y_train.shape)\n",
        "print(\"val size:\", y_val.shape)\n",
        "print(\"test size:\", y_test.shape)\n"
      ]
    },
    {
      "cell_type": "markdown",
      "metadata": {
        "id": "o1MTfwNy7doh"
      },
      "source": [
        "# Part 2"
      ]
    },
    {
      "cell_type": "markdown",
      "metadata": {},
      "source": [
        "## Task 0, splitting labels into reliable and unreliable."
      ]
    },
    {
      "cell_type": "code",
      "execution_count": null,
      "metadata": {},
      "outputs": [],
      "source": [
        "\n",
        "unique_values = fndf['type'].unique()\n",
        "print(unique_values)\n",
        "#hard to know how to classify nan and unknown, so removed for now\n",
        "# we also remove the a weird type \n",
        "fndf = fndf.dropna(subset=['type'])\n",
        "fndf = fndf.loc[fndf['type']!='unknown']\n",
        "# Need to reset index\n",
        "\n",
        "newunique_values = fndf['type'].unique()\n",
        "print(newunique_values)\n",
        "\n",
        "\n",
        "# groups (reliable) as truenews 1 and (all others) in fakenews 0\n",
        "    #note this is naive and should be reconsidered later\n",
        "\n",
        "# reliable, clickbait and political are all, by their contents, factually correct (albeit possibly politcally motivated)\n",
        "# we deem those to be \"real\" news\n",
        "fndf['type'] = fndf['type'].replace(r'^(reliable|clickbait|political)$', '1', regex=True) \n",
        "fndf['type'] = fndf['type'].replace(r'^(?!1$).+', '0', regex=True)   # Replace everything except '1' with '0'\n",
        "#fndf['type'] = fndf['type'].fillna('0')\n",
        "\n",
        "newunique_values = fndf['type'].unique()\n",
        "print(newunique_values)\n",
        "fndf.shape[0]"
      ]
    },
    {
      "cell_type": "markdown",
      "metadata": {},
      "source": [
        "## Task 1 - Simple linear regression model."
      ]
    },
    {
      "cell_type": "markdown",
      "metadata": {},
      "source": [
        "Get the top 10000 words, and how often they occur in each article"
      ]
    },
    {
      "cell_type": "code",
      "execution_count": null,
      "metadata": {},
      "outputs": [],
      "source": [
        "#Standarize fndf?\n",
        "\n",
        "# get top 10000 words for vocab in training data to avoid leaking data from test set\n",
        "print(\"Finding vocabulary:\")\n",
        "vocab = X_train.explode().value_counts()[:10000].keys()\n",
        "#training_split_freq = FreqDist(X_train.explode())\n",
        "#vocab = [x for (x, y) in training_split_freq.most_common(10000)]\n",
        "#print(pd.Series(nsdf[\"content\"][0]).value_counts())\n",
        "#print(pd.Series(fndf[\"content\"][0]).value_counts()[top.keys()[0]])\n",
        "\n",
        "def CountFreq(words, vocab):\n",
        "    # words: Series[str]\n",
        "    # vocab: list[str] of words to count\n",
        "    words = pd.Series(words)\n",
        "    new_row = pd.Series(np.zeros(len(vocab)))\n",
        "    n = len(vocab)\n",
        "    words_in_article = pd.Series(words).value_counts()\n",
        "    return vocab.apply(lambda x: words_in_article.get(x, 0))\n",
        "\n",
        "#rowsFreq = X_train.parallel_apply(lambda row: CountFreq(row, pd.Series(top.keys())))\n",
        "# her bruger vi forskellige vocabularies - vi skal finde vocab for træning og apply den til test_rowsFreq\n",
        "vectorizer = CountVectorizer(analyzer=lambda x: x, vocabulary=vocab)\n",
        "print(\"vectorizing X_train\")\n",
        "rowsFreq = vectorizer.fit_transform(X_train)\n",
        "print(\"vectorizing X_test\")\n",
        "test_rowsFreq = vectorizer.fit_transform(X_test)\n",
        "print(rowsFreq)\n"
      ]
    },
    {
      "cell_type": "code",
      "execution_count": null,
      "metadata": {},
      "outputs": [],
      "source": [
        "#store data\n",
        "\n",
        "joblib.dump((rowsFreq, test_rowsFreq), dataPath + \"rowsFreq.pkl\")\n",
        "joblib.dump((y_train, y_test, y_val), dataPath + \"y.pkl\")\n",
        "#joblib.dump((x_undersampled, y_undersampled), dataPath + \"undersampled.pkl\")\n",
        "joblib.dump((X_train_full, X_test_full, X_val_full), dataPath + \"X_full.pkl\")"
      ]
    },
    {
      "cell_type": "markdown",
      "metadata": {},
      "source": [
        "Creating the linear regression"
      ]
    },
    {
      "cell_type": "code",
      "execution_count": null,
      "metadata": {},
      "outputs": [],
      "source": [
        "#scaler = StandardScaler(with_mean=False)\n",
        "scaler = Normalizer()\n",
        "undersampler = RandomUnderSampler(random_state=42)\n",
        "\n",
        "X_train_scale = scaler.fit_transform(rowsFreq)\n",
        "X_test_scale = scaler.transform(test_rowsFreq)\n",
        "x_undersampled, y_undersampled = undersampler.fit_resample(X_train_scale, y_train)\n",
        "print(\"Starting model training:\")\n",
        "linReg = LogisticRegression(max_iter=1000, penalty=\"l1\", solver='liblinear', random_state=42)#, class_weight=\"balanced\")\n",
        "linReg_weighed = LogisticRegression(max_iter=1000, penalty=\"l1\", solver='liblinear', random_state=42, class_weight=\"balanced\")\n",
        "linReg_undersampled = LogisticRegression(max_iter=1000, penalty=\"l1\", solver='liblinear', random_state=42)\n",
        "print(\"fitting standard model\")\n",
        "linReg.fit(X_train_scale, y_train)\n",
        "print(\"fitting weighted model\")\n",
        "linReg_weighed.fit(X_train_scale, y_train)\n",
        "print(\"fitting undersampled model\")\n",
        "linReg_undersampled.fit(x_undersampled, y_undersampled)\n",
        "\n",
        "y_pred = linReg.predict(X_test_scale)\n",
        "y_pred_weighted = linReg_weighed.predict(X_test_scale)\n",
        "y_pred_undersampled = linReg_undersampled.predict(X_test_scale)\n",
        "f1 = f1_score(y_test, y_pred)\n",
        "f1_weighted = f1_score(y_test, y_pred_weighted)\n",
        "f1_undersampled = f1_score(y_test, y_pred_undersampled)\n",
        "# Print results\n",
        "print(\"Standard : Weighted : Undersampled\")\n",
        "print(f\"F1 Score: {f1:.4f} : {f1_weighted:.4f} : {f1_undersampled:.4f}\")\n",
        "print(f\"Hyperparameters: max_iter=1000, solver='liblinear', binary bag-of-words\")\n"
      ]
    },
    {
      "cell_type": "code",
      "execution_count": null,
      "metadata": {},
      "outputs": [],
      "source": [
        "# Save model\n",
        "joblib.dump((linReg, linReg_weighed, linReg_undersampled), dataPath + \"linReg.pkl\")"
      ]
    },
    {
      "cell_type": "code",
      "execution_count": null,
      "metadata": {},
      "outputs": [],
      "source": [
        "# Reload data \n",
        "(linReg, linReg_weighed, linReg_undersampled) = joblib.load(dataPath + \"linReg.pkl\")\n",
        "(rowsFreq, test_rowsFreq) = joblib.load(dataPath + \"rowsFreq.pkl\")\n",
        "(y_train, y_test, y_val) = joblib.load(dataPath + \"y.pkl\")\n",
        "#(x_undersampled, y_undersampled) = joblib.load(dataPath + \"undersampled.pkl\")\n",
        "\n",
        "scaler = Normalizer()\n",
        "X_train_scale = scaler.fit_transform(rowsFreq)\n",
        "X_test_scale = scaler.transform(test_rowsFreq)\n",
        "\n",
        "y_pred = linReg.predict(X_test_scale)\n",
        "y_train_pred = linReg.predict(X_train_scale)"
      ]
    },
    {
      "cell_type": "code",
      "execution_count": null,
      "metadata": {},
      "outputs": [],
      "source": [
        "#Visualize\n",
        "print(f\"F1 Score: Train: {f1_score(y_train, y_train_pred):.4f}, Test: {f1_score(y_test, y_pred):.4f}\")\n",
        "print(f\"Accuracy (test): {accuracy_score(y_test, y_pred):.4f}\")\n",
        "\n",
        "cm = confusion_matrix(y_test, y_pred, normalize='true')\n",
        "disp = ConfusionMatrixDisplay(confusion_matrix=cm, display_labels=linReg.classes_)\n",
        "disp.plot()\n",
        "plt.show()"
      ]
    },
    {
      "cell_type": "markdown",
      "metadata": {},
      "source": [
        "### Task 3"
      ]
    },
    {
      "cell_type": "code",
      "execution_count": null,
      "metadata": {},
      "outputs": [],
      "source": [
        "bbc_raw = pd.from_csv(dataPath + \"bbc_articles.csv\")\n",
        "\n",
        "bbc_processed = processData(bbc_raw, 'text')\n",
        "bbc_processed['type'] = 1\n",
        "\n",
        "bbc_processed.to_json(dataPath + \"bbc_processed.json\", orient='records', lines=True)\n"
      ]
    },
    {
      "cell_type": "code",
      "execution_count": null,
      "metadata": {},
      "outputs": [],
      "source": [
        "if bbc_proccessed is None:\n",
        "    json_reader = pd.read_json(dataPath + \"bbc_processed.json\", orient='records', lines=True, chunksize=1500)\n",
        "    bbc_processed = pd.concat(json_reader, ignore_index=True)\n",
        "\n",
        "bbcdf = bbc_processed\n",
        "\n",
        "BBC_train = pd.concat([X_train, bbcdf['text']]).reset_index(drop=True)\n",
        "BBC_train = scaler.fit_transform(BBC_train)\n",
        "BBC_y = pd.concat([y_train, bbcdf[\"type\"]])\n",
        "bbcReg = LogisticRegression(max_iter=1000, penalty=\"l1\", solver='liblinear', random_state=42)\n",
        "bbcReg.fit(BBC_train, BBC_y)\n",
        "BBC_pred = bbcReg.predict(X_test)\n",
        "print(f\"F1: {f1_score(y_test, BBC_pred)}\")"
      ]
    },
    {
      "cell_type": "markdown",
      "metadata": {},
      "source": [
        "# advanced model"
      ]
    },
    {
      "cell_type": "code",
      "execution_count": null,
      "metadata": {},
      "outputs": [],
      "source": [
        "import gensim\n",
        "import logging\n",
        "logging.basicConfig(format='%(asctime)s : %(levelname)s : %(message)s', level=logging.INFO)\n",
        "# create document embeddings\n",
        "vector_size = 100\n",
        "embed_model = gensim.models.doc2vec.Doc2Vec(vector_size=vector_size, min_count=2, workers=4)\n",
        "embed_model.build_vocab(X_train)\n"
      ]
    }
  ],
  "metadata": {
    "colab": {
      "provenance": []
    },
    "kernelspec": {
      "display_name": "base",
      "language": "python",
      "name": "python3"
    },
    "language_info": {
      "codemirror_mode": {
        "name": "ipython",
        "version": 3
      },
      "file_extension": ".py",
      "mimetype": "text/x-python",
      "name": "python",
      "nbconvert_exporter": "python",
      "pygments_lexer": "ipython3",
      "version": "3.12.8"
    },
    "widgets": {
      "application/vnd.jupyter.widget-state+json": {
        "13df6b96a88944e98d65e813eeb54bd4": {
          "model_module": "@jupyter-widgets/controls",
          "model_module_version": "1.5.0",
          "model_name": "HBoxModel",
          "state": {
            "_dom_classes": [],
            "_model_module": "@jupyter-widgets/controls",
            "_model_module_version": "1.5.0",
            "_model_name": "HBoxModel",
            "_view_count": null,
            "_view_module": "@jupyter-widgets/controls",
            "_view_module_version": "1.5.0",
            "_view_name": "HBoxView",
            "box_style": "",
            "children": [
              "IPY_MODEL_2814e4c7aa32487e93e3ccd90b6e5f0c",
              "IPY_MODEL_3cc027a216d2481ab36faca98212f3c5"
            ],
            "layout": "IPY_MODEL_4ae5f28587fe4d01ad03446e234a631d"
          }
        },
        "1fdcaf3f9a5245eea4a903b928eee5b8": {
          "model_module": "@jupyter-widgets/controls",
          "model_module_version": "1.5.0",
          "model_name": "HBoxModel",
          "state": {
            "_dom_classes": [],
            "_model_module": "@jupyter-widgets/controls",
            "_model_module_version": "1.5.0",
            "_model_name": "HBoxModel",
            "_view_count": null,
            "_view_module": "@jupyter-widgets/controls",
            "_view_module_version": "1.5.0",
            "_view_name": "HBoxView",
            "box_style": "",
            "children": [
              "IPY_MODEL_b58df1204e824dbd9f72cdb606b2605f",
              "IPY_MODEL_b1c6087d3824401aa91057fe441302fe"
            ],
            "layout": "IPY_MODEL_830cda2af3cb49ecbfe45ca7f2e04a24"
          }
        },
        "23088918d37a416a8506b3fd4c7231f9": {
          "model_module": "@jupyter-widgets/controls",
          "model_module_version": "1.5.0",
          "model_name": "ProgressStyleModel",
          "state": {
            "_model_module": "@jupyter-widgets/controls",
            "_model_module_version": "1.5.0",
            "_model_name": "ProgressStyleModel",
            "_view_count": null,
            "_view_module": "@jupyter-widgets/base",
            "_view_module_version": "1.2.0",
            "_view_name": "StyleView",
            "bar_color": null,
            "description_width": ""
          }
        },
        "24f8c63d4dc3428fbcd67efc20c076f2": {
          "model_module": "@jupyter-widgets/base",
          "model_module_version": "1.2.0",
          "model_name": "LayoutModel",
          "state": {
            "_model_module": "@jupyter-widgets/base",
            "_model_module_version": "1.2.0",
            "_model_name": "LayoutModel",
            "_view_count": null,
            "_view_module": "@jupyter-widgets/base",
            "_view_module_version": "1.2.0",
            "_view_name": "LayoutView",
            "align_content": null,
            "align_items": null,
            "align_self": null,
            "border": null,
            "bottom": null,
            "display": null,
            "flex": null,
            "flex_flow": null,
            "grid_area": null,
            "grid_auto_columns": null,
            "grid_auto_flow": null,
            "grid_auto_rows": null,
            "grid_column": null,
            "grid_gap": null,
            "grid_row": null,
            "grid_template_areas": null,
            "grid_template_columns": null,
            "grid_template_rows": null,
            "height": null,
            "justify_content": null,
            "justify_items": null,
            "left": null,
            "margin": null,
            "max_height": null,
            "max_width": null,
            "min_height": null,
            "min_width": null,
            "object_fit": null,
            "object_position": null,
            "order": null,
            "overflow": null,
            "overflow_x": null,
            "overflow_y": null,
            "padding": null,
            "right": null,
            "top": null,
            "visibility": null,
            "width": null
          }
        },
        "2814e4c7aa32487e93e3ccd90b6e5f0c": {
          "model_module": "@jupyter-widgets/controls",
          "model_module_version": "1.5.0",
          "model_name": "IntProgressModel",
          "state": {
            "_dom_classes": [],
            "_model_module": "@jupyter-widgets/controls",
            "_model_module_version": "1.5.0",
            "_model_name": "IntProgressModel",
            "_view_count": null,
            "_view_module": "@jupyter-widgets/controls",
            "_view_module_version": "1.5.0",
            "_view_name": "ProgressView",
            "bar_style": "success",
            "description": "100.00%",
            "description_tooltip": null,
            "layout": "IPY_MODEL_e28976f80c1548f2af7836d8e8491c87",
            "max": 232,
            "min": 0,
            "orientation": "horizontal",
            "style": "IPY_MODEL_23088918d37a416a8506b3fd4c7231f9",
            "value": 232
          }
        },
        "3cc027a216d2481ab36faca98212f3c5": {
          "model_module": "@jupyter-widgets/controls",
          "model_module_version": "1.5.0",
          "model_name": "LabelModel",
          "state": {
            "_dom_classes": [],
            "_model_module": "@jupyter-widgets/controls",
            "_model_module_version": "1.5.0",
            "_model_name": "LabelModel",
            "_view_count": null,
            "_view_module": "@jupyter-widgets/controls",
            "_view_module_version": "1.5.0",
            "_view_name": "LabelView",
            "description": "",
            "description_tooltip": null,
            "layout": "IPY_MODEL_24f8c63d4dc3428fbcd67efc20c076f2",
            "placeholder": "​",
            "style": "IPY_MODEL_6cfbf875045943ad8b40671a67e0e29e",
            "value": "232 / 232"
          }
        },
        "4ae5f28587fe4d01ad03446e234a631d": {
          "model_module": "@jupyter-widgets/base",
          "model_module_version": "1.2.0",
          "model_name": "LayoutModel",
          "state": {
            "_model_module": "@jupyter-widgets/base",
            "_model_module_version": "1.2.0",
            "_model_name": "LayoutModel",
            "_view_count": null,
            "_view_module": "@jupyter-widgets/base",
            "_view_module_version": "1.2.0",
            "_view_name": "LayoutView",
            "align_content": null,
            "align_items": null,
            "align_self": null,
            "border": null,
            "bottom": null,
            "display": null,
            "flex": null,
            "flex_flow": null,
            "grid_area": null,
            "grid_auto_columns": null,
            "grid_auto_flow": null,
            "grid_auto_rows": null,
            "grid_column": null,
            "grid_gap": null,
            "grid_row": null,
            "grid_template_areas": null,
            "grid_template_columns": null,
            "grid_template_rows": null,
            "height": null,
            "justify_content": null,
            "justify_items": null,
            "left": null,
            "margin": null,
            "max_height": null,
            "max_width": null,
            "min_height": null,
            "min_width": null,
            "object_fit": null,
            "object_position": null,
            "order": null,
            "overflow": null,
            "overflow_x": null,
            "overflow_y": null,
            "padding": null,
            "right": null,
            "top": null,
            "visibility": null,
            "width": null
          }
        },
        "6cfbf875045943ad8b40671a67e0e29e": {
          "model_module": "@jupyter-widgets/controls",
          "model_module_version": "1.5.0",
          "model_name": "DescriptionStyleModel",
          "state": {
            "_model_module": "@jupyter-widgets/controls",
            "_model_module_version": "1.5.0",
            "_model_name": "DescriptionStyleModel",
            "_view_count": null,
            "_view_module": "@jupyter-widgets/base",
            "_view_module_version": "1.2.0",
            "_view_name": "StyleView",
            "description_width": ""
          }
        },
        "6e08915023cb458abda3abdce421467e": {
          "model_module": "@jupyter-widgets/base",
          "model_module_version": "1.2.0",
          "model_name": "LayoutModel",
          "state": {
            "_model_module": "@jupyter-widgets/base",
            "_model_module_version": "1.2.0",
            "_model_name": "LayoutModel",
            "_view_count": null,
            "_view_module": "@jupyter-widgets/base",
            "_view_module_version": "1.2.0",
            "_view_name": "LayoutView",
            "align_content": null,
            "align_items": null,
            "align_self": null,
            "border": null,
            "bottom": null,
            "display": null,
            "flex": null,
            "flex_flow": null,
            "grid_area": null,
            "grid_auto_columns": null,
            "grid_auto_flow": null,
            "grid_auto_rows": null,
            "grid_column": null,
            "grid_gap": null,
            "grid_row": null,
            "grid_template_areas": null,
            "grid_template_columns": null,
            "grid_template_rows": null,
            "height": null,
            "justify_content": null,
            "justify_items": null,
            "left": null,
            "margin": null,
            "max_height": null,
            "max_width": null,
            "min_height": null,
            "min_width": null,
            "object_fit": null,
            "object_position": null,
            "order": null,
            "overflow": null,
            "overflow_x": null,
            "overflow_y": null,
            "padding": null,
            "right": null,
            "top": null,
            "visibility": null,
            "width": null
          }
        },
        "7258d6e2da3a41ad9b4830b0192cb037": {
          "model_module": "@jupyter-widgets/controls",
          "model_module_version": "1.5.0",
          "model_name": "ProgressStyleModel",
          "state": {
            "_model_module": "@jupyter-widgets/controls",
            "_model_module_version": "1.5.0",
            "_model_name": "ProgressStyleModel",
            "_view_count": null,
            "_view_module": "@jupyter-widgets/base",
            "_view_module_version": "1.2.0",
            "_view_name": "StyleView",
            "bar_color": null,
            "description_width": ""
          }
        },
        "830cda2af3cb49ecbfe45ca7f2e04a24": {
          "model_module": "@jupyter-widgets/base",
          "model_module_version": "1.2.0",
          "model_name": "LayoutModel",
          "state": {
            "_model_module": "@jupyter-widgets/base",
            "_model_module_version": "1.2.0",
            "_model_name": "LayoutModel",
            "_view_count": null,
            "_view_module": "@jupyter-widgets/base",
            "_view_module_version": "1.2.0",
            "_view_name": "LayoutView",
            "align_content": null,
            "align_items": null,
            "align_self": null,
            "border": null,
            "bottom": null,
            "display": null,
            "flex": null,
            "flex_flow": null,
            "grid_area": null,
            "grid_auto_columns": null,
            "grid_auto_flow": null,
            "grid_auto_rows": null,
            "grid_column": null,
            "grid_gap": null,
            "grid_row": null,
            "grid_template_areas": null,
            "grid_template_columns": null,
            "grid_template_rows": null,
            "height": null,
            "justify_content": null,
            "justify_items": null,
            "left": null,
            "margin": null,
            "max_height": null,
            "max_width": null,
            "min_height": null,
            "min_width": null,
            "object_fit": null,
            "object_position": null,
            "order": null,
            "overflow": null,
            "overflow_x": null,
            "overflow_y": null,
            "padding": null,
            "right": null,
            "top": null,
            "visibility": null,
            "width": null
          }
        },
        "9fd9741bc796445dacef77f07614167e": {
          "model_module": "@jupyter-widgets/controls",
          "model_module_version": "1.5.0",
          "model_name": "VBoxModel",
          "state": {
            "_dom_classes": [],
            "_model_module": "@jupyter-widgets/controls",
            "_model_module_version": "1.5.0",
            "_model_name": "VBoxModel",
            "_view_count": null,
            "_view_module": "@jupyter-widgets/controls",
            "_view_module_version": "1.5.0",
            "_view_name": "VBoxView",
            "box_style": "",
            "children": [
              "IPY_MODEL_1fdcaf3f9a5245eea4a903b928eee5b8"
            ],
            "layout": "IPY_MODEL_e347b4d8b9fb4c72929f6a646167747c"
          }
        },
        "a24a494c9ffb43e1bfe493d1162c4e3d": {
          "model_module": "@jupyter-widgets/controls",
          "model_module_version": "1.5.0",
          "model_name": "DescriptionStyleModel",
          "state": {
            "_model_module": "@jupyter-widgets/controls",
            "_model_module_version": "1.5.0",
            "_model_name": "DescriptionStyleModel",
            "_view_count": null,
            "_view_module": "@jupyter-widgets/base",
            "_view_module_version": "1.2.0",
            "_view_name": "StyleView",
            "description_width": ""
          }
        },
        "b1c6087d3824401aa91057fe441302fe": {
          "model_module": "@jupyter-widgets/controls",
          "model_module_version": "1.5.0",
          "model_name": "LabelModel",
          "state": {
            "_dom_classes": [],
            "_model_module": "@jupyter-widgets/controls",
            "_model_module_version": "1.5.0",
            "_model_name": "LabelModel",
            "_view_count": null,
            "_view_module": "@jupyter-widgets/controls",
            "_view_module_version": "1.5.0",
            "_view_name": "LabelView",
            "description": "",
            "description_tooltip": null,
            "layout": "IPY_MODEL_d9249597abf942b5af7a16e2ebefa329",
            "placeholder": "​",
            "style": "IPY_MODEL_a24a494c9ffb43e1bfe493d1162c4e3d",
            "value": "0 / 812913"
          }
        },
        "b58df1204e824dbd9f72cdb606b2605f": {
          "model_module": "@jupyter-widgets/controls",
          "model_module_version": "1.5.0",
          "model_name": "IntProgressModel",
          "state": {
            "_dom_classes": [],
            "_model_module": "@jupyter-widgets/controls",
            "_model_module_version": "1.5.0",
            "_model_name": "IntProgressModel",
            "_view_count": null,
            "_view_module": "@jupyter-widgets/controls",
            "_view_module_version": "1.5.0",
            "_view_name": "ProgressView",
            "bar_style": "",
            "description": "0.00%",
            "description_tooltip": null,
            "layout": "IPY_MODEL_6e08915023cb458abda3abdce421467e",
            "max": 812913,
            "min": 0,
            "orientation": "horizontal",
            "style": "IPY_MODEL_7258d6e2da3a41ad9b4830b0192cb037",
            "value": 0
          }
        },
        "bf68c788a3d9437383fdf54f8f75f050": {
          "model_module": "@jupyter-widgets/controls",
          "model_module_version": "1.5.0",
          "model_name": "VBoxModel",
          "state": {
            "_dom_classes": [],
            "_model_module": "@jupyter-widgets/controls",
            "_model_module_version": "1.5.0",
            "_model_name": "VBoxModel",
            "_view_count": null,
            "_view_module": "@jupyter-widgets/controls",
            "_view_module_version": "1.5.0",
            "_view_name": "VBoxView",
            "box_style": "",
            "children": [
              "IPY_MODEL_13df6b96a88944e98d65e813eeb54bd4"
            ],
            "layout": "IPY_MODEL_dc1dd2e88478465e8ebc8082b1aa84aa"
          }
        },
        "d9249597abf942b5af7a16e2ebefa329": {
          "model_module": "@jupyter-widgets/base",
          "model_module_version": "1.2.0",
          "model_name": "LayoutModel",
          "state": {
            "_model_module": "@jupyter-widgets/base",
            "_model_module_version": "1.2.0",
            "_model_name": "LayoutModel",
            "_view_count": null,
            "_view_module": "@jupyter-widgets/base",
            "_view_module_version": "1.2.0",
            "_view_name": "LayoutView",
            "align_content": null,
            "align_items": null,
            "align_self": null,
            "border": null,
            "bottom": null,
            "display": null,
            "flex": null,
            "flex_flow": null,
            "grid_area": null,
            "grid_auto_columns": null,
            "grid_auto_flow": null,
            "grid_auto_rows": null,
            "grid_column": null,
            "grid_gap": null,
            "grid_row": null,
            "grid_template_areas": null,
            "grid_template_columns": null,
            "grid_template_rows": null,
            "height": null,
            "justify_content": null,
            "justify_items": null,
            "left": null,
            "margin": null,
            "max_height": null,
            "max_width": null,
            "min_height": null,
            "min_width": null,
            "object_fit": null,
            "object_position": null,
            "order": null,
            "overflow": null,
            "overflow_x": null,
            "overflow_y": null,
            "padding": null,
            "right": null,
            "top": null,
            "visibility": null,
            "width": null
          }
        },
        "dc1dd2e88478465e8ebc8082b1aa84aa": {
          "model_module": "@jupyter-widgets/base",
          "model_module_version": "1.2.0",
          "model_name": "LayoutModel",
          "state": {
            "_model_module": "@jupyter-widgets/base",
            "_model_module_version": "1.2.0",
            "_model_name": "LayoutModel",
            "_view_count": null,
            "_view_module": "@jupyter-widgets/base",
            "_view_module_version": "1.2.0",
            "_view_name": "LayoutView",
            "align_content": null,
            "align_items": null,
            "align_self": null,
            "border": null,
            "bottom": null,
            "display": null,
            "flex": null,
            "flex_flow": null,
            "grid_area": null,
            "grid_auto_columns": null,
            "grid_auto_flow": null,
            "grid_auto_rows": null,
            "grid_column": null,
            "grid_gap": null,
            "grid_row": null,
            "grid_template_areas": null,
            "grid_template_columns": null,
            "grid_template_rows": null,
            "height": null,
            "justify_content": null,
            "justify_items": null,
            "left": null,
            "margin": null,
            "max_height": null,
            "max_width": null,
            "min_height": null,
            "min_width": null,
            "object_fit": null,
            "object_position": null,
            "order": null,
            "overflow": null,
            "overflow_x": null,
            "overflow_y": null,
            "padding": null,
            "right": null,
            "top": null,
            "visibility": null,
            "width": null
          }
        },
        "e28976f80c1548f2af7836d8e8491c87": {
          "model_module": "@jupyter-widgets/base",
          "model_module_version": "1.2.0",
          "model_name": "LayoutModel",
          "state": {
            "_model_module": "@jupyter-widgets/base",
            "_model_module_version": "1.2.0",
            "_model_name": "LayoutModel",
            "_view_count": null,
            "_view_module": "@jupyter-widgets/base",
            "_view_module_version": "1.2.0",
            "_view_name": "LayoutView",
            "align_content": null,
            "align_items": null,
            "align_self": null,
            "border": null,
            "bottom": null,
            "display": null,
            "flex": null,
            "flex_flow": null,
            "grid_area": null,
            "grid_auto_columns": null,
            "grid_auto_flow": null,
            "grid_auto_rows": null,
            "grid_column": null,
            "grid_gap": null,
            "grid_row": null,
            "grid_template_areas": null,
            "grid_template_columns": null,
            "grid_template_rows": null,
            "height": null,
            "justify_content": null,
            "justify_items": null,
            "left": null,
            "margin": null,
            "max_height": null,
            "max_width": null,
            "min_height": null,
            "min_width": null,
            "object_fit": null,
            "object_position": null,
            "order": null,
            "overflow": null,
            "overflow_x": null,
            "overflow_y": null,
            "padding": null,
            "right": null,
            "top": null,
            "visibility": null,
            "width": null
          }
        },
        "e347b4d8b9fb4c72929f6a646167747c": {
          "model_module": "@jupyter-widgets/base",
          "model_module_version": "1.2.0",
          "model_name": "LayoutModel",
          "state": {
            "_model_module": "@jupyter-widgets/base",
            "_model_module_version": "1.2.0",
            "_model_name": "LayoutModel",
            "_view_count": null,
            "_view_module": "@jupyter-widgets/base",
            "_view_module_version": "1.2.0",
            "_view_name": "LayoutView",
            "align_content": null,
            "align_items": null,
            "align_self": null,
            "border": null,
            "bottom": null,
            "display": null,
            "flex": null,
            "flex_flow": null,
            "grid_area": null,
            "grid_auto_columns": null,
            "grid_auto_flow": null,
            "grid_auto_rows": null,
            "grid_column": null,
            "grid_gap": null,
            "grid_row": null,
            "grid_template_areas": null,
            "grid_template_columns": null,
            "grid_template_rows": null,
            "height": null,
            "justify_content": null,
            "justify_items": null,
            "left": null,
            "margin": null,
            "max_height": null,
            "max_width": null,
            "min_height": null,
            "min_width": null,
            "object_fit": null,
            "object_position": null,
            "order": null,
            "overflow": null,
            "overflow_x": null,
            "overflow_y": null,
            "padding": null,
            "right": null,
            "top": null,
            "visibility": null,
            "width": null
          }
        }
      }
    }
  },
  "nbformat": 4,
  "nbformat_minor": 0
}
