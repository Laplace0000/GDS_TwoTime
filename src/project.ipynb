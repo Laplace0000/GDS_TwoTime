{
  "cells": [
    {
      "cell_type": "code",
      "source": [
        "# prompt: please install all the below using pip\n",
        "\n",
        "!pip install numpy pandas matplotlib seaborn scikit-learn tensorflow keras clean_text pandarallel\n"
      ],
      "metadata": {
        "id": "afP0fI0WAjLQ",
        "outputId": "63969ef1-021e-4875-bd33-e77080113061",
        "colab": {
          "base_uri": "https://localhost:8080/"
        }
      },
      "execution_count": 9,
      "outputs": [
        {
          "output_type": "stream",
          "name": "stdout",
          "text": [
            "Requirement already satisfied: numpy in /usr/local/lib/python3.11/dist-packages (1.26.4)\n",
            "Requirement already satisfied: pandas in /usr/local/lib/python3.11/dist-packages (2.2.2)\n",
            "Requirement already satisfied: matplotlib in /usr/local/lib/python3.11/dist-packages (3.10.0)\n",
            "Requirement already satisfied: seaborn in /usr/local/lib/python3.11/dist-packages (0.13.2)\n",
            "Requirement already satisfied: scikit-learn in /usr/local/lib/python3.11/dist-packages (1.6.1)\n",
            "Requirement already satisfied: tensorflow in /usr/local/lib/python3.11/dist-packages (2.18.0)\n",
            "Requirement already satisfied: keras in /usr/local/lib/python3.11/dist-packages (3.8.0)\n",
            "Requirement already satisfied: clean_text in /usr/local/lib/python3.11/dist-packages (0.6.0)\n",
            "Collecting pandarallel\n",
            "  Downloading pandarallel-1.6.5.tar.gz (14 kB)\n",
            "  Preparing metadata (setup.py) ... \u001b[?25l\u001b[?25hdone\n",
            "Requirement already satisfied: python-dateutil>=2.8.2 in /usr/local/lib/python3.11/dist-packages (from pandas) (2.8.2)\n",
            "Requirement already satisfied: pytz>=2020.1 in /usr/local/lib/python3.11/dist-packages (from pandas) (2025.1)\n",
            "Requirement already satisfied: tzdata>=2022.7 in /usr/local/lib/python3.11/dist-packages (from pandas) (2025.1)\n",
            "Requirement already satisfied: contourpy>=1.0.1 in /usr/local/lib/python3.11/dist-packages (from matplotlib) (1.3.1)\n",
            "Requirement already satisfied: cycler>=0.10 in /usr/local/lib/python3.11/dist-packages (from matplotlib) (0.12.1)\n",
            "Requirement already satisfied: fonttools>=4.22.0 in /usr/local/lib/python3.11/dist-packages (from matplotlib) (4.56.0)\n",
            "Requirement already satisfied: kiwisolver>=1.3.1 in /usr/local/lib/python3.11/dist-packages (from matplotlib) (1.4.8)\n",
            "Requirement already satisfied: packaging>=20.0 in /usr/local/lib/python3.11/dist-packages (from matplotlib) (24.2)\n",
            "Requirement already satisfied: pillow>=8 in /usr/local/lib/python3.11/dist-packages (from matplotlib) (11.1.0)\n",
            "Requirement already satisfied: pyparsing>=2.3.1 in /usr/local/lib/python3.11/dist-packages (from matplotlib) (3.2.1)\n",
            "Requirement already satisfied: scipy>=1.6.0 in /usr/local/lib/python3.11/dist-packages (from scikit-learn) (1.13.1)\n",
            "Requirement already satisfied: joblib>=1.2.0 in /usr/local/lib/python3.11/dist-packages (from scikit-learn) (1.4.2)\n",
            "Requirement already satisfied: threadpoolctl>=3.1.0 in /usr/local/lib/python3.11/dist-packages (from scikit-learn) (3.5.0)\n",
            "Requirement already satisfied: absl-py>=1.0.0 in /usr/local/lib/python3.11/dist-packages (from tensorflow) (1.4.0)\n",
            "Requirement already satisfied: astunparse>=1.6.0 in /usr/local/lib/python3.11/dist-packages (from tensorflow) (1.6.3)\n",
            "Requirement already satisfied: flatbuffers>=24.3.25 in /usr/local/lib/python3.11/dist-packages (from tensorflow) (25.2.10)\n",
            "Requirement already satisfied: gast!=0.5.0,!=0.5.1,!=0.5.2,>=0.2.1 in /usr/local/lib/python3.11/dist-packages (from tensorflow) (0.6.0)\n",
            "Requirement already satisfied: google-pasta>=0.1.1 in /usr/local/lib/python3.11/dist-packages (from tensorflow) (0.2.0)\n",
            "Requirement already satisfied: libclang>=13.0.0 in /usr/local/lib/python3.11/dist-packages (from tensorflow) (18.1.1)\n",
            "Requirement already satisfied: opt-einsum>=2.3.2 in /usr/local/lib/python3.11/dist-packages (from tensorflow) (3.4.0)\n",
            "Requirement already satisfied: protobuf!=4.21.0,!=4.21.1,!=4.21.2,!=4.21.3,!=4.21.4,!=4.21.5,<6.0.0dev,>=3.20.3 in /usr/local/lib/python3.11/dist-packages (from tensorflow) (4.25.6)\n",
            "Requirement already satisfied: requests<3,>=2.21.0 in /usr/local/lib/python3.11/dist-packages (from tensorflow) (2.32.3)\n",
            "Requirement already satisfied: setuptools in /usr/local/lib/python3.11/dist-packages (from tensorflow) (75.1.0)\n",
            "Requirement already satisfied: six>=1.12.0 in /usr/local/lib/python3.11/dist-packages (from tensorflow) (1.17.0)\n",
            "Requirement already satisfied: termcolor>=1.1.0 in /usr/local/lib/python3.11/dist-packages (from tensorflow) (2.5.0)\n",
            "Requirement already satisfied: typing-extensions>=3.6.6 in /usr/local/lib/python3.11/dist-packages (from tensorflow) (4.12.2)\n",
            "Requirement already satisfied: wrapt>=1.11.0 in /usr/local/lib/python3.11/dist-packages (from tensorflow) (1.17.2)\n",
            "Requirement already satisfied: grpcio<2.0,>=1.24.3 in /usr/local/lib/python3.11/dist-packages (from tensorflow) (1.70.0)\n",
            "Requirement already satisfied: tensorboard<2.19,>=2.18 in /usr/local/lib/python3.11/dist-packages (from tensorflow) (2.18.0)\n",
            "Requirement already satisfied: h5py>=3.11.0 in /usr/local/lib/python3.11/dist-packages (from tensorflow) (3.12.1)\n",
            "Requirement already satisfied: ml-dtypes<0.5.0,>=0.4.0 in /usr/local/lib/python3.11/dist-packages (from tensorflow) (0.4.1)\n",
            "Requirement already satisfied: tensorflow-io-gcs-filesystem>=0.23.1 in /usr/local/lib/python3.11/dist-packages (from tensorflow) (0.37.1)\n",
            "Requirement already satisfied: rich in /usr/local/lib/python3.11/dist-packages (from keras) (13.9.4)\n",
            "Requirement already satisfied: namex in /usr/local/lib/python3.11/dist-packages (from keras) (0.0.8)\n",
            "Requirement already satisfied: optree in /usr/local/lib/python3.11/dist-packages (from keras) (0.14.1)\n",
            "Requirement already satisfied: emoji<2.0.0,>=1.0.0 in /usr/local/lib/python3.11/dist-packages (from clean_text) (1.7.0)\n",
            "Requirement already satisfied: ftfy<7.0,>=6.0 in /usr/local/lib/python3.11/dist-packages (from clean_text) (6.3.1)\n",
            "Collecting dill>=0.3.1 (from pandarallel)\n",
            "  Downloading dill-0.3.9-py3-none-any.whl.metadata (10 kB)\n",
            "Requirement already satisfied: psutil in /usr/local/lib/python3.11/dist-packages (from pandarallel) (5.9.5)\n",
            "Requirement already satisfied: wheel<1.0,>=0.23.0 in /usr/local/lib/python3.11/dist-packages (from astunparse>=1.6.0->tensorflow) (0.45.1)\n",
            "Requirement already satisfied: wcwidth in /usr/local/lib/python3.11/dist-packages (from ftfy<7.0,>=6.0->clean_text) (0.2.13)\n",
            "Requirement already satisfied: charset-normalizer<4,>=2 in /usr/local/lib/python3.11/dist-packages (from requests<3,>=2.21.0->tensorflow) (3.4.1)\n",
            "Requirement already satisfied: idna<4,>=2.5 in /usr/local/lib/python3.11/dist-packages (from requests<3,>=2.21.0->tensorflow) (3.10)\n",
            "Requirement already satisfied: urllib3<3,>=1.21.1 in /usr/local/lib/python3.11/dist-packages (from requests<3,>=2.21.0->tensorflow) (2.3.0)\n",
            "Requirement already satisfied: certifi>=2017.4.17 in /usr/local/lib/python3.11/dist-packages (from requests<3,>=2.21.0->tensorflow) (2025.1.31)\n",
            "Requirement already satisfied: markdown>=2.6.8 in /usr/local/lib/python3.11/dist-packages (from tensorboard<2.19,>=2.18->tensorflow) (3.7)\n",
            "Requirement already satisfied: tensorboard-data-server<0.8.0,>=0.7.0 in /usr/local/lib/python3.11/dist-packages (from tensorboard<2.19,>=2.18->tensorflow) (0.7.2)\n",
            "Requirement already satisfied: werkzeug>=1.0.1 in /usr/local/lib/python3.11/dist-packages (from tensorboard<2.19,>=2.18->tensorflow) (3.1.3)\n",
            "Requirement already satisfied: markdown-it-py>=2.2.0 in /usr/local/lib/python3.11/dist-packages (from rich->keras) (3.0.0)\n",
            "Requirement already satisfied: pygments<3.0.0,>=2.13.0 in /usr/local/lib/python3.11/dist-packages (from rich->keras) (2.18.0)\n",
            "Requirement already satisfied: mdurl~=0.1 in /usr/local/lib/python3.11/dist-packages (from markdown-it-py>=2.2.0->rich->keras) (0.1.2)\n",
            "Requirement already satisfied: MarkupSafe>=2.1.1 in /usr/local/lib/python3.11/dist-packages (from werkzeug>=1.0.1->tensorboard<2.19,>=2.18->tensorflow) (3.0.2)\n",
            "Downloading dill-0.3.9-py3-none-any.whl (119 kB)\n",
            "\u001b[2K   \u001b[90m━━━━━━━━━━━━━━━━━━━━━━━━━━━━━━━━━━━━━━━━\u001b[0m \u001b[32m119.4/119.4 kB\u001b[0m \u001b[31m5.7 MB/s\u001b[0m eta \u001b[36m0:00:00\u001b[0m\n",
            "\u001b[?25hBuilding wheels for collected packages: pandarallel\n",
            "  Building wheel for pandarallel (setup.py) ... \u001b[?25l\u001b[?25hdone\n",
            "  Created wheel for pandarallel: filename=pandarallel-1.6.5-py3-none-any.whl size=16674 sha256=eb3cea677b766243249202b2e24810273e8a62aa283329be3eff5818a70ea1c4\n",
            "  Stored in directory: /root/.cache/pip/wheels/b9/c6/5a/829298789e94348b81af52ab42c19d49da007306bbcc983827\n",
            "Successfully built pandarallel\n",
            "Installing collected packages: dill, pandarallel\n",
            "Successfully installed dill-0.3.9 pandarallel-1.6.5\n"
          ]
        }
      ]
    },
    {
      "cell_type": "code",
      "execution_count": 10,
      "metadata": {
        "id": "l7I5ZeAs7doa",
        "outputId": "f04e908c-53cf-4e5e-b1ac-6c4eeba64133",
        "colab": {
          "base_uri": "https://localhost:8080/"
        }
      },
      "outputs": [
        {
          "output_type": "stream",
          "name": "stdout",
          "text": [
            "INFO: Pandarallel will run on 1 workers.\n",
            "INFO: Pandarallel will use Memory file system to transfer data between the main process and workers.\n"
          ]
        },
        {
          "output_type": "stream",
          "name": "stderr",
          "text": [
            "[nltk_data] Downloading package punkt to /root/nltk_data...\n",
            "[nltk_data]   Unzipping tokenizers/punkt.zip.\n",
            "[nltk_data] Downloading package stopwords to /root/nltk_data...\n",
            "[nltk_data]   Unzipping corpora/stopwords.zip.\n",
            "[nltk_data] Downloading package punkt_tab to /root/nltk_data...\n",
            "[nltk_data]   Unzipping tokenizers/punkt_tab.zip.\n"
          ]
        },
        {
          "output_type": "execute_result",
          "data": {
            "text/plain": [
              "True"
            ]
          },
          "metadata": {},
          "execution_count": 10
        }
      ],
      "source": [
        "import nltk\n",
        "import re\n",
        "import pandas as pd\n",
        "import numpy as np\n",
        "import matplotlib.pyplot as plt\n",
        "\n",
        "from nltk.corpus import stopwords\n",
        "from nltk.tokenize import word_tokenize\n",
        "from nltk.lm import Vocabulary\n",
        "from sklearn.model_selection import train_test_split\n",
        "from cleantext import clean\n",
        "from nltk.probability import FreqDist\n",
        "from nltk.stem import PorterStemmer\n",
        "from pandarallel import pandarallel\n",
        "pandarallel.initialize(progress_bar=True)\n",
        "\n",
        "nltk.download('punkt')\n",
        "nltk.download('stopwords')\n",
        "nltk.download('punkt_tab')\n",
        "\n",
        "import os\n",
        "IN_COLAB = False\n",
        "if os.getenv(\"COLAB_RELEASE_TAG\"):\n",
        "   IN_COLAB = True\n"
      ]
    },
    {
      "cell_type": "code",
      "source": [
        "if IN_COLAB:\n",
        "  from google.colab import drive\n",
        "  drive.mount('/content/drive')"
      ],
      "metadata": {
        "id": "1DWSzbnj75b9",
        "outputId": "79c1884d-37d0-4041-ee74-66a39de326ab",
        "colab": {
          "base_uri": "https://localhost:8080/"
        }
      },
      "execution_count": 12,
      "outputs": [
        {
          "output_type": "stream",
          "name": "stdout",
          "text": [
            "Mounted at /content/drive\n"
          ]
        }
      ]
    },
    {
      "cell_type": "markdown",
      "metadata": {
        "id": "wWp-AaTm7doc"
      },
      "source": [
        "# Part 1"
      ]
    },
    {
      "cell_type": "markdown",
      "metadata": {
        "id": "FAkg7frj7dod"
      },
      "source": [
        "### Task 1"
      ]
    },
    {
      "cell_type": "code",
      "execution_count": 13,
      "metadata": {
        "id": "r0lGjcG17dod",
        "outputId": "9d148c02-9df3-4945-ad46-60fa24a7a724",
        "colab": {
          "base_uri": "https://localhost:8080/"
        }
      },
      "outputs": [
        {
          "output_type": "stream",
          "name": "stdout",
          "text": [
            "<class 'pandas.core.frame.DataFrame'>\n",
            "RangeIndex: 250 entries, 0 to 249\n",
            "Data columns (total 16 columns):\n",
            " #   Column            Non-Null Count  Dtype  \n",
            "---  ------            --------------  -----  \n",
            " 0   Unnamed: 0        250 non-null    int64  \n",
            " 1   id                250 non-null    int64  \n",
            " 2   domain            250 non-null    object \n",
            " 3   type              238 non-null    object \n",
            " 4   url               250 non-null    object \n",
            " 5   content           250 non-null    object \n",
            " 6   scraped_at        250 non-null    object \n",
            " 7   inserted_at       250 non-null    object \n",
            " 8   updated_at        250 non-null    object \n",
            " 9   title             250 non-null    object \n",
            " 10  authors           170 non-null    object \n",
            " 11  keywords          0 non-null      float64\n",
            " 12  meta_keywords     250 non-null    object \n",
            " 13  meta_description  54 non-null     object \n",
            " 14  tags              27 non-null     object \n",
            " 15  summary           0 non-null      float64\n",
            "dtypes: float64(2), int64(2), object(12)\n",
            "memory usage: 31.4+ KB\n",
            "None\n"
          ]
        }
      ],
      "source": [
        "#load data\n",
        "dataPath = \"../data/\"\n",
        "if IN_COLAB:\n",
        "  dataPath = \"/content/drive/MyDrive/\"\n",
        "nsdf = pd.read_csv(dataPath + \"news_sample.csv\")\n",
        "nsdf = nsdf.reset_index(drop=True)  # Reset index??\n",
        "nsdf_raw = nsdf\n",
        "print(nsdf.info())   # Check column types and missing values\n",
        "\n"
      ]
    },
    {
      "cell_type": "code",
      "execution_count": 14,
      "metadata": {
        "id": "Yw3NaRAQ7doe",
        "outputId": "40b81a48-d87e-44ce-cc4d-775c58a7663b",
        "colab": {
          "base_uri": "https://localhost:8080/"
        }
      },
      "outputs": [
        {
          "output_type": "stream",
          "name": "stdout",
          "text": [
            "['unreliable' 'fake' 'clickbait' 'conspiracy' 'reliable' 'bias' 'hate'\n",
            " 'junksci' 'political' nan 'unknown']\n"
          ]
        }
      ],
      "source": [
        "# unique lable values\n",
        "unique_values = nsdf['type'].unique()\n",
        "print(unique_values)"
      ]
    },
    {
      "cell_type": "code",
      "execution_count": 15,
      "metadata": {
        "id": "8Sr01Nsx7doe",
        "outputId": "f841641a-6f2a-4902-e47e-ddd941ae53dc",
        "colab": {
          "base_uri": "https://localhost:8080/"
        }
      },
      "outputs": [
        {
          "output_type": "stream",
          "name": "stdout",
          "text": [
            "['unreliable' 'fake' 'clickbait' 'conspiracy' 'reliable' 'bias' 'hate'\n",
            " 'junksci' 'political']\n"
          ]
        }
      ],
      "source": [
        "#nan and unknown removed as they seem useless when training a classifier\n",
        "nsdf = nsdf.dropna(subset=['type'])\n",
        "nsdf = nsdf.loc[nsdf['type']!='unknown']\n",
        "newunique_values = nsdf['type'].unique()\n",
        "print(newunique_values)\n"
      ]
    },
    {
      "cell_type": "markdown",
      "metadata": {
        "id": "2bdqH5Za7doe"
      },
      "source": [
        "Cleaning and Preprocessing"
      ]
    },
    {
      "cell_type": "code",
      "execution_count": 16,
      "metadata": {
        "id": "0aqMgikT7doe"
      },
      "outputs": [],
      "source": [
        "def cleanText(data, column):\n",
        "    def clean_text_help(text):\n",
        "        if isinstance(text, str):\n",
        "            # Remove excess whitespace\n",
        "            text = re.sub(r\"\\s+\", \" \", text).strip()\n",
        "            #replace dates\n",
        "            text = re.sub(r\"(0[1-9]|[1-2][0-9]|3[0-1])[-/.]?(0[1-9]|1[0-2])[-/.]?([0-9]{2}|[0-9]{4})\", \"<DATE>\", text)  # Replace date type 1\n",
        "            text = re.sub(r\"(0[1-9]|[1-2][0-9]|3[0-1])\\s([A-Za-z]{3})\\s([0-9]{2}|[0-9]{4})\", \"<DATE>\", text)  # Replace date type 2\n",
        "            return clean(text, lower=True, no_line_breaks=True, no_punct=True, replace_with_url=\"<URL>\", replace_with_email=\"<EMAIL>\", replace_with_number=\"<NUM>\", replace_with_digit=\"<NUM>\")\n",
        "        return text  # Return unchanged if not a string\n",
        "    data[column] = data[column].parallel_apply(clean_text_help)  # Apply function\n",
        "    return data"
      ]
    },
    {
      "cell_type": "code",
      "execution_count": 17,
      "metadata": {
        "id": "pCu5do7_7doe"
      },
      "outputs": [],
      "source": [
        "#Tokenize the text function\n",
        "def tokenizeText(data, column):\n",
        "    def tokenize_text_help(text):\n",
        "        if isinstance(text, str):\n",
        "            return word_tokenize(text)\n",
        "        return text  # Return unchanged if not a string\n",
        "    data[column] = data[column].parallel_apply(tokenize_text_help)  # Apply function\n",
        "    return data"
      ]
    },
    {
      "cell_type": "code",
      "execution_count": 18,
      "metadata": {
        "id": "NieKcD1f7dof"
      },
      "outputs": [],
      "source": [
        "#function for removeing stopwords\n",
        "def remove_stopwords(data, column):\n",
        "    def remove_stopwords_help(text):\n",
        "        stop_words = set(stopwords.words('english'))  # Load stopwords\n",
        "        if isinstance(text, str):\n",
        "            return [word for word in text.at[0, 'content'] if not word.lower() in stop_words]\n",
        "        return text  # Return unchanged if not a string\n",
        "    data[column] = data[column].parallel_apply(remove_stopwords_help)  # Apply function\n",
        "    return data"
      ]
    },
    {
      "cell_type": "code",
      "execution_count": 19,
      "metadata": {
        "id": "ZUkGLkbP7dof"
      },
      "outputs": [],
      "source": [
        "#funtion for populating vocabulary\n",
        "def populate_vocabulary(data):\n",
        "    N = data.shape[0]  # Get the number of rows\n",
        "    allWords = []\n",
        "    for i in range(N):\n",
        "        if isinstance(data.at[i, 'content'], str):  # Ensure it's a string\n",
        "            allWords.append(data.at[i, 'content'])\n",
        "    return Vocabulary(allWords, unk_cutoff=2)\n",
        "\n",
        "#langsom kørertid men kunne ikke finde ud af det med apply. Nogne med en god ide??\n",
        "# Can just use value_vounts()\n"
      ]
    },
    {
      "cell_type": "code",
      "execution_count": 20,
      "metadata": {
        "id": "2HPQfCwE7dof"
      },
      "outputs": [],
      "source": [
        "#making frequency dictionary\n",
        "def getFrequency(data, column, preTokenized):\n",
        "    N = data.shape[0]  # Get the number of rows\n",
        "    allWords = []\n",
        "    if preTokenized != 1 and preTokenized != 0:\n",
        "        return \"Wrong preTokenize input\"\n",
        "    if preTokenized == 1:\n",
        "        for text in data[column]:\n",
        "            if isinstance(text, list):  # Ensure text is already tokenized (list of words)\n",
        "                allWords.extend(text)\n",
        "            elif isinstance(text, str):  # If still a string, split it as a fallback\n",
        "                allWords.extend(text.split())\n",
        "    elif preTokenized == 0:\n",
        "        for text in data[column]:\n",
        "            if isinstance(text, str):\n",
        "                allWords.extend(word_tokenize(text))\n",
        "\n",
        "    return FreqDist(allWords)\n",
        "\n",
        "#Alternative? Returns a pandas series, with word and frequency, very fast.\n",
        "def getFreq(data, column):\n",
        "    return data[column].str.split().explode().value_counts()"
      ]
    },
    {
      "cell_type": "code",
      "execution_count": 21,
      "metadata": {
        "id": "IjoX2dVY7dof"
      },
      "outputs": [],
      "source": [
        "#function for removeing stopwords\n",
        "def dataStemming(data, column):\n",
        "    ps = PorterStemmer()\n",
        "    def dataStemming_help(text):\n",
        "        if isinstance(text, str):\n",
        "            return ps.stem(text)\n",
        "        return text  # Return unchanged if not a string\n",
        "    data[column] = data[column].parallel_apply(dataStemming_help)  # Apply function\n",
        "    return data"
      ]
    },
    {
      "cell_type": "code",
      "execution_count": 59,
      "metadata": {
        "id": "MGqT6iu77dof"
      },
      "outputs": [],
      "source": [
        "# One big function to process data:\n",
        "def processData(data, column):\n",
        "    def apply_sequential_helper(functions):\n",
        "        # assume type siganture of functions to be List[f : String -> string ]\n",
        "        def inner(text):\n",
        "            for f in functions:\n",
        "                text = f(text)\n",
        "            return text\n",
        "        return inner\n",
        "\n",
        "    def clean_text_help(text):\n",
        "        if isinstance(text, str):\n",
        "            # Remove excess whitespace\n",
        "            text = re.sub(r\"\\s+\", \" \", text).strip()\n",
        "            #replace dates\n",
        "            text = re.sub(r\"(0[1-9]|[1-2][0-9]|3[0-1])[-/.]?(0[1-9]|1[0-2])[-/.]?([0-9]{2}|[0-9]{4})\", \"<DATE>\", text)  # Replace date type 1\n",
        "            text = re.sub(r\"(0[1-9]|[1-2][0-9]|3[0-1])\\s([A-Za-z]{3})\\s([0-9]{2}|[0-9]{4})\", \"<DATE>\", text)  # Replace date type 2\n",
        "            return clean(text, lower=True, no_line_breaks=True, no_punct=True, replace_with_url=\"<URL>\", replace_with_email=\"<EMAIL>\", replace_with_number=\"<NUM>\", replace_with_digit=\"<NUM>\")\n",
        "        return text  # Return unchanged if not a string\n",
        "\n",
        "    def tokenize_text_help(text):\n",
        "        if isinstance(text, str):\n",
        "            return word_tokenize(text)\n",
        "        return text  # Return unchanged if not a string\n",
        "\n",
        "    def remove_stopwords_help(text):\n",
        "        text = pd.Series(text)\n",
        "      # text is a list[str]\n",
        "        stop_words = set(stopwords.words('english'))  # Load stopwords\n",
        "        #if isinstance(text, str):\n",
        "        #    return [word for word in text.at[0, 'content'] if not word.lower() in stop_words]\n",
        "        #return text  # Return unchanged if not a string\n",
        "        return text[~text.isin(stop_words)]\n",
        "\n",
        "    ps = PorterStemmer()\n",
        "    def dataStemming_help(text):\n",
        "        #if isinstance(text, str):\n",
        "        #    return ps.stem(text)\n",
        "        #return text  # Return unchanged if not a string\n",
        "        return text.apply(ps.stem)\n",
        "\n",
        "    def type_cleaner(text):\n",
        "        return text.to_list()\n",
        "\n",
        "    data[column] = data[column].parallel_apply(apply_sequential_helper(\n",
        "        [clean_text_help, # str -> str\n",
        "        tokenize_text_help, # str -> list[str]\n",
        "        remove_stopwords_help, #series[str] -> series[str]\n",
        "        dataStemming_help, #series[str] -> series[str]\n",
        "        type_cleaner # series[str] -> list[str]\n",
        "    ])).to_list()\n",
        "\n",
        "    return data"
      ]
    },
    {
      "cell_type": "code",
      "execution_count": 60,
      "metadata": {
        "id": "jy3LEMwF7dof",
        "outputId": "ca281a39-240a-4c1a-945c-8be4a96474db",
        "colab": {
          "base_uri": "https://localhost:8080/",
          "height": 86,
          "referenced_widgets": [
            "bf68c788a3d9437383fdf54f8f75f050",
            "13df6b96a88944e98d65e813eeb54bd4",
            "dc1dd2e88478465e8ebc8082b1aa84aa",
            "2814e4c7aa32487e93e3ccd90b6e5f0c",
            "3cc027a216d2481ab36faca98212f3c5",
            "4ae5f28587fe4d01ad03446e234a631d",
            "e28976f80c1548f2af7836d8e8491c87",
            "23088918d37a416a8506b3fd4c7231f9",
            "24f8c63d4dc3428fbcd67efc20c076f2",
            "6cfbf875045943ad8b40671a67e0e29e"
          ]
        }
      },
      "outputs": [
        {
          "output_type": "display_data",
          "data": {
            "text/plain": [
              "VBox(children=(HBox(children=(IntProgress(value=0, description='0.00%', max=232), Label(value='0 / 232'))),))"
            ],
            "application/vnd.jupyter.widget-view+json": {
              "version_major": 2,
              "version_minor": 0,
              "model_id": "bf68c788a3d9437383fdf54f8f75f050"
            }
          },
          "metadata": {}
        },
        {
          "output_type": "stream",
          "name": "stdout",
          "text": [
            "['sometim', 'power', 'christma', 'make', 'wild', 'wonder', 'thing', 'need', 'believ', 'holi', 'triniti', 'believ', 'posit', 'power', 'good', 'other', 'simpl', 'act', 'give', 'without', 'receiv', 'lost', 'mani', 'us', 'day', 'worri', 'money', 'success', 'hold', 'us', 'back', 'give', 'other', 'need', 'one', 'congreg', 'ohio', 'move', 'action', 'power', 'sermon', 'given', 'church', 'christma', 'eve', 'pastor', 'grand', 'lake', 'unit', 'methodist', 'church', 'celina', 'ohio', 'gave', 'emot', 'sermon', 'import', 'understand', 'messag', 'jesu', 'mani', 'religi', 'peopl', 'messag', 'jesu', 'help', 'other', 'make', 'sure', 'peopl', 'suffer', 'get', 'help', 'need', 'enjoy', 'life', 'littl', 'bit', 'sermon', 'realli', 'generos', 'look', 'like', 'live', 'jesu', 'live', 'long', 'time', 'ago', 'act', 'gener', 'fashion', 'time', 'would', 'gener', 'act', 'look', 'like', 'time', 'focu', 'sermon', 'potenc', 'sermon', 'lost', 'congreg', 'move', 'take', 'action', 'sermon', 'end', 'congreg', 'decid', 'take', 'offer', 'bowl', 'pass', 'around', 'room', 'everyon', 'pitch', 'could', 'christma', 'eve', 'word', 'sermon', 'still', 'ring', 'ear', 'offer', 'member', 'congreg', 'drove', 'local', 'waffl', 'hous', 'visit', 'ladi', 'work', 'night', 'shift', 'great', 'choic', 'holi', 'day', 'everyon', 'famili', 'ladi', 'work', 'waffl', 'hous', 'clearli', 'famili', 'choic', 'work', 'holi', 'day', 'paid', 'bill', 'congreg', 'understood', 'sacrific', 'made', 'ladi', 'want', 'help', 'donat', 'entir', 'offer', 'split', 'amongst', 'ladi', 'waffl', 'hous', 'total', 'amount', '$', '3500', 'split', 'amongst', 'staff', 'beauti', 'moment', 'perfect', 'exampl', 'preacher', 'talk', 'sermon', 'good', 'deed', 'like', 'christma', 'realli', 'help', 'eas', 'burden', 'felt', 'ladi', 'work', 'waffl', 'hous', 'sure', 'could', 'see', 'famili', 'least', 'got', 'littl', 'gift', 'good', 'peopl', 'commun', 'perhap', 'best', 'part', 'whole', 'event', 'congreg', 'ask', 'anyth', 'return', 'simpl', 'act', 'generos', 'peopl', 'understood', 'pain', 'felt', 'anoth', 'group', 'sought', 'allevi', 'pain', 'speak', 'volum', 'merit', 'church', 'daili', 'live', 'simpl', 'act', 'brought', 'entir', 'commun', 'togeth', 'show', 'empathi', 'compass', 'special', 'day', 'year']\n"
          ]
        }
      ],
      "source": [
        "\"\"\"\n",
        "nsdf_cleaned = cleanText(nsdf, 'content')\n",
        "nsdf_tokenized = tokenizeText(nsdf_cleaned, 'content')                  #tokenizing\n",
        "nsdf_cleaned_tokenized_nostopwords = remove_stopwords(nsdf_tokenized, 'content')           #removing stopwords\n",
        "nsdf_preprocessed = dataStemming(nsdf_cleaned_tokenized_nostopwords, 'content')\n",
        "\"\"\"\n",
        "nsdf_processed = processData(nsdf, 'content')\n",
        "nsdf_processed.dropna(subset=['content'], inplace=True)  # Drop rows with no content\n",
        "nsdf_processed.reset_index(drop=True, inplace=True)  # Reset index\n",
        "print(nsdf_processed.at[0, 'content'])"
      ]
    },
    {
      "cell_type": "code",
      "execution_count": 61,
      "metadata": {
        "id": "Y4U9DbWw7dof",
        "outputId": "fe4d12d1-ee80-4786-a87c-c8619f573c2a",
        "colab": {
          "base_uri": "https://localhost:8080/"
        }
      },
      "outputs": [
        {
          "output_type": "stream",
          "name": "stdout",
          "text": [
            "word frequency pre preprocessing\n",
            "170462\n"
          ]
        }
      ],
      "source": [
        "#word frequency pre preprocessing\n",
        "print(\"word frequency pre preprocessing\")\n",
        "word_frequency_pre = getFreq(nsdf_raw, 'content').sum()\n",
        "print(word_frequency_pre)"
      ]
    },
    {
      "cell_type": "code",
      "execution_count": 62,
      "metadata": {
        "id": "FoqJWce17dog",
        "outputId": "73b36b5b-a812-46a6-823b-f7fc8159703f",
        "colab": {
          "base_uri": "https://localhost:8080/"
        }
      },
      "outputs": [
        {
          "output_type": "stream",
          "name": "stdout",
          "text": [
            "word frequency post preprocessing\n",
            "86232\n"
          ]
        }
      ],
      "source": [
        "#word frequency post preprocessing\n",
        "print(\"word frequency post preprocessing\")\n",
        "# getfreq assumes different type signature, so we have to do it this way\n",
        "word_frequency_post = nsdf_processed[\"content\"].explode().value_counts().sum()\n",
        "print(word_frequency_post)"
      ]
    },
    {
      "cell_type": "code",
      "execution_count": 63,
      "metadata": {
        "id": "T5uKU6le7dog"
      },
      "outputs": [],
      "source": [
        "#word frequency post stemming\n",
        "#print(\"word frequency post stemming\")\n",
        "#word_frequency_postStem = getFrequency(nsdf_.processed, 'content', 1)\n",
        "#print(sum(word_frequency_postStem.values()))"
      ]
    },
    {
      "cell_type": "code",
      "execution_count": null,
      "metadata": {
        "id": "n1OIqoGT7dog"
      },
      "outputs": [],
      "source": [
        "#pre = word_frequency_pre\n",
        "#post = word_frequency_post\n",
        "#print(\"Reduction rate of the vocabulary size after removing stopwords:\")\n",
        "#print(abs(pre -post))\n",
        "#print(\"Further  reduction rate of the vocabulary size after stemming\")\n",
        "#postStem = sum(word_frequency_post.values())\n",
        "#print(abs(post -postStem))"
      ]
    },
    {
      "cell_type": "markdown",
      "metadata": {
        "id": "J1czxzP-7dog"
      },
      "source": [
        "### Task 2"
      ]
    },
    {
      "cell_type": "code",
      "execution_count": null,
      "metadata": {
        "id": "u-6EvFOO7dog",
        "outputId": "dcfc62f5-5370-44df-c102-5d896416d2e3",
        "colab": {
          "base_uri": "https://localhost:8080/",
          "height": 1000,
          "referenced_widgets": [
            "9fd9741bc796445dacef77f07614167e",
            "1fdcaf3f9a5245eea4a903b928eee5b8",
            "e347b4d8b9fb4c72929f6a646167747c",
            "b58df1204e824dbd9f72cdb606b2605f",
            "b1c6087d3824401aa91057fe441302fe",
            "830cda2af3cb49ecbfe45ca7f2e04a24",
            "6e08915023cb458abda3abdce421467e",
            "7258d6e2da3a41ad9b4830b0192cb037",
            "d9249597abf942b5af7a16e2ebefa329",
            "a24a494c9ffb43e1bfe493d1162c4e3d"
          ]
        }
      },
      "outputs": [
        {
          "output_type": "stream",
          "name": "stderr",
          "text": [
            "<ipython-input-64-b430c93a156f>:3: DtypeWarning: Columns (0,1) have mixed types. Specify dtype option on import or set low_memory=False.\n",
            "  fakeNewsCorpus = pd.read_csv(dataPath + \"995,000_rows.csv\")\n"
          ]
        },
        {
          "output_type": "stream",
          "name": "stdout",
          "text": [
            "  Unnamed: 0         id               domain        type  \\\n",
            "0        732  7444726.0   nationalreview.com   political   \n",
            "1       1348  6213642.0    beforeitsnews.com        fake   \n",
            "2       7119  3867639.0     dailycurrant.com      satire   \n",
            "3       1518  9560791.0          nytimes.com    reliable   \n",
            "4       9345  2059625.0  infiniteunknown.net  conspiracy   \n",
            "\n",
            "                                                 url  \\\n",
            "0  http://www.nationalreview.com/node/152734/%E2%...   \n",
            "1  http://beforeitsnews.com/economy/2012/06/the-c...   \n",
            "2  http://dailycurrant.com/2016/01/18/man-awoken-...   \n",
            "3  https://query.nytimes.com/gst/fullpage.html?re...   \n",
            "4  http://www.infiniteunknown.net/2011/09/14/100-...   \n",
            "\n",
            "                                             content  \\\n",
            "0  Plus one article on Google Plus\\n\\n(Thanks to ...   \n",
            "1  The Cost Of The Best Senate Banking Committee ...   \n",
            "2  Man Awoken From 27-Year Coma Commits Suicide A...   \n",
            "3  WHEN Julia Geist was asked to draw a picture o...   \n",
            "4  – 100 Compiled Studies on Vaccine Dangers (Act...   \n",
            "\n",
            "                   scraped_at                 inserted_at  \\\n",
            "0  2017-11-27T01:14:42.983556  2018-02-08 19:18:34.468038   \n",
            "1    2017-11-27T01:14:08.7454  2018-02-08 19:18:34.468038   \n",
            "2  2017-11-27T01:14:21.395055  2018-02-07 23:39:33.852671   \n",
            "3  2018-02-11 00:46:42.632962  2018-02-11 00:14:20.346838   \n",
            "4  2017-11-10T11:18:44.524042  2018-02-07 23:39:33.852671   \n",
            "\n",
            "                   updated_at  \\\n",
            "0  2018-02-08 19:18:34.468066   \n",
            "1  2018-02-08 19:18:34.468066   \n",
            "2  2018-02-07 23:39:33.852696   \n",
            "3  2018-02-11 00:14:20.346871   \n",
            "4  2018-02-07 23:39:33.852696   \n",
            "\n",
            "                                               title authors  keywords  \\\n",
            "0                                 Iran News Round Up     NaN       NaN   \n",
            "1  The Cost Of The Best Senate Banking Committee ...     NaN       NaN   \n",
            "2  Man Awoken From 27-Year Coma Commits Suicide A...     NaN       NaN   \n",
            "3  Opening a Gateway for Girls to Enter the Compu...     NaN       NaN   \n",
            "4  100 Compiled Studies on Vaccine Dangers – Infi...     NaN       NaN   \n",
            "\n",
            "                                       meta_keywords  \\\n",
            "0  ['National Review', 'National Review Online', ...   \n",
            "1                                               ['']   \n",
            "2                                               ['']   \n",
            "3  ['Computers and the Internet', 'Women and Girl...   \n",
            "4                                               ['']   \n",
            "\n",
            "                                    meta_description  \\\n",
            "0                                                NaN   \n",
            "1                                                NaN   \n",
            "2                                                NaN   \n",
            "3  WHEN Julia Geist was asked to draw a picture o...   \n",
            "4                                                NaN   \n",
            "\n",
            "                                                tags  summary   source  \n",
            "0                                                NaN      NaN      NaN  \n",
            "1                                                NaN      NaN      NaN  \n",
            "2                                                NaN      NaN      NaN  \n",
            "3                                                NaN      NaN  nytimes  \n",
            "4  Lymphoma, Hepatitis B, Immune System, Health, ...      NaN      NaN  \n"
          ]
        },
        {
          "output_type": "display_data",
          "data": {
            "text/plain": [
              "VBox(children=(HBox(children=(IntProgress(value=0, description='0.00%', max=812913), Label(value='0 / 812913')…"
            ],
            "application/vnd.jupyter.widget-view+json": {
              "version_major": 2,
              "version_minor": 0,
              "model_id": "9fd9741bc796445dacef77f07614167e"
            }
          },
          "metadata": {}
        }
      ],
      "source": [
        "#load data\n",
        "\n",
        "fakeNewsCorpus = pd.read_csv(dataPath + \"995,000_rows.csv\")\n",
        "#Hva saten er den der unnamed???\n",
        "print(fakeNewsCorpus.head())\n",
        "fakeNewsCorpus['content'].duplicated()\n",
        "news_noDup = fakeNewsCorpus.drop_duplicates(subset=['content'])\n",
        "#Cleaning\n",
        "news_processed = processData(news_noDup, 'content')\n",
        "news_processed.to_csv(\"../data/news_processed.csv\", index=False)"
      ]
    },
    {
      "cell_type": "markdown",
      "metadata": {
        "id": "TCHjcIp97dog"
      },
      "source": [
        "### Task 3"
      ]
    },
    {
      "cell_type": "code",
      "execution_count": null,
      "metadata": {
        "id": "LsAEJIoO7dog",
        "outputId": "f7b8a93f-b748-4f47-c421-13a928bff4dc"
      },
      "outputs": [
        {
          "name": "stdout",
          "output_type": "stream",
          "text": [
            "<class 'pandas.core.frame.DataFrame'>\n",
            "RangeIndex: 995000 entries, 0 to 994999\n",
            "Data columns (total 17 columns):\n",
            " #   Column            Non-Null Count   Dtype  \n",
            "---  ------            --------------   -----  \n",
            " 0   Unnamed: 0        994999 non-null  object \n",
            " 1   id                994993 non-null  object \n",
            " 2   domain            994989 non-null  object \n",
            " 3   type              947214 non-null  object \n",
            " 4   url               994989 non-null  object \n",
            " 5   content           994988 non-null  object \n",
            " 6   scraped_at        994987 non-null  object \n",
            " 7   inserted_at       994987 non-null  object \n",
            " 8   updated_at        994987 non-null  object \n",
            " 9   title             986394 non-null  object \n",
            " 10  authors           552243 non-null  object \n",
            " 11  keywords          0 non-null       float64\n",
            " 12  meta_keywords     956210 non-null  object \n",
            " 13  meta_description  469894 non-null  object \n",
            " 14  tags              230919 non-null  object \n",
            " 15  summary           0 non-null       float64\n",
            " 16  source            214922 non-null  object \n",
            "dtypes: float64(2), object(15)\n",
            "memory usage: 129.1+ MB\n",
            "None\n"
          ]
        }
      ],
      "source": [
        "print(fakeNewsCorpus.info())   # Check column types and missing values\n",
        "#fndf = pd.DataFrame(fakeNewsCorpus) # Is this not redundant as pandas automatically reads csv files as dataframes?\n",
        "fndf = fakeNewsCorpus.reset_index(drop=True)  # Reset index??\n"
      ]
    },
    {
      "cell_type": "code",
      "execution_count": null,
      "metadata": {
        "id": "rpa8Pdwi7dog"
      },
      "outputs": [],
      "source": [
        "fndf.duplicates()"
      ]
    },
    {
      "cell_type": "code",
      "execution_count": null,
      "metadata": {
        "id": "lRVr6AxZ7dog",
        "outputId": "9013e78e-a2bf-4f2d-d54d-499d3dde514b"
      },
      "outputs": [
        {
          "name": "stdout",
          "output_type": "stream",
          "text": [
            "Empty DataFrame\n",
            "Columns: [Unnamed: 0, id, domain, type, url, content, scraped_at, inserted_at, updated_at, title, authors, keywords, meta_keywords, meta_description, tags, summary, source]\n",
            "Index: []\n"
          ]
        }
      ],
      "source": [
        "print(fndf.loc[fndf['type']==''])"
      ]
    },
    {
      "cell_type": "markdown",
      "metadata": {
        "id": "yqKMjLFX7doh"
      },
      "source": [
        "### Cleaning and Preprocessing"
      ]
    },
    {
      "cell_type": "code",
      "execution_count": null,
      "metadata": {
        "id": "NOn3autl7doh",
        "outputId": "b049f942-d2ac-4c2c-d85b-0d7c8392e567"
      },
      "outputs": [
        {
          "name": "stdout",
          "output_type": "stream",
          "text": [
            "Pandas DataFrame:\n"
          ]
        },
        {
          "data": {
            "text/plain": [
              "Unnamed: 0                                                        732\n",
              "id                                                          7444726.0\n",
              "domain                                             nationalreview.com\n",
              "type                                                        political\n",
              "url                 http://www.nationalreview.com/node/152734/%E2%...\n",
              "content             Plus one article on Google Plus\\n\\n(Thanks to ...\n",
              "scraped_at                                 2017-11-27T01:14:42.983556\n",
              "inserted_at                                2018-02-08 19:18:34.468038\n",
              "updated_at                                 2018-02-08 19:18:34.468066\n",
              "title                                              Iran News Round Up\n",
              "authors                                                           NaN\n",
              "keywords                                                          NaN\n",
              "meta_keywords       ['National Review', 'National Review Online', ...\n",
              "meta_description                                                  NaN\n",
              "tags                                                              NaN\n",
              "summary                                                           NaN\n",
              "source                                                            NaN\n",
              "Name: 0, dtype: object"
            ]
          },
          "metadata": {},
          "output_type": "display_data"
        }
      ],
      "source": [
        "print(\"Pandas DataFrame:\")\n",
        "display(fndf.iloc[0])\n",
        "\n"
      ]
    },
    {
      "cell_type": "code",
      "execution_count": null,
      "metadata": {
        "id": "pdmSt9O27doh",
        "outputId": "da01b37e-44ed-4f8c-b1bf-e79780a31a33"
      },
      "outputs": [
        {
          "name": "stdout",
          "output_type": "stream",
          "text": [
            "['political' 'fake' 'satire' 'reliable' 'conspiracy' 'unreliable' 'bias'\n",
            " 'rumor' 'unknown' nan 'clickbait' 'hate' 'junksci'\n",
            " '2018-02-10 13:43:39.521661']\n"
          ]
        }
      ],
      "source": [
        "# unique lable values\n",
        "unique_values = fndf['type'].unique()\n",
        "print(unique_values)"
      ]
    },
    {
      "cell_type": "code",
      "execution_count": null,
      "metadata": {
        "id": "mk1MJB-i7doh",
        "outputId": "4c80a5ef-9318-4928-a176-6a351104daeb"
      },
      "outputs": [
        {
          "name": "stdout",
          "output_type": "stream",
          "text": [
            "['political' 'fake' 'satire' 'reliable' 'conspiracy' 'unreliable' 'bias'\n",
            " 'rumor' 'clickbait' 'hate' 'junksci' '2018-02-10 13:43:39.521661']\n"
          ]
        }
      ],
      "source": [
        "#hard to know how to classify nan and unknown, so removed for now\n",
        "fndf = fndf.dropna(subset=['type'])\n",
        "fndf = fndf.loc[fndf['type']!='unknown']\n",
        "# Need to reset index\n",
        "\n",
        "newunique_values = fndf['type'].unique()\n",
        "print(newunique_values)"
      ]
    },
    {
      "cell_type": "code",
      "execution_count": null,
      "metadata": {
        "id": "BWoNcicr7doh",
        "outputId": "bbb88595-0529-4624-a5c2-0a2ac0932a0f"
      },
      "outputs": [
        {
          "name": "stdout",
          "output_type": "stream",
          "text": [
            "['0' '1']\n"
          ]
        },
        {
          "data": {
            "text/plain": [
              "903680"
            ]
          },
          "execution_count": 22,
          "metadata": {},
          "output_type": "execute_result"
        }
      ],
      "source": [
        "# groups (reliable) as truenews 1 and (all others) in fakenews 0\n",
        "    #note this is naive and should be reconsidered later\n",
        "fndf['type'] = fndf['type'].replace(r'^reliable$', '1', regex=True)  # Only replaces exact 'reliable' with 1\n",
        "fndf['type'] = fndf['type'].replace(r'^(?!1$).+', '0', regex=True)   # Replace everything except '1' with '0'\n",
        "#fndf['type'] = fndf['type'].fillna('0')\n",
        "\n",
        "newunique_values = fndf['type'].unique()\n",
        "print(newunique_values)\n",
        "fndf.shape[0]\n"
      ]
    },
    {
      "cell_type": "code",
      "execution_count": null,
      "metadata": {
        "id": "mUvb7Ott7doh"
      },
      "outputs": [],
      "source": [
        "#Cleaning the data set\n",
        "fndf = fndf['Content'].apply(cleanText).explode()"
      ]
    },
    {
      "cell_type": "markdown",
      "metadata": {
        "id": "BEK4r7cy7doh"
      },
      "source": [
        "## Task 4"
      ]
    },
    {
      "cell_type": "code",
      "execution_count": null,
      "metadata": {
        "id": "dxlKCVeK7doh",
        "outputId": "689ae9da-ca85-41ac-877b-dd07c1b5d147"
      },
      "outputs": [
        {
          "name": "stdout",
          "output_type": "stream",
          "text": [
            "train size: (722944,)\n",
            "val size: (90368,)\n",
            "test size: (90368,)\n"
          ]
        }
      ],
      "source": [
        "# Splitting into test, train and validation\n",
        "X_train, X_valtest, y_train, y_valtest = train_test_split(fndf['content'], fndf['type'], test_size=0.2, random_state=42)\n",
        "X_test, X_val, y_test, y_val = train_test_split(X_valtest, y_valtest, test_size=0.5, random_state=42)\n",
        "\n",
        "print(\"train size:\", y_train.shape)\n",
        "print(\"val size:\", y_val.shape)\n",
        "print(\"test size:\", y_test.shape)\n"
      ]
    },
    {
      "cell_type": "markdown",
      "metadata": {
        "id": "o1MTfwNy7doh"
      },
      "source": [
        "# Part 2"
      ]
    }
  ],
  "metadata": {
    "kernelspec": {
      "display_name": "base",
      "language": "python",
      "name": "python3"
    },
    "language_info": {
      "codemirror_mode": {
        "name": "ipython",
        "version": 3
      },
      "file_extension": ".py",
      "mimetype": "text/x-python",
      "name": "python",
      "nbconvert_exporter": "python",
      "pygments_lexer": "ipython3",
      "version": "3.12.8"
    },
    "colab": {
      "provenance": []
    },
    "widgets": {
      "application/vnd.jupyter.widget-state+json": {
        "bf68c788a3d9437383fdf54f8f75f050": {
          "model_module": "@jupyter-widgets/controls",
          "model_name": "VBoxModel",
          "model_module_version": "1.5.0",
          "state": {
            "_dom_classes": [],
            "_model_module": "@jupyter-widgets/controls",
            "_model_module_version": "1.5.0",
            "_model_name": "VBoxModel",
            "_view_count": null,
            "_view_module": "@jupyter-widgets/controls",
            "_view_module_version": "1.5.0",
            "_view_name": "VBoxView",
            "box_style": "",
            "children": [
              "IPY_MODEL_13df6b96a88944e98d65e813eeb54bd4"
            ],
            "layout": "IPY_MODEL_dc1dd2e88478465e8ebc8082b1aa84aa"
          }
        },
        "13df6b96a88944e98d65e813eeb54bd4": {
          "model_module": "@jupyter-widgets/controls",
          "model_name": "HBoxModel",
          "model_module_version": "1.5.0",
          "state": {
            "_dom_classes": [],
            "_model_module": "@jupyter-widgets/controls",
            "_model_module_version": "1.5.0",
            "_model_name": "HBoxModel",
            "_view_count": null,
            "_view_module": "@jupyter-widgets/controls",
            "_view_module_version": "1.5.0",
            "_view_name": "HBoxView",
            "box_style": "",
            "children": [
              "IPY_MODEL_2814e4c7aa32487e93e3ccd90b6e5f0c",
              "IPY_MODEL_3cc027a216d2481ab36faca98212f3c5"
            ],
            "layout": "IPY_MODEL_4ae5f28587fe4d01ad03446e234a631d"
          }
        },
        "dc1dd2e88478465e8ebc8082b1aa84aa": {
          "model_module": "@jupyter-widgets/base",
          "model_name": "LayoutModel",
          "model_module_version": "1.2.0",
          "state": {
            "_model_module": "@jupyter-widgets/base",
            "_model_module_version": "1.2.0",
            "_model_name": "LayoutModel",
            "_view_count": null,
            "_view_module": "@jupyter-widgets/base",
            "_view_module_version": "1.2.0",
            "_view_name": "LayoutView",
            "align_content": null,
            "align_items": null,
            "align_self": null,
            "border": null,
            "bottom": null,
            "display": null,
            "flex": null,
            "flex_flow": null,
            "grid_area": null,
            "grid_auto_columns": null,
            "grid_auto_flow": null,
            "grid_auto_rows": null,
            "grid_column": null,
            "grid_gap": null,
            "grid_row": null,
            "grid_template_areas": null,
            "grid_template_columns": null,
            "grid_template_rows": null,
            "height": null,
            "justify_content": null,
            "justify_items": null,
            "left": null,
            "margin": null,
            "max_height": null,
            "max_width": null,
            "min_height": null,
            "min_width": null,
            "object_fit": null,
            "object_position": null,
            "order": null,
            "overflow": null,
            "overflow_x": null,
            "overflow_y": null,
            "padding": null,
            "right": null,
            "top": null,
            "visibility": null,
            "width": null
          }
        },
        "2814e4c7aa32487e93e3ccd90b6e5f0c": {
          "model_module": "@jupyter-widgets/controls",
          "model_name": "IntProgressModel",
          "model_module_version": "1.5.0",
          "state": {
            "_dom_classes": [],
            "_model_module": "@jupyter-widgets/controls",
            "_model_module_version": "1.5.0",
            "_model_name": "IntProgressModel",
            "_view_count": null,
            "_view_module": "@jupyter-widgets/controls",
            "_view_module_version": "1.5.0",
            "_view_name": "ProgressView",
            "bar_style": "success",
            "description": "100.00%",
            "description_tooltip": null,
            "layout": "IPY_MODEL_e28976f80c1548f2af7836d8e8491c87",
            "max": 232,
            "min": 0,
            "orientation": "horizontal",
            "style": "IPY_MODEL_23088918d37a416a8506b3fd4c7231f9",
            "value": 232
          }
        },
        "3cc027a216d2481ab36faca98212f3c5": {
          "model_module": "@jupyter-widgets/controls",
          "model_name": "LabelModel",
          "model_module_version": "1.5.0",
          "state": {
            "_dom_classes": [],
            "_model_module": "@jupyter-widgets/controls",
            "_model_module_version": "1.5.0",
            "_model_name": "LabelModel",
            "_view_count": null,
            "_view_module": "@jupyter-widgets/controls",
            "_view_module_version": "1.5.0",
            "_view_name": "LabelView",
            "description": "",
            "description_tooltip": null,
            "layout": "IPY_MODEL_24f8c63d4dc3428fbcd67efc20c076f2",
            "placeholder": "​",
            "style": "IPY_MODEL_6cfbf875045943ad8b40671a67e0e29e",
            "value": "232 / 232"
          }
        },
        "4ae5f28587fe4d01ad03446e234a631d": {
          "model_module": "@jupyter-widgets/base",
          "model_name": "LayoutModel",
          "model_module_version": "1.2.0",
          "state": {
            "_model_module": "@jupyter-widgets/base",
            "_model_module_version": "1.2.0",
            "_model_name": "LayoutModel",
            "_view_count": null,
            "_view_module": "@jupyter-widgets/base",
            "_view_module_version": "1.2.0",
            "_view_name": "LayoutView",
            "align_content": null,
            "align_items": null,
            "align_self": null,
            "border": null,
            "bottom": null,
            "display": null,
            "flex": null,
            "flex_flow": null,
            "grid_area": null,
            "grid_auto_columns": null,
            "grid_auto_flow": null,
            "grid_auto_rows": null,
            "grid_column": null,
            "grid_gap": null,
            "grid_row": null,
            "grid_template_areas": null,
            "grid_template_columns": null,
            "grid_template_rows": null,
            "height": null,
            "justify_content": null,
            "justify_items": null,
            "left": null,
            "margin": null,
            "max_height": null,
            "max_width": null,
            "min_height": null,
            "min_width": null,
            "object_fit": null,
            "object_position": null,
            "order": null,
            "overflow": null,
            "overflow_x": null,
            "overflow_y": null,
            "padding": null,
            "right": null,
            "top": null,
            "visibility": null,
            "width": null
          }
        },
        "e28976f80c1548f2af7836d8e8491c87": {
          "model_module": "@jupyter-widgets/base",
          "model_name": "LayoutModel",
          "model_module_version": "1.2.0",
          "state": {
            "_model_module": "@jupyter-widgets/base",
            "_model_module_version": "1.2.0",
            "_model_name": "LayoutModel",
            "_view_count": null,
            "_view_module": "@jupyter-widgets/base",
            "_view_module_version": "1.2.0",
            "_view_name": "LayoutView",
            "align_content": null,
            "align_items": null,
            "align_self": null,
            "border": null,
            "bottom": null,
            "display": null,
            "flex": null,
            "flex_flow": null,
            "grid_area": null,
            "grid_auto_columns": null,
            "grid_auto_flow": null,
            "grid_auto_rows": null,
            "grid_column": null,
            "grid_gap": null,
            "grid_row": null,
            "grid_template_areas": null,
            "grid_template_columns": null,
            "grid_template_rows": null,
            "height": null,
            "justify_content": null,
            "justify_items": null,
            "left": null,
            "margin": null,
            "max_height": null,
            "max_width": null,
            "min_height": null,
            "min_width": null,
            "object_fit": null,
            "object_position": null,
            "order": null,
            "overflow": null,
            "overflow_x": null,
            "overflow_y": null,
            "padding": null,
            "right": null,
            "top": null,
            "visibility": null,
            "width": null
          }
        },
        "23088918d37a416a8506b3fd4c7231f9": {
          "model_module": "@jupyter-widgets/controls",
          "model_name": "ProgressStyleModel",
          "model_module_version": "1.5.0",
          "state": {
            "_model_module": "@jupyter-widgets/controls",
            "_model_module_version": "1.5.0",
            "_model_name": "ProgressStyleModel",
            "_view_count": null,
            "_view_module": "@jupyter-widgets/base",
            "_view_module_version": "1.2.0",
            "_view_name": "StyleView",
            "bar_color": null,
            "description_width": ""
          }
        },
        "24f8c63d4dc3428fbcd67efc20c076f2": {
          "model_module": "@jupyter-widgets/base",
          "model_name": "LayoutModel",
          "model_module_version": "1.2.0",
          "state": {
            "_model_module": "@jupyter-widgets/base",
            "_model_module_version": "1.2.0",
            "_model_name": "LayoutModel",
            "_view_count": null,
            "_view_module": "@jupyter-widgets/base",
            "_view_module_version": "1.2.0",
            "_view_name": "LayoutView",
            "align_content": null,
            "align_items": null,
            "align_self": null,
            "border": null,
            "bottom": null,
            "display": null,
            "flex": null,
            "flex_flow": null,
            "grid_area": null,
            "grid_auto_columns": null,
            "grid_auto_flow": null,
            "grid_auto_rows": null,
            "grid_column": null,
            "grid_gap": null,
            "grid_row": null,
            "grid_template_areas": null,
            "grid_template_columns": null,
            "grid_template_rows": null,
            "height": null,
            "justify_content": null,
            "justify_items": null,
            "left": null,
            "margin": null,
            "max_height": null,
            "max_width": null,
            "min_height": null,
            "min_width": null,
            "object_fit": null,
            "object_position": null,
            "order": null,
            "overflow": null,
            "overflow_x": null,
            "overflow_y": null,
            "padding": null,
            "right": null,
            "top": null,
            "visibility": null,
            "width": null
          }
        },
        "6cfbf875045943ad8b40671a67e0e29e": {
          "model_module": "@jupyter-widgets/controls",
          "model_name": "DescriptionStyleModel",
          "model_module_version": "1.5.0",
          "state": {
            "_model_module": "@jupyter-widgets/controls",
            "_model_module_version": "1.5.0",
            "_model_name": "DescriptionStyleModel",
            "_view_count": null,
            "_view_module": "@jupyter-widgets/base",
            "_view_module_version": "1.2.0",
            "_view_name": "StyleView",
            "description_width": ""
          }
        },
        "9fd9741bc796445dacef77f07614167e": {
          "model_module": "@jupyter-widgets/controls",
          "model_name": "VBoxModel",
          "model_module_version": "1.5.0",
          "state": {
            "_dom_classes": [],
            "_model_module": "@jupyter-widgets/controls",
            "_model_module_version": "1.5.0",
            "_model_name": "VBoxModel",
            "_view_count": null,
            "_view_module": "@jupyter-widgets/controls",
            "_view_module_version": "1.5.0",
            "_view_name": "VBoxView",
            "box_style": "",
            "children": [
              "IPY_MODEL_1fdcaf3f9a5245eea4a903b928eee5b8"
            ],
            "layout": "IPY_MODEL_e347b4d8b9fb4c72929f6a646167747c"
          }
        },
        "1fdcaf3f9a5245eea4a903b928eee5b8": {
          "model_module": "@jupyter-widgets/controls",
          "model_name": "HBoxModel",
          "model_module_version": "1.5.0",
          "state": {
            "_dom_classes": [],
            "_model_module": "@jupyter-widgets/controls",
            "_model_module_version": "1.5.0",
            "_model_name": "HBoxModel",
            "_view_count": null,
            "_view_module": "@jupyter-widgets/controls",
            "_view_module_version": "1.5.0",
            "_view_name": "HBoxView",
            "box_style": "",
            "children": [
              "IPY_MODEL_b58df1204e824dbd9f72cdb606b2605f",
              "IPY_MODEL_b1c6087d3824401aa91057fe441302fe"
            ],
            "layout": "IPY_MODEL_830cda2af3cb49ecbfe45ca7f2e04a24"
          }
        },
        "e347b4d8b9fb4c72929f6a646167747c": {
          "model_module": "@jupyter-widgets/base",
          "model_name": "LayoutModel",
          "model_module_version": "1.2.0",
          "state": {
            "_model_module": "@jupyter-widgets/base",
            "_model_module_version": "1.2.0",
            "_model_name": "LayoutModel",
            "_view_count": null,
            "_view_module": "@jupyter-widgets/base",
            "_view_module_version": "1.2.0",
            "_view_name": "LayoutView",
            "align_content": null,
            "align_items": null,
            "align_self": null,
            "border": null,
            "bottom": null,
            "display": null,
            "flex": null,
            "flex_flow": null,
            "grid_area": null,
            "grid_auto_columns": null,
            "grid_auto_flow": null,
            "grid_auto_rows": null,
            "grid_column": null,
            "grid_gap": null,
            "grid_row": null,
            "grid_template_areas": null,
            "grid_template_columns": null,
            "grid_template_rows": null,
            "height": null,
            "justify_content": null,
            "justify_items": null,
            "left": null,
            "margin": null,
            "max_height": null,
            "max_width": null,
            "min_height": null,
            "min_width": null,
            "object_fit": null,
            "object_position": null,
            "order": null,
            "overflow": null,
            "overflow_x": null,
            "overflow_y": null,
            "padding": null,
            "right": null,
            "top": null,
            "visibility": null,
            "width": null
          }
        },
        "b58df1204e824dbd9f72cdb606b2605f": {
          "model_module": "@jupyter-widgets/controls",
          "model_name": "IntProgressModel",
          "model_module_version": "1.5.0",
          "state": {
            "_dom_classes": [],
            "_model_module": "@jupyter-widgets/controls",
            "_model_module_version": "1.5.0",
            "_model_name": "IntProgressModel",
            "_view_count": null,
            "_view_module": "@jupyter-widgets/controls",
            "_view_module_version": "1.5.0",
            "_view_name": "ProgressView",
            "bar_style": "",
            "description": "0.00%",
            "description_tooltip": null,
            "layout": "IPY_MODEL_6e08915023cb458abda3abdce421467e",
            "max": 812913,
            "min": 0,
            "orientation": "horizontal",
            "style": "IPY_MODEL_7258d6e2da3a41ad9b4830b0192cb037",
            "value": 0
          }
        },
        "b1c6087d3824401aa91057fe441302fe": {
          "model_module": "@jupyter-widgets/controls",
          "model_name": "LabelModel",
          "model_module_version": "1.5.0",
          "state": {
            "_dom_classes": [],
            "_model_module": "@jupyter-widgets/controls",
            "_model_module_version": "1.5.0",
            "_model_name": "LabelModel",
            "_view_count": null,
            "_view_module": "@jupyter-widgets/controls",
            "_view_module_version": "1.5.0",
            "_view_name": "LabelView",
            "description": "",
            "description_tooltip": null,
            "layout": "IPY_MODEL_d9249597abf942b5af7a16e2ebefa329",
            "placeholder": "​",
            "style": "IPY_MODEL_a24a494c9ffb43e1bfe493d1162c4e3d",
            "value": "0 / 812913"
          }
        },
        "830cda2af3cb49ecbfe45ca7f2e04a24": {
          "model_module": "@jupyter-widgets/base",
          "model_name": "LayoutModel",
          "model_module_version": "1.2.0",
          "state": {
            "_model_module": "@jupyter-widgets/base",
            "_model_module_version": "1.2.0",
            "_model_name": "LayoutModel",
            "_view_count": null,
            "_view_module": "@jupyter-widgets/base",
            "_view_module_version": "1.2.0",
            "_view_name": "LayoutView",
            "align_content": null,
            "align_items": null,
            "align_self": null,
            "border": null,
            "bottom": null,
            "display": null,
            "flex": null,
            "flex_flow": null,
            "grid_area": null,
            "grid_auto_columns": null,
            "grid_auto_flow": null,
            "grid_auto_rows": null,
            "grid_column": null,
            "grid_gap": null,
            "grid_row": null,
            "grid_template_areas": null,
            "grid_template_columns": null,
            "grid_template_rows": null,
            "height": null,
            "justify_content": null,
            "justify_items": null,
            "left": null,
            "margin": null,
            "max_height": null,
            "max_width": null,
            "min_height": null,
            "min_width": null,
            "object_fit": null,
            "object_position": null,
            "order": null,
            "overflow": null,
            "overflow_x": null,
            "overflow_y": null,
            "padding": null,
            "right": null,
            "top": null,
            "visibility": null,
            "width": null
          }
        },
        "6e08915023cb458abda3abdce421467e": {
          "model_module": "@jupyter-widgets/base",
          "model_name": "LayoutModel",
          "model_module_version": "1.2.0",
          "state": {
            "_model_module": "@jupyter-widgets/base",
            "_model_module_version": "1.2.0",
            "_model_name": "LayoutModel",
            "_view_count": null,
            "_view_module": "@jupyter-widgets/base",
            "_view_module_version": "1.2.0",
            "_view_name": "LayoutView",
            "align_content": null,
            "align_items": null,
            "align_self": null,
            "border": null,
            "bottom": null,
            "display": null,
            "flex": null,
            "flex_flow": null,
            "grid_area": null,
            "grid_auto_columns": null,
            "grid_auto_flow": null,
            "grid_auto_rows": null,
            "grid_column": null,
            "grid_gap": null,
            "grid_row": null,
            "grid_template_areas": null,
            "grid_template_columns": null,
            "grid_template_rows": null,
            "height": null,
            "justify_content": null,
            "justify_items": null,
            "left": null,
            "margin": null,
            "max_height": null,
            "max_width": null,
            "min_height": null,
            "min_width": null,
            "object_fit": null,
            "object_position": null,
            "order": null,
            "overflow": null,
            "overflow_x": null,
            "overflow_y": null,
            "padding": null,
            "right": null,
            "top": null,
            "visibility": null,
            "width": null
          }
        },
        "7258d6e2da3a41ad9b4830b0192cb037": {
          "model_module": "@jupyter-widgets/controls",
          "model_name": "ProgressStyleModel",
          "model_module_version": "1.5.0",
          "state": {
            "_model_module": "@jupyter-widgets/controls",
            "_model_module_version": "1.5.0",
            "_model_name": "ProgressStyleModel",
            "_view_count": null,
            "_view_module": "@jupyter-widgets/base",
            "_view_module_version": "1.2.0",
            "_view_name": "StyleView",
            "bar_color": null,
            "description_width": ""
          }
        },
        "d9249597abf942b5af7a16e2ebefa329": {
          "model_module": "@jupyter-widgets/base",
          "model_name": "LayoutModel",
          "model_module_version": "1.2.0",
          "state": {
            "_model_module": "@jupyter-widgets/base",
            "_model_module_version": "1.2.0",
            "_model_name": "LayoutModel",
            "_view_count": null,
            "_view_module": "@jupyter-widgets/base",
            "_view_module_version": "1.2.0",
            "_view_name": "LayoutView",
            "align_content": null,
            "align_items": null,
            "align_self": null,
            "border": null,
            "bottom": null,
            "display": null,
            "flex": null,
            "flex_flow": null,
            "grid_area": null,
            "grid_auto_columns": null,
            "grid_auto_flow": null,
            "grid_auto_rows": null,
            "grid_column": null,
            "grid_gap": null,
            "grid_row": null,
            "grid_template_areas": null,
            "grid_template_columns": null,
            "grid_template_rows": null,
            "height": null,
            "justify_content": null,
            "justify_items": null,
            "left": null,
            "margin": null,
            "max_height": null,
            "max_width": null,
            "min_height": null,
            "min_width": null,
            "object_fit": null,
            "object_position": null,
            "order": null,
            "overflow": null,
            "overflow_x": null,
            "overflow_y": null,
            "padding": null,
            "right": null,
            "top": null,
            "visibility": null,
            "width": null
          }
        },
        "a24a494c9ffb43e1bfe493d1162c4e3d": {
          "model_module": "@jupyter-widgets/controls",
          "model_name": "DescriptionStyleModel",
          "model_module_version": "1.5.0",
          "state": {
            "_model_module": "@jupyter-widgets/controls",
            "_model_module_version": "1.5.0",
            "_model_name": "DescriptionStyleModel",
            "_view_count": null,
            "_view_module": "@jupyter-widgets/base",
            "_view_module_version": "1.2.0",
            "_view_name": "StyleView",
            "description_width": ""
          }
        }
      }
    }
  },
  "nbformat": 4,
  "nbformat_minor": 0
}