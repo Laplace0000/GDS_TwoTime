{
  "cells": [
    {
      "cell_type": "code",
      "execution_count": null,
      "metadata": {
        "colab": {
          "base_uri": "https://localhost:8080/"
        },
        "id": "afP0fI0WAjLQ",
        "outputId": "63969ef1-021e-4875-bd33-e77080113061"
      },
      "outputs": [
        {
          "ename": "",
          "evalue": "",
          "output_type": "error",
          "traceback": [
            "\u001b[1;31mRunning cells with 'Python 3.13.2' requires the ipykernel package.\n",
            "\u001b[1;31mRun the following command to install 'ipykernel' into the Python environment. \n",
            "\u001b[1;31mCommand: '/opt/homebrew/bin/python3 -m pip install ipykernel -U --user --force-reinstall'"
          ]
        }
      ],
      "source": [
        "# prompt: please install all the below using pip\n",
        "\n",
        "#!pip install numpy pandas matplotlib seaborn scikit-learn tensorflow keras clean_text pandarallel\n"
      ]
    },
    {
      "cell_type": "code",
      "execution_count": 9,
      "metadata": {
        "colab": {
          "base_uri": "https://localhost:8080/"
        },
        "id": "l7I5ZeAs7doa",
        "outputId": "f04e908c-53cf-4e5e-b1ac-6c4eeba64133"
      },
      "outputs": [
        {
          "name": "stdout",
          "output_type": "stream",
          "text": [
            "INFO: Pandarallel will run on 8 workers.\n",
            "INFO: Pandarallel will use standard multiprocessing data transfer (pipe) to transfer data between the main process and workers.\n"
          ]
        },
        {
          "name": "stderr",
          "output_type": "stream",
          "text": [
            "[nltk_data] Downloading package punkt to /Users/suneg/nltk_data...\n",
            "[nltk_data]   Package punkt is already up-to-date!\n",
            "[nltk_data] Downloading package stopwords to /Users/suneg/nltk_data...\n",
            "[nltk_data]   Package stopwords is already up-to-date!\n",
            "[nltk_data] Downloading package punkt_tab to /Users/suneg/nltk_data...\n",
            "[nltk_data]   Package punkt_tab is already up-to-date!\n"
          ]
        }
      ],
      "source": [
        "import nltk\n",
        "import re\n",
        "import pandas as pd\n",
        "import numpy as np\n",
        "import matplotlib.pyplot as plt\n",
        "\n",
        "from nltk.corpus import stopwords\n",
        "from nltk.tokenize import word_tokenize\n",
        "from nltk.lm import Vocabulary\n",
        "from sklearn.model_selection import train_test_split\n",
        "from sklearn.feature_extraction.text import CountVectorizer\n",
        "from sklearn.linear_model import LogisticRegression\n",
        "from sklearn.metrics import f1_score, accuracy_score, confusion_matrix, ConfusionMatrixDisplay\n",
        "from sklearn.preprocessing import StandardScaler\n",
        "import joblib\n",
        "from cleantext import clean\n",
        "from nltk.probability import FreqDist\n",
        "from nltk.stem import PorterStemmer\n",
        "from pandarallel import pandarallel\n",
        "import ast\n",
        "pandarallel.initialize(progress_bar=True)\n",
        "\n",
        "nltk.download('punkt')\n",
        "nltk.download('stopwords')\n",
        "nltk.download('punkt_tab')\n",
        "\n",
        "import os\n",
        "IN_COLAB = False\n",
        "if os.getenv(\"COLAB_RELEASE_TAG\"):\n",
        "   IN_COLAB = True\n",
        "\n",
        "fakeNewsCorpus = None"
      ]
    },
    {
      "cell_type": "code",
      "execution_count": 2,
      "metadata": {
        "colab": {
          "base_uri": "https://localhost:8080/"
        },
        "id": "1DWSzbnj75b9",
        "outputId": "79c1884d-37d0-4041-ee74-66a39de326ab"
      },
      "outputs": [],
      "source": [
        "if IN_COLAB:\n",
        "  from google.colab import drive\n",
        "  drive.mount('/content/drive')"
      ]
    },
    {
      "cell_type": "markdown",
      "metadata": {
        "id": "wWp-AaTm7doc"
      },
      "source": [
        "# Part 1"
      ]
    },
    {
      "cell_type": "markdown",
      "metadata": {
        "id": "FAkg7frj7dod"
      },
      "source": [
        "### Task 1"
      ]
    },
    {
      "cell_type": "code",
      "execution_count": 3,
      "metadata": {
        "colab": {
          "base_uri": "https://localhost:8080/"
        },
        "id": "r0lGjcG17dod",
        "outputId": "9d148c02-9df3-4945-ad46-60fa24a7a724"
      },
      "outputs": [
        {
          "name": "stdout",
          "output_type": "stream",
          "text": [
            "<class 'pandas.core.frame.DataFrame'>\n",
            "RangeIndex: 250 entries, 0 to 249\n",
            "Data columns (total 16 columns):\n",
            " #   Column            Non-Null Count  Dtype  \n",
            "---  ------            --------------  -----  \n",
            " 0   Unnamed: 0        250 non-null    int64  \n",
            " 1   id                250 non-null    int64  \n",
            " 2   domain            250 non-null    object \n",
            " 3   type              238 non-null    object \n",
            " 4   url               250 non-null    object \n",
            " 5   content           250 non-null    object \n",
            " 6   scraped_at        250 non-null    object \n",
            " 7   inserted_at       250 non-null    object \n",
            " 8   updated_at        250 non-null    object \n",
            " 9   title             250 non-null    object \n",
            " 10  authors           170 non-null    object \n",
            " 11  keywords          0 non-null      float64\n",
            " 12  meta_keywords     250 non-null    object \n",
            " 13  meta_description  54 non-null     object \n",
            " 14  tags              27 non-null     object \n",
            " 15  summary           0 non-null      float64\n",
            "dtypes: float64(2), int64(2), object(12)\n",
            "memory usage: 31.4+ KB\n",
            "None\n"
          ]
        }
      ],
      "source": [
        "#load data\n",
        "dataPath = \"../data/\"\n",
        "if IN_COLAB:\n",
        "  dataPath = \"/content/drive/MyDrive/\"\n",
        "nsdf = pd.read_csv(dataPath + \"news_sample.csv\")\n",
        "nsdf = nsdf.reset_index(drop=True)  # Reset index??\n",
        "nsdf_raw = nsdf\n",
        "print(nsdf.info())   # Check column types and missing values\n",
        "\n"
      ]
    },
    {
      "cell_type": "code",
      "execution_count": 4,
      "metadata": {
        "colab": {
          "base_uri": "https://localhost:8080/"
        },
        "id": "Yw3NaRAQ7doe",
        "outputId": "40b81a48-d87e-44ce-cc4d-775c58a7663b"
      },
      "outputs": [
        {
          "name": "stdout",
          "output_type": "stream",
          "text": [
            "['unreliable' 'fake' 'clickbait' 'conspiracy' 'reliable' 'bias' 'hate'\n",
            " 'junksci' 'political' nan 'unknown']\n"
          ]
        }
      ],
      "source": [
        "# unique lable values\n",
        "unique_values = nsdf['type'].unique()\n",
        "print(unique_values)"
      ]
    },
    {
      "cell_type": "code",
      "execution_count": 4,
      "metadata": {
        "colab": {
          "base_uri": "https://localhost:8080/"
        },
        "id": "8Sr01Nsx7doe",
        "outputId": "f841641a-6f2a-4902-e47e-ddd941ae53dc"
      },
      "outputs": [
        {
          "name": "stdout",
          "output_type": "stream",
          "text": [
            "['unreliable' 'fake' 'clickbait' 'conspiracy' 'reliable' 'bias' 'hate'\n",
            " 'junksci' 'political']\n"
          ]
        }
      ],
      "source": [
        "#nan and unknown removed as they seem useless when training a classifier\n",
        "nsdf = nsdf.dropna(subset=['type'])\n",
        "nsdf = nsdf.loc[nsdf['type']!='unknown']\n",
        "newunique_values = nsdf['type'].unique()\n",
        "print(newunique_values)\n"
      ]
    },
    {
      "cell_type": "markdown",
      "metadata": {
        "id": "2bdqH5Za7doe"
      },
      "source": [
        "Cleaning and Preprocessing"
      ]
    },
    {
      "cell_type": "code",
      "execution_count": 3,
      "metadata": {
        "id": "0aqMgikT7doe"
      },
      "outputs": [],
      "source": [
        "def cleanText(data, column):\n",
        "    def clean_text_help(text):\n",
        "        if isinstance(text, str):\n",
        "            # Remove excess whitespace\n",
        "            text = re.sub(r\"\\s+\", \" \", text).strip()\n",
        "            #replace dates\n",
        "            text = re.sub(r\"(0[1-9]|[1-2][0-9]|3[0-1])[-/.]?(0[1-9]|1[0-2])[-/.]?([0-9]{2}|[0-9]{4})\", \"<DATE>\", text)  # Replace date type 1\n",
        "            text = re.sub(r\"(0[1-9]|[1-2][0-9]|3[0-1])\\s([A-Za-z]{3})\\s([0-9]{2}|[0-9]{4})\", \"<DATE>\", text)  # Replace date type 2\n",
        "            return clean(text, lower=True, no_line_breaks=True, no_punct=True, replace_with_url=\"<URL>\", replace_with_email=\"<EMAIL>\", replace_with_number=\"<NUM>\", replace_with_digit=\"<NUM>\")\n",
        "        return text  # Return unchanged if not a string\n",
        "    data[column] = data[column].parallel_apply(clean_text_help)  # Apply function\n",
        "    return data"
      ]
    },
    {
      "cell_type": "code",
      "execution_count": 7,
      "metadata": {
        "id": "pCu5do7_7doe"
      },
      "outputs": [],
      "source": [
        "#Tokenize the text function\n",
        "def tokenizeText(data, column):\n",
        "    def tokenize_text_help(text):\n",
        "        if isinstance(text, str):\n",
        "            return word_tokenize(text)\n",
        "        return text  # Return unchanged if not a string\n",
        "    data[column] = data[column].parallel_apply(tokenize_text_help)  # Apply function\n",
        "    return data"
      ]
    },
    {
      "cell_type": "code",
      "execution_count": 8,
      "metadata": {
        "id": "NieKcD1f7dof"
      },
      "outputs": [],
      "source": [
        "#function for removeing stopwords\n",
        "def remove_stopwords(data, column):\n",
        "    def remove_stopwords_help(text):\n",
        "        stop_words = set(stopwords.words('english'))  # Load stopwords\n",
        "        if isinstance(text, str):\n",
        "            return [word for word in text.at[0, 'content'] if not word.lower() in stop_words]\n",
        "        return text  # Return unchanged if not a string\n",
        "    data[column] = data[column].parallel_apply(remove_stopwords_help)  # Apply function\n",
        "    return data"
      ]
    },
    {
      "cell_type": "code",
      "execution_count": 9,
      "metadata": {
        "id": "ZUkGLkbP7dof"
      },
      "outputs": [],
      "source": [
        "#funtion for populating vocabulary\n",
        "def populate_vocabulary(data):\n",
        "    N = data.shape[0]  # Get the number of rows\n",
        "    allWords = []\n",
        "    for i in range(N):\n",
        "        if isinstance(data.at[i, 'content'], str):  # Ensure it's a string\n",
        "            allWords.append(data.at[i, 'content'])\n",
        "    return Vocabulary(allWords, unk_cutoff=2)\n",
        "\n",
        "#langsom kørertid men kunne ikke finde ud af det med apply. Nogne med en god ide??\n",
        "# Can just use value_vounts()\n"
      ]
    },
    {
      "cell_type": "code",
      "execution_count": 6,
      "metadata": {
        "id": "2HPQfCwE7dof"
      },
      "outputs": [],
      "source": [
        "#making frequency dictionary\n",
        "def getFrequency(data, column, preTokenized):\n",
        "    N = data.shape[0]  # Get the number of rows\n",
        "    allWords = []\n",
        "    if preTokenized != 1 and preTokenized != 0:\n",
        "        return \"Wrong preTokenize input\"\n",
        "    if preTokenized == 1:\n",
        "        for text in data[column]:\n",
        "            if isinstance(text, list):  # Ensure text is already tokenized (list of words)\n",
        "                allWords.extend(text)\n",
        "            elif isinstance(text, str):  # If still a string, split it as a fallback\n",
        "                allWords.extend(text.split())\n",
        "    elif preTokenized == 0:\n",
        "        for text in data[column]:\n",
        "            if isinstance(text, str):\n",
        "                allWords.extend(word_tokenize(text))\n",
        "\n",
        "    return FreqDist(allWords)\n",
        "\n",
        "#Alternative? Returns a pandas series, with word and frequency, very fast.\n",
        "def getFreq(data, column):\n",
        "    return data[column].str.split().explode().value_counts()"
      ]
    },
    {
      "cell_type": "code",
      "execution_count": 7,
      "metadata": {
        "id": "IjoX2dVY7dof"
      },
      "outputs": [],
      "source": [
        "#function for removeing stopwords\n",
        "def dataStemming(data, column):\n",
        "    ps = PorterStemmer()\n",
        "    def dataStemming_help(text):\n",
        "        if isinstance(text, str):\n",
        "            return ps.stem(text)\n",
        "        return text  # Return unchanged if not a string\n",
        "    data[column] = data[column].parallel_apply(dataStemming_help)  # Apply function\n",
        "    return data"
      ]
    },
    {
      "cell_type": "code",
      "execution_count": null,
      "metadata": {
        "id": "MGqT6iu77dof"
      },
      "outputs": [],
      "source": [
        "# One big function to process data:\n",
        "def processData(data, column):\n",
        "    def apply_sequential_helper(functions):\n",
        "        # assume type siganture of functions to be List[f : String -> string ]\n",
        "        def inner(text):\n",
        "            for f in functions:\n",
        "                text = f(text)\n",
        "            return text\n",
        "        return inner\n",
        "\n",
        "    def clean_text_help(text):\n",
        "        if isinstance(text, str):\n",
        "            # Remove excess whitespace\n",
        "            text = re.sub(r\"\\s+\", \" \", text).strip()\n",
        "            #replace dates\n",
        "            text = re.sub(r\"(0[1-9]|[1-2][0-9]|3[0-1])[-/.]?(0[1-9]|1[0-2])[-/.]?([0-9]{2}|[0-9]{4})\", \"<DATE>\", text)  # Replace date type 1\n",
        "            text = re.sub(r\"(0[1-9]|[1-2][0-9]|3[0-1])\\s([A-Za-z]{3})\\s([0-9]{2}|[0-9]{4})\", \"<DATE>\", text)  # Replace date type 2\n",
        "            return clean(text, lower=True, no_line_breaks=True, no_numbers=True, no_emails=True, no_urls=True, no_punct=True, replace_with_url=r\"__URL__\", replace_with_email=r\"__EMAIL__\", replace_with_number=r\"__NUM__\", replace_with_digit=r\"__NUM__\")\n",
        "        raise TypeError(\"Clean_text passed non-string\")\n",
        "\n",
        "    def tokenize_text_help(text):\n",
        "        if isinstance(text, str):\n",
        "            return pd.Series(word_tokenize(text))\n",
        "        return text  # Return unchanged if not a string\n",
        "\n",
        "    def remove_stopwords_help(text):\n",
        "      # text is a Series[str]\n",
        "        stop_words = set(stopwords.words('english'))  # Load stopwords\n",
        "        #if isinstance(text, str):\n",
        "        #    return [word for word in text.at[0, 'content'] if not word.lower() in stop_words]\n",
        "        #return text  # Return unchanged if not a string\n",
        "        return text[~text.isin(stop_words)]\n",
        "\n",
        "    ps = PorterStemmer()\n",
        "    def dataStemming_help(text):\n",
        "        #if isinstance(text, str):\n",
        "        #    return ps.stem(text)\n",
        "        #return text  # Return unchanged if not a string\n",
        "        if(isinstance(text, str)):\n",
        "            return pd.Series(ps.stem(text))\n",
        "        return text.apply(ps.stem)\n",
        "\n",
        "    def type_cleaner(text):\n",
        "        if isinstance(text, str):\n",
        "            return pd.Series(text).to_list()\n",
        "        return text.to_list()\n",
        "\n",
        "    data[column] = data[column].parallel_apply(apply_sequential_helper(\n",
        "        [clean_text_help, # str -> str\n",
        "        tokenize_text_help, # str -> list[str]\n",
        "        remove_stopwords_help, #series[str] -> series[str]\n",
        "        dataStemming_help, #series[str] -> series[str]\n",
        "        type_cleaner # series[str] -> series[str]\n",
        "    ]))\n",
        "    return data"
      ]
    },
    {
      "cell_type": "code",
      "execution_count": 5,
      "metadata": {
        "colab": {
          "base_uri": "https://localhost:8080/",
          "height": 86,
          "referenced_widgets": [
            "bf68c788a3d9437383fdf54f8f75f050",
            "13df6b96a88944e98d65e813eeb54bd4",
            "dc1dd2e88478465e8ebc8082b1aa84aa",
            "2814e4c7aa32487e93e3ccd90b6e5f0c",
            "3cc027a216d2481ab36faca98212f3c5",
            "4ae5f28587fe4d01ad03446e234a631d",
            "e28976f80c1548f2af7836d8e8491c87",
            "23088918d37a416a8506b3fd4c7231f9",
            "24f8c63d4dc3428fbcd67efc20c076f2",
            "6cfbf875045943ad8b40671a67e0e29e"
          ]
        },
        "id": "jy3LEMwF7dof",
        "outputId": "ca281a39-240a-4c1a-945c-8be4a96474db"
      },
      "outputs": [
        {
          "data": {
            "application/vnd.jupyter.widget-view+json": {
              "model_id": "3e5686f72ea34d2cbc9f922deadb74ff",
              "version_major": 2,
              "version_minor": 0
            },
            "text/plain": [
              "VBox(children=(HBox(children=(IntProgress(value=0, description='0.00%', max=32), Label(value='0 / 32'))), HBox…"
            ]
          },
          "metadata": {},
          "output_type": "display_data"
        },
        {
          "name": "stdout",
          "output_type": "stream",
          "text": [
            "['sometim', 'power', 'christma', 'make', 'wild', 'wonder', 'thing', 'need', 'believ', 'holi', 'triniti', 'believ', 'posit', 'power', 'good', 'other', 'simpl', 'act', 'give', 'without', 'receiv', 'lost', 'mani', 'us', 'day', 'worri', 'money', 'success', 'hold', 'us', 'back', 'give', 'other', 'need', 'one', 'congreg', 'ohio', 'move', 'action', 'power', 'sermon', 'given', 'church', 'christma', 'eve', 'pastor', 'grand', 'lake', 'unit', 'methodist', 'church', 'celina', 'ohio', 'gave', 'emot', 'sermon', 'import', 'understand', 'messag', 'jesu', 'mani', 'religi', 'peopl', 'messag', 'jesu', 'help', 'other', 'make', 'sure', 'peopl', 'suffer', 'get', 'help', 'need', 'enjoy', 'life', 'littl', 'bit', 'sermon', 'realli', 'generos', 'look', 'like', 'live', 'jesu', 'live', 'long', 'time', 'ago', 'act', 'gener', 'fashion', 'time', 'would', 'gener', 'act', 'look', 'like', 'time', 'focu', 'sermon', 'potenc', 'sermon', 'lost', 'congreg', 'move', 'take', 'action', 'sermon', 'end', 'congreg', 'decid', 'take', 'offer', 'bowl', 'pass', 'around', 'room', 'everyon', 'pitch', 'could', 'christma', 'eve', 'word', 'sermon', 'still', 'ring', 'ear', 'offer', 'member', 'congreg', 'drove', 'local', 'waffl', 'hous', 'visit', 'ladi', 'work', 'night', 'shift', 'great', 'choic', 'holi', 'day', 'everyon', 'famili', 'ladi', 'work', 'waffl', 'hous', 'clearli', 'famili', 'choic', 'work', 'holi', 'day', 'paid', 'bill', 'congreg', 'understood', 'sacrific', 'made', 'ladi', 'want', 'help', 'donat', 'entir', 'offer', 'split', 'amongst', 'ladi', 'waffl', 'hous', 'total', 'amount', '$', 'num', 'split', 'amongst', 'staff', 'beauti', 'moment', 'perfect', 'exampl', 'preacher', 'talk', 'sermon', 'good', 'deed', 'like', 'christma', 'realli', 'help', 'eas', 'burden', 'felt', 'ladi', 'work', 'waffl', 'hous', 'sure', 'could', 'see', 'famili', 'least', 'got', 'littl', 'gift', 'good', 'peopl', 'commun', 'perhap', 'best', 'part', 'whole', 'event', 'congreg', 'ask', 'anyth', 'return', 'simpl', 'act', 'generos', 'peopl', 'understood', 'pain', 'felt', 'anoth', 'group', 'sought', 'allevi', 'pain', 'speak', 'volum', 'merit', 'church', 'daili', 'live', 'simpl', 'act', 'brought', 'entir', 'commun', 'togeth', 'show', 'empathi', 'compass', 'special', 'day', 'year']\n"
          ]
        }
      ],
      "source": [
        "\"\"\"\n",
        "nsdf_cleaned = cleanText(nsdf, 'content')\n",
        "nsdf_tokenized = tokenizeText(nsdf_cleaned, 'content')                  #tokenizing\n",
        "nsdf_cleaned_tokenized_nostopwords = remove_stopwords(nsdf_tokenized, 'content')           #removing stopwords\n",
        "nsdf_preprocessed = dataStemming(nsdf_cleaned_tokenized_nostopwords, 'content')\n",
        "\"\"\"\n",
        "nsdf_processed = processData(nsdf, 'content')\n",
        "nsdf_processed.dropna(subset=['content'], inplace=True)  # Drop rows with no content\n",
        "nsdf_processed.reset_index(drop=True, inplace=True)  # Reset index\n",
        "print(nsdf_processed.at[0, 'content'])"
      ]
    },
    {
      "cell_type": "code",
      "execution_count": 10,
      "metadata": {
        "colab": {
          "base_uri": "https://localhost:8080/"
        },
        "id": "Y4U9DbWw7dof",
        "outputId": "fe4d12d1-ee80-4786-a87c-c8619f573c2a"
      },
      "outputs": [
        {
          "name": "stdout",
          "output_type": "stream",
          "text": [
            "word frequency pre preprocessing\n",
            "170462\n"
          ]
        }
      ],
      "source": [
        "#word frequency pre preprocessing\n",
        "print(\"word frequency pre preprocessing\")\n",
        "word_frequency_pre = getFreq(nsdf_raw, 'content').sum()\n",
        "print(word_frequency_pre)"
      ]
    },
    {
      "cell_type": "code",
      "execution_count": 11,
      "metadata": {
        "colab": {
          "base_uri": "https://localhost:8080/"
        },
        "id": "FoqJWce17dog",
        "outputId": "73b36b5b-a812-46a6-823b-f7fc8159703f"
      },
      "outputs": [
        {
          "name": "stdout",
          "output_type": "stream",
          "text": [
            "word frequency post preprocessing\n",
            "86067\n"
          ]
        }
      ],
      "source": [
        "#word frequency post preprocessing\n",
        "print(\"word frequency post preprocessing\")\n",
        "# getfreq assumes different type signature, so we have to do it this way\n",
        "word_frequency_post = nsdf_processed[\"content\"].explode().value_counts().sum()\n",
        "print(word_frequency_post)"
      ]
    },
    {
      "cell_type": "code",
      "execution_count": 19,
      "metadata": {
        "id": "T5uKU6le7dog"
      },
      "outputs": [],
      "source": [
        "#word frequency post stemming\n",
        "#print(\"word frequency post stemming\")\n",
        "#word_frequency_postStem = getFrequency(nsdf_.processed, 'content', 1)\n",
        "#print(sum(word_frequency_postStem.values()))"
      ]
    },
    {
      "cell_type": "code",
      "execution_count": 20,
      "metadata": {
        "id": "n1OIqoGT7dog"
      },
      "outputs": [],
      "source": [
        "#pre = word_frequency_pre\n",
        "#post = word_frequency_post\n",
        "#print(\"Reduction rate of the vocabulary size after removing stopwords:\")\n",
        "#print(abs(pre -post))\n",
        "#print(\"Further  reduction rate of the vocabulary size after stemming\")\n",
        "#postStem = sum(word_frequency_post.values())\n",
        "#print(abs(post -postStem))"
      ]
    },
    {
      "cell_type": "markdown",
      "metadata": {
        "id": "J1czxzP-7dog"
      },
      "source": [
        "### Task 2"
      ]
    },
    {
      "cell_type": "code",
      "execution_count": null,
      "metadata": {},
      "outputs": [
        {
          "name": "stdout",
          "output_type": "stream",
          "text": [
            "  Unnamed: 0         id               domain        type  \\\n",
            "0        732  7444726.0   nationalreview.com   political   \n",
            "1       1348  6213642.0    beforeitsnews.com        fake   \n",
            "2       7119  3867639.0     dailycurrant.com      satire   \n",
            "3       1518  9560791.0          nytimes.com    reliable   \n",
            "4       9345  2059625.0  infiniteunknown.net  conspiracy   \n",
            "\n",
            "                                                 url  \\\n",
            "0  http://www.nationalreview.com/node/152734/%E2%...   \n",
            "1  http://beforeitsnews.com/economy/2012/06/the-c...   \n",
            "2  http://dailycurrant.com/2016/01/18/man-awoken-...   \n",
            "3  https://query.nytimes.com/gst/fullpage.html?re...   \n",
            "4  http://www.infiniteunknown.net/2011/09/14/100-...   \n",
            "\n",
            "                                             content  \\\n",
            "0  Plus one article on Google Plus\\n\\n(Thanks to ...   \n",
            "1  The Cost Of The Best Senate Banking Committee ...   \n",
            "2  Man Awoken From 27-Year Coma Commits Suicide A...   \n",
            "3  WHEN Julia Geist was asked to draw a picture o...   \n",
            "4  – 100 Compiled Studies on Vaccine Dangers (Act...   \n",
            "\n",
            "                   scraped_at                 inserted_at  \\\n",
            "0  2017-11-27T01:14:42.983556  2018-02-08 19:18:34.468038   \n",
            "1    2017-11-27T01:14:08.7454  2018-02-08 19:18:34.468038   \n",
            "2  2017-11-27T01:14:21.395055  2018-02-07 23:39:33.852671   \n",
            "3  2018-02-11 00:46:42.632962  2018-02-11 00:14:20.346838   \n",
            "4  2017-11-10T11:18:44.524042  2018-02-07 23:39:33.852671   \n",
            "\n",
            "                   updated_at  \\\n",
            "0  2018-02-08 19:18:34.468066   \n",
            "1  2018-02-08 19:18:34.468066   \n",
            "2  2018-02-07 23:39:33.852696   \n",
            "3  2018-02-11 00:14:20.346871   \n",
            "4  2018-02-07 23:39:33.852696   \n",
            "\n",
            "                                               title authors  keywords  \\\n",
            "0                                 Iran News Round Up     NaN       NaN   \n",
            "1  The Cost Of The Best Senate Banking Committee ...     NaN       NaN   \n",
            "2  Man Awoken From 27-Year Coma Commits Suicide A...     NaN       NaN   \n",
            "3  Opening a Gateway for Girls to Enter the Compu...     NaN       NaN   \n",
            "4  100 Compiled Studies on Vaccine Dangers – Infi...     NaN       NaN   \n",
            "\n",
            "                                       meta_keywords  \\\n",
            "0  ['National Review', 'National Review Online', ...   \n",
            "1                                               ['']   \n",
            "2                                               ['']   \n",
            "3  ['Computers and the Internet', 'Women and Girl...   \n",
            "4                                               ['']   \n",
            "\n",
            "                                    meta_description  \\\n",
            "0                                                NaN   \n",
            "1                                                NaN   \n",
            "2                                                NaN   \n",
            "3  WHEN Julia Geist was asked to draw a picture o...   \n",
            "4                                                NaN   \n",
            "\n",
            "                                                tags  summary   source  \n",
            "0                                                NaN      NaN      NaN  \n",
            "1                                                NaN      NaN      NaN  \n",
            "2                                                NaN      NaN      NaN  \n",
            "3                                                NaN      NaN  nytimes  \n",
            "4  Lymphoma, Hepatitis B, Immune System, Health, ...      NaN      NaN  \n"
          ]
        }
      ],
      "source": [
        "#load data\n",
        "fakeNewsCorpus = pd.read_csv(dataPath + \"995,000_rows.csv\")\n",
        "#Hva saten er den der unnamed???\n",
        "print(fakeNewsCorpus.head())\n",
        "#fakeNewsCorpus['content'].duplicated()\n",
        "news_noDup = fakeNewsCorpus.drop_duplicates(subset=['content']).dropna(subset=['content']).reset_index(drop=True)"
      ]
    },
    {
      "cell_type": "code",
      "execution_count": null,
      "metadata": {
        "colab": {
          "base_uri": "https://localhost:8080/",
          "height": 1000,
          "referenced_widgets": [
            "9fd9741bc796445dacef77f07614167e",
            "1fdcaf3f9a5245eea4a903b928eee5b8",
            "e347b4d8b9fb4c72929f6a646167747c",
            "b58df1204e824dbd9f72cdb606b2605f",
            "b1c6087d3824401aa91057fe441302fe",
            "830cda2af3cb49ecbfe45ca7f2e04a24",
            "6e08915023cb458abda3abdce421467e",
            "7258d6e2da3a41ad9b4830b0192cb037",
            "d9249597abf942b5af7a16e2ebefa329",
            "a24a494c9ffb43e1bfe493d1162c4e3d"
          ]
        },
        "id": "u-6EvFOO7dog",
        "outputId": "dcfc62f5-5370-44df-c102-5d896416d2e3"
      },
      "outputs": [
        {
          "data": {
            "application/vnd.jupyter.widget-view+json": {
              "model_id": "ede4b09fddf448bfae3f70e87c1580e0",
              "version_major": 2,
              "version_minor": 0
            },
            "text/plain": [
              "VBox(children=(HBox(children=(IntProgress(value=0, description='0.00%', max=101614), Label(value='0 / 101614')…"
            ]
          },
          "metadata": {},
          "output_type": "display_data"
        }
      ],
      "source": [
        "#Cleaning\n",
        "news_processed = processData(news_noDup, 'content')\n",
        "news_processed.to_json(dataPath + \"news_processed.json\", orient='records', lines=True)"
      ]
    },
    {
      "cell_type": "markdown",
      "metadata": {
        "id": "TCHjcIp97dog"
      },
      "source": [
        "### Task 3"
      ]
    },
    {
      "cell_type": "code",
      "execution_count": 6,
      "metadata": {
        "id": "LsAEJIoO7dog",
        "outputId": "f7b8a93f-b748-4f47-c421-13a928bff4dc"
      },
      "outputs": [
        {
          "name": "stdout",
          "output_type": "stream",
          "text": [
            "<class 'pandas.core.frame.DataFrame'>\n",
            "RangeIndex: 812912 entries, 0 to 812911\n",
            "Data columns (total 17 columns):\n",
            " #   Column            Non-Null Count   Dtype         \n",
            "---  ------            --------------   -----         \n",
            " 0   Unnamed: 0        812911 non-null  float64       \n",
            " 1   id                812912 non-null  object        \n",
            " 2   domain            812912 non-null  object        \n",
            " 3   type              770599 non-null  object        \n",
            " 4   url               812912 non-null  object        \n",
            " 5   content           812912 non-null  object        \n",
            " 6   scraped_at        812911 non-null  object        \n",
            " 7   inserted_at       812911 non-null  datetime64[ns]\n",
            " 8   updated_at        812911 non-null  datetime64[ns]\n",
            " 9   title             812735 non-null  object        \n",
            " 10  authors           502785 non-null  object        \n",
            " 11  keywords          0 non-null       float64       \n",
            " 12  meta_keywords     775004 non-null  object        \n",
            " 13  meta_description  421991 non-null  object        \n",
            " 14  tags              184646 non-null  object        \n",
            " 15  summary           0 non-null       float64       \n",
            " 16  source            208460 non-null  object        \n",
            "dtypes: datetime64[ns](2), float64(3), object(12)\n",
            "memory usage: 105.4+ MB\n",
            "None\n"
          ]
        }
      ],
      "source": [
        "if fakeNewsCorpus is None:\n",
        "    json_reader = pd.read_json(dataPath + \"news_processed.json\", orient='records', lines=True, chunksize=1500)\n",
        "    fakeNewsCorpus = pd.concat(json_reader, ignore_index=True)\n",
        "# timed: 12 min på M1 macbook chunk=1000\n",
        "print(fakeNewsCorpus.info())   # Check column types and missing values\n",
        "#fndf = fakeNewsCorpus.reset_index(drop=True)  # Reset index\n"
      ]
    },
    {
      "cell_type": "code",
      "execution_count": 8,
      "metadata": {
        "id": "lRVr6AxZ7dog",
        "outputId": "9013e78e-a2bf-4f2d-d54d-499d3dde514b"
      },
      "outputs": [],
      "source": [
        "fndf = fakeNewsCorpus"
      ]
    },
    {
      "cell_type": "markdown",
      "metadata": {
        "id": "yqKMjLFX7doh"
      },
      "source": [
        "### Cleaning and Preprocessing"
      ]
    },
    {
      "cell_type": "code",
      "execution_count": null,
      "metadata": {
        "id": "NOn3autl7doh",
        "outputId": "b049f942-d2ac-4c2c-d85b-0d7c8392e567"
      },
      "outputs": [],
      "source": [
        "fakeNewsCorpus = fakeNewsCorpus.to_pickle(dataPath + \"fakeNewsCorpus.pkl\")\n",
        "print(\"Pandas DataFrame:\")\n",
        "display(fndf.iloc[0])\n",
        "\n"
      ]
    },
    {
      "cell_type": "markdown",
      "metadata": {},
      "source": [
        "## Observations about dataset"
      ]
    },
    {
      "cell_type": "code",
      "execution_count": 9,
      "metadata": {},
      "outputs": [
        {
          "name": "stderr",
          "output_type": "stream",
          "text": [
            "/var/folders/95/npq_3klx42xc1jgcjnly4y4m0000gn/T/ipykernel_20760/396577567.py:2: SettingWithCopyWarning: \n",
            "A value is trying to be set on a copy of a slice from a DataFrame.\n",
            "Try using .loc[row_indexer,col_indexer] = value instead\n",
            "\n",
            "See the caveats in the documentation: https://pandas.pydata.org/pandas-docs/stable/user_guide/indexing.html#returning-a-view-versus-a-copy\n",
            "  fndf['type'] = fndf['type'].replace(r'^(reliable|clickbait|political)$', '1', regex=True)\n",
            "/var/folders/95/npq_3klx42xc1jgcjnly4y4m0000gn/T/ipykernel_20760/396577567.py:3: SettingWithCopyWarning: \n",
            "A value is trying to be set on a copy of a slice from a DataFrame.\n",
            "Try using .loc[row_indexer,col_indexer] = value instead\n",
            "\n",
            "See the caveats in the documentation: https://pandas.pydata.org/pandas-docs/stable/user_guide/indexing.html#returning-a-view-versus-a-copy\n",
            "  fndf['type'] = fndf['type'].replace(r'^(?!1$).+', '0', regex=True)   # Replace everything except '1' with '0'\n",
            "/var/folders/95/npq_3klx42xc1jgcjnly4y4m0000gn/T/ipykernel_20760/396577567.py:4: SettingWithCopyWarning: \n",
            "A value is trying to be set on a copy of a slice from a DataFrame.\n",
            "Try using .loc[row_indexer,col_indexer] = value instead\n",
            "\n",
            "See the caveats in the documentation: https://pandas.pydata.org/pandas-docs/stable/user_guide/indexing.html#returning-a-view-versus-a-copy\n",
            "  fndf['type'] = fndf['type'].astype(int)  # Convert to integer\n"
          ]
        }
      ],
      "source": [
        "fndf = fndf.dropna(subset=['type'])\n",
        "fndf['type'] = fndf['type'].replace(r'^(reliable|clickbait|political)$', '1', regex=True) \n",
        "fndf['type'] = fndf['type'].replace(r'^(?!1$).+', '0', regex=True)   # Replace everything except '1' with '0'\n",
        "fndf['type'] = fndf['type'].astype(int)  # Convert to integer"
      ]
    },
    {
      "cell_type": "code",
      "execution_count": 14,
      "metadata": {},
      "outputs": [
        {
          "name": "stdout",
          "output_type": "stream",
          "text": [
            "378763  :  391836\n",
            "distribution for real news\n",
            "[('num', 3158753), ('said', 901336), ('new', 583966), ('one', 512685), ('mr', 509038), ('would', 463907), ('year', 447673), ('time', 447646), ('$', 446510), ('like', 408097), ('state', 407964), ('peopl', 389604), ('us', 306603), ('also', 301689), ('continu', 299197), ('stori', 294520), ('say', 294174), ('york', 281663), ('make', 279645), ('read', 279093), ('work', 273287), ('get', 271541), ('go', 265306), ('presid', 252996), ('even', 247347), ('first', 246291), ('two', 240050), ('use', 237233), ('numnum', 231782), ('last', 231383), ('pleas', 230664), ('trump', 230602), ('main', 230035), ('american', 227921), ('could', 227031), ('mani', 221007), ('day', 217440), ('right', 208384), ('newslett', 206860), ('nation', 201406), ('sign', 200449), ('take', 199373), ('want', 199080), ('call', 197499), ('report', 197208), ('govern', 196088), ('way', 193655), ('tri', 192781), ('may', 181509), ('know', 180245), ('includ', 180125), ('need', 177375), ('think', 177255), ('republican', 176744), ('hous', 175075), ('come', 173339), ('back', 172399), ('compani', 171164), ('show', 169261), ('democrat', 169174), ('world', 168905), ('well', 165238), ('much', 165219), ('dont', 165052), ('servic', 162588), ('percent', 161301), ('polit', 161241), ('countri', 160864), ('support', 157407), ('obama', 156691), ('unit', 156491), ('see', 156270), ('advertis', 155738), ('week', 154540), ('look', 153587), ('made', 152510), ('group', 151841), ('million', 150591), ('citi', 149445), ('thing', 147348), ('live', 147155), ('offer', 146561), ('help', 146072), ('public', 144923), ('subscrib', 143369), ('still', 142173), ('vote', 141551), ('good', 141068), ('offic', 140712), ('news', 140486), ('point', 137734), ('receiv', 137485), ('play', 136983), ('must', 135981), ('law', 135590), ('plan', 133877), ('sinc', 133273), ('chang', 132790), ('famili', 132193), ('later', 132118), ('school', 131956), ('elect', 130737), ('part', 130568), ('product', 130167), ('parti', 127957), ('view', 127742), ('gener', 126601), ('email', 125001), ('end', 124662), ('anoth', 123993), ('home', 123582), ('senat', 123227), ('offici', 122845), ('three', 121484), ('campaign', 120302), ('issu', 119804), ('start', 117499), ('ask', 117164), ('run', 116748), ('month', 114878), ('your', 114160), ('war', 113892), ('case', 113610), ('street', 113555), ('special', 112625), ('place', 112031), ('power', 110555), ('white', 110065), ('agre', 110014), ('ms', 109417), ('life', 109041), ('game', 108882), ('long', 108773), ('member', 107666), ('recent', 107146), ('busi', 106398), ('photo', 106304), ('told', 105356), ('im', 105069), ('person', 104293), ('open', 103911), ('around', 103874), ('women', 103560), ('forc', 103545), ('put', 103407), ('everi', 103249), ('today', 103147), ('address', 102965), ('never', 102870), ('thank', 102312), ('bill', 101885), ('give', 101756), ('that', 101510), ('next', 100446), ('seem', 99888), ('tax', 99683), ('court', 99062), ('health', 98128), ('rec', 97415), ('secur', 97120), ('accord', 96951), ('realli', 96926), ('polici', 96869), ('believ', 96627), ('feder', 96442), ('job', 96419), ('question', 96387), ('care', 96240), ('america', 96187), ('program', 95896), ('talk', 95685), ('money', 95570), ('number', 95263), ('updat', 95188), ('might', 94962), ('ad', 94871), ('move', 94603), ('commun', 94558), ('clinton', 94360), ('children', 94293), ('former', 94272), ('found', 93446), ('find', 93339), ('man', 93311), ('turn', 93144), ('market', 92988), ('follow', 92738), ('major', 91846), ('univers', 91829), ('littl', 91656), ('name', 91540), ('provid', 91384), ('polic', 90722), ('team', 90666), ('becom', 90287), ('differ', 90001), ('system', 89371), ('center', 89340), ('administr', 89306), ('without', 88711)]\n",
            "distribution for fake news\n",
            "[('num', 2812277), ('us', 525685), ('one', 479961), ('said', 420630), ('peopl', 417862), ('would', 416145), ('state', 401984), ('time', 367854), ('year', 358966), ('like', 336268), ('new', 320237), ('also', 316703), ('use', 309631), ('$', 308188), ('govern', 282049), ('report', 260305), ('make', 260036), ('say', 251206), ('get', 246082), ('even', 244108), ('go', 240588), ('world', 235947), ('could', 222366), ('american', 222323), ('mani', 218652), ('nation', 215684), ('two', 215157), ('news', 209021), ('may', 208719), ('take', 205767), ('first', 205516), ('presid', 205384), ('work', 203578), ('countri', 202262), ('right', 201661), ('think', 195234), ('day', 194044), ('come', 187576), ('know', 187546), ('way', 184166), ('see', 183230), ('want', 182489), ('well', 175229), ('need', 175043), ('obama', 174236), ('unit', 173759), ('call', 170769), ('war', 170318), ('url', 165624), ('last', 164894), ('trump', 162449), ('includ', 161861), ('back', 157589), ('look', 153454), ('numnum', 152007), ('support', 151775), ('dont', 151064), ('thing', 149571), ('show', 148156), ('much', 148138), ('forc', 145633), ('power', 145275), ('law', 144729), ('live', 144666), ('polit', 143750), ('fact', 143456), ('follow', 141327), ('group', 139251), ('help', 134438), ('made', 133009), ('sourc', 132088), ('sinc', 130477), ('good', 130423), ('market', 129960), ('public', 128785), ('read', 128391), ('believ', 128232), ('part', 127117), ('continu', 126613), ('accord', 125111), ('attack', 123815), ('system', 123003), ('chang', 122700), ('america', 122622), ('russia', 122138), ('point', 120803), ('end', 120704), ('secur', 117752), ('gener', 117610), ('still', 117225), ('hous', 116471), ('anoth', 115456), ('offic', 114393), ('million', 114210), ('offici', 113437), ('media', 113411), ('inform', 112927), ('stori', 112652), ('person', 112313), ('place', 112185), ('post', 112089), ('week', 111900), ('life', 111695), ('polic', 111155), ('militari', 111128), ('issu', 110964), ('plan', 110934), ('talk', 110037), ('human', 109817), ('case', 109691), ('start', 108924), ('today', 108632), ('tri', 107604), ('recent', 106982), ('everi', 106734), ('mean', 106596), ('articl', 105476), ('claim', 104788), ('compani', 104646), ('number', 103302), ('around', 102716), ('told', 102398), ('becom', 102398), ('order', 102074), ('russian', 102004), ('control', 101698), ('howev', 101507), ('next', 101367), ('money', 101350), ('found', 100853), ('find', 100059), ('parti', 99523), ('interest', 99459), ('bank', 99184), ('provid', 98994), ('citi', 98903), ('happen', 98076), ('never', 97980), ('ask', 96409), ('put', 96398), ('give', 96335), ('author', 96008), ('without', 95900), ('feder', 95654), ('de', 95204), ('month', 95069), ('question', 94627), ('white', 94584), ('health', 94528), ('intern', 93875), ('home', 92809), ('polici', 92800), ('man', 92720), ('member', 92549), ('famili', 92287), ('realli', 92209), ('kill', 91255), ('result', 91216), ('long', 90738), ('differ', 90649), ('keep', 90139), ('major', 90087), ('research', 89835), ('three', 89820), ('elect', 89816), ('organ', 89747), ('food', 89132), ('move', 88628), ('creat', 88584), ('great', 88136), ('reason', 87780), ('problem', 87618), ('oper', 87442), ('must', 87385), ('free', 87336), ('econom', 87054), ('possibl', 86837), ('share', 86815), ('play', 86814), ('video', 86435), ('import', 85936), ('children', 85429), ('caus', 85348), ('increas', 85182), ('commun', 84826), ('vote', 84288), ('global', 83650), ('develop', 82687), ('current', 82588), ('act', 82342), ('product', 82139), ('someth', 82132), ('busi', 82002), ('appear', 81902), ('natur', 81799), ('actual', 81787), ('seem', 81187), ('allow', 80693), ('percent', 80503), ('effect', 80400)]\n",
            "distribution for all news\n",
            "[('num', 5971030), ('said', 1321966), ('one', 992646), ('new', 904203), ('would', 880052), ('us', 832288), ('time', 815500), ('state', 809948), ('peopl', 807466), ('year', 806639), ('$', 754698), ('like', 744365), ('also', 618392), ('mr', 585420), ('use', 546864), ('say', 545380), ('make', 539681), ('get', 517623), ('go', 505894), ('even', 491455), ('govern', 478137), ('work', 476865), ('presid', 458380), ('report', 457513), ('two', 455207), ('first', 451807), ('american', 450244), ('could', 449397), ('mani', 439659), ('continu', 425810), ('nation', 417090), ('day', 411484), ('right', 410045), ('read', 407484), ('stori', 407172), ('take', 405140), ('world', 404852), ('last', 396277), ('trump', 393051), ('may', 390228), ('numnum', 383789), ('want', 381569), ('way', 377821), ('think', 372489), ('call', 368268), ('know', 367791), ('countri', 363126), ('come', 360915), ('need', 352418), ('news', 349507), ('includ', 341986), ('well', 340467), ('see', 339500), ('york', 332660), ('obama', 330927), ('unit', 330250), ('back', 329988), ('show', 317417), ('dont', 316116), ('much', 313357), ('support', 309182), ('look', 307041), ('polit', 304991), ('tri', 300385), ('thing', 296919), ('live', 291821), ('hous', 291546), ('group', 291092), ('made', 285519), ('war', 284210), ('help', 280510), ('law', 280319), ('compani', 275810), ('public', 273708), ('pleas', 272209), ('good', 271491), ('week', 266440), ('sign', 266363), ('million', 264801), ('sinc', 263750), ('main', 262112), ('still', 259398), ('point', 258537), ('part', 257685), ('power', 255830), ('chang', 255490), ('offic', 255105), ('forc', 249178), ('citi', 248348), ('democrat', 247205), ('end', 245366), ('plan', 244811), ('gener', 244211), ('republican', 243005), ('servic', 242560), ('percent', 241804), ('anoth', 239449), ('offici', 236282), ('follow', 234065), ('issu', 230768), ('parti', 227480), ('start', 226423), ('vote', 225839), ('url', 225071), ('believ', 224859), ('famili', 224480), ('place', 224216), ('play', 223797), ('must', 223366), ('case', 223301), ('market', 222948), ('fact', 222850), ('accord', 222062), ('life', 220736), ('elect', 220553), ('america', 218809), ('person', 216606), ('home', 216391), ('secur', 214872), ('recent', 214128), ('ask', 213573), ('system', 212374), ('product', 212306), ('today', 211779), ('school', 211548), ('three', 211304), ('newslett', 211137), ('everi', 209983), ('month', 209947), ('attack', 208915), ('told', 207754), ('around', 206590), ('talk', 205722), ('offer', 205561), ('white', 204649), ('view', 203881), ('polic', 201877), ('next', 201813), ('never', 200850), ('member', 200215), ('put', 199805), ('advertis', 199713), ('receiv', 199631), ('long', 199511), ('number', 198565), ('give', 198091), ('money', 196920), ('found', 194299), ('find', 193398), ('mean', 193157), ('becom', 192685), ('health', 192656), ('post', 192507), ('feder', 192096), ('run', 191569), ('question', 191014), ('inform', 190404), ('provid', 190378), ('campaign', 189928), ('media', 189805), ('polici', 189669), ('realli', 189135), ('busi', 188400), ('email', 188300), ('later', 186053), ('man', 186031), ('without', 184611), ('move', 183231), ('interest', 182711), ('major', 181933), ('human', 181158), ('seem', 181075), ('differ', 180650), ('that', 180562), ('children', 179722), ('commun', 179384), ('militari', 178786), ('happen', 178644), ('im', 177485), ('senat', 177446), ('open', 176642), ('keep', 175154), ('bank', 174270), ('court', 172835), ('claim', 172712), ('turn', 172591), ('sourc', 172550), ('author', 172468), ('might', 172458), ('order', 172242), ('organ', 172128), ('bill', 171689), ('ad', 171656), ('problem', 171493), ('name', 170709), ('great', 170234), ('women', 169165), ('former', 168471), ('game', 167505), ('someth', 167366)]\n"
          ]
        }
      ],
      "source": [
        "relib_news = fndf.loc[fndf['type'] == 1]\n",
        "fake_news = fndf.loc[fndf['type'] == 0]\n",
        "\n",
        "print(relib_news.shape[0], \" : \", fake_news.shape[0])\n",
        "\n",
        "print(\"distribution for real news\")\n",
        "#print(relib_news[\"content\"].explode().value_counts())\n",
        "real_dist = FreqDist(relib_news[\"content\"].explode())\n",
        "print(real_dist.most_common(200))\n",
        "\n",
        "print(\"distribution for fake news\")\n",
        "#print(fake_news[\"content\"].explode().value_counts())\n",
        "fake_dist = FreqDist(fake_news[\"content\"].explode())\n",
        "print(fake_dist.most_common(200))\n",
        "\n",
        "print(\"distribution for all news\")\n",
        "#print(fndf[\"content\"].explode().value_counts())\n",
        "all_dist = FreqDist(fndf[\"content\"].explode())\n",
        "print(all_dist.most_common(200))"
      ]
    },
    {
      "cell_type": "markdown",
      "metadata": {
        "id": "BEK4r7cy7doh"
      },
      "source": [
        "## Task 4"
      ]
    },
    {
      "cell_type": "code",
      "execution_count": 10,
      "metadata": {
        "id": "dxlKCVeK7doh",
        "outputId": "689ae9da-ca85-41ac-877b-dd07c1b5d147"
      },
      "outputs": [
        {
          "name": "stdout",
          "output_type": "stream",
          "text": [
            "train size: (616479,)\n",
            "val size: (77060,)\n",
            "test size: (77060,)\n"
          ]
        }
      ],
      "source": [
        "# Splitting into test, train and validation\n",
        "X_train, X_valtest, y_train, y_valtest = train_test_split(fndf['content'], fndf['type'], test_size=0.2, random_state=42) # Replace with fakenews dataset for real linreg.\n",
        "X_test, X_val, y_test, y_val = train_test_split(X_valtest, y_valtest, test_size=0.5, random_state=42)\n",
        "# x_train = testing_ x, y_train = training_y\n",
        "# (x_test\n",
        "print(\"train size:\", y_train.shape)\n",
        "print(\"val size:\", y_val.shape)\n",
        "print(\"test size:\", y_test.shape)\n"
      ]
    },
    {
      "cell_type": "markdown",
      "metadata": {
        "id": "o1MTfwNy7doh"
      },
      "source": [
        "# Part 2"
      ]
    },
    {
      "cell_type": "markdown",
      "metadata": {},
      "source": [
        "## Task 0, splitting labels into reliable and unreliable."
      ]
    },
    {
      "cell_type": "code",
      "execution_count": null,
      "metadata": {},
      "outputs": [
        {
          "name": "stdout",
          "output_type": "stream",
          "text": [
            "['political' 'fake' 'satire' 'reliable' 'conspiracy' 'unreliable' 'bias'\n",
            " 'rumor' 'unknown' None 'clickbait' 'hate' 'junksci']\n",
            "['political' 'fake' 'satire' 'reliable' 'conspiracy' 'unreliable' 'bias'\n",
            " 'rumor' 'clickbait' 'hate' 'junksci']\n",
            "['1' '0']\n"
          ]
        },
        {
          "data": {
            "text/plain": [
              "90827"
            ]
          },
          "execution_count": 23,
          "metadata": {},
          "output_type": "execute_result"
        }
      ],
      "source": [
        "\n",
        "unique_values = fndf['type'].unique()\n",
        "print(unique_values)\n",
        "#hard to know how to classify nan and unknown, so removed for now\n",
        "# we also remove the a weird type \n",
        "fndf = fndf.dropna(subset=['type'])\n",
        "fndf = fndf.loc[fndf['type']!='unknown']\n",
        "# Need to reset index\n",
        "\n",
        "newunique_values = fndf['type'].unique()\n",
        "print(newunique_values)\n",
        "\n",
        "\n",
        "# groups (reliable) as truenews 1 and (all others) in fakenews 0\n",
        "    #note this is naive and should be reconsidered later\n",
        "\n",
        "# reliable, clickbait and political are all, by their contents, factually correct (albeit possibly politcally motivated)\n",
        "# we deem those to be \"real\" news\n",
        "fndf['type'] = fndf['type'].replace(r'^(reliable|clickbait|political)$', '1', regex=True) \n",
        "fndf['type'] = fndf['type'].replace(r'^(?!1$).+', '0', regex=True)   # Replace everything except '1' with '0'\n",
        "#fndf['type'] = fndf['type'].fillna('0')\n",
        "\n",
        "newunique_values = fndf['type'].unique()\n",
        "print(newunique_values)\n",
        "fndf.shape[0]"
      ]
    },
    {
      "cell_type": "markdown",
      "metadata": {},
      "source": [
        "## Task 1 - Simple linear regression model."
      ]
    },
    {
      "cell_type": "markdown",
      "metadata": {},
      "source": [
        "Get the top 10000 words, and how often they occur in each article"
      ]
    },
    {
      "cell_type": "code",
      "execution_count": 11,
      "metadata": {},
      "outputs": [
        {
          "name": "stdout",
          "output_type": "stream",
          "text": [
            "Finding vocabulary:\n",
            "vectorizing X_train\n",
            "vectorizing X_test\n",
            "<Compressed Sparse Row sparse matrix of dtype 'int64'\n",
            "\twith 100974869 stored elements and shape (616479, 10000)>\n",
            "  Coords\tValues\n",
            "  (0, 2)\t2\n",
            "  (0, 3)\t4\n",
            "  (0, 6)\t1\n",
            "  (0, 8)\t1\n",
            "  (0, 11)\t1\n",
            "  (0, 17)\t1\n",
            "  (0, 18)\t1\n",
            "  (0, 19)\t4\n",
            "  (0, 22)\t1\n",
            "  (0, 25)\t1\n",
            "  (0, 28)\t1\n",
            "  (0, 32)\t3\n",
            "  (0, 35)\t1\n",
            "  (0, 39)\t1\n",
            "  (0, 42)\t1\n",
            "  (0, 43)\t3\n",
            "  (0, 44)\t2\n",
            "  (0, 48)\t1\n",
            "  (0, 49)\t1\n",
            "  (0, 50)\t1\n",
            "  (0, 51)\t1\n",
            "  (0, 52)\t1\n",
            "  (0, 54)\t1\n",
            "  (0, 58)\t1\n",
            "  (0, 59)\t2\n",
            "  :\t:\n",
            "  (616478, 4364)\t1\n",
            "  (616478, 4473)\t1\n",
            "  (616478, 4513)\t1\n",
            "  (616478, 4612)\t1\n",
            "  (616478, 4730)\t1\n",
            "  (616478, 4769)\t1\n",
            "  (616478, 4833)\t1\n",
            "  (616478, 4901)\t1\n",
            "  (616478, 4914)\t1\n",
            "  (616478, 4999)\t1\n",
            "  (616478, 5029)\t1\n",
            "  (616478, 5186)\t1\n",
            "  (616478, 5259)\t1\n",
            "  (616478, 5355)\t1\n",
            "  (616478, 6036)\t1\n",
            "  (616478, 6321)\t2\n",
            "  (616478, 6476)\t1\n",
            "  (616478, 6648)\t1\n",
            "  (616478, 6706)\t1\n",
            "  (616478, 6780)\t1\n",
            "  (616478, 7107)\t5\n",
            "  (616478, 7511)\t1\n",
            "  (616478, 7791)\t1\n",
            "  (616478, 7994)\t1\n",
            "  (616478, 9232)\t2\n"
          ]
        }
      ],
      "source": [
        "#Standarize fndf?\n",
        "\n",
        "\n",
        "# get top 10000 words for vocab in training data to avoid leaking data from test set\n",
        "print(\"Finding vocabulary:\")\n",
        "vocab = fndf['content'].explode().value_counts()[:10000].keys()\n",
        "#training_split_freq = FreqDist(X_train.explode())\n",
        "#vocab = [x for (x, y) in training_split_freq.most_common(10000)]\n",
        "#print(pd.Series(nsdf[\"content\"][0]).value_counts())\n",
        "#print(pd.Series(fndf[\"content\"][0]).value_counts()[top.keys()[0]])\n",
        "\n",
        "def CountFreq(words, vocab):\n",
        "    # words: Series[str]\n",
        "    # vocab: list[str] of words to count\n",
        "    words = pd.Series(words)\n",
        "    new_row = pd.Series(np.zeros(len(vocab)))\n",
        "    n = len(vocab)\n",
        "    words_in_article = pd.Series(words).value_counts()\n",
        "    return vocab.apply(lambda x: words_in_article.get(x, 0))\n",
        "\n",
        "#rowsFreq = X_train.parallel_apply(lambda row: CountFreq(row, pd.Series(top.keys())))\n",
        "# her bruger vi forskellige vocabularies - vi skal finde vocab for træning og apply den til test_rowsFreq\n",
        "vectorizer = CountVectorizer(analyzer=lambda x: x, vocabulary=vocab)\n",
        "print(\"vectorizing X_train\")\n",
        "rowsFreq = vectorizer.fit_transform(X_train)\n",
        "print(\"vectorizing X_test\")\n",
        "test_rowsFreq = vectorizer.fit_transform(X_test)\n",
        "print(rowsFreq)\n"
      ]
    },
    {
      "cell_type": "code",
      "execution_count": null,
      "metadata": {},
      "outputs": [
        {
          "data": {
            "text/plain": [
              "['../data/y.pkl']"
            ]
          },
          "execution_count": 16,
          "metadata": {},
          "output_type": "execute_result"
        }
      ],
      "source": [
        "#store data\n",
        "joblib.dump((rowsFreq, test_rowsFreq), dataPath + \"rowsFreq.pkl\")\n",
        "joblib.dump((y_train, y_test), dataPath + \"y.pkl\")"
      ]
    },
    {
      "cell_type": "markdown",
      "metadata": {},
      "source": [
        "Creating the linear regression"
      ]
    },
    {
      "cell_type": "code",
      "execution_count": 14,
      "metadata": {},
      "outputs": [
        {
          "name": "stdout",
          "output_type": "stream",
          "text": [
            "Starting model training:\n",
            "F1 Score: 0.8306\n",
            "Hyperparameters: max_iter=1000, solver='liblinear', binary bag-of-words\n"
          ]
        }
      ],
      "source": [
        "scaler = StandardScaler(with_mean=False)\n",
        "\n",
        "#y_train = y_train.replace(r'^(reliable|clickbait|political)$', '1', regex=True) \n",
        "#y_test = y_test.replace(r'^(reliable|clickbait|political)$', '1', regex=True) \n",
        "#y_train = y_train.replace(r'^(?!1$).+', '0', regex=True)   # Replace everything except '1' with '0'\n",
        "#y_test = y_test.replace(r'^(?!1$).+', '0', regex=True)   # Replace everything except '1' with '0'\n",
        "\n",
        "#y_train = y_train.astype(int)\n",
        "#y_test = y_test.astype(int)\n",
        "\n",
        "X_train_scale = scaler.fit_transform(rowsFreq)\n",
        "X_test_scale = scaler.transform(test_rowsFreq)\n",
        "print(\"Starting model training:\")\n",
        "linReg = LogisticRegression(max_iter=1000, solver='liblinear', random_state=42)#, class_weight=\"balanced\")\n",
        "linReg.fit(X_train_scale, y_train)\n",
        "\n",
        "y_pred = linReg.predict(X_test_scale)\n",
        "f1 = f1_score(y_test, y_pred)\n",
        "\n",
        "# Print results\n",
        "print(f\"F1 Score: {f1:.4f}\")\n",
        "print(f\"Hyperparameters: max_iter=1000, solver='liblinear', binary bag-of-words\")\n"
      ]
    },
    {
      "cell_type": "code",
      "execution_count": 15,
      "metadata": {},
      "outputs": [
        {
          "data": {
            "text/plain": [
              "['../data/linReg.pkl']"
            ]
          },
          "execution_count": 15,
          "metadata": {},
          "output_type": "execute_result"
        }
      ],
      "source": [
        "# Save model\n",
        "joblib.dump(linReg, dataPath + \"linReg.pkl\")"
      ]
    },
    {
      "cell_type": "code",
      "execution_count": 7,
      "metadata": {},
      "outputs": [],
      "source": [
        "# Reload data \n",
        "linReg = joblib.load(dataPath + \"linReg.pkl\")\n",
        "(rowsFreq, test_rowsFreq) = joblib.load(dataPath + \"rowsFreq.pkl\")\n",
        "(y_train, y_test) = joblib.load(dataPath + \"y.pkl\")\n",
        "\n",
        "scaler = StandardScaler(with_mean=False)\n",
        "X_train_scale = scaler.fit_transform(rowsFreq)\n",
        "X_test_scale = scaler.transform(test_rowsFreq)\n",
        "\n",
        "y_pred = linReg.predict(X_test_scale)"
      ]
    },
    {
      "cell_type": "code",
      "execution_count": 11,
      "metadata": {},
      "outputs": [
        {
          "name": "stdout",
          "output_type": "stream",
          "text": [
            "F1 Score: 0.8306\n",
            "Accuracy: 0.8372\n"
          ]
        },
        {
          "data": {
            "image/png": "[encoded data removed]",
            "text/plain": [
              "<Figure size 640x480 with 2 Axes>"
            ]
          },
          "metadata": {},
          "output_type": "display_data"
        }
      ],
      "source": [
        "#Visualize\n",
        "print(f\"F1 Score: {f1_score(y_test, y_pred):.4f}\")\n",
        "print(f\"Accuracy: {accuracy_score(y_test, y_pred):.4f}\")\n",
        "\n",
        "cm = confusion_matrix(y_test, y_pred, normalize='true')\n",
        "disp = ConfusionMatrixDisplay(confusion_matrix=cm, display_labels=linReg.classes_)\n",
        "disp.plot()\n",
        "plt.show()"
      ]
    },
    {
      "cell_type": "markdown",
      "metadata": {},
      "source": []
    }
  ],
  "metadata": {
    "colab": {
      "provenance": []
    },
    "kernelspec": {
      "display_name": "base",
      "language": "python",
      "name": "python3"
    },
    "language_info": {
      "codemirror_mode": {
        "name": "ipython",
        "version": 3
      },
      "file_extension": ".py",
      "mimetype": "text/x-python",
      "name": "python",
      "nbconvert_exporter": "python",
      "pygments_lexer": "ipython3",
      "version": "3.12.8"
    },
    "widgets": {
      "application/vnd.jupyter.widget-state+json": {
        "13df6b96a88944e98d65e813eeb54bd4": {
          "model_module": "@jupyter-widgets/controls",
          "model_module_version": "1.5.0",
          "model_name": "HBoxModel",
          "state": {
            "_dom_classes": [],
            "_model_module": "@jupyter-widgets/controls",
            "_model_module_version": "1.5.0",
            "_model_name": "HBoxModel",
            "_view_count": null,
            "_view_module": "@jupyter-widgets/controls",
            "_view_module_version": "1.5.0",
            "_view_name": "HBoxView",
            "box_style": "",
            "children": [
              "IPY_MODEL_2814e4c7aa32487e93e3ccd90b6e5f0c",
              "IPY_MODEL_3cc027a216d2481ab36faca98212f3c5"
            ],
            "layout": "IPY_MODEL_4ae5f28587fe4d01ad03446e234a631d"
          }
        },
        "1fdcaf3f9a5245eea4a903b928eee5b8": {
          "model_module": "@jupyter-widgets/controls",
          "model_module_version": "1.5.0",
          "model_name": "HBoxModel",
          "state": {
            "_dom_classes": [],
            "_model_module": "@jupyter-widgets/controls",
            "_model_module_version": "1.5.0",
            "_model_name": "HBoxModel",
            "_view_count": null,
            "_view_module": "@jupyter-widgets/controls",
            "_view_module_version": "1.5.0",
            "_view_name": "HBoxView",
            "box_style": "",
            "children": [
              "IPY_MODEL_b58df1204e824dbd9f72cdb606b2605f",
              "IPY_MODEL_b1c6087d3824401aa91057fe441302fe"
            ],
            "layout": "IPY_MODEL_830cda2af3cb49ecbfe45ca7f2e04a24"
          }
        },
        "23088918d37a416a8506b3fd4c7231f9": {
          "model_module": "@jupyter-widgets/controls",
          "model_module_version": "1.5.0",
          "model_name": "ProgressStyleModel",
          "state": {
            "_model_module": "@jupyter-widgets/controls",
            "_model_module_version": "1.5.0",
            "_model_name": "ProgressStyleModel",
            "_view_count": null,
            "_view_module": "@jupyter-widgets/base",
            "_view_module_version": "1.2.0",
            "_view_name": "StyleView",
            "bar_color": null,
            "description_width": ""
          }
        },
        "24f8c63d4dc3428fbcd67efc20c076f2": {
          "model_module": "@jupyter-widgets/base",
          "model_module_version": "1.2.0",
          "model_name": "LayoutModel",
          "state": {
            "_model_module": "@jupyter-widgets/base",
            "_model_module_version": "1.2.0",
            "_model_name": "LayoutModel",
            "_view_count": null,
            "_view_module": "@jupyter-widgets/base",
            "_view_module_version": "1.2.0",
            "_view_name": "LayoutView",
            "align_content": null,
            "align_items": null,
            "align_self": null,
            "border": null,
            "bottom": null,
            "display": null,
            "flex": null,
            "flex_flow": null,
            "grid_area": null,
            "grid_auto_columns": null,
            "grid_auto_flow": null,
            "grid_auto_rows": null,
            "grid_column": null,
            "grid_gap": null,
            "grid_row": null,
            "grid_template_areas": null,
            "grid_template_columns": null,
            "grid_template_rows": null,
            "height": null,
            "justify_content": null,
            "justify_items": null,
            "left": null,
            "margin": null,
            "max_height": null,
            "max_width": null,
            "min_height": null,
            "min_width": null,
            "object_fit": null,
            "object_position": null,
            "order": null,
            "overflow": null,
            "overflow_x": null,
            "overflow_y": null,
            "padding": null,
            "right": null,
            "top": null,
            "visibility": null,
            "width": null
          }
        },
        "2814e4c7aa32487e93e3ccd90b6e5f0c": {
          "model_module": "@jupyter-widgets/controls",
          "model_module_version": "1.5.0",
          "model_name": "IntProgressModel",
          "state": {
            "_dom_classes": [],
            "_model_module": "@jupyter-widgets/controls",
            "_model_module_version": "1.5.0",
            "_model_name": "IntProgressModel",
            "_view_count": null,
            "_view_module": "@jupyter-widgets/controls",
            "_view_module_version": "1.5.0",
            "_view_name": "ProgressView",
            "bar_style": "success",
            "description": "100.00%",
            "description_tooltip": null,
            "layout": "IPY_MODEL_e28976f80c1548f2af7836d8e8491c87",
            "max": 232,
            "min": 0,
            "orientation": "horizontal",
            "style": "IPY_MODEL_23088918d37a416a8506b3fd4c7231f9",
            "value": 232
          }
        },
        "3cc027a216d2481ab36faca98212f3c5": {
          "model_module": "@jupyter-widgets/controls",
          "model_module_version": "1.5.0",
          "model_name": "LabelModel",
          "state": {
            "_dom_classes": [],
            "_model_module": "@jupyter-widgets/controls",
            "_model_module_version": "1.5.0",
            "_model_name": "LabelModel",
            "_view_count": null,
            "_view_module": "@jupyter-widgets/controls",
            "_view_module_version": "1.5.0",
            "_view_name": "LabelView",
            "description": "",
            "description_tooltip": null,
            "layout": "IPY_MODEL_24f8c63d4dc3428fbcd67efc20c076f2",
            "placeholder": "​",
            "style": "IPY_MODEL_6cfbf875045943ad8b40671a67e0e29e",
            "value": "232 / 232"
          }
        },
        "4ae5f28587fe4d01ad03446e234a631d": {
          "model_module": "@jupyter-widgets/base",
          "model_module_version": "1.2.0",
          "model_name": "LayoutModel",
          "state": {
            "_model_module": "@jupyter-widgets/base",
            "_model_module_version": "1.2.0",
            "_model_name": "LayoutModel",
            "_view_count": null,
            "_view_module": "@jupyter-widgets/base",
            "_view_module_version": "1.2.0",
            "_view_name": "LayoutView",
            "align_content": null,
            "align_items": null,
            "align_self": null,
            "border": null,
            "bottom": null,
            "display": null,
            "flex": null,
            "flex_flow": null,
            "grid_area": null,
            "grid_auto_columns": null,
            "grid_auto_flow": null,
            "grid_auto_rows": null,
            "grid_column": null,
            "grid_gap": null,
            "grid_row": null,
            "grid_template_areas": null,
            "grid_template_columns": null,
            "grid_template_rows": null,
            "height": null,
            "justify_content": null,
            "justify_items": null,
            "left": null,
            "margin": null,
            "max_height": null,
            "max_width": null,
            "min_height": null,
            "min_width": null,
            "object_fit": null,
            "object_position": null,
            "order": null,
            "overflow": null,
            "overflow_x": null,
            "overflow_y": null,
            "padding": null,
            "right": null,
            "top": null,
            "visibility": null,
            "width": null
          }
        },
        "6cfbf875045943ad8b40671a67e0e29e": {
          "model_module": "@jupyter-widgets/controls",
          "model_module_version": "1.5.0",
          "model_name": "DescriptionStyleModel",
          "state": {
            "_model_module": "@jupyter-widgets/controls",
            "_model_module_version": "1.5.0",
            "_model_name": "DescriptionStyleModel",
            "_view_count": null,
            "_view_module": "@jupyter-widgets/base",
            "_view_module_version": "1.2.0",
            "_view_name": "StyleView",
            "description_width": ""
          }
        },
        "6e08915023cb458abda3abdce421467e": {
          "model_module": "@jupyter-widgets/base",
          "model_module_version": "1.2.0",
          "model_name": "LayoutModel",
          "state": {
            "_model_module": "@jupyter-widgets/base",
            "_model_module_version": "1.2.0",
            "_model_name": "LayoutModel",
            "_view_count": null,
            "_view_module": "@jupyter-widgets/base",
            "_view_module_version": "1.2.0",
            "_view_name": "LayoutView",
            "align_content": null,
            "align_items": null,
            "align_self": null,
            "border": null,
            "bottom": null,
            "display": null,
            "flex": null,
            "flex_flow": null,
            "grid_area": null,
            "grid_auto_columns": null,
            "grid_auto_flow": null,
            "grid_auto_rows": null,
            "grid_column": null,
            "grid_gap": null,
            "grid_row": null,
            "grid_template_areas": null,
            "grid_template_columns": null,
            "grid_template_rows": null,
            "height": null,
            "justify_content": null,
            "justify_items": null,
            "left": null,
            "margin": null,
            "max_height": null,
            "max_width": null,
            "min_height": null,
            "min_width": null,
            "object_fit": null,
            "object_position": null,
            "order": null,
            "overflow": null,
            "overflow_x": null,
            "overflow_y": null,
            "padding": null,
            "right": null,
            "top": null,
            "visibility": null,
            "width": null
          }
        },
        "7258d6e2da3a41ad9b4830b0192cb037": {
          "model_module": "@jupyter-widgets/controls",
          "model_module_version": "1.5.0",
          "model_name": "ProgressStyleModel",
          "state": {
            "_model_module": "@jupyter-widgets/controls",
            "_model_module_version": "1.5.0",
            "_model_name": "ProgressStyleModel",
            "_view_count": null,
            "_view_module": "@jupyter-widgets/base",
            "_view_module_version": "1.2.0",
            "_view_name": "StyleView",
            "bar_color": null,
            "description_width": ""
          }
        },
        "830cda2af3cb49ecbfe45ca7f2e04a24": {
          "model_module": "@jupyter-widgets/base",
          "model_module_version": "1.2.0",
          "model_name": "LayoutModel",
          "state": {
            "_model_module": "@jupyter-widgets/base",
            "_model_module_version": "1.2.0",
            "_model_name": "LayoutModel",
            "_view_count": null,
            "_view_module": "@jupyter-widgets/base",
            "_view_module_version": "1.2.0",
            "_view_name": "LayoutView",
            "align_content": null,
            "align_items": null,
            "align_self": null,
            "border": null,
            "bottom": null,
            "display": null,
            "flex": null,
            "flex_flow": null,
            "grid_area": null,
            "grid_auto_columns": null,
            "grid_auto_flow": null,
            "grid_auto_rows": null,
            "grid_column": null,
            "grid_gap": null,
            "grid_row": null,
            "grid_template_areas": null,
            "grid_template_columns": null,
            "grid_template_rows": null,
            "height": null,
            "justify_content": null,
            "justify_items": null,
            "left": null,
            "margin": null,
            "max_height": null,
            "max_width": null,
            "min_height": null,
            "min_width": null,
            "object_fit": null,
            "object_position": null,
            "order": null,
            "overflow": null,
            "overflow_x": null,
            "overflow_y": null,
            "padding": null,
            "right": null,
            "top": null,
            "visibility": null,
            "width": null
          }
        },
        "9fd9741bc796445dacef77f07614167e": {
          "model_module": "@jupyter-widgets/controls",
          "model_module_version": "1.5.0",
          "model_name": "VBoxModel",
          "state": {
            "_dom_classes": [],
            "_model_module": "@jupyter-widgets/controls",
            "_model_module_version": "1.5.0",
            "_model_name": "VBoxModel",
            "_view_count": null,
            "_view_module": "@jupyter-widgets/controls",
            "_view_module_version": "1.5.0",
            "_view_name": "VBoxView",
            "box_style": "",
            "children": [
              "IPY_MODEL_1fdcaf3f9a5245eea4a903b928eee5b8"
            ],
            "layout": "IPY_MODEL_e347b4d8b9fb4c72929f6a646167747c"
          }
        },
        "a24a494c9ffb43e1bfe493d1162c4e3d": {
          "model_module": "@jupyter-widgets/controls",
          "model_module_version": "1.5.0",
          "model_name": "DescriptionStyleModel",
          "state": {
            "_model_module": "@jupyter-widgets/controls",
            "_model_module_version": "1.5.0",
            "_model_name": "DescriptionStyleModel",
            "_view_count": null,
            "_view_module": "@jupyter-widgets/base",
            "_view_module_version": "1.2.0",
            "_view_name": "StyleView",
            "description_width": ""
          }
        },
        "b1c6087d3824401aa91057fe441302fe": {
          "model_module": "@jupyter-widgets/controls",
          "model_module_version": "1.5.0",
          "model_name": "LabelModel",
          "state": {
            "_dom_classes": [],
            "_model_module": "@jupyter-widgets/controls",
            "_model_module_version": "1.5.0",
            "_model_name": "LabelModel",
            "_view_count": null,
            "_view_module": "@jupyter-widgets/controls",
            "_view_module_version": "1.5.0",
            "_view_name": "LabelView",
            "description": "",
            "description_tooltip": null,
            "layout": "IPY_MODEL_d9249597abf942b5af7a16e2ebefa329",
            "placeholder": "​",
            "style": "IPY_MODEL_a24a494c9ffb43e1bfe493d1162c4e3d",
            "value": "0 / 812913"
          }
        },
        "b58df1204e824dbd9f72cdb606b2605f": {
          "model_module": "@jupyter-widgets/controls",
          "model_module_version": "1.5.0",
          "model_name": "IntProgressModel",
          "state": {
            "_dom_classes": [],
            "_model_module": "@jupyter-widgets/controls",
            "_model_module_version": "1.5.0",
            "_model_name": "IntProgressModel",
            "_view_count": null,
            "_view_module": "@jupyter-widgets/controls",
            "_view_module_version": "1.5.0",
            "_view_name": "ProgressView",
            "bar_style": "",
            "description": "0.00%",
            "description_tooltip": null,
            "layout": "IPY_MODEL_6e08915023cb458abda3abdce421467e",
            "max": 812913,
            "min": 0,
            "orientation": "horizontal",
            "style": "IPY_MODEL_7258d6e2da3a41ad9b4830b0192cb037",
            "value": 0
          }
        },
        "bf68c788a3d9437383fdf54f8f75f050": {
          "model_module": "@jupyter-widgets/controls",
          "model_module_version": "1.5.0",
          "model_name": "VBoxModel",
          "state": {
            "_dom_classes": [],
            "_model_module": "@jupyter-widgets/controls",
            "_model_module_version": "1.5.0",
            "_model_name": "VBoxModel",
            "_view_count": null,
            "_view_module": "@jupyter-widgets/controls",
            "_view_module_version": "1.5.0",
            "_view_name": "VBoxView",
            "box_style": "",
            "children": [
              "IPY_MODEL_13df6b96a88944e98d65e813eeb54bd4"
            ],
            "layout": "IPY_MODEL_dc1dd2e88478465e8ebc8082b1aa84aa"
          }
        },
        "d9249597abf942b5af7a16e2ebefa329": {
          "model_module": "@jupyter-widgets/base",
          "model_module_version": "1.2.0",
          "model_name": "LayoutModel",
          "state": {
            "_model_module": "@jupyter-widgets/base",
            "_model_module_version": "1.2.0",
            "_model_name": "LayoutModel",
            "_view_count": null,
            "_view_module": "@jupyter-widgets/base",
            "_view_module_version": "1.2.0",
            "_view_name": "LayoutView",
            "align_content": null,
            "align_items": null,
            "align_self": null,
            "border": null,
            "bottom": null,
            "display": null,
            "flex": null,
            "flex_flow": null,
            "grid_area": null,
            "grid_auto_columns": null,
            "grid_auto_flow": null,
            "grid_auto_rows": null,
            "grid_column": null,
            "grid_gap": null,
            "grid_row": null,
            "grid_template_areas": null,
            "grid_template_columns": null,
            "grid_template_rows": null,
            "height": null,
            "justify_content": null,
            "justify_items": null,
            "left": null,
            "margin": null,
            "max_height": null,
            "max_width": null,
            "min_height": null,
            "min_width": null,
            "object_fit": null,
            "object_position": null,
            "order": null,
            "overflow": null,
            "overflow_x": null,
            "overflow_y": null,
            "padding": null,
            "right": null,
            "top": null,
            "visibility": null,
            "width": null
          }
        },
        "dc1dd2e88478465e8ebc8082b1aa84aa": {
          "model_module": "@jupyter-widgets/base",
          "model_module_version": "1.2.0",
          "model_name": "LayoutModel",
          "state": {
            "_model_module": "@jupyter-widgets/base",
            "_model_module_version": "1.2.0",
            "_model_name": "LayoutModel",
            "_view_count": null,
            "_view_module": "@jupyter-widgets/base",
            "_view_module_version": "1.2.0",
            "_view_name": "LayoutView",
            "align_content": null,
            "align_items": null,
            "align_self": null,
            "border": null,
            "bottom": null,
            "display": null,
            "flex": null,
            "flex_flow": null,
            "grid_area": null,
            "grid_auto_columns": null,
            "grid_auto_flow": null,
            "grid_auto_rows": null,
            "grid_column": null,
            "grid_gap": null,
            "grid_row": null,
            "grid_template_areas": null,
            "grid_template_columns": null,
            "grid_template_rows": null,
            "height": null,
            "justify_content": null,
            "justify_items": null,
            "left": null,
            "margin": null,
            "max_height": null,
            "max_width": null,
            "min_height": null,
            "min_width": null,
            "object_fit": null,
            "object_position": null,
            "order": null,
            "overflow": null,
            "overflow_x": null,
            "overflow_y": null,
            "padding": null,
            "right": null,
            "top": null,
            "visibility": null,
            "width": null
          }
        },
        "e28976f80c1548f2af7836d8e8491c87": {
          "model_module": "@jupyter-widgets/base",
          "model_module_version": "1.2.0",
          "model_name": "LayoutModel",
          "state": {
            "_model_module": "@jupyter-widgets/base",
            "_model_module_version": "1.2.0",
            "_model_name": "LayoutModel",
            "_view_count": null,
            "_view_module": "@jupyter-widgets/base",
            "_view_module_version": "1.2.0",
            "_view_name": "LayoutView",
            "align_content": null,
            "align_items": null,
            "align_self": null,
            "border": null,
            "bottom": null,
            "display": null,
            "flex": null,
            "flex_flow": null,
            "grid_area": null,
            "grid_auto_columns": null,
            "grid_auto_flow": null,
            "grid_auto_rows": null,
            "grid_column": null,
            "grid_gap": null,
            "grid_row": null,
            "grid_template_areas": null,
            "grid_template_columns": null,
            "grid_template_rows": null,
            "height": null,
            "justify_content": null,
            "justify_items": null,
            "left": null,
            "margin": null,
            "max_height": null,
            "max_width": null,
            "min_height": null,
            "min_width": null,
            "object_fit": null,
            "object_position": null,
            "order": null,
            "overflow": null,
            "overflow_x": null,
            "overflow_y": null,
            "padding": null,
            "right": null,
            "top": null,
            "visibility": null,
            "width": null
          }
        },
        "e347b4d8b9fb4c72929f6a646167747c": {
          "model_module": "@jupyter-widgets/base",
          "model_module_version": "1.2.0",
          "model_name": "LayoutModel",
          "state": {
            "_model_module": "@jupyter-widgets/base",
            "_model_module_version": "1.2.0",
            "_model_name": "LayoutModel",
            "_view_count": null,
            "_view_module": "@jupyter-widgets/base",
            "_view_module_version": "1.2.0",
            "_view_name": "LayoutView",
            "align_content": null,
            "align_items": null,
            "align_self": null,
            "border": null,
            "bottom": null,
            "display": null,
            "flex": null,
            "flex_flow": null,
            "grid_area": null,
            "grid_auto_columns": null,
            "grid_auto_flow": null,
            "grid_auto_rows": null,
            "grid_column": null,
            "grid_gap": null,
            "grid_row": null,
            "grid_template_areas": null,
            "grid_template_columns": null,
            "grid_template_rows": null,
            "height": null,
            "justify_content": null,
            "justify_items": null,
            "left": null,
            "margin": null,
            "max_height": null,
            "max_width": null,
            "min_height": null,
            "min_width": null,
            "object_fit": null,
            "object_position": null,
            "order": null,
            "overflow": null,
            "overflow_x": null,
            "overflow_y": null,
            "padding": null,
            "right": null,
            "top": null,
            "visibility": null,
            "width": null
          }
        }
      }
    }
  },
  "nbformat": 4,
  "nbformat_minor": 0
}
